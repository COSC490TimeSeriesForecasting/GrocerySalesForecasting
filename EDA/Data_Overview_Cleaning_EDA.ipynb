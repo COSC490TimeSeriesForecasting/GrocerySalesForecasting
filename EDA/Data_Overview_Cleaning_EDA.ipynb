{
 "cells": [
  {
   "cell_type": "code",
   "execution_count": 641,
   "id": "racial-telling",
   "metadata": {
    "scrolled": true
   },
   "outputs": [],
   "source": [
    "import pandas as pd\n",
    "import numpy as np\n",
    "from datetime import datetime,timedelta \n",
    "import seaborn as sns\n",
    "import matplotlib.pyplot as plt\n",
    "import plotly.express as px"
   ]
  },
  {
   "cell_type": "code",
   "execution_count": 39,
   "id": "governing-gallery",
   "metadata": {},
   "outputs": [],
   "source": [
    "stores = pd.read_csv('stores.csv')\n",
    "items = pd.read_csv('items.csv')\n",
    "transactions = pd.read_csv('transactions.csv')\n",
    "oil = pd.read_csv('oil.csv')\n",
    "holidays = pd.read_csv('holidays_events.csv')"
   ]
  },
  {
   "cell_type": "code",
   "execution_count": null,
   "id": "411e3d36",
   "metadata": {},
   "outputs": [],
   "source": [
    "dtypes = {'store_nbr': np.dtype('int64'),\n",
    "          'item_nbr': np.dtype('int64'),\n",
    "          'unit_sales': np.dtype('float64'),\n",
    "          'onpromotion': np.dtype('O')}\n",
    "\n",
    "train_data = pd.read_csv('train.csv', dtype=dtypes)"
   ]
  },
  {
   "cell_type": "code",
   "execution_count": null,
   "id": "f5490c01",
   "metadata": {},
   "outputs": [],
   "source": [
    "test_data = pd.read_csv('test.csv',dtype=dtypes)"
   ]
  },
  {
   "cell_type": "code",
   "execution_count": null,
   "id": "8bf27e32",
   "metadata": {},
   "outputs": [],
   "source": [
    "train_data.head()\n",
    "train_data.shape\n",
    "train_data.dtypes\n",
    "train_data.describe()"
   ]
  },
  {
   "cell_type": "code",
   "execution_count": null,
   "id": "30def69c",
   "metadata": {},
   "outputs": [],
   "source": [
    "test_data.head()\n",
    "test_data.shape\n",
    "test_data.dtypes"
   ]
  },
  {
   "cell_type": "markdown",
   "id": "reflected-alfred",
   "metadata": {},
   "source": [
    "## Oil Dataset"
   ]
  },
  {
   "cell_type": "code",
   "execution_count": 81,
   "id": "tutorial-throw",
   "metadata": {
    "scrolled": false
   },
   "outputs": [
    {
     "data": {
      "text/plain": [
       "(1218, 2)"
      ]
     },
     "execution_count": 81,
     "metadata": {},
     "output_type": "execute_result"
    }
   ],
   "source": [
    "oil.shape"
   ]
  },
  {
   "cell_type": "code",
   "execution_count": 82,
   "id": "short-inflation",
   "metadata": {
    "scrolled": true
   },
   "outputs": [
    {
     "data": {
      "text/plain": [
       "date           object\n",
       "dcoilwtico    float64\n",
       "dtype: object"
      ]
     },
     "execution_count": 82,
     "metadata": {},
     "output_type": "execute_result"
    }
   ],
   "source": [
    "oil.dtypes"
   ]
  },
  {
   "cell_type": "markdown",
   "id": "anonymous-questionnaire",
   "metadata": {},
   "source": [
    "`dcoilwtico` : refers to the price of the oil on a particular `date`"
   ]
  },
  {
   "cell_type": "code",
   "execution_count": 79,
   "id": "formed-metro",
   "metadata": {
    "scrolled": false
   },
   "outputs": [
    {
     "data": {
      "text/html": [
       "<div>\n",
       "<style scoped>\n",
       "    .dataframe tbody tr th:only-of-type {\n",
       "        vertical-align: middle;\n",
       "    }\n",
       "\n",
       "    .dataframe tbody tr th {\n",
       "        vertical-align: top;\n",
       "    }\n",
       "\n",
       "    .dataframe thead th {\n",
       "        text-align: right;\n",
       "    }\n",
       "</style>\n",
       "<table border=\"1\" class=\"dataframe\">\n",
       "  <thead>\n",
       "    <tr style=\"text-align: right;\">\n",
       "      <th></th>\n",
       "      <th>date</th>\n",
       "      <th>dcoilwtico</th>\n",
       "    </tr>\n",
       "  </thead>\n",
       "  <tbody>\n",
       "    <tr>\n",
       "      <th>0</th>\n",
       "      <td>2013-01-01</td>\n",
       "      <td>NaN</td>\n",
       "    </tr>\n",
       "    <tr>\n",
       "      <th>1</th>\n",
       "      <td>2013-01-02</td>\n",
       "      <td>93.14</td>\n",
       "    </tr>\n",
       "    <tr>\n",
       "      <th>2</th>\n",
       "      <td>2013-01-03</td>\n",
       "      <td>92.97</td>\n",
       "    </tr>\n",
       "    <tr>\n",
       "      <th>3</th>\n",
       "      <td>2013-01-04</td>\n",
       "      <td>93.12</td>\n",
       "    </tr>\n",
       "    <tr>\n",
       "      <th>4</th>\n",
       "      <td>2013-01-07</td>\n",
       "      <td>93.20</td>\n",
       "    </tr>\n",
       "  </tbody>\n",
       "</table>\n",
       "</div>"
      ],
      "text/plain": [
       "         date  dcoilwtico\n",
       "0  2013-01-01         NaN\n",
       "1  2013-01-02       93.14\n",
       "2  2013-01-03       92.97\n",
       "3  2013-01-04       93.12\n",
       "4  2013-01-07       93.20"
      ]
     },
     "execution_count": 79,
     "metadata": {},
     "output_type": "execute_result"
    }
   ],
   "source": [
    "oil.head()"
   ]
  },
  {
   "cell_type": "code",
   "execution_count": 80,
   "id": "interracial-helena",
   "metadata": {},
   "outputs": [
    {
     "data": {
      "text/html": [
       "<div>\n",
       "<style scoped>\n",
       "    .dataframe tbody tr th:only-of-type {\n",
       "        vertical-align: middle;\n",
       "    }\n",
       "\n",
       "    .dataframe tbody tr th {\n",
       "        vertical-align: top;\n",
       "    }\n",
       "\n",
       "    .dataframe thead th {\n",
       "        text-align: right;\n",
       "    }\n",
       "</style>\n",
       "<table border=\"1\" class=\"dataframe\">\n",
       "  <thead>\n",
       "    <tr style=\"text-align: right;\">\n",
       "      <th></th>\n",
       "      <th>date</th>\n",
       "      <th>dcoilwtico</th>\n",
       "    </tr>\n",
       "  </thead>\n",
       "  <tbody>\n",
       "    <tr>\n",
       "      <th>1213</th>\n",
       "      <td>2017-08-25</td>\n",
       "      <td>47.65</td>\n",
       "    </tr>\n",
       "    <tr>\n",
       "      <th>1214</th>\n",
       "      <td>2017-08-28</td>\n",
       "      <td>46.40</td>\n",
       "    </tr>\n",
       "    <tr>\n",
       "      <th>1215</th>\n",
       "      <td>2017-08-29</td>\n",
       "      <td>46.46</td>\n",
       "    </tr>\n",
       "    <tr>\n",
       "      <th>1216</th>\n",
       "      <td>2017-08-30</td>\n",
       "      <td>45.96</td>\n",
       "    </tr>\n",
       "    <tr>\n",
       "      <th>1217</th>\n",
       "      <td>2017-08-31</td>\n",
       "      <td>47.26</td>\n",
       "    </tr>\n",
       "  </tbody>\n",
       "</table>\n",
       "</div>"
      ],
      "text/plain": [
       "            date  dcoilwtico\n",
       "1213  2017-08-25       47.65\n",
       "1214  2017-08-28       46.40\n",
       "1215  2017-08-29       46.46\n",
       "1216  2017-08-30       45.96\n",
       "1217  2017-08-31       47.26"
      ]
     },
     "execution_count": 80,
     "metadata": {},
     "output_type": "execute_result"
    }
   ],
   "source": [
    "oil.tail()"
   ]
  },
  {
   "cell_type": "code",
   "execution_count": 56,
   "id": "precious-biography",
   "metadata": {},
   "outputs": [
    {
     "data": {
      "text/html": [
       "<div>\n",
       "<style scoped>\n",
       "    .dataframe tbody tr th:only-of-type {\n",
       "        vertical-align: middle;\n",
       "    }\n",
       "\n",
       "    .dataframe tbody tr th {\n",
       "        vertical-align: top;\n",
       "    }\n",
       "\n",
       "    .dataframe thead th {\n",
       "        text-align: right;\n",
       "    }\n",
       "</style>\n",
       "<table border=\"1\" class=\"dataframe\">\n",
       "  <thead>\n",
       "    <tr style=\"text-align: right;\">\n",
       "      <th></th>\n",
       "      <th>dcoilwtico</th>\n",
       "    </tr>\n",
       "  </thead>\n",
       "  <tbody>\n",
       "    <tr>\n",
       "      <th>count</th>\n",
       "      <td>1175.000000</td>\n",
       "    </tr>\n",
       "    <tr>\n",
       "      <th>mean</th>\n",
       "      <td>67.714366</td>\n",
       "    </tr>\n",
       "    <tr>\n",
       "      <th>std</th>\n",
       "      <td>25.630476</td>\n",
       "    </tr>\n",
       "    <tr>\n",
       "      <th>min</th>\n",
       "      <td>26.190000</td>\n",
       "    </tr>\n",
       "    <tr>\n",
       "      <th>25%</th>\n",
       "      <td>46.405000</td>\n",
       "    </tr>\n",
       "    <tr>\n",
       "      <th>50%</th>\n",
       "      <td>53.190000</td>\n",
       "    </tr>\n",
       "    <tr>\n",
       "      <th>75%</th>\n",
       "      <td>95.660000</td>\n",
       "    </tr>\n",
       "    <tr>\n",
       "      <th>max</th>\n",
       "      <td>110.620000</td>\n",
       "    </tr>\n",
       "  </tbody>\n",
       "</table>\n",
       "</div>"
      ],
      "text/plain": [
       "        dcoilwtico\n",
       "count  1175.000000\n",
       "mean     67.714366\n",
       "std      25.630476\n",
       "min      26.190000\n",
       "25%      46.405000\n",
       "50%      53.190000\n",
       "75%      95.660000\n",
       "max     110.620000"
      ]
     },
     "execution_count": 56,
     "metadata": {},
     "output_type": "execute_result"
    }
   ],
   "source": [
    "oil.describe()"
   ]
  },
  {
   "cell_type": "code",
   "execution_count": 58,
   "id": "prime-owner",
   "metadata": {},
   "outputs": [
    {
     "name": "stdout",
     "output_type": "stream",
     "text": [
      "<class 'pandas.core.frame.DataFrame'>\n",
      "RangeIndex: 1218 entries, 0 to 1217\n",
      "Data columns (total 2 columns):\n",
      " #   Column      Non-Null Count  Dtype  \n",
      "---  ------      --------------  -----  \n",
      " 0   date        1218 non-null   object \n",
      " 1   dcoilwtico  1175 non-null   float64\n",
      "dtypes: float64(1), object(1)\n",
      "memory usage: 19.2+ KB\n"
     ]
    }
   ],
   "source": [
    "oil.info()"
   ]
  },
  {
   "cell_type": "code",
   "execution_count": 74,
   "id": "herbal-shopping",
   "metadata": {
    "scrolled": true
   },
   "outputs": [
    {
     "data": {
      "text/plain": [
       "dcoilwtico    43\n",
       "dtype: int64"
      ]
     },
     "execution_count": 74,
     "metadata": {},
     "output_type": "execute_result"
    }
   ],
   "source": [
    "#check for which columns have null values. \n",
    "null_col = oil.columns[oil.isnull().any()]\n",
    "#total number of null values in each column\n",
    "oil[null_col].isnull().sum()"
   ]
  },
  {
   "cell_type": "markdown",
   "id": "trained-dinner",
   "metadata": {},
   "source": [
    "The `dcoilwtico` column has 43 null values. "
   ]
  },
  {
   "cell_type": "code",
   "execution_count": 85,
   "id": "typical-premises",
   "metadata": {
    "scrolled": true
   },
   "outputs": [],
   "source": [
    "#rename price column to something more understandable\n",
    "oil = oil.rename(columns={\"dcoilwtico\":\"oil_price\"})"
   ]
  },
  {
   "cell_type": "markdown",
   "id": "primary-wheel",
   "metadata": {},
   "source": [
    "Rename the `dcoilwtico` column to a more intuitive name `oil_price`."
   ]
  },
  {
   "cell_type": "code",
   "execution_count": 151,
   "id": "beginning-optics",
   "metadata": {},
   "outputs": [],
   "source": [
    "start_date = min(train_data.date) #get start date of data in training set \n",
    "end_date = max(train_data.date)   #get end date of data in training set"
   ]
  },
  {
   "cell_type": "code",
   "execution_count": 181,
   "id": "improving-exclusion",
   "metadata": {},
   "outputs": [],
   "source": [
    "# convert date from string to datetime type\n",
    "min_date = datetime.strptime(start_date, '%Y-%m-%d')  #start date\n",
    "max_date = datetime.strptime(end_date, '%Y-%m-%d')  # end date\n",
    "delta =max_date-min_date #get total number of days in between start and end dates\n",
    "delta.days\n",
    "all_dates = [] #to store all dates between the start and end dates of training set.\n",
    "for i in range(delta.days + 1):\n",
    "    all_dates.append(datetime.strftime(min_date + timedelta(days=i), '%Y-%m-%d'))\n",
    "# convert list into an array\n",
    "all_dates = pd.DataFrame({'date':all_dates})"
   ]
  },
  {
   "cell_type": "code",
   "execution_count": 642,
   "id": "retired-newcastle",
   "metadata": {},
   "outputs": [],
   "source": [
    "#\n",
    "oil_merged = all_dates.merge(oil, left_on='date',right_on='date',how='left')"
   ]
  },
  {
   "cell_type": "code",
   "execution_count": 185,
   "id": "impressed-massage",
   "metadata": {
    "scrolled": true
   },
   "outputs": [
    {
     "data": {
      "text/plain": [
       "1688"
      ]
     },
     "execution_count": 185,
     "metadata": {},
     "output_type": "execute_result"
    }
   ],
   "source": [
    "len(oil_merged)"
   ]
  },
  {
   "cell_type": "code",
   "execution_count": 186,
   "id": "detected-consciousness",
   "metadata": {
    "scrolled": true
   },
   "outputs": [
    {
     "data": {
      "text/plain": [
       "oil_price    525\n",
       "dtype: int64"
      ]
     },
     "execution_count": 186,
     "metadata": {},
     "output_type": "execute_result"
    }
   ],
   "source": [
    "#check for which columns have null values. \n",
    "null_col = oil_merged.columns[oil_merged.isnull().any()]\n",
    "#total number of null values in each column\n",
    "oil_merged[null_col].isnull().sum()"
   ]
  },
  {
   "cell_type": "markdown",
   "id": "first-works",
   "metadata": {},
   "source": [
    "After adding the extra dates from the training set, there are 525 null values"
   ]
  },
  {
   "cell_type": "code",
   "execution_count": 644,
   "id": "alternative-charity",
   "metadata": {},
   "outputs": [],
   "source": [
    "#Extract all indexes which contain null values.\n",
    "na_index_oil = oil_merged[oil_merged['oil_price'].isnull() == True].index.values\n",
    "\n",
    "#Define lists to hold the previous and next indexes for each index that contains null value. \n",
    "na_index_oil_previous = np.maximum(0, na_index_oil-1)\n",
    "na_index_oil_next = na_index_oil.copy()\n",
    "\n",
    "#Check if the values following a null value are also null. If so, then find the next non-null value and store it in element in the na_index_oil_next list. \n",
    "for i in range(len(na_index_oil)):\n",
    "    j = 1\n",
    "    while (na_index_oil[min(i+j,len(na_index_oil)-1)] == na_index_oil[i]+j):\n",
    "        j += 1\n",
    "    na_index_oil_next[i] = min(len(oil)-1, na_index_oil_next[i] + j )\n",
    "    \n",
    "#If the first row in the oil_price column has a na value, then fill that na value with the next row's  value.\n",
    "#Else if the last row in the oil_price column has a na value, then fill that na value with the previous row's  value.\n",
    "#Else fill the na value with the average of the previous and next values. \n",
    "for i in range(len(na_index_oil)):\n",
    "    if (na_index_oil[i] == 0):\n",
    "        oil_merged.loc[na_index_oil[i], 'oil_price'] = oil_merged.loc[na_index_oil_next[i], 'oil_price']\n",
    "    elif (na_index_oil[i] == len(oil)):\n",
    "        oil_merged.loc[na_index_oil[i], 'oil_price'] = oil_merged.loc[na_index_oil_previous[i], 'oil_price']\n",
    "    else:\n",
    "        oil_merged.loc[na_index_oil[i], 'oil_price'] = (oil_merged.loc[na_index_oil_next[i], 'oil_price'] + oil_merged.loc[na_index_oil_previous[i], 'oil_price'])/ 2   "
   ]
  },
  {
   "cell_type": "code",
   "execution_count": 645,
   "id": "ethical-enough",
   "metadata": {},
   "outputs": [],
   "source": [
    "#Add all extra dates that occur in the training data to the oil dataset  \n",
    "oil_merged['date'] = pd.to_datetime(oil_merged['date'], format='%Y-%m-%d')"
   ]
  },
  {
   "cell_type": "code",
   "execution_count": 646,
   "id": "qualified-colors",
   "metadata": {
    "scrolled": false
   },
   "outputs": [
    {
     "data": {
      "image/png": "[encoded data removed]",
      "text/plain": [
       "<Figure size 1440x720 with 1 Axes>"
      ]
     },
     "metadata": {
      "needs_background": "light"
     },
     "output_type": "display_data"
    }
   ],
   "source": [
    "plt.figure(figsize=(20,10))\n",
    "price_trend = oil_merged['oil_price'].copy()\n",
    "price_trend.index = oil_merged['date'].copy()\n",
    "price_trend.plot(fontsize=20,color='purple')\n",
    "plt.xlabel('Time',fontsize=30)\n",
    "plt.ylabel('Price',fontsize=30)\n",
    "plt.show()"
   ]
  },
  {
   "cell_type": "markdown",
   "id": "after-square",
   "metadata": {},
   "source": [
    "The highest oil prices were recorded in late 2013. However in 2014, the oil prices fell drastically by almost 50%. In late 2015 to early 2016, the oil prices plumetted further. But after that the oil prices slowly recovered and since mid 2016, the oil prices have been relatively steady."
   ]
  },
  {
   "cell_type": "markdown",
   "id": "modular-indonesian",
   "metadata": {},
   "source": [
    "## Items Dataset"
   ]
  },
  {
   "cell_type": "code",
   "execution_count": 220,
   "id": "hungry-champion",
   "metadata": {
    "scrolled": true
   },
   "outputs": [
    {
     "data": {
      "text/plain": [
       "4100"
      ]
     },
     "execution_count": 220,
     "metadata": {},
     "output_type": "execute_result"
    }
   ],
   "source": [
    "len(items)"
   ]
  },
  {
   "cell_type": "code",
   "execution_count": 222,
   "id": "pressing-relay",
   "metadata": {
    "scrolled": false
   },
   "outputs": [
    {
     "data": {
      "text/plain": [
       "(4100, 4)"
      ]
     },
     "execution_count": 222,
     "metadata": {},
     "output_type": "execute_result"
    }
   ],
   "source": [
    "items.shape"
   ]
  },
  {
   "cell_type": "markdown",
   "id": "human-gates",
   "metadata": {},
   "source": [
    "The items data set has four variables."
   ]
  },
  {
   "cell_type": "markdown",
   "id": "twenty-cancellation",
   "metadata": {},
   "source": [
    "### Data types of each column"
   ]
  },
  {
   "cell_type": "code",
   "execution_count": 223,
   "id": "flexible-spain",
   "metadata": {
    "scrolled": false
   },
   "outputs": [
    {
     "data": {
      "text/plain": [
       "item_nbr       int64\n",
       "family        object\n",
       "class          int64\n",
       "perishable     int64\n",
       "dtype: object"
      ]
     },
     "execution_count": 223,
     "metadata": {},
     "output_type": "execute_result"
    }
   ],
   "source": [
    "items.dtypes"
   ]
  },
  {
   "cell_type": "markdown",
   "id": "small-technology",
   "metadata": {},
   "source": [
    " `item_nbr` is a unique id for each item.<br>\n",
    " `family` is the category that an item belongs to.<br>\n",
    " `perishable` is a binary variable where 1 indicates item is perishable. <br>\n",
    " Unsure what `class` means, possibly a more granular view of the `family` variable as class seems to have a large number of sub-levels for each category in `family`. "
   ]
  },
  {
   "cell_type": "code",
   "execution_count": 258,
   "id": "remarkable-planning",
   "metadata": {},
   "outputs": [
    {
     "data": {
      "text/plain": [
       "33"
      ]
     },
     "execution_count": 258,
     "metadata": {},
     "output_type": "execute_result"
    }
   ],
   "source": [
    "category = items['family'].unique()\n",
    "len(category)"
   ]
  },
  {
   "cell_type": "code",
   "execution_count": 259,
   "id": "optimum-horizon",
   "metadata": {},
   "outputs": [
    {
     "data": {
      "text/plain": [
       "337"
      ]
     },
     "execution_count": 259,
     "metadata": {},
     "output_type": "execute_result"
    }
   ],
   "source": [
    "len(items['class'].unique())"
   ]
  },
  {
   "cell_type": "markdown",
   "id": "anticipated-hanging",
   "metadata": {},
   "source": [
    "There are 33 categories or families of items and 337 classes of items."
   ]
  },
  {
   "cell_type": "code",
   "execution_count": 226,
   "id": "following-inflation",
   "metadata": {},
   "outputs": [
    {
     "data": {
      "text/html": [
       "<div>\n",
       "<style scoped>\n",
       "    .dataframe tbody tr th:only-of-type {\n",
       "        vertical-align: middle;\n",
       "    }\n",
       "\n",
       "    .dataframe tbody tr th {\n",
       "        vertical-align: top;\n",
       "    }\n",
       "\n",
       "    .dataframe thead th {\n",
       "        text-align: right;\n",
       "    }\n",
       "</style>\n",
       "<table border=\"1\" class=\"dataframe\">\n",
       "  <thead>\n",
       "    <tr style=\"text-align: right;\">\n",
       "      <th></th>\n",
       "      <th>item_nbr</th>\n",
       "      <th>family</th>\n",
       "      <th>class</th>\n",
       "      <th>perishable</th>\n",
       "    </tr>\n",
       "  </thead>\n",
       "  <tbody>\n",
       "    <tr>\n",
       "      <th>0</th>\n",
       "      <td>96995</td>\n",
       "      <td>GROCERY I</td>\n",
       "      <td>1093</td>\n",
       "      <td>0</td>\n",
       "    </tr>\n",
       "    <tr>\n",
       "      <th>1</th>\n",
       "      <td>99197</td>\n",
       "      <td>GROCERY I</td>\n",
       "      <td>1067</td>\n",
       "      <td>0</td>\n",
       "    </tr>\n",
       "    <tr>\n",
       "      <th>2</th>\n",
       "      <td>103501</td>\n",
       "      <td>CLEANING</td>\n",
       "      <td>3008</td>\n",
       "      <td>0</td>\n",
       "    </tr>\n",
       "    <tr>\n",
       "      <th>3</th>\n",
       "      <td>103520</td>\n",
       "      <td>GROCERY I</td>\n",
       "      <td>1028</td>\n",
       "      <td>0</td>\n",
       "    </tr>\n",
       "    <tr>\n",
       "      <th>4</th>\n",
       "      <td>103665</td>\n",
       "      <td>BREAD/BAKERY</td>\n",
       "      <td>2712</td>\n",
       "      <td>1</td>\n",
       "    </tr>\n",
       "  </tbody>\n",
       "</table>\n",
       "</div>"
      ],
      "text/plain": [
       "   item_nbr        family  class  perishable\n",
       "0     96995     GROCERY I   1093           0\n",
       "1     99197     GROCERY I   1067           0\n",
       "2    103501      CLEANING   3008           0\n",
       "3    103520     GROCERY I   1028           0\n",
       "4    103665  BREAD/BAKERY   2712           1"
      ]
     },
     "execution_count": 226,
     "metadata": {},
     "output_type": "execute_result"
    }
   ],
   "source": [
    "items.head()"
   ]
  },
  {
   "cell_type": "code",
   "execution_count": 127,
   "id": "cardiac-orchestra",
   "metadata": {},
   "outputs": [
    {
     "data": {
      "text/html": [
       "<div>\n",
       "<style scoped>\n",
       "    .dataframe tbody tr th:only-of-type {\n",
       "        vertical-align: middle;\n",
       "    }\n",
       "\n",
       "    .dataframe tbody tr th {\n",
       "        vertical-align: top;\n",
       "    }\n",
       "\n",
       "    .dataframe thead th {\n",
       "        text-align: right;\n",
       "    }\n",
       "</style>\n",
       "<table border=\"1\" class=\"dataframe\">\n",
       "  <thead>\n",
       "    <tr style=\"text-align: right;\">\n",
       "      <th></th>\n",
       "      <th>item_nbr</th>\n",
       "      <th>family</th>\n",
       "      <th>class</th>\n",
       "      <th>perishable</th>\n",
       "    </tr>\n",
       "  </thead>\n",
       "  <tbody>\n",
       "    <tr>\n",
       "      <th>4095</th>\n",
       "      <td>2132318</td>\n",
       "      <td>GROCERY I</td>\n",
       "      <td>1002</td>\n",
       "      <td>0</td>\n",
       "    </tr>\n",
       "    <tr>\n",
       "      <th>4096</th>\n",
       "      <td>2132945</td>\n",
       "      <td>GROCERY I</td>\n",
       "      <td>1026</td>\n",
       "      <td>0</td>\n",
       "    </tr>\n",
       "    <tr>\n",
       "      <th>4097</th>\n",
       "      <td>2132957</td>\n",
       "      <td>GROCERY I</td>\n",
       "      <td>1068</td>\n",
       "      <td>0</td>\n",
       "    </tr>\n",
       "    <tr>\n",
       "      <th>4098</th>\n",
       "      <td>2134058</td>\n",
       "      <td>BEVERAGES</td>\n",
       "      <td>1124</td>\n",
       "      <td>0</td>\n",
       "    </tr>\n",
       "    <tr>\n",
       "      <th>4099</th>\n",
       "      <td>2134244</td>\n",
       "      <td>LIQUOR,WINE,BEER</td>\n",
       "      <td>1364</td>\n",
       "      <td>0</td>\n",
       "    </tr>\n",
       "  </tbody>\n",
       "</table>\n",
       "</div>"
      ],
      "text/plain": [
       "      item_nbr            family  class  perishable\n",
       "4095   2132318         GROCERY I   1002           0\n",
       "4096   2132945         GROCERY I   1026           0\n",
       "4097   2132957         GROCERY I   1068           0\n",
       "4098   2134058         BEVERAGES   1124           0\n",
       "4099   2134244  LIQUOR,WINE,BEER   1364           0"
      ]
     },
     "execution_count": 127,
     "metadata": {},
     "output_type": "execute_result"
    }
   ],
   "source": [
    "items.tail()"
   ]
  },
  {
   "cell_type": "code",
   "execution_count": 128,
   "id": "accepting-webcam",
   "metadata": {
    "scrolled": true
   },
   "outputs": [
    {
     "data": {
      "text/html": [
       "<div>\n",
       "<style scoped>\n",
       "    .dataframe tbody tr th:only-of-type {\n",
       "        vertical-align: middle;\n",
       "    }\n",
       "\n",
       "    .dataframe tbody tr th {\n",
       "        vertical-align: top;\n",
       "    }\n",
       "\n",
       "    .dataframe thead th {\n",
       "        text-align: right;\n",
       "    }\n",
       "</style>\n",
       "<table border=\"1\" class=\"dataframe\">\n",
       "  <thead>\n",
       "    <tr style=\"text-align: right;\">\n",
       "      <th></th>\n",
       "      <th>item_nbr</th>\n",
       "      <th>class</th>\n",
       "      <th>perishable</th>\n",
       "    </tr>\n",
       "  </thead>\n",
       "  <tbody>\n",
       "    <tr>\n",
       "      <th>count</th>\n",
       "      <td>4.100000e+03</td>\n",
       "      <td>4100.0000</td>\n",
       "      <td>4100.000000</td>\n",
       "    </tr>\n",
       "    <tr>\n",
       "      <th>mean</th>\n",
       "      <td>1.251436e+06</td>\n",
       "      <td>2169.6500</td>\n",
       "      <td>0.240488</td>\n",
       "    </tr>\n",
       "    <tr>\n",
       "      <th>std</th>\n",
       "      <td>5.876872e+05</td>\n",
       "      <td>1484.9109</td>\n",
       "      <td>0.427432</td>\n",
       "    </tr>\n",
       "    <tr>\n",
       "      <th>min</th>\n",
       "      <td>9.699500e+04</td>\n",
       "      <td>1002.0000</td>\n",
       "      <td>0.000000</td>\n",
       "    </tr>\n",
       "    <tr>\n",
       "      <th>25%</th>\n",
       "      <td>8.181108e+05</td>\n",
       "      <td>1068.0000</td>\n",
       "      <td>0.000000</td>\n",
       "    </tr>\n",
       "    <tr>\n",
       "      <th>50%</th>\n",
       "      <td>1.306198e+06</td>\n",
       "      <td>2004.0000</td>\n",
       "      <td>0.000000</td>\n",
       "    </tr>\n",
       "    <tr>\n",
       "      <th>75%</th>\n",
       "      <td>1.904918e+06</td>\n",
       "      <td>2990.5000</td>\n",
       "      <td>0.000000</td>\n",
       "    </tr>\n",
       "    <tr>\n",
       "      <th>max</th>\n",
       "      <td>2.134244e+06</td>\n",
       "      <td>7780.0000</td>\n",
       "      <td>1.000000</td>\n",
       "    </tr>\n",
       "  </tbody>\n",
       "</table>\n",
       "</div>"
      ],
      "text/plain": [
       "           item_nbr      class   perishable\n",
       "count  4.100000e+03  4100.0000  4100.000000\n",
       "mean   1.251436e+06  2169.6500     0.240488\n",
       "std    5.876872e+05  1484.9109     0.427432\n",
       "min    9.699500e+04  1002.0000     0.000000\n",
       "25%    8.181108e+05  1068.0000     0.000000\n",
       "50%    1.306198e+06  2004.0000     0.000000\n",
       "75%    1.904918e+06  2990.5000     0.000000\n",
       "max    2.134244e+06  7780.0000     1.000000"
      ]
     },
     "execution_count": 128,
     "metadata": {},
     "output_type": "execute_result"
    }
   ],
   "source": [
    "items.describe()"
   ]
  },
  {
   "cell_type": "code",
   "execution_count": 129,
   "id": "ranging-pendant",
   "metadata": {
    "scrolled": true
   },
   "outputs": [
    {
     "name": "stdout",
     "output_type": "stream",
     "text": [
      "<class 'pandas.core.frame.DataFrame'>\n",
      "RangeIndex: 4100 entries, 0 to 4099\n",
      "Data columns (total 4 columns):\n",
      " #   Column      Non-Null Count  Dtype \n",
      "---  ------      --------------  ----- \n",
      " 0   item_nbr    4100 non-null   int64 \n",
      " 1   family      4100 non-null   object\n",
      " 2   class       4100 non-null   int64 \n",
      " 3   perishable  4100 non-null   int64 \n",
      "dtypes: int64(3), object(1)\n",
      "memory usage: 128.2+ KB\n"
     ]
    }
   ],
   "source": [
    "items.info()"
   ]
  },
  {
   "cell_type": "markdown",
   "id": "essential-jesus",
   "metadata": {},
   "source": [
    "### Check for null values"
   ]
  },
  {
   "cell_type": "code",
   "execution_count": 225,
   "id": "oriented-worcester",
   "metadata": {
    "scrolled": true
   },
   "outputs": [
    {
     "data": {
      "text/plain": [
       "Series([], dtype: float64)"
      ]
     },
     "execution_count": 225,
     "metadata": {},
     "output_type": "execute_result"
    }
   ],
   "source": [
    "#check for which columns have null values. \n",
    "null_col = items.columns[items.isnull().any()]\n",
    "#total number of null values in each column\n",
    "items[null_col].isnull().sum()"
   ]
  },
  {
   "cell_type": "markdown",
   "id": "thrown-thursday",
   "metadata": {},
   "source": [
    "No null values in items data"
   ]
  },
  {
   "cell_type": "markdown",
   "id": "editorial-yorkshire",
   "metadata": {},
   "source": [
    "### Frequency of each category"
   ]
  },
  {
   "cell_type": "code",
   "execution_count": 236,
   "id": "indoor-orleans",
   "metadata": {
    "scrolled": true
   },
   "outputs": [
    {
     "data": {
      "text/plain": [
       "GROCERY I                     1334\n",
       "BEVERAGES                      613\n",
       "CLEANING                       446\n",
       "PRODUCE                        306\n",
       "DAIRY                          242\n",
       "PERSONAL CARE                  153\n",
       "BREAD/BAKERY                   134\n",
       "HOME CARE                      108\n",
       "DELI                            91\n",
       "MEATS                           84\n",
       "HOME AND KITCHEN I              77\n",
       "LIQUOR,WINE,BEER                73\n",
       "FROZEN FOODS                    55\n",
       "POULTRY                         54\n",
       "HOME AND KITCHEN II             45\n",
       "EGGS                            41\n",
       "CELEBRATION                     31\n",
       "PREPARED FOODS                  26\n",
       "LAWN AND GARDEN                 26\n",
       "LADIESWEAR                      21\n",
       "LINGERIE                        20\n",
       "AUTOMOTIVE                      20\n",
       "BEAUTY                          19\n",
       "PLAYERS AND ELECTRONICS         17\n",
       "SCHOOL AND OFFICE SUPPLIES      15\n",
       "GROCERY II                      14\n",
       "PET SUPPLIES                    14\n",
       "SEAFOOD                          8\n",
       "MAGAZINES                        6\n",
       "HARDWARE                         4\n",
       "BOOKS                            1\n",
       "BABY CARE                        1\n",
       "HOME APPLIANCES                  1\n",
       "Name: family, dtype: int64"
      ]
     },
     "execution_count": 236,
     "metadata": {},
     "output_type": "execute_result"
    }
   ],
   "source": [
    "items['family'].value_counts()"
   ]
  },
  {
   "cell_type": "markdown",
   "id": "decimal-committee",
   "metadata": {},
   "source": [
    "`GROCERY I` has the highest number of products. However it is unclear what the difference between `GROCERY I` and `GROCERY II` is. The next most commonly seen items are `BEVERAGES`.  "
   ]
  },
  {
   "cell_type": "markdown",
   "id": "extraordinary-major",
   "metadata": {},
   "source": [
    "#### Visualizing different categories in family as a count plot\n"
   ]
  },
  {
   "cell_type": "code",
   "execution_count": 495,
   "id": "above-aurora",
   "metadata": {},
   "outputs": [
    {
     "data": {
      "text/plain": [
       "Text(0, 0.5, 'Count')"
      ]
     },
     "execution_count": 495,
     "metadata": {},
     "output_type": "execute_result"
    },
    {
     "data": {
      "image/png": "[encoded data removed]",
      "text/plain": [
       "<Figure size 1440x720 with 1 Axes>"
      ]
     },
     "metadata": {
      "needs_background": "light"
     },
     "output_type": "display_data"
    }
   ],
   "source": [
    "fig, ax = plt.subplots(figsize=(20,10))\n",
    "sns.countplot(x='family',data=items,ax=ax, order=items['family'].value_counts().index)\n",
    "plt.setp(ax.xaxis.get_majorticklabels(), rotation=90, fontsize=15)\n",
    "plt.yticks(fontsize=20)\n",
    "plt.xlabel('Family',fontsize=30)\n",
    "plt.ylabel('Count',fontsize=30)"
   ]
  },
  {
   "cell_type": "code",
   "execution_count": 280,
   "id": "distinguished-precipitation",
   "metadata": {},
   "outputs": [
    {
     "data": {
      "text/plain": [
       "Index(['GROCERY I', 'BEVERAGES', 'CLEANING', 'PRODUCE', 'DAIRY',\n",
       "       'PERSONAL CARE', 'BREAD/BAKERY', 'HOME CARE', 'DELI', 'MEATS',\n",
       "       'HOME AND KITCHEN I', 'LIQUOR,WINE,BEER', 'FROZEN FOODS', 'POULTRY',\n",
       "       'HOME AND KITCHEN II', 'EGGS', 'CELEBRATION', 'PREPARED FOODS',\n",
       "       'LAWN AND GARDEN', 'LADIESWEAR', 'LINGERIE', 'AUTOMOTIVE', 'BEAUTY',\n",
       "       'PLAYERS AND ELECTRONICS', 'SCHOOL AND OFFICE SUPPLIES', 'GROCERY II',\n",
       "       'PET SUPPLIES', 'SEAFOOD', 'MAGAZINES', 'HARDWARE', 'BOOKS',\n",
       "       'BABY CARE', 'HOME APPLIANCES'],\n",
       "      dtype='object')"
      ]
     },
     "execution_count": 280,
     "metadata": {},
     "output_type": "execute_result"
    }
   ],
   "source": [
    "items['family'].value_counts().index"
   ]
  },
  {
   "cell_type": "markdown",
   "id": "entertaining-chess",
   "metadata": {},
   "source": [
    "### Frequency of each class"
   ]
  },
  {
   "cell_type": "code",
   "execution_count": 344,
   "id": "flexible-start",
   "metadata": {},
   "outputs": [
    {
     "data": {
      "text/plain": [
       "1016    133\n",
       "1040    110\n",
       "1124    100\n",
       "1034     98\n",
       "1122     81\n",
       "       ... \n",
       "2103      1\n",
       "4140      1\n",
       "1153      1\n",
       "1089      1\n",
       "6241      1\n",
       "Name: class, Length: 337, dtype: int64"
      ]
     },
     "execution_count": 344,
     "metadata": {},
     "output_type": "execute_result"
    }
   ],
   "source": [
    "class_freq = items['class'].value_counts()\n",
    "class_freq\n"
   ]
  },
  {
   "cell_type": "code",
   "execution_count": 350,
   "id": "naval-pakistan",
   "metadata": {
    "scrolled": false
   },
   "outputs": [
    {
     "data": {
      "text/plain": [
       "180"
      ]
     },
     "execution_count": 350,
     "metadata": {},
     "output_type": "execute_result"
    }
   ],
   "source": [
    "len(class_freq[class_freq<=5])"
   ]
  },
  {
   "cell_type": "markdown",
   "id": "working-consolidation",
   "metadata": {},
   "source": [
    "There 180 classes that have less than 5 items in each of them"
   ]
  },
  {
   "cell_type": "markdown",
   "id": "bright-chain",
   "metadata": {},
   "source": [
    "#### Get the 5 most commonly occuring classes "
   ]
  },
  {
   "cell_type": "code",
   "execution_count": 341,
   "id": "advisory-premises",
   "metadata": {},
   "outputs": [],
   "source": [
    "freq_index = items['class'].value_counts().index\n",
    "top5class_index = freq_index[:5]"
   ]
  },
  {
   "cell_type": "code",
   "execution_count": 496,
   "id": "ancient-newark",
   "metadata": {
    "scrolled": true
   },
   "outputs": [
    {
     "data": {
      "text/plain": [
       "Text(0, 0.5, 'Count')"
      ]
     },
     "execution_count": 496,
     "metadata": {},
     "output_type": "execute_result"
    },
    {
     "data": {
      "image/png": "[encoded data removed]",
      "text/plain": [
       "<Figure size 1440x720 with 1 Axes>"
      ]
     },
     "metadata": {
      "needs_background": "light"
     },
     "output_type": "display_data"
    }
   ],
   "source": [
    "fig, ax = plt.subplots(figsize=(20,10))\n",
    "sns.countplot(x='class',data=items,ax=ax, order=top5class_index)\n",
    "plt.setp(ax.xaxis.get_majorticklabels(), fontsize=20)\n",
    "plt.xlabel('Class',fontsize=30)\n",
    "plt.ylabel('Count',fontsize=30)"
   ]
  },
  {
   "cell_type": "markdown",
   "id": "ordinary-exploration",
   "metadata": {},
   "source": [
    "The first two classes (1016 and 1040) with the highest number of items belong to the GROCERY I family (visualized below). The third highest occuring class is 1124 and belongs to the BEVERAGES family."
   ]
  },
  {
   "cell_type": "markdown",
   "id": "parliamentary-arlington",
   "metadata": {},
   "source": [
    "### Categorization of classes based on family"
   ]
  },
  {
   "cell_type": "code",
   "execution_count": 389,
   "id": "controlling-telephone",
   "metadata": {
    "scrolled": false
   },
   "outputs": [
    {
     "data": {
      "application/vnd.plotly.v1+json": {
       "config": {
        "plotlyServerURL": "https://plot.ly"
       },
       "data": [
        {
         "branchvalues": "total",
         "domain": {
          "x": [
           0,
           1
          ],
          "y": [
           0,
           1
          ]
         },
         "hovertemplate": "labels=%{label}<br>count=%{value}<br>parent=%{parent}<br>id=%{id}<extra></extra>",
         "ids": [
          "GROCERY I/1002",
          "GROCERY I/1003",
          "GROCERY I/1004",
          "GROCERY I/1005",
          "GROCERY I/1006",
          "GROCERY I/1008",
          "GROCERY I/1010",
          "GROCERY I/1012",
          "GROCERY I/1013",
          "GROCERY I/1014",
          "GROCERY I/1016",
          "GROCERY I/1018",
          "GROCERY I/1022",
          "GROCERY I/1024",
          "GROCERY I/1025",
          "GROCERY I/1026",
          "GROCERY I/1027",
          "GROCERY I/1028",
          "GROCERY I/1029",
          "GROCERY I/1030",
          "GROCERY I/1032",
          "GROCERY I/1033",
          "GROCERY I/1034",
          "GROCERY I/1035",
          "GROCERY I/1036",
          "GROCERY I/1038",
          "GROCERY I/1039",
          "GROCERY I/1040",
          "GROCERY I/1041",
          "GROCERY I/1042",
          "GROCERY I/1044",
          "GROCERY I/1045",
          "GROCERY I/1046",
          "GROCERY I/1048",
          "GROCERY I/1050",
          "GROCERY I/1052",
          "GROCERY I/1054",
          "GROCERY I/1056",
          "GROCERY I/1058",
          "GROCERY I/1060",
          "GROCERY I/1062",
          "GROCERY I/1063",
          "GROCERY I/1064",
          "GROCERY I/1066",
          "GROCERY I/1067",
          "GROCERY I/1068",
          "GROCERY I/1070",
          "GROCERY I/1072",
          "GROCERY I/1073",
          "GROCERY I/1074",
          "GROCERY I/1075",
          "GROCERY I/1076",
          "GROCERY I/1077",
          "GROCERY I/1078",
          "GROCERY I/1079",
          "GROCERY I/1080",
          "GROCERY I/1082",
          "GROCERY I/1083",
          "GROCERY I/1084",
          "GROCERY I/1086",
          "GROCERY I/1087",
          "GROCERY I/1088",
          "GROCERY I/1089",
          "GROCERY I/1092",
          "GROCERY I/1093",
          "GROCERY I/1094",
          "GROCERY I/1096",
          "BEVERAGES/1114",
          "BEVERAGES/1115",
          "BEVERAGES/1116",
          "BEVERAGES/1118",
          "BEVERAGES/1120",
          "BEVERAGES/1122",
          "BEVERAGES/1124",
          "BEVERAGES/1126",
          "BEVERAGES/1132",
          "BEVERAGES/1136",
          "BEVERAGES/1138",
          "BEVERAGES/1142",
          "BEVERAGES/1144",
          "BEVERAGES/1146",
          "BEVERAGES/1148",
          "BEVERAGES/1150",
          "BEVERAGES/1152",
          "BEVERAGES/1153",
          "BEVERAGES/1154",
          "BEVERAGES/1156",
          "BEVERAGES/1190",
          "GROCERY II/1236",
          "LIQUOR,WINE,BEER/1302",
          "LIQUOR,WINE,BEER/1306",
          "LIQUOR,WINE,BEER/1310",
          "LIQUOR,WINE,BEER/1312",
          "LIQUOR,WINE,BEER/1314",
          "LIQUOR,WINE,BEER/1316",
          "LIQUOR,WINE,BEER/1318",
          "LIQUOR,WINE,BEER/1320",
          "LIQUOR,WINE,BEER/1326",
          "LIQUOR,WINE,BEER/1328",
          "LIQUOR,WINE,BEER/1330",
          "LIQUOR,WINE,BEER/1334",
          "LIQUOR,WINE,BEER/1336",
          "LIQUOR,WINE,BEER/1338",
          "LIQUOR,WINE,BEER/1364",
          "LIQUOR,WINE,BEER/1370",
          "LIQUOR,WINE,BEER/1380",
          "LIQUOR,WINE,BEER/1386",
          "LIQUOR,WINE,BEER/1387",
          "PRODUCE/2002",
          "PRODUCE/2004",
          "PRODUCE/2006",
          "PRODUCE/2008",
          "PRODUCE/2010",
          "PRODUCE/2012",
          "PRODUCE/2014",
          "PRODUCE/2016",
          "PRODUCE/2018",
          "PRODUCE/2020",
          "PRODUCE/2022",
          "PRODUCE/2024",
          "PRODUCE/2026",
          "PRODUCE/2028",
          "PRODUCE/2030",
          "PRODUCE/2032",
          "PRODUCE/2034",
          "PRODUCE/2070",
          "PRODUCE/2074",
          "DAIRY/2102",
          "DAIRY/2103",
          "DAIRY/2104",
          "DAIRY/2108",
          "DAIRY/2112",
          "DAIRY/2114",
          "DAIRY/2116",
          "DAIRY/2122",
          "DAIRY/2124",
          "DAIRY/2128",
          "DAIRY/2130",
          "DAIRY/2142",
          "DAIRY/2152",
          "DAIRY/2156",
          "DAIRY/2162",
          "DAIRY/2164",
          "DAIRY/2166",
          "DAIRY/2168",
          "DAIRY/2170",
          "DAIRY/2172",
          "DAIRY/2174",
          "DAIRY/2178",
          "FROZEN FOODS/2208",
          "FROZEN FOODS/2210",
          "FROZEN FOODS/2214",
          "FROZEN FOODS/2218",
          "FROZEN FOODS/2220",
          "FROZEN FOODS/2222",
          "FROZEN FOODS/2226",
          "FROZEN FOODS/2228",
          "FROZEN FOODS/2238",
          "FROZEN FOODS/2242",
          "FROZEN FOODS/2246",
          "MEATS/2302",
          "MEATS/2304",
          "MEATS/2306",
          "MEATS/2340",
          "MEATS/2372",
          "POULTRY/2412",
          "POULTRY/2416",
          "POULTRY/2420",
          "EGGS/2502",
          "EGGS/2504",
          "EGGS/2506",
          "DELI/2630",
          "DELI/2632",
          "DELI/2636",
          "DELI/2640",
          "DELI/2642",
          "DELI/2644",
          "DELI/2646",
          "DELI/2650",
          "DELI/2652",
          "DELI/2654",
          "DELI/2662",
          "DELI/2664",
          "DELI/2690",
          "BREAD/BAKERY/2702",
          "BREAD/BAKERY/2704",
          "BREAD/BAKERY/2708",
          "BREAD/BAKERY/2712",
          "BREAD/BAKERY/2714",
          "BREAD/BAKERY/2716",
          "BREAD/BAKERY/2718",
          "BREAD/BAKERY/2720",
          "BREAD/BAKERY/2722",
          "BREAD/BAKERY/2750",
          "BREAD/BAKERY/2752",
          "BREAD/BAKERY/2756",
          "BREAD/BAKERY/2782",
          "BREAD/BAKERY/2784",
          "BREAD/BAKERY/2786",
          "SEAFOOD/2802",
          "SEAFOOD/2806",
          "SEAFOOD/2850",
          "SEAFOOD/2854",
          "SEAFOOD/2864",
          "PREPARED FOODS/2904",
          "PREPARED FOODS/2906",
          "PREPARED FOODS/2954",
          "PREPARED FOODS/2956",
          "PREPARED FOODS/2960",
          "PREPARED FOODS/2962",
          "PREPARED FOODS/2966",
          "PREPARED FOODS/2970",
          "PREPARED FOODS/2980",
          "PREPARED FOODS/2986",
          "CLEANING/3004",
          "CLEANING/3005",
          "CLEANING/3006",
          "CLEANING/3008",
          "CLEANING/3010",
          "CLEANING/3012",
          "CLEANING/3014",
          "CLEANING/3015",
          "CLEANING/3016",
          "CLEANING/3018",
          "CLEANING/3020",
          "CLEANING/3022",
          "CLEANING/3024",
          "CLEANING/3026",
          "CLEANING/3028",
          "CLEANING/3029",
          "CLEANING/3030",
          "CLEANING/3032",
          "CLEANING/3034",
          "CLEANING/3035",
          "CLEANING/3038",
          "CLEANING/3040",
          "CLEANING/3044",
          "CLEANING/3046",
          "CLEANING/3060",
          "CLEANING/3090",
          "HOME CARE/3102",
          "HOME CARE/3104",
          "HOME CARE/3106",
          "HOME CARE/3108",
          "HOME CARE/3110",
          "HOME CARE/3116",
          "PERSONAL CARE/4104",
          "PERSONAL CARE/4114",
          "PERSONAL CARE/4118",
          "PERSONAL CARE/4122",
          "PERSONAL CARE/4126",
          "PERSONAL CARE/4130",
          "PERSONAL CARE/4138",
          "PERSONAL CARE/4139",
          "PERSONAL CARE/4140",
          "PERSONAL CARE/4141",
          "PERSONAL CARE/4162",
          "PERSONAL CARE/4176",
          "PERSONAL CARE/4198",
          "BEAUTY/4210",
          "BEAUTY/4212",
          "BEAUTY/4214",
          "BEAUTY/4222",
          "BEAUTY/4228",
          "BEAUTY/4250",
          "BEAUTY/4252",
          "BEAUTY/4254",
          "BEAUTY/4255",
          "BOOKS/5192",
          "MAGAZINES/5222",
          "MAGAZINES/5224",
          "MAGAZINES/5244",
          "MAGAZINES/5250",
          "CELEBRATION/5308",
          "CELEBRATION/5322",
          "CELEBRATION/5324",
          "CELEBRATION/5325",
          "PLAYERS AND ELECTRONICS/5446",
          "BABY CARE/6022",
          "HOME APPLIANCES/6155",
          "HOME AND KITCHEN I/6206",
          "HOME AND KITCHEN I/6212",
          "HOME AND KITCHEN I/6222",
          "HOME AND KITCHEN I/6223",
          "HOME AND KITCHEN I/6230",
          "HOME AND KITCHEN I/6232",
          "HOME AND KITCHEN I/6233",
          "HOME AND KITCHEN I/6238",
          "HOME AND KITCHEN I/6241",
          "HOME AND KITCHEN I/6242",
          "HOME AND KITCHEN I/6246",
          "HOME AND KITCHEN I/6248",
          "HOME AND KITCHEN I/6253",
          "HOME AND KITCHEN I/6257",
          "HOME AND KITCHEN I/6258",
          "HOME AND KITCHEN I/6260",
          "HOME AND KITCHEN I/6262",
          "HOME AND KITCHEN I/6266",
          "HOME AND KITCHEN I/6267",
          "HOME AND KITCHEN I/6269",
          "HOME AND KITCHEN II/6301",
          "HOME AND KITCHEN II/6322",
          "HOME AND KITCHEN II/6328",
          "HOME AND KITCHEN II/6329",
          "HOME AND KITCHEN II/6330",
          "HOME AND KITCHEN II/6338",
          "HOME AND KITCHEN II/6344",
          "HOME AND KITCHEN II/6350",
          "HOME AND KITCHEN II/6352",
          "HOME AND KITCHEN II/6353",
          "HOME AND KITCHEN II/6392",
          "HOME AND KITCHEN II/6393",
          "SCHOOL AND OFFICE SUPPLIES/6404",
          "SCHOOL AND OFFICE SUPPLIES/6412",
          "SCHOOL AND OFFICE SUPPLIES/6414",
          "SCHOOL AND OFFICE SUPPLIES/6426",
          "SCHOOL AND OFFICE SUPPLIES/6448",
          "SCHOOL AND OFFICE SUPPLIES/6482",
          "PET SUPPLIES/6516",
          "PET SUPPLIES/6517",
          "HARDWARE/6706",
          "AUTOMOTIVE/6806",
          "AUTOMOTIVE/6808",
          "AUTOMOTIVE/6810",
          "AUTOMOTIVE/6824",
          "AUTOMOTIVE/6848",
          "LAWN AND GARDEN/6918",
          "LAWN AND GARDEN/6920",
          "LAWN AND GARDEN/6922",
          "LAWN AND GARDEN/6924",
          "LAWN AND GARDEN/6936",
          "LAWN AND GARDEN/6954",
          "LAWN AND GARDEN/6960",
          "LINGERIE/7002",
          "LINGERIE/7016",
          "LINGERIE/7034",
          "LADIESWEAR/7780",
          "AUTOMOTIVE",
          "BABY CARE",
          "BEAUTY",
          "BEVERAGES",
          "BOOKS",
          "BREAD/BAKERY",
          "CELEBRATION",
          "CLEANING",
          "DAIRY",
          "DELI",
          "EGGS",
          "FROZEN FOODS",
          "GROCERY I",
          "GROCERY II",
          "HARDWARE",
          "HOME AND KITCHEN I",
          "HOME AND KITCHEN II",
          "HOME APPLIANCES",
          "HOME CARE",
          "LADIESWEAR",
          "LAWN AND GARDEN",
          "LINGERIE",
          "LIQUOR,WINE,BEER",
          "MAGAZINES",
          "MEATS",
          "PERSONAL CARE",
          "PET SUPPLIES",
          "PLAYERS AND ELECTRONICS",
          "POULTRY",
          "PREPARED FOODS",
          "PRODUCE",
          "SCHOOL AND OFFICE SUPPLIES",
          "SEAFOOD"
         ],
         "labels": [
          "1002",
          "1003",
          "1004",
          "1005",
          "1006",
          "1008",
          "1010",
          "1012",
          "1013",
          "1014",
          "1016",
          "1018",
          "1022",
          "1024",
          "1025",
          "1026",
          "1027",
          "1028",
          "1029",
          "1030",
          "1032",
          "1033",
          "1034",
          "1035",
          "1036",
          "1038",
          "1039",
          "1040",
          "1041",
          "1042",
          "1044",
          "1045",
          "1046",
          "1048",
          "1050",
          "1052",
          "1054",
          "1056",
          "1058",
          "1060",
          "1062",
          "1063",
          "1064",
          "1066",
          "1067",
          "1068",
          "1070",
          "1072",
          "1073",
          "1074",
          "1075",
          "1076",
          "1077",
          "1078",
          "1079",
          "1080",
          "1082",
          "1083",
          "1084",
          "1086",
          "1087",
          "1088",
          "1089",
          "1092",
          "1093",
          "1094",
          "1096",
          "1114",
          "1115",
          "1116",
          "1118",
          "1120",
          "1122",
          "1124",
          "1126",
          "1132",
          "1136",
          "1138",
          "1142",
          "1144",
          "1146",
          "1148",
          "1150",
          "1152",
          "1153",
          "1154",
          "1156",
          "1190",
          "1236",
          "1302",
          "1306",
          "1310",
          "1312",
          "1314",
          "1316",
          "1318",
          "1320",
          "1326",
          "1328",
          "1330",
          "1334",
          "1336",
          "1338",
          "1364",
          "1370",
          "1380",
          "1386",
          "1387",
          "2002",
          "2004",
          "2006",
          "2008",
          "2010",
          "2012",
          "2014",
          "2016",
          "2018",
          "2020",
          "2022",
          "2024",
          "2026",
          "2028",
          "2030",
          "2032",
          "2034",
          "2070",
          "2074",
          "2102",
          "2103",
          "2104",
          "2108",
          "2112",
          "2114",
          "2116",
          "2122",
          "2124",
          "2128",
          "2130",
          "2142",
          "2152",
          "2156",
          "2162",
          "2164",
          "2166",
          "2168",
          "2170",
          "2172",
          "2174",
          "2178",
          "2208",
          "2210",
          "2214",
          "2218",
          "2220",
          "2222",
          "2226",
          "2228",
          "2238",
          "2242",
          "2246",
          "2302",
          "2304",
          "2306",
          "2340",
          "2372",
          "2412",
          "2416",
          "2420",
          "2502",
          "2504",
          "2506",
          "2630",
          "2632",
          "2636",
          "2640",
          "2642",
          "2644",
          "2646",
          "2650",
          "2652",
          "2654",
          "2662",
          "2664",
          "2690",
          "2702",
          "2704",
          "2708",
          "2712",
          "2714",
          "2716",
          "2718",
          "2720",
          "2722",
          "2750",
          "2752",
          "2756",
          "2782",
          "2784",
          "2786",
          "2802",
          "2806",
          "2850",
          "2854",
          "2864",
          "2904",
          "2906",
          "2954",
          "2956",
          "2960",
          "2962",
          "2966",
          "2970",
          "2980",
          "2986",
          "3004",
          "3005",
          "3006",
          "3008",
          "3010",
          "3012",
          "3014",
          "3015",
          "3016",
          "3018",
          "3020",
          "3022",
          "3024",
          "3026",
          "3028",
          "3029",
          "3030",
          "3032",
          "3034",
          "3035",
          "3038",
          "3040",
          "3044",
          "3046",
          "3060",
          "3090",
          "3102",
          "3104",
          "3106",
          "3108",
          "3110",
          "3116",
          "4104",
          "4114",
          "4118",
          "4122",
          "4126",
          "4130",
          "4138",
          "4139",
          "4140",
          "4141",
          "4162",
          "4176",
          "4198",
          "4210",
          "4212",
          "4214",
          "4222",
          "4228",
          "4250",
          "4252",
          "4254",
          "4255",
          "5192",
          "5222",
          "5224",
          "5244",
          "5250",
          "5308",
          "5322",
          "5324",
          "5325",
          "5446",
          "6022",
          "6155",
          "6206",
          "6212",
          "6222",
          "6223",
          "6230",
          "6232",
          "6233",
          "6238",
          "6241",
          "6242",
          "6246",
          "6248",
          "6253",
          "6257",
          "6258",
          "6260",
          "6262",
          "6266",
          "6267",
          "6269",
          "6301",
          "6322",
          "6328",
          "6329",
          "6330",
          "6338",
          "6344",
          "6350",
          "6352",
          "6353",
          "6392",
          "6393",
          "6404",
          "6412",
          "6414",
          "6426",
          "6448",
          "6482",
          "6516",
          "6517",
          "6706",
          "6806",
          "6808",
          "6810",
          "6824",
          "6848",
          "6918",
          "6920",
          "6922",
          "6924",
          "6936",
          "6954",
          "6960",
          "7002",
          "7016",
          "7034",
          "7780",
          "AUTOMOTIVE",
          "BABY CARE",
          "BEAUTY",
          "BEVERAGES",
          "BOOKS",
          "BREAD/BAKERY",
          "CELEBRATION",
          "CLEANING",
          "DAIRY",
          "DELI",
          "EGGS",
          "FROZEN FOODS",
          "GROCERY I",
          "GROCERY II",
          "HARDWARE",
          "HOME AND KITCHEN I",
          "HOME AND KITCHEN II",
          "HOME APPLIANCES",
          "HOME CARE",
          "LADIESWEAR",
          "LAWN AND GARDEN",
          "LINGERIE",
          "LIQUOR,WINE,BEER",
          "MAGAZINES",
          "MEATS",
          "PERSONAL CARE",
          "PET SUPPLIES",
          "PLAYERS AND ELECTRONICS",
          "POULTRY",
          "PREPARED FOODS",
          "PRODUCE",
          "SCHOOL AND OFFICE SUPPLIES",
          "SEAFOOD"
         ],
         "name": "",
         "parents": [
          "GROCERY I",
          "GROCERY I",
          "GROCERY I",
          "GROCERY I",
          "GROCERY I",
          "GROCERY I",
          "GROCERY I",
          "GROCERY I",
          "GROCERY I",
          "GROCERY I",
          "GROCERY I",
          "GROCERY I",
          "GROCERY I",
          "GROCERY I",
          "GROCERY I",
          "GROCERY I",
          "GROCERY I",
          "GROCERY I",
          "GROCERY I",
          "GROCERY I",
          "GROCERY I",
          "GROCERY I",
          "GROCERY I",
          "GROCERY I",
          "GROCERY I",
          "GROCERY I",
          "GROCERY I",
          "GROCERY I",
          "GROCERY I",
          "GROCERY I",
          "GROCERY I",
          "GROCERY I",
          "GROCERY I",
          "GROCERY I",
          "GROCERY I",
          "GROCERY I",
          "GROCERY I",
          "GROCERY I",
          "GROCERY I",
          "GROCERY I",
          "GROCERY I",
          "GROCERY I",
          "GROCERY I",
          "GROCERY I",
          "GROCERY I",
          "GROCERY I",
          "GROCERY I",
          "GROCERY I",
          "GROCERY I",
          "GROCERY I",
          "GROCERY I",
          "GROCERY I",
          "GROCERY I",
          "GROCERY I",
          "GROCERY I",
          "GROCERY I",
          "GROCERY I",
          "GROCERY I",
          "GROCERY I",
          "GROCERY I",
          "GROCERY I",
          "GROCERY I",
          "GROCERY I",
          "GROCERY I",
          "GROCERY I",
          "GROCERY I",
          "GROCERY I",
          "BEVERAGES",
          "BEVERAGES",
          "BEVERAGES",
          "BEVERAGES",
          "BEVERAGES",
          "BEVERAGES",
          "BEVERAGES",
          "BEVERAGES",
          "BEVERAGES",
          "BEVERAGES",
          "BEVERAGES",
          "BEVERAGES",
          "BEVERAGES",
          "BEVERAGES",
          "BEVERAGES",
          "BEVERAGES",
          "BEVERAGES",
          "BEVERAGES",
          "BEVERAGES",
          "BEVERAGES",
          "BEVERAGES",
          "GROCERY II",
          "LIQUOR,WINE,BEER",
          "LIQUOR,WINE,BEER",
          "LIQUOR,WINE,BEER",
          "LIQUOR,WINE,BEER",
          "LIQUOR,WINE,BEER",
          "LIQUOR,WINE,BEER",
          "LIQUOR,WINE,BEER",
          "LIQUOR,WINE,BEER",
          "LIQUOR,WINE,BEER",
          "LIQUOR,WINE,BEER",
          "LIQUOR,WINE,BEER",
          "LIQUOR,WINE,BEER",
          "LIQUOR,WINE,BEER",
          "LIQUOR,WINE,BEER",
          "LIQUOR,WINE,BEER",
          "LIQUOR,WINE,BEER",
          "LIQUOR,WINE,BEER",
          "LIQUOR,WINE,BEER",
          "LIQUOR,WINE,BEER",
          "PRODUCE",
          "PRODUCE",
          "PRODUCE",
          "PRODUCE",
          "PRODUCE",
          "PRODUCE",
          "PRODUCE",
          "PRODUCE",
          "PRODUCE",
          "PRODUCE",
          "PRODUCE",
          "PRODUCE",
          "PRODUCE",
          "PRODUCE",
          "PRODUCE",
          "PRODUCE",
          "PRODUCE",
          "PRODUCE",
          "PRODUCE",
          "DAIRY",
          "DAIRY",
          "DAIRY",
          "DAIRY",
          "DAIRY",
          "DAIRY",
          "DAIRY",
          "DAIRY",
          "DAIRY",
          "DAIRY",
          "DAIRY",
          "DAIRY",
          "DAIRY",
          "DAIRY",
          "DAIRY",
          "DAIRY",
          "DAIRY",
          "DAIRY",
          "DAIRY",
          "DAIRY",
          "DAIRY",
          "DAIRY",
          "FROZEN FOODS",
          "FROZEN FOODS",
          "FROZEN FOODS",
          "FROZEN FOODS",
          "FROZEN FOODS",
          "FROZEN FOODS",
          "FROZEN FOODS",
          "FROZEN FOODS",
          "FROZEN FOODS",
          "FROZEN FOODS",
          "FROZEN FOODS",
          "MEATS",
          "MEATS",
          "MEATS",
          "MEATS",
          "MEATS",
          "POULTRY",
          "POULTRY",
          "POULTRY",
          "EGGS",
          "EGGS",
          "EGGS",
          "DELI",
          "DELI",
          "DELI",
          "DELI",
          "DELI",
          "DELI",
          "DELI",
          "DELI",
          "DELI",
          "DELI",
          "DELI",
          "DELI",
          "DELI",
          "BREAD/BAKERY",
          "BREAD/BAKERY",
          "BREAD/BAKERY",
          "BREAD/BAKERY",
          "BREAD/BAKERY",
          "BREAD/BAKERY",
          "BREAD/BAKERY",
          "BREAD/BAKERY",
          "BREAD/BAKERY",
          "BREAD/BAKERY",
          "BREAD/BAKERY",
          "BREAD/BAKERY",
          "BREAD/BAKERY",
          "BREAD/BAKERY",
          "BREAD/BAKERY",
          "SEAFOOD",
          "SEAFOOD",
          "SEAFOOD",
          "SEAFOOD",
          "SEAFOOD",
          "PREPARED FOODS",
          "PREPARED FOODS",
          "PREPARED FOODS",
          "PREPARED FOODS",
          "PREPARED FOODS",
          "PREPARED FOODS",
          "PREPARED FOODS",
          "PREPARED FOODS",
          "PREPARED FOODS",
          "PREPARED FOODS",
          "CLEANING",
          "CLEANING",
          "CLEANING",
          "CLEANING",
          "CLEANING",
          "CLEANING",
          "CLEANING",
          "CLEANING",
          "CLEANING",
          "CLEANING",
          "CLEANING",
          "CLEANING",
          "CLEANING",
          "CLEANING",
          "CLEANING",
          "CLEANING",
          "CLEANING",
          "CLEANING",
          "CLEANING",
          "CLEANING",
          "CLEANING",
          "CLEANING",
          "CLEANING",
          "CLEANING",
          "CLEANING",
          "CLEANING",
          "HOME CARE",
          "HOME CARE",
          "HOME CARE",
          "HOME CARE",
          "HOME CARE",
          "HOME CARE",
          "PERSONAL CARE",
          "PERSONAL CARE",
          "PERSONAL CARE",
          "PERSONAL CARE",
          "PERSONAL CARE",
          "PERSONAL CARE",
          "PERSONAL CARE",
          "PERSONAL CARE",
          "PERSONAL CARE",
          "PERSONAL CARE",
          "PERSONAL CARE",
          "PERSONAL CARE",
          "PERSONAL CARE",
          "BEAUTY",
          "BEAUTY",
          "BEAUTY",
          "BEAUTY",
          "BEAUTY",
          "BEAUTY",
          "BEAUTY",
          "BEAUTY",
          "BEAUTY",
          "BOOKS",
          "MAGAZINES",
          "MAGAZINES",
          "MAGAZINES",
          "MAGAZINES",
          "CELEBRATION",
          "CELEBRATION",
          "CELEBRATION",
          "CELEBRATION",
          "PLAYERS AND ELECTRONICS",
          "BABY CARE",
          "HOME APPLIANCES",
          "HOME AND KITCHEN I",
          "HOME AND KITCHEN I",
          "HOME AND KITCHEN I",
          "HOME AND KITCHEN I",
          "HOME AND KITCHEN I",
          "HOME AND KITCHEN I",
          "HOME AND KITCHEN I",
          "HOME AND KITCHEN I",
          "HOME AND KITCHEN I",
          "HOME AND KITCHEN I",
          "HOME AND KITCHEN I",
          "HOME AND KITCHEN I",
          "HOME AND KITCHEN I",
          "HOME AND KITCHEN I",
          "HOME AND KITCHEN I",
          "HOME AND KITCHEN I",
          "HOME AND KITCHEN I",
          "HOME AND KITCHEN I",
          "HOME AND KITCHEN I",
          "HOME AND KITCHEN I",
          "HOME AND KITCHEN II",
          "HOME AND KITCHEN II",
          "HOME AND KITCHEN II",
          "HOME AND KITCHEN II",
          "HOME AND KITCHEN II",
          "HOME AND KITCHEN II",
          "HOME AND KITCHEN II",
          "HOME AND KITCHEN II",
          "HOME AND KITCHEN II",
          "HOME AND KITCHEN II",
          "HOME AND KITCHEN II",
          "HOME AND KITCHEN II",
          "SCHOOL AND OFFICE SUPPLIES",
          "SCHOOL AND OFFICE SUPPLIES",
          "SCHOOL AND OFFICE SUPPLIES",
          "SCHOOL AND OFFICE SUPPLIES",
          "SCHOOL AND OFFICE SUPPLIES",
          "SCHOOL AND OFFICE SUPPLIES",
          "PET SUPPLIES",
          "PET SUPPLIES",
          "HARDWARE",
          "AUTOMOTIVE",
          "AUTOMOTIVE",
          "AUTOMOTIVE",
          "AUTOMOTIVE",
          "AUTOMOTIVE",
          "LAWN AND GARDEN",
          "LAWN AND GARDEN",
          "LAWN AND GARDEN",
          "LAWN AND GARDEN",
          "LAWN AND GARDEN",
          "LAWN AND GARDEN",
          "LAWN AND GARDEN",
          "LINGERIE",
          "LINGERIE",
          "LINGERIE",
          "LADIESWEAR",
          "",
          "",
          "",
          "",
          "",
          "",
          "",
          "",
          "",
          "",
          "",
          "",
          "",
          "",
          "",
          "",
          "",
          "",
          "",
          "",
          "",
          "",
          "",
          "",
          "",
          "",
          "",
          "",
          "",
          "",
          "",
          "",
          ""
         ],
         "type": "treemap",
         "values": [
          31,
          4,
          39,
          1,
          12,
          12,
          22,
          10,
          2,
          26,
          133,
          1,
          9,
          4,
          2,
          54,
          2,
          48,
          1,
          51,
          65,
          3,
          98,
          6,
          27,
          4,
          8,
          110,
          1,
          51,
          30,
          24,
          1,
          20,
          8,
          11,
          2,
          9,
          16,
          19,
          30,
          7,
          2,
          5,
          2,
          22,
          4,
          70,
          2,
          39,
          2,
          23,
          3,
          12,
          1,
          10,
          7,
          1,
          20,
          17,
          3,
          17,
          1,
          19,
          5,
          15,
          18,
          42,
          2,
          18,
          26,
          61,
          81,
          100,
          36,
          21,
          27,
          9,
          37,
          35,
          7,
          62,
          1,
          4,
          1,
          2,
          1,
          40,
          14,
          2,
          1,
          4,
          2,
          2,
          1,
          32,
          2,
          2,
          1,
          8,
          2,
          1,
          3,
          2,
          1,
          1,
          4,
          2,
          9,
          16,
          41,
          34,
          8,
          15,
          14,
          27,
          31,
          14,
          8,
          1,
          17,
          33,
          9,
          19,
          7,
          1,
          2,
          9,
          1,
          6,
          8,
          11,
          5,
          30,
          1,
          25,
          10,
          10,
          9,
          6,
          2,
          16,
          7,
          18,
          4,
          21,
          18,
          20,
          5,
          3,
          6,
          1,
          7,
          6,
          4,
          11,
          11,
          1,
          1,
          4,
          59,
          9,
          13,
          1,
          2,
          1,
          17,
          36,
          36,
          2,
          3,
          10,
          16,
          19,
          1,
          2,
          23,
          2,
          4,
          4,
          2,
          4,
          2,
          2,
          14,
          3,
          24,
          17,
          9,
          9,
          22,
          2,
          4,
          3,
          9,
          12,
          1,
          1,
          4,
          2,
          1,
          2,
          2,
          1,
          2,
          1,
          1,
          2,
          2,
          3,
          5,
          1,
          2,
          7,
          27,
          1,
          2,
          26,
          4,
          3,
          17,
          4,
          19,
          17,
          60,
          11,
          17,
          29,
          10,
          1,
          10,
          29,
          41,
          1,
          23,
          28,
          20,
          35,
          4,
          7,
          3,
          4,
          53,
          16,
          31,
          1,
          5,
          28,
          19,
          6,
          40,
          5,
          29,
          1,
          1,
          1,
          4,
          13,
          1,
          1,
          1,
          2,
          2,
          1,
          1,
          5,
          5,
          1,
          1,
          2,
          2,
          1,
          1,
          3,
          5,
          22,
          1,
          17,
          1,
          1,
          3,
          4,
          3,
          1,
          1,
          2,
          1,
          1,
          1,
          15,
          4,
          1,
          2,
          8,
          5,
          1,
          2,
          2,
          1,
          19,
          1,
          1,
          3,
          4,
          8,
          2,
          5,
          7,
          4,
          2,
          7,
          1,
          1,
          1,
          3,
          1,
          4,
          5,
          9,
          5,
          4,
          5,
          2,
          6,
          2,
          5,
          4,
          8,
          5,
          1,
          4,
          2,
          2,
          6,
          4,
          10,
          21,
          20,
          1,
          19,
          613,
          1,
          134,
          31,
          446,
          242,
          91,
          41,
          55,
          1334,
          14,
          4,
          77,
          45,
          1,
          108,
          21,
          26,
          20,
          73,
          6,
          84,
          153,
          14,
          17,
          54,
          26,
          306,
          15,
          8
         ]
        }
       ],
       "layout": {
        "legend": {
         "tracegroupgap": 0
        },
        "margin": {
         "t": 60
        },
        "template": {
         "data": {
          "bar": [
           {
            "error_x": {
             "color": "#2a3f5f"
            },
            "error_y": {
             "color": "#2a3f5f"
            },
            "marker": {
             "line": {
              "color": "#E5ECF6",
              "width": 0.5
             }
            },
            "type": "bar"
           }
          ],
          "barpolar": [
           {
            "marker": {
             "line": {
              "color": "#E5ECF6",
              "width": 0.5
             }
            },
            "type": "barpolar"
           }
          ],
          "carpet": [
           {
            "aaxis": {
             "endlinecolor": "#2a3f5f",
             "gridcolor": "white",
             "linecolor": "white",
             "minorgridcolor": "white",
             "startlinecolor": "#2a3f5f"
            },
            "baxis": {
             "endlinecolor": "#2a3f5f",
             "gridcolor": "white",
             "linecolor": "white",
             "minorgridcolor": "white",
             "startlinecolor": "#2a3f5f"
            },
            "type": "carpet"
           }
          ],
          "choropleth": [
           {
            "colorbar": {
             "outlinewidth": 0,
             "ticks": ""
            },
            "type": "choropleth"
           }
          ],
          "contour": [
           {
            "colorbar": {
             "outlinewidth": 0,
             "ticks": ""
            },
            "colorscale": [
             [
              0,
              "#0d0887"
             ],
             [
              0.1111111111111111,
              "#46039f"
             ],
             [
              0.2222222222222222,
              "#7201a8"
             ],
             [
              0.3333333333333333,
              "#9c179e"
             ],
             [
              0.4444444444444444,
              "#bd3786"
             ],
             [
              0.5555555555555556,
              "#d8576b"
             ],
             [
              0.6666666666666666,
              "#ed7953"
             ],
             [
              0.7777777777777778,
              "#fb9f3a"
             ],
             [
              0.8888888888888888,
              "#fdca26"
             ],
             [
              1,
              "#f0f921"
             ]
            ],
            "type": "contour"
           }
          ],
          "contourcarpet": [
           {
            "colorbar": {
             "outlinewidth": 0,
             "ticks": ""
            },
            "type": "contourcarpet"
           }
          ],
          "heatmap": [
           {
            "colorbar": {
             "outlinewidth": 0,
             "ticks": ""
            },
            "colorscale": [
             [
              0,
              "#0d0887"
             ],
             [
              0.1111111111111111,
              "#46039f"
             ],
             [
              0.2222222222222222,
              "#7201a8"
             ],
             [
              0.3333333333333333,
              "#9c179e"
             ],
             [
              0.4444444444444444,
              "#bd3786"
             ],
             [
              0.5555555555555556,
              "#d8576b"
             ],
             [
              0.6666666666666666,
              "#ed7953"
             ],
             [
              0.7777777777777778,
              "#fb9f3a"
             ],
             [
              0.8888888888888888,
              "#fdca26"
             ],
             [
              1,
              "#f0f921"
             ]
            ],
            "type": "heatmap"
           }
          ],
          "heatmapgl": [
           {
            "colorbar": {
             "outlinewidth": 0,
             "ticks": ""
            },
            "colorscale": [
             [
              0,
              "#0d0887"
             ],
             [
              0.1111111111111111,
              "#46039f"
             ],
             [
              0.2222222222222222,
              "#7201a8"
             ],
             [
              0.3333333333333333,
              "#9c179e"
             ],
             [
              0.4444444444444444,
              "#bd3786"
             ],
             [
              0.5555555555555556,
              "#d8576b"
             ],
             [
              0.6666666666666666,
              "#ed7953"
             ],
             [
              0.7777777777777778,
              "#fb9f3a"
             ],
             [
              0.8888888888888888,
              "#fdca26"
             ],
             [
              1,
              "#f0f921"
             ]
            ],
            "type": "heatmapgl"
           }
          ],
          "histogram": [
           {
            "marker": {
             "colorbar": {
              "outlinewidth": 0,
              "ticks": ""
             }
            },
            "type": "histogram"
           }
          ],
          "histogram2d": [
           {
            "colorbar": {
             "outlinewidth": 0,
             "ticks": ""
            },
            "colorscale": [
             [
              0,
              "#0d0887"
             ],
             [
              0.1111111111111111,
              "#46039f"
             ],
             [
              0.2222222222222222,
              "#7201a8"
             ],
             [
              0.3333333333333333,
              "#9c179e"
             ],
             [
              0.4444444444444444,
              "#bd3786"
             ],
             [
              0.5555555555555556,
              "#d8576b"
             ],
             [
              0.6666666666666666,
              "#ed7953"
             ],
             [
              0.7777777777777778,
              "#fb9f3a"
             ],
             [
              0.8888888888888888,
              "#fdca26"
             ],
             [
              1,
              "#f0f921"
             ]
            ],
            "type": "histogram2d"
           }
          ],
          "histogram2dcontour": [
           {
            "colorbar": {
             "outlinewidth": 0,
             "ticks": ""
            },
            "colorscale": [
             [
              0,
              "#0d0887"
             ],
             [
              0.1111111111111111,
              "#46039f"
             ],
             [
              0.2222222222222222,
              "#7201a8"
             ],
             [
              0.3333333333333333,
              "#9c179e"
             ],
             [
              0.4444444444444444,
              "#bd3786"
             ],
             [
              0.5555555555555556,
              "#d8576b"
             ],
             [
              0.6666666666666666,
              "#ed7953"
             ],
             [
              0.7777777777777778,
              "#fb9f3a"
             ],
             [
              0.8888888888888888,
              "#fdca26"
             ],
             [
              1,
              "#f0f921"
             ]
            ],
            "type": "histogram2dcontour"
           }
          ],
          "mesh3d": [
           {
            "colorbar": {
             "outlinewidth": 0,
             "ticks": ""
            },
            "type": "mesh3d"
           }
          ],
          "parcoords": [
           {
            "line": {
             "colorbar": {
              "outlinewidth": 0,
              "ticks": ""
             }
            },
            "type": "parcoords"
           }
          ],
          "pie": [
           {
            "automargin": true,
            "type": "pie"
           }
          ],
          "scatter": [
           {
            "marker": {
             "colorbar": {
              "outlinewidth": 0,
              "ticks": ""
             }
            },
            "type": "scatter"
           }
          ],
          "scatter3d": [
           {
            "line": {
             "colorbar": {
              "outlinewidth": 0,
              "ticks": ""
             }
            },
            "marker": {
             "colorbar": {
              "outlinewidth": 0,
              "ticks": ""
             }
            },
            "type": "scatter3d"
           }
          ],
          "scattercarpet": [
           {
            "marker": {
             "colorbar": {
              "outlinewidth": 0,
              "ticks": ""
             }
            },
            "type": "scattercarpet"
           }
          ],
          "scattergeo": [
           {
            "marker": {
             "colorbar": {
              "outlinewidth": 0,
              "ticks": ""
             }
            },
            "type": "scattergeo"
           }
          ],
          "scattergl": [
           {
            "marker": {
             "colorbar": {
              "outlinewidth": 0,
              "ticks": ""
             }
            },
            "type": "scattergl"
           }
          ],
          "scattermapbox": [
           {
            "marker": {
             "colorbar": {
              "outlinewidth": 0,
              "ticks": ""
             }
            },
            "type": "scattermapbox"
           }
          ],
          "scatterpolar": [
           {
            "marker": {
             "colorbar": {
              "outlinewidth": 0,
              "ticks": ""
             }
            },
            "type": "scatterpolar"
           }
          ],
          "scatterpolargl": [
           {
            "marker": {
             "colorbar": {
              "outlinewidth": 0,
              "ticks": ""
             }
            },
            "type": "scatterpolargl"
           }
          ],
          "scatterternary": [
           {
            "marker": {
             "colorbar": {
              "outlinewidth": 0,
              "ticks": ""
             }
            },
            "type": "scatterternary"
           }
          ],
          "surface": [
           {
            "colorbar": {
             "outlinewidth": 0,
             "ticks": ""
            },
            "colorscale": [
             [
              0,
              "#0d0887"
             ],
             [
              0.1111111111111111,
              "#46039f"
             ],
             [
              0.2222222222222222,
              "#7201a8"
             ],
             [
              0.3333333333333333,
              "#9c179e"
             ],
             [
              0.4444444444444444,
              "#bd3786"
             ],
             [
              0.5555555555555556,
              "#d8576b"
             ],
             [
              0.6666666666666666,
              "#ed7953"
             ],
             [
              0.7777777777777778,
              "#fb9f3a"
             ],
             [
              0.8888888888888888,
              "#fdca26"
             ],
             [
              1,
              "#f0f921"
             ]
            ],
            "type": "surface"
           }
          ],
          "table": [
           {
            "cells": {
             "fill": {
              "color": "#EBF0F8"
             },
             "line": {
              "color": "white"
             }
            },
            "header": {
             "fill": {
              "color": "#C8D4E3"
             },
             "line": {
              "color": "white"
             }
            },
            "type": "table"
           }
          ]
         },
         "layout": {
          "annotationdefaults": {
           "arrowcolor": "#2a3f5f",
           "arrowhead": 0,
           "arrowwidth": 1
          },
          "autotypenumbers": "strict",
          "coloraxis": {
           "colorbar": {
            "outlinewidth": 0,
            "ticks": ""
           }
          },
          "colorscale": {
           "diverging": [
            [
             0,
             "#8e0152"
            ],
            [
             0.1,
             "#c51b7d"
            ],
            [
             0.2,
             "#de77ae"
            ],
            [
             0.3,
             "#f1b6da"
            ],
            [
             0.4,
             "#fde0ef"
            ],
            [
             0.5,
             "#f7f7f7"
            ],
            [
             0.6,
             "#e6f5d0"
            ],
            [
             0.7,
             "#b8e186"
            ],
            [
             0.8,
             "#7fbc41"
            ],
            [
             0.9,
             "#4d9221"
            ],
            [
             1,
             "#276419"
            ]
           ],
           "sequential": [
            [
             0,
             "#0d0887"
            ],
            [
             0.1111111111111111,
             "#46039f"
            ],
            [
             0.2222222222222222,
             "#7201a8"
            ],
            [
             0.3333333333333333,
             "#9c179e"
            ],
            [
             0.4444444444444444,
             "#bd3786"
            ],
            [
             0.5555555555555556,
             "#d8576b"
            ],
            [
             0.6666666666666666,
             "#ed7953"
            ],
            [
             0.7777777777777778,
             "#fb9f3a"
            ],
            [
             0.8888888888888888,
             "#fdca26"
            ],
            [
             1,
             "#f0f921"
            ]
           ],
           "sequentialminus": [
            [
             0,
             "#0d0887"
            ],
            [
             0.1111111111111111,
             "#46039f"
            ],
            [
             0.2222222222222222,
             "#7201a8"
            ],
            [
             0.3333333333333333,
             "#9c179e"
            ],
            [
             0.4444444444444444,
             "#bd3786"
            ],
            [
             0.5555555555555556,
             "#d8576b"
            ],
            [
             0.6666666666666666,
             "#ed7953"
            ],
            [
             0.7777777777777778,
             "#fb9f3a"
            ],
            [
             0.8888888888888888,
             "#fdca26"
            ],
            [
             1,
             "#f0f921"
            ]
           ]
          },
          "colorway": [
           "#636efa",
           "#EF553B",
           "#00cc96",
           "#ab63fa",
           "#FFA15A",
           "#19d3f3",
           "#FF6692",
           "#B6E880",
           "#FF97FF",
           "#FECB52"
          ],
          "font": {
           "color": "#2a3f5f"
          },
          "geo": {
           "bgcolor": "white",
           "lakecolor": "white",
           "landcolor": "#E5ECF6",
           "showlakes": true,
           "showland": true,
           "subunitcolor": "white"
          },
          "hoverlabel": {
           "align": "left"
          },
          "hovermode": "closest",
          "mapbox": {
           "style": "light"
          },
          "paper_bgcolor": "white",
          "plot_bgcolor": "#E5ECF6",
          "polar": {
           "angularaxis": {
            "gridcolor": "white",
            "linecolor": "white",
            "ticks": ""
           },
           "bgcolor": "#E5ECF6",
           "radialaxis": {
            "gridcolor": "white",
            "linecolor": "white",
            "ticks": ""
           }
          },
          "scene": {
           "xaxis": {
            "backgroundcolor": "#E5ECF6",
            "gridcolor": "white",
            "gridwidth": 2,
            "linecolor": "white",
            "showbackground": true,
            "ticks": "",
            "zerolinecolor": "white"
           },
           "yaxis": {
            "backgroundcolor": "#E5ECF6",
            "gridcolor": "white",
            "gridwidth": 2,
            "linecolor": "white",
            "showbackground": true,
            "ticks": "",
            "zerolinecolor": "white"
           },
           "zaxis": {
            "backgroundcolor": "#E5ECF6",
            "gridcolor": "white",
            "gridwidth": 2,
            "linecolor": "white",
            "showbackground": true,
            "ticks": "",
            "zerolinecolor": "white"
           }
          },
          "shapedefaults": {
           "line": {
            "color": "#2a3f5f"
           }
          },
          "ternary": {
           "aaxis": {
            "gridcolor": "white",
            "linecolor": "white",
            "ticks": ""
           },
           "baxis": {
            "gridcolor": "white",
            "linecolor": "white",
            "ticks": ""
           },
           "bgcolor": "#E5ECF6",
           "caxis": {
            "gridcolor": "white",
            "linecolor": "white",
            "ticks": ""
           }
          },
          "title": {
           "x": 0.05
          },
          "xaxis": {
           "automargin": true,
           "gridcolor": "white",
           "linecolor": "white",
           "ticks": "",
           "title": {
            "standoff": 15
           },
           "zerolinecolor": "white",
           "zerolinewidth": 2
          },
          "yaxis": {
           "automargin": true,
           "gridcolor": "white",
           "linecolor": "white",
           "ticks": "",
           "title": {
            "standoff": 15
           },
           "zerolinecolor": "white",
           "zerolinewidth": 2
          }
         }
        }
       }
      },
      "text/html": [
       "<div>                            <div id=\"1bc3fdfe-b073-4311-a530-ddbe1ac6f1b0\" class=\"plotly-graph-div\" style=\"height:525px; width:100%;\"></div>            <script type=\"text/javascript\">                require([\"plotly\"], function(Plotly) {                    window.PLOTLYENV=window.PLOTLYENV || {};                                    if (document.getElementById(\"1bc3fdfe-b073-4311-a530-ddbe1ac6f1b0\")) {                    Plotly.newPlot(                        \"1bc3fdfe-b073-4311-a530-ddbe1ac6f1b0\",                        [{\"branchvalues\": \"total\", \"domain\": {\"x\": [0.0, 1.0], \"y\": [0.0, 1.0]}, \"hovertemplate\": \"labels=%{label}<br>count=%{value}<br>parent=%{parent}<br>id=%{id}<extra></extra>\", \"ids\": [\"GROCERY I/1002\", \"GROCERY I/1003\", \"GROCERY I/1004\", \"GROCERY I/1005\", \"GROCERY I/1006\", \"GROCERY I/1008\", \"GROCERY I/1010\", \"GROCERY I/1012\", \"GROCERY I/1013\", \"GROCERY I/1014\", \"GROCERY I/1016\", \"GROCERY I/1018\", \"GROCERY I/1022\", \"GROCERY I/1024\", \"GROCERY I/1025\", \"GROCERY I/1026\", \"GROCERY I/1027\", \"GROCERY I/1028\", \"GROCERY I/1029\", \"GROCERY I/1030\", \"GROCERY I/1032\", \"GROCERY I/1033\", \"GROCERY I/1034\", \"GROCERY I/1035\", \"GROCERY I/1036\", \"GROCERY I/1038\", \"GROCERY I/1039\", \"GROCERY I/1040\", \"GROCERY I/1041\", \"GROCERY I/1042\", \"GROCERY I/1044\", \"GROCERY I/1045\", \"GROCERY I/1046\", \"GROCERY I/1048\", \"GROCERY I/1050\", \"GROCERY I/1052\", \"GROCERY I/1054\", \"GROCERY I/1056\", \"GROCERY I/1058\", \"GROCERY I/1060\", \"GROCERY I/1062\", \"GROCERY I/1063\", \"GROCERY I/1064\", \"GROCERY I/1066\", \"GROCERY I/1067\", \"GROCERY I/1068\", \"GROCERY I/1070\", \"GROCERY I/1072\", \"GROCERY I/1073\", \"GROCERY I/1074\", \"GROCERY I/1075\", \"GROCERY I/1076\", \"GROCERY I/1077\", \"GROCERY I/1078\", \"GROCERY I/1079\", \"GROCERY I/1080\", \"GROCERY I/1082\", \"GROCERY I/1083\", \"GROCERY I/1084\", \"GROCERY I/1086\", \"GROCERY I/1087\", \"GROCERY I/1088\", \"GROCERY I/1089\", \"GROCERY I/1092\", \"GROCERY I/1093\", \"GROCERY I/1094\", \"GROCERY I/1096\", \"BEVERAGES/1114\", \"BEVERAGES/1115\", \"BEVERAGES/1116\", \"BEVERAGES/1118\", \"BEVERAGES/1120\", \"BEVERAGES/1122\", \"BEVERAGES/1124\", \"BEVERAGES/1126\", \"BEVERAGES/1132\", \"BEVERAGES/1136\", \"BEVERAGES/1138\", \"BEVERAGES/1142\", \"BEVERAGES/1144\", \"BEVERAGES/1146\", \"BEVERAGES/1148\", \"BEVERAGES/1150\", \"BEVERAGES/1152\", \"BEVERAGES/1153\", \"BEVERAGES/1154\", \"BEVERAGES/1156\", \"BEVERAGES/1190\", \"GROCERY II/1236\", \"LIQUOR,WINE,BEER/1302\", \"LIQUOR,WINE,BEER/1306\", \"LIQUOR,WINE,BEER/1310\", \"LIQUOR,WINE,BEER/1312\", \"LIQUOR,WINE,BEER/1314\", \"LIQUOR,WINE,BEER/1316\", \"LIQUOR,WINE,BEER/1318\", \"LIQUOR,WINE,BEER/1320\", \"LIQUOR,WINE,BEER/1326\", \"LIQUOR,WINE,BEER/1328\", \"LIQUOR,WINE,BEER/1330\", \"LIQUOR,WINE,BEER/1334\", \"LIQUOR,WINE,BEER/1336\", \"LIQUOR,WINE,BEER/1338\", \"LIQUOR,WINE,BEER/1364\", \"LIQUOR,WINE,BEER/1370\", \"LIQUOR,WINE,BEER/1380\", \"LIQUOR,WINE,BEER/1386\", \"LIQUOR,WINE,BEER/1387\", \"PRODUCE/2002\", \"PRODUCE/2004\", \"PRODUCE/2006\", \"PRODUCE/2008\", \"PRODUCE/2010\", \"PRODUCE/2012\", \"PRODUCE/2014\", \"PRODUCE/2016\", \"PRODUCE/2018\", \"PRODUCE/2020\", \"PRODUCE/2022\", \"PRODUCE/2024\", \"PRODUCE/2026\", \"PRODUCE/2028\", \"PRODUCE/2030\", \"PRODUCE/2032\", \"PRODUCE/2034\", \"PRODUCE/2070\", \"PRODUCE/2074\", \"DAIRY/2102\", \"DAIRY/2103\", \"DAIRY/2104\", \"DAIRY/2108\", \"DAIRY/2112\", \"DAIRY/2114\", \"DAIRY/2116\", \"DAIRY/2122\", \"DAIRY/2124\", \"DAIRY/2128\", \"DAIRY/2130\", \"DAIRY/2142\", \"DAIRY/2152\", \"DAIRY/2156\", \"DAIRY/2162\", \"DAIRY/2164\", \"DAIRY/2166\", \"DAIRY/2168\", \"DAIRY/2170\", \"DAIRY/2172\", \"DAIRY/2174\", \"DAIRY/2178\", \"FROZEN FOODS/2208\", \"FROZEN FOODS/2210\", \"FROZEN FOODS/2214\", \"FROZEN FOODS/2218\", \"FROZEN FOODS/2220\", \"FROZEN FOODS/2222\", \"FROZEN FOODS/2226\", \"FROZEN FOODS/2228\", \"FROZEN FOODS/2238\", \"FROZEN FOODS/2242\", \"FROZEN FOODS/2246\", \"MEATS/2302\", \"MEATS/2304\", \"MEATS/2306\", \"MEATS/2340\", \"MEATS/2372\", \"POULTRY/2412\", \"POULTRY/2416\", \"POULTRY/2420\", \"EGGS/2502\", \"EGGS/2504\", \"EGGS/2506\", \"DELI/2630\", \"DELI/2632\", \"DELI/2636\", \"DELI/2640\", \"DELI/2642\", \"DELI/2644\", \"DELI/2646\", \"DELI/2650\", \"DELI/2652\", \"DELI/2654\", \"DELI/2662\", \"DELI/2664\", \"DELI/2690\", \"BREAD/BAKERY/2702\", \"BREAD/BAKERY/2704\", \"BREAD/BAKERY/2708\", \"BREAD/BAKERY/2712\", \"BREAD/BAKERY/2714\", \"BREAD/BAKERY/2716\", \"BREAD/BAKERY/2718\", \"BREAD/BAKERY/2720\", \"BREAD/BAKERY/2722\", \"BREAD/BAKERY/2750\", \"BREAD/BAKERY/2752\", \"BREAD/BAKERY/2756\", \"BREAD/BAKERY/2782\", \"BREAD/BAKERY/2784\", \"BREAD/BAKERY/2786\", \"SEAFOOD/2802\", \"SEAFOOD/2806\", \"SEAFOOD/2850\", \"SEAFOOD/2854\", \"SEAFOOD/2864\", \"PREPARED FOODS/2904\", \"PREPARED FOODS/2906\", \"PREPARED FOODS/2954\", \"PREPARED FOODS/2956\", \"PREPARED FOODS/2960\", \"PREPARED FOODS/2962\", \"PREPARED FOODS/2966\", \"PREPARED FOODS/2970\", \"PREPARED FOODS/2980\", \"PREPARED FOODS/2986\", \"CLEANING/3004\", \"CLEANING/3005\", \"CLEANING/3006\", \"CLEANING/3008\", \"CLEANING/3010\", \"CLEANING/3012\", \"CLEANING/3014\", \"CLEANING/3015\", \"CLEANING/3016\", \"CLEANING/3018\", \"CLEANING/3020\", \"CLEANING/3022\", \"CLEANING/3024\", \"CLEANING/3026\", \"CLEANING/3028\", \"CLEANING/3029\", \"CLEANING/3030\", \"CLEANING/3032\", \"CLEANING/3034\", \"CLEANING/3035\", \"CLEANING/3038\", \"CLEANING/3040\", \"CLEANING/3044\", \"CLEANING/3046\", \"CLEANING/3060\", \"CLEANING/3090\", \"HOME CARE/3102\", \"HOME CARE/3104\", \"HOME CARE/3106\", \"HOME CARE/3108\", \"HOME CARE/3110\", \"HOME CARE/3116\", \"PERSONAL CARE/4104\", \"PERSONAL CARE/4114\", \"PERSONAL CARE/4118\", \"PERSONAL CARE/4122\", \"PERSONAL CARE/4126\", \"PERSONAL CARE/4130\", \"PERSONAL CARE/4138\", \"PERSONAL CARE/4139\", \"PERSONAL CARE/4140\", \"PERSONAL CARE/4141\", \"PERSONAL CARE/4162\", \"PERSONAL CARE/4176\", \"PERSONAL CARE/4198\", \"BEAUTY/4210\", \"BEAUTY/4212\", \"BEAUTY/4214\", \"BEAUTY/4222\", \"BEAUTY/4228\", \"BEAUTY/4250\", \"BEAUTY/4252\", \"BEAUTY/4254\", \"BEAUTY/4255\", \"BOOKS/5192\", \"MAGAZINES/5222\", \"MAGAZINES/5224\", \"MAGAZINES/5244\", \"MAGAZINES/5250\", \"CELEBRATION/5308\", \"CELEBRATION/5322\", \"CELEBRATION/5324\", \"CELEBRATION/5325\", \"PLAYERS AND ELECTRONICS/5446\", \"BABY CARE/6022\", \"HOME APPLIANCES/6155\", \"HOME AND KITCHEN I/6206\", \"HOME AND KITCHEN I/6212\", \"HOME AND KITCHEN I/6222\", \"HOME AND KITCHEN I/6223\", \"HOME AND KITCHEN I/6230\", \"HOME AND KITCHEN I/6232\", \"HOME AND KITCHEN I/6233\", \"HOME AND KITCHEN I/6238\", \"HOME AND KITCHEN I/6241\", \"HOME AND KITCHEN I/6242\", \"HOME AND KITCHEN I/6246\", \"HOME AND KITCHEN I/6248\", \"HOME AND KITCHEN I/6253\", \"HOME AND KITCHEN I/6257\", \"HOME AND KITCHEN I/6258\", \"HOME AND KITCHEN I/6260\", \"HOME AND KITCHEN I/6262\", \"HOME AND KITCHEN I/6266\", \"HOME AND KITCHEN I/6267\", \"HOME AND KITCHEN I/6269\", \"HOME AND KITCHEN II/6301\", \"HOME AND KITCHEN II/6322\", \"HOME AND KITCHEN II/6328\", \"HOME AND KITCHEN II/6329\", \"HOME AND KITCHEN II/6330\", \"HOME AND KITCHEN II/6338\", \"HOME AND KITCHEN II/6344\", \"HOME AND KITCHEN II/6350\", \"HOME AND KITCHEN II/6352\", \"HOME AND KITCHEN II/6353\", \"HOME AND KITCHEN II/6392\", \"HOME AND KITCHEN II/6393\", \"SCHOOL AND OFFICE SUPPLIES/6404\", \"SCHOOL AND OFFICE SUPPLIES/6412\", \"SCHOOL AND OFFICE SUPPLIES/6414\", \"SCHOOL AND OFFICE SUPPLIES/6426\", \"SCHOOL AND OFFICE SUPPLIES/6448\", \"SCHOOL AND OFFICE SUPPLIES/6482\", \"PET SUPPLIES/6516\", \"PET SUPPLIES/6517\", \"HARDWARE/6706\", \"AUTOMOTIVE/6806\", \"AUTOMOTIVE/6808\", \"AUTOMOTIVE/6810\", \"AUTOMOTIVE/6824\", \"AUTOMOTIVE/6848\", \"LAWN AND GARDEN/6918\", \"LAWN AND GARDEN/6920\", \"LAWN AND GARDEN/6922\", \"LAWN AND GARDEN/6924\", \"LAWN AND GARDEN/6936\", \"LAWN AND GARDEN/6954\", \"LAWN AND GARDEN/6960\", \"LINGERIE/7002\", \"LINGERIE/7016\", \"LINGERIE/7034\", \"LADIESWEAR/7780\", \"AUTOMOTIVE\", \"BABY CARE\", \"BEAUTY\", \"BEVERAGES\", \"BOOKS\", \"BREAD/BAKERY\", \"CELEBRATION\", \"CLEANING\", \"DAIRY\", \"DELI\", \"EGGS\", \"FROZEN FOODS\", \"GROCERY I\", \"GROCERY II\", \"HARDWARE\", \"HOME AND KITCHEN I\", \"HOME AND KITCHEN II\", \"HOME APPLIANCES\", \"HOME CARE\", \"LADIESWEAR\", \"LAWN AND GARDEN\", \"LINGERIE\", \"LIQUOR,WINE,BEER\", \"MAGAZINES\", \"MEATS\", \"PERSONAL CARE\", \"PET SUPPLIES\", \"PLAYERS AND ELECTRONICS\", \"POULTRY\", \"PREPARED FOODS\", \"PRODUCE\", \"SCHOOL AND OFFICE SUPPLIES\", \"SEAFOOD\"], \"labels\": [\"1002\", \"1003\", \"1004\", \"1005\", \"1006\", \"1008\", \"1010\", \"1012\", \"1013\", \"1014\", \"1016\", \"1018\", \"1022\", \"1024\", \"1025\", \"1026\", \"1027\", \"1028\", \"1029\", \"1030\", \"1032\", \"1033\", \"1034\", \"1035\", \"1036\", \"1038\", \"1039\", \"1040\", \"1041\", \"1042\", \"1044\", \"1045\", \"1046\", \"1048\", \"1050\", \"1052\", \"1054\", \"1056\", \"1058\", \"1060\", \"1062\", \"1063\", \"1064\", \"1066\", \"1067\", \"1068\", \"1070\", \"1072\", \"1073\", \"1074\", \"1075\", \"1076\", \"1077\", \"1078\", \"1079\", \"1080\", \"1082\", \"1083\", \"1084\", \"1086\", \"1087\", \"1088\", \"1089\", \"1092\", \"1093\", \"1094\", \"1096\", \"1114\", \"1115\", \"1116\", \"1118\", \"1120\", \"1122\", \"1124\", \"1126\", \"1132\", \"1136\", \"1138\", \"1142\", \"1144\", \"1146\", \"1148\", \"1150\", \"1152\", \"1153\", \"1154\", \"1156\", \"1190\", \"1236\", \"1302\", \"1306\", \"1310\", \"1312\", \"1314\", \"1316\", \"1318\", \"1320\", \"1326\", \"1328\", \"1330\", \"1334\", \"1336\", \"1338\", \"1364\", \"1370\", \"1380\", \"1386\", \"1387\", \"2002\", \"2004\", \"2006\", \"2008\", \"2010\", \"2012\", \"2014\", \"2016\", \"2018\", \"2020\", \"2022\", \"2024\", \"2026\", \"2028\", \"2030\", \"2032\", \"2034\", \"2070\", \"2074\", \"2102\", \"2103\", \"2104\", \"2108\", \"2112\", \"2114\", \"2116\", \"2122\", \"2124\", \"2128\", \"2130\", \"2142\", \"2152\", \"2156\", \"2162\", \"2164\", \"2166\", \"2168\", \"2170\", \"2172\", \"2174\", \"2178\", \"2208\", \"2210\", \"2214\", \"2218\", \"2220\", \"2222\", \"2226\", \"2228\", \"2238\", \"2242\", \"2246\", \"2302\", \"2304\", \"2306\", \"2340\", \"2372\", \"2412\", \"2416\", \"2420\", \"2502\", \"2504\", \"2506\", \"2630\", \"2632\", \"2636\", \"2640\", \"2642\", \"2644\", \"2646\", \"2650\", \"2652\", \"2654\", \"2662\", \"2664\", \"2690\", \"2702\", \"2704\", \"2708\", \"2712\", \"2714\", \"2716\", \"2718\", \"2720\", \"2722\", \"2750\", \"2752\", \"2756\", \"2782\", \"2784\", \"2786\", \"2802\", \"2806\", \"2850\", \"2854\", \"2864\", \"2904\", \"2906\", \"2954\", \"2956\", \"2960\", \"2962\", \"2966\", \"2970\", \"2980\", \"2986\", \"3004\", \"3005\", \"3006\", \"3008\", \"3010\", \"3012\", \"3014\", \"3015\", \"3016\", \"3018\", \"3020\", \"3022\", \"3024\", \"3026\", \"3028\", \"3029\", \"3030\", \"3032\", \"3034\", \"3035\", \"3038\", \"3040\", \"3044\", \"3046\", \"3060\", \"3090\", \"3102\", \"3104\", \"3106\", \"3108\", \"3110\", \"3116\", \"4104\", \"4114\", \"4118\", \"4122\", \"4126\", \"4130\", \"4138\", \"4139\", \"4140\", \"4141\", \"4162\", \"4176\", \"4198\", \"4210\", \"4212\", \"4214\", \"4222\", \"4228\", \"4250\", \"4252\", \"4254\", \"4255\", \"5192\", \"5222\", \"5224\", \"5244\", \"5250\", \"5308\", \"5322\", \"5324\", \"5325\", \"5446\", \"6022\", \"6155\", \"6206\", \"6212\", \"6222\", \"6223\", \"6230\", \"6232\", \"6233\", \"6238\", \"6241\", \"6242\", \"6246\", \"6248\", \"6253\", \"6257\", \"6258\", \"6260\", \"6262\", \"6266\", \"6267\", \"6269\", \"6301\", \"6322\", \"6328\", \"6329\", \"6330\", \"6338\", \"6344\", \"6350\", \"6352\", \"6353\", \"6392\", \"6393\", \"6404\", \"6412\", \"6414\", \"6426\", \"6448\", \"6482\", \"6516\", \"6517\", \"6706\", \"6806\", \"6808\", \"6810\", \"6824\", \"6848\", \"6918\", \"6920\", \"6922\", \"6924\", \"6936\", \"6954\", \"6960\", \"7002\", \"7016\", \"7034\", \"7780\", \"AUTOMOTIVE\", \"BABY CARE\", \"BEAUTY\", \"BEVERAGES\", \"BOOKS\", \"BREAD/BAKERY\", \"CELEBRATION\", \"CLEANING\", \"DAIRY\", \"DELI\", \"EGGS\", \"FROZEN FOODS\", \"GROCERY I\", \"GROCERY II\", \"HARDWARE\", \"HOME AND KITCHEN I\", \"HOME AND KITCHEN II\", \"HOME APPLIANCES\", \"HOME CARE\", \"LADIESWEAR\", \"LAWN AND GARDEN\", \"LINGERIE\", \"LIQUOR,WINE,BEER\", \"MAGAZINES\", \"MEATS\", \"PERSONAL CARE\", \"PET SUPPLIES\", \"PLAYERS AND ELECTRONICS\", \"POULTRY\", \"PREPARED FOODS\", \"PRODUCE\", \"SCHOOL AND OFFICE SUPPLIES\", \"SEAFOOD\"], \"name\": \"\", \"parents\": [\"GROCERY I\", \"GROCERY I\", \"GROCERY I\", \"GROCERY I\", \"GROCERY I\", \"GROCERY I\", \"GROCERY I\", \"GROCERY I\", \"GROCERY I\", \"GROCERY I\", \"GROCERY I\", \"GROCERY I\", \"GROCERY I\", \"GROCERY I\", \"GROCERY I\", \"GROCERY I\", \"GROCERY I\", \"GROCERY I\", \"GROCERY I\", \"GROCERY I\", \"GROCERY I\", \"GROCERY I\", \"GROCERY I\", \"GROCERY I\", \"GROCERY I\", \"GROCERY I\", \"GROCERY I\", \"GROCERY I\", \"GROCERY I\", \"GROCERY I\", \"GROCERY I\", \"GROCERY I\", \"GROCERY I\", \"GROCERY I\", \"GROCERY I\", \"GROCERY I\", \"GROCERY I\", \"GROCERY I\", \"GROCERY I\", \"GROCERY I\", \"GROCERY I\", \"GROCERY I\", \"GROCERY I\", \"GROCERY I\", \"GROCERY I\", \"GROCERY I\", \"GROCERY I\", \"GROCERY I\", \"GROCERY I\", \"GROCERY I\", \"GROCERY I\", \"GROCERY I\", \"GROCERY I\", \"GROCERY I\", \"GROCERY I\", \"GROCERY I\", \"GROCERY I\", \"GROCERY I\", \"GROCERY I\", \"GROCERY I\", \"GROCERY I\", \"GROCERY I\", \"GROCERY I\", \"GROCERY I\", \"GROCERY I\", \"GROCERY I\", \"GROCERY I\", \"BEVERAGES\", \"BEVERAGES\", \"BEVERAGES\", \"BEVERAGES\", \"BEVERAGES\", \"BEVERAGES\", \"BEVERAGES\", \"BEVERAGES\", \"BEVERAGES\", \"BEVERAGES\", \"BEVERAGES\", \"BEVERAGES\", \"BEVERAGES\", \"BEVERAGES\", \"BEVERAGES\", \"BEVERAGES\", \"BEVERAGES\", \"BEVERAGES\", \"BEVERAGES\", \"BEVERAGES\", \"BEVERAGES\", \"GROCERY II\", \"LIQUOR,WINE,BEER\", \"LIQUOR,WINE,BEER\", \"LIQUOR,WINE,BEER\", \"LIQUOR,WINE,BEER\", \"LIQUOR,WINE,BEER\", \"LIQUOR,WINE,BEER\", \"LIQUOR,WINE,BEER\", \"LIQUOR,WINE,BEER\", \"LIQUOR,WINE,BEER\", \"LIQUOR,WINE,BEER\", \"LIQUOR,WINE,BEER\", \"LIQUOR,WINE,BEER\", \"LIQUOR,WINE,BEER\", \"LIQUOR,WINE,BEER\", \"LIQUOR,WINE,BEER\", \"LIQUOR,WINE,BEER\", \"LIQUOR,WINE,BEER\", \"LIQUOR,WINE,BEER\", \"LIQUOR,WINE,BEER\", \"PRODUCE\", \"PRODUCE\", \"PRODUCE\", \"PRODUCE\", \"PRODUCE\", \"PRODUCE\", \"PRODUCE\", \"PRODUCE\", \"PRODUCE\", \"PRODUCE\", \"PRODUCE\", \"PRODUCE\", \"PRODUCE\", \"PRODUCE\", \"PRODUCE\", \"PRODUCE\", \"PRODUCE\", \"PRODUCE\", \"PRODUCE\", \"DAIRY\", \"DAIRY\", \"DAIRY\", \"DAIRY\", \"DAIRY\", \"DAIRY\", \"DAIRY\", \"DAIRY\", \"DAIRY\", \"DAIRY\", \"DAIRY\", \"DAIRY\", \"DAIRY\", \"DAIRY\", \"DAIRY\", \"DAIRY\", \"DAIRY\", \"DAIRY\", \"DAIRY\", \"DAIRY\", \"DAIRY\", \"DAIRY\", \"FROZEN FOODS\", \"FROZEN FOODS\", \"FROZEN FOODS\", \"FROZEN FOODS\", \"FROZEN FOODS\", \"FROZEN FOODS\", \"FROZEN FOODS\", \"FROZEN FOODS\", \"FROZEN FOODS\", \"FROZEN FOODS\", \"FROZEN FOODS\", \"MEATS\", \"MEATS\", \"MEATS\", \"MEATS\", \"MEATS\", \"POULTRY\", \"POULTRY\", \"POULTRY\", \"EGGS\", \"EGGS\", \"EGGS\", \"DELI\", \"DELI\", \"DELI\", \"DELI\", \"DELI\", \"DELI\", \"DELI\", \"DELI\", \"DELI\", \"DELI\", \"DELI\", \"DELI\", \"DELI\", \"BREAD/BAKERY\", \"BREAD/BAKERY\", \"BREAD/BAKERY\", \"BREAD/BAKERY\", \"BREAD/BAKERY\", \"BREAD/BAKERY\", \"BREAD/BAKERY\", \"BREAD/BAKERY\", \"BREAD/BAKERY\", \"BREAD/BAKERY\", \"BREAD/BAKERY\", \"BREAD/BAKERY\", \"BREAD/BAKERY\", \"BREAD/BAKERY\", \"BREAD/BAKERY\", \"SEAFOOD\", \"SEAFOOD\", \"SEAFOOD\", \"SEAFOOD\", \"SEAFOOD\", \"PREPARED FOODS\", \"PREPARED FOODS\", \"PREPARED FOODS\", \"PREPARED FOODS\", \"PREPARED FOODS\", \"PREPARED FOODS\", \"PREPARED FOODS\", \"PREPARED FOODS\", \"PREPARED FOODS\", \"PREPARED FOODS\", \"CLEANING\", \"CLEANING\", \"CLEANING\", \"CLEANING\", \"CLEANING\", \"CLEANING\", \"CLEANING\", \"CLEANING\", \"CLEANING\", \"CLEANING\", \"CLEANING\", \"CLEANING\", \"CLEANING\", \"CLEANING\", \"CLEANING\", \"CLEANING\", \"CLEANING\", \"CLEANING\", \"CLEANING\", \"CLEANING\", \"CLEANING\", \"CLEANING\", \"CLEANING\", \"CLEANING\", \"CLEANING\", \"CLEANING\", \"HOME CARE\", \"HOME CARE\", \"HOME CARE\", \"HOME CARE\", \"HOME CARE\", \"HOME CARE\", \"PERSONAL CARE\", \"PERSONAL CARE\", \"PERSONAL CARE\", \"PERSONAL CARE\", \"PERSONAL CARE\", \"PERSONAL CARE\", \"PERSONAL CARE\", \"PERSONAL CARE\", \"PERSONAL CARE\", \"PERSONAL CARE\", \"PERSONAL CARE\", \"PERSONAL CARE\", \"PERSONAL CARE\", \"BEAUTY\", \"BEAUTY\", \"BEAUTY\", \"BEAUTY\", \"BEAUTY\", \"BEAUTY\", \"BEAUTY\", \"BEAUTY\", \"BEAUTY\", \"BOOKS\", \"MAGAZINES\", \"MAGAZINES\", \"MAGAZINES\", \"MAGAZINES\", \"CELEBRATION\", \"CELEBRATION\", \"CELEBRATION\", \"CELEBRATION\", \"PLAYERS AND ELECTRONICS\", \"BABY CARE\", \"HOME APPLIANCES\", \"HOME AND KITCHEN I\", \"HOME AND KITCHEN I\", \"HOME AND KITCHEN I\", \"HOME AND KITCHEN I\", \"HOME AND KITCHEN I\", \"HOME AND KITCHEN I\", \"HOME AND KITCHEN I\", \"HOME AND KITCHEN I\", \"HOME AND KITCHEN I\", \"HOME AND KITCHEN I\", \"HOME AND KITCHEN I\", \"HOME AND KITCHEN I\", \"HOME AND KITCHEN I\", \"HOME AND KITCHEN I\", \"HOME AND KITCHEN I\", \"HOME AND KITCHEN I\", \"HOME AND KITCHEN I\", \"HOME AND KITCHEN I\", \"HOME AND KITCHEN I\", \"HOME AND KITCHEN I\", \"HOME AND KITCHEN II\", \"HOME AND KITCHEN II\", \"HOME AND KITCHEN II\", \"HOME AND KITCHEN II\", \"HOME AND KITCHEN II\", \"HOME AND KITCHEN II\", \"HOME AND KITCHEN II\", \"HOME AND KITCHEN II\", \"HOME AND KITCHEN II\", \"HOME AND KITCHEN II\", \"HOME AND KITCHEN II\", \"HOME AND KITCHEN II\", \"SCHOOL AND OFFICE SUPPLIES\", \"SCHOOL AND OFFICE SUPPLIES\", \"SCHOOL AND OFFICE SUPPLIES\", \"SCHOOL AND OFFICE SUPPLIES\", \"SCHOOL AND OFFICE SUPPLIES\", \"SCHOOL AND OFFICE SUPPLIES\", \"PET SUPPLIES\", \"PET SUPPLIES\", \"HARDWARE\", \"AUTOMOTIVE\", \"AUTOMOTIVE\", \"AUTOMOTIVE\", \"AUTOMOTIVE\", \"AUTOMOTIVE\", \"LAWN AND GARDEN\", \"LAWN AND GARDEN\", \"LAWN AND GARDEN\", \"LAWN AND GARDEN\", \"LAWN AND GARDEN\", \"LAWN AND GARDEN\", \"LAWN AND GARDEN\", \"LINGERIE\", \"LINGERIE\", \"LINGERIE\", \"LADIESWEAR\", \"\", \"\", \"\", \"\", \"\", \"\", \"\", \"\", \"\", \"\", \"\", \"\", \"\", \"\", \"\", \"\", \"\", \"\", \"\", \"\", \"\", \"\", \"\", \"\", \"\", \"\", \"\", \"\", \"\", \"\", \"\", \"\", \"\"], \"type\": \"treemap\", \"values\": [31, 4, 39, 1, 12, 12, 22, 10, 2, 26, 133, 1, 9, 4, 2, 54, 2, 48, 1, 51, 65, 3, 98, 6, 27, 4, 8, 110, 1, 51, 30, 24, 1, 20, 8, 11, 2, 9, 16, 19, 30, 7, 2, 5, 2, 22, 4, 70, 2, 39, 2, 23, 3, 12, 1, 10, 7, 1, 20, 17, 3, 17, 1, 19, 5, 15, 18, 42, 2, 18, 26, 61, 81, 100, 36, 21, 27, 9, 37, 35, 7, 62, 1, 4, 1, 2, 1, 40, 14, 2, 1, 4, 2, 2, 1, 32, 2, 2, 1, 8, 2, 1, 3, 2, 1, 1, 4, 2, 9, 16, 41, 34, 8, 15, 14, 27, 31, 14, 8, 1, 17, 33, 9, 19, 7, 1, 2, 9, 1, 6, 8, 11, 5, 30, 1, 25, 10, 10, 9, 6, 2, 16, 7, 18, 4, 21, 18, 20, 5, 3, 6, 1, 7, 6, 4, 11, 11, 1, 1, 4, 59, 9, 13, 1, 2, 1, 17, 36, 36, 2, 3, 10, 16, 19, 1, 2, 23, 2, 4, 4, 2, 4, 2, 2, 14, 3, 24, 17, 9, 9, 22, 2, 4, 3, 9, 12, 1, 1, 4, 2, 1, 2, 2, 1, 2, 1, 1, 2, 2, 3, 5, 1, 2, 7, 27, 1, 2, 26, 4, 3, 17, 4, 19, 17, 60, 11, 17, 29, 10, 1, 10, 29, 41, 1, 23, 28, 20, 35, 4, 7, 3, 4, 53, 16, 31, 1, 5, 28, 19, 6, 40, 5, 29, 1, 1, 1, 4, 13, 1, 1, 1, 2, 2, 1, 1, 5, 5, 1, 1, 2, 2, 1, 1, 3, 5, 22, 1, 17, 1, 1, 3, 4, 3, 1, 1, 2, 1, 1, 1, 15, 4, 1, 2, 8, 5, 1, 2, 2, 1, 19, 1, 1, 3, 4, 8, 2, 5, 7, 4, 2, 7, 1, 1, 1, 3, 1, 4, 5, 9, 5, 4, 5, 2, 6, 2, 5, 4, 8, 5, 1, 4, 2, 2, 6, 4, 10, 21, 20, 1, 19, 613, 1, 134, 31, 446, 242, 91, 41, 55, 1334, 14, 4, 77, 45, 1, 108, 21, 26, 20, 73, 6, 84, 153, 14, 17, 54, 26, 306, 15, 8]}],                        {\"legend\": {\"tracegroupgap\": 0}, \"margin\": {\"t\": 60}, \"template\": {\"data\": {\"bar\": [{\"error_x\": {\"color\": \"#2a3f5f\"}, \"error_y\": {\"color\": \"#2a3f5f\"}, \"marker\": {\"line\": {\"color\": \"#E5ECF6\", \"width\": 0.5}}, \"type\": \"bar\"}], \"barpolar\": [{\"marker\": {\"line\": {\"color\": \"#E5ECF6\", \"width\": 0.5}}, \"type\": \"barpolar\"}], \"carpet\": [{\"aaxis\": {\"endlinecolor\": \"#2a3f5f\", \"gridcolor\": \"white\", \"linecolor\": \"white\", \"minorgridcolor\": \"white\", \"startlinecolor\": \"#2a3f5f\"}, \"baxis\": {\"endlinecolor\": \"#2a3f5f\", \"gridcolor\": \"white\", \"linecolor\": \"white\", \"minorgridcolor\": \"white\", \"startlinecolor\": \"#2a3f5f\"}, \"type\": \"carpet\"}], \"choropleth\": [{\"colorbar\": {\"outlinewidth\": 0, \"ticks\": \"\"}, \"type\": \"choropleth\"}], \"contour\": [{\"colorbar\": {\"outlinewidth\": 0, \"ticks\": \"\"}, \"colorscale\": [[0.0, \"#0d0887\"], [0.1111111111111111, \"#46039f\"], [0.2222222222222222, \"#7201a8\"], [0.3333333333333333, \"#9c179e\"], [0.4444444444444444, \"#bd3786\"], [0.5555555555555556, \"#d8576b\"], [0.6666666666666666, \"#ed7953\"], [0.7777777777777778, \"#fb9f3a\"], [0.8888888888888888, \"#fdca26\"], [1.0, \"#f0f921\"]], \"type\": \"contour\"}], \"contourcarpet\": [{\"colorbar\": {\"outlinewidth\": 0, \"ticks\": \"\"}, \"type\": \"contourcarpet\"}], \"heatmap\": [{\"colorbar\": {\"outlinewidth\": 0, \"ticks\": \"\"}, \"colorscale\": [[0.0, \"#0d0887\"], [0.1111111111111111, \"#46039f\"], [0.2222222222222222, \"#7201a8\"], [0.3333333333333333, \"#9c179e\"], [0.4444444444444444, \"#bd3786\"], [0.5555555555555556, \"#d8576b\"], [0.6666666666666666, \"#ed7953\"], [0.7777777777777778, \"#fb9f3a\"], [0.8888888888888888, \"#fdca26\"], [1.0, \"#f0f921\"]], \"type\": \"heatmap\"}], \"heatmapgl\": [{\"colorbar\": {\"outlinewidth\": 0, \"ticks\": \"\"}, \"colorscale\": [[0.0, \"#0d0887\"], [0.1111111111111111, \"#46039f\"], [0.2222222222222222, \"#7201a8\"], [0.3333333333333333, \"#9c179e\"], [0.4444444444444444, \"#bd3786\"], [0.5555555555555556, \"#d8576b\"], [0.6666666666666666, \"#ed7953\"], [0.7777777777777778, \"#fb9f3a\"], [0.8888888888888888, \"#fdca26\"], [1.0, \"#f0f921\"]], \"type\": \"heatmapgl\"}], \"histogram\": [{\"marker\": {\"colorbar\": {\"outlinewidth\": 0, \"ticks\": \"\"}}, \"type\": \"histogram\"}], \"histogram2d\": [{\"colorbar\": {\"outlinewidth\": 0, \"ticks\": \"\"}, \"colorscale\": [[0.0, \"#0d0887\"], [0.1111111111111111, \"#46039f\"], [0.2222222222222222, \"#7201a8\"], [0.3333333333333333, \"#9c179e\"], [0.4444444444444444, \"#bd3786\"], [0.5555555555555556, \"#d8576b\"], [0.6666666666666666, \"#ed7953\"], [0.7777777777777778, \"#fb9f3a\"], [0.8888888888888888, \"#fdca26\"], [1.0, \"#f0f921\"]], \"type\": \"histogram2d\"}], \"histogram2dcontour\": [{\"colorbar\": {\"outlinewidth\": 0, \"ticks\": \"\"}, \"colorscale\": [[0.0, \"#0d0887\"], [0.1111111111111111, \"#46039f\"], [0.2222222222222222, \"#7201a8\"], [0.3333333333333333, \"#9c179e\"], [0.4444444444444444, \"#bd3786\"], [0.5555555555555556, \"#d8576b\"], [0.6666666666666666, \"#ed7953\"], [0.7777777777777778, \"#fb9f3a\"], [0.8888888888888888, \"#fdca26\"], [1.0, \"#f0f921\"]], \"type\": \"histogram2dcontour\"}], \"mesh3d\": [{\"colorbar\": {\"outlinewidth\": 0, \"ticks\": \"\"}, \"type\": \"mesh3d\"}], \"parcoords\": [{\"line\": {\"colorbar\": {\"outlinewidth\": 0, \"ticks\": \"\"}}, \"type\": \"parcoords\"}], \"pie\": [{\"automargin\": true, \"type\": \"pie\"}], \"scatter\": [{\"marker\": {\"colorbar\": {\"outlinewidth\": 0, \"ticks\": \"\"}}, \"type\": \"scatter\"}], \"scatter3d\": [{\"line\": {\"colorbar\": {\"outlinewidth\": 0, \"ticks\": \"\"}}, \"marker\": {\"colorbar\": {\"outlinewidth\": 0, \"ticks\": \"\"}}, \"type\": \"scatter3d\"}], \"scattercarpet\": [{\"marker\": {\"colorbar\": {\"outlinewidth\": 0, \"ticks\": \"\"}}, \"type\": \"scattercarpet\"}], \"scattergeo\": [{\"marker\": {\"colorbar\": {\"outlinewidth\": 0, \"ticks\": \"\"}}, \"type\": \"scattergeo\"}], \"scattergl\": [{\"marker\": {\"colorbar\": {\"outlinewidth\": 0, \"ticks\": \"\"}}, \"type\": \"scattergl\"}], \"scattermapbox\": [{\"marker\": {\"colorbar\": {\"outlinewidth\": 0, \"ticks\": \"\"}}, \"type\": \"scattermapbox\"}], \"scatterpolar\": [{\"marker\": {\"colorbar\": {\"outlinewidth\": 0, \"ticks\": \"\"}}, \"type\": \"scatterpolar\"}], \"scatterpolargl\": [{\"marker\": {\"colorbar\": {\"outlinewidth\": 0, \"ticks\": \"\"}}, \"type\": \"scatterpolargl\"}], \"scatterternary\": [{\"marker\": {\"colorbar\": {\"outlinewidth\": 0, \"ticks\": \"\"}}, \"type\": \"scatterternary\"}], \"surface\": [{\"colorbar\": {\"outlinewidth\": 0, \"ticks\": \"\"}, \"colorscale\": [[0.0, \"#0d0887\"], [0.1111111111111111, \"#46039f\"], [0.2222222222222222, \"#7201a8\"], [0.3333333333333333, \"#9c179e\"], [0.4444444444444444, \"#bd3786\"], [0.5555555555555556, \"#d8576b\"], [0.6666666666666666, \"#ed7953\"], [0.7777777777777778, \"#fb9f3a\"], [0.8888888888888888, \"#fdca26\"], [1.0, \"#f0f921\"]], \"type\": \"surface\"}], \"table\": [{\"cells\": {\"fill\": {\"color\": \"#EBF0F8\"}, \"line\": {\"color\": \"white\"}}, \"header\": {\"fill\": {\"color\": \"#C8D4E3\"}, \"line\": {\"color\": \"white\"}}, \"type\": \"table\"}]}, \"layout\": {\"annotationdefaults\": {\"arrowcolor\": \"#2a3f5f\", \"arrowhead\": 0, \"arrowwidth\": 1}, \"autotypenumbers\": \"strict\", \"coloraxis\": {\"colorbar\": {\"outlinewidth\": 0, \"ticks\": \"\"}}, \"colorscale\": {\"diverging\": [[0, \"#8e0152\"], [0.1, \"#c51b7d\"], [0.2, \"#de77ae\"], [0.3, \"#f1b6da\"], [0.4, \"#fde0ef\"], [0.5, \"#f7f7f7\"], [0.6, \"#e6f5d0\"], [0.7, \"#b8e186\"], [0.8, \"#7fbc41\"], [0.9, \"#4d9221\"], [1, \"#276419\"]], \"sequential\": [[0.0, \"#0d0887\"], [0.1111111111111111, \"#46039f\"], [0.2222222222222222, \"#7201a8\"], [0.3333333333333333, \"#9c179e\"], [0.4444444444444444, \"#bd3786\"], [0.5555555555555556, \"#d8576b\"], [0.6666666666666666, \"#ed7953\"], [0.7777777777777778, \"#fb9f3a\"], [0.8888888888888888, \"#fdca26\"], [1.0, \"#f0f921\"]], \"sequentialminus\": [[0.0, \"#0d0887\"], [0.1111111111111111, \"#46039f\"], [0.2222222222222222, \"#7201a8\"], [0.3333333333333333, \"#9c179e\"], [0.4444444444444444, \"#bd3786\"], [0.5555555555555556, \"#d8576b\"], [0.6666666666666666, \"#ed7953\"], [0.7777777777777778, \"#fb9f3a\"], [0.8888888888888888, \"#fdca26\"], [1.0, \"#f0f921\"]]}, \"colorway\": [\"#636efa\", \"#EF553B\", \"#00cc96\", \"#ab63fa\", \"#FFA15A\", \"#19d3f3\", \"#FF6692\", \"#B6E880\", \"#FF97FF\", \"#FECB52\"], \"font\": {\"color\": \"#2a3f5f\"}, \"geo\": {\"bgcolor\": \"white\", \"lakecolor\": \"white\", \"landcolor\": \"#E5ECF6\", \"showlakes\": true, \"showland\": true, \"subunitcolor\": \"white\"}, \"hoverlabel\": {\"align\": \"left\"}, \"hovermode\": \"closest\", \"mapbox\": {\"style\": \"light\"}, \"paper_bgcolor\": \"white\", \"plot_bgcolor\": \"#E5ECF6\", \"polar\": {\"angularaxis\": {\"gridcolor\": \"white\", \"linecolor\": \"white\", \"ticks\": \"\"}, \"bgcolor\": \"#E5ECF6\", \"radialaxis\": {\"gridcolor\": \"white\", \"linecolor\": \"white\", \"ticks\": \"\"}}, \"scene\": {\"xaxis\": {\"backgroundcolor\": \"#E5ECF6\", \"gridcolor\": \"white\", \"gridwidth\": 2, \"linecolor\": \"white\", \"showbackground\": true, \"ticks\": \"\", \"zerolinecolor\": \"white\"}, \"yaxis\": {\"backgroundcolor\": \"#E5ECF6\", \"gridcolor\": \"white\", \"gridwidth\": 2, \"linecolor\": \"white\", \"showbackground\": true, \"ticks\": \"\", \"zerolinecolor\": \"white\"}, \"zaxis\": {\"backgroundcolor\": \"#E5ECF6\", \"gridcolor\": \"white\", \"gridwidth\": 2, \"linecolor\": \"white\", \"showbackground\": true, \"ticks\": \"\", \"zerolinecolor\": \"white\"}}, \"shapedefaults\": {\"line\": {\"color\": \"#2a3f5f\"}}, \"ternary\": {\"aaxis\": {\"gridcolor\": \"white\", \"linecolor\": \"white\", \"ticks\": \"\"}, \"baxis\": {\"gridcolor\": \"white\", \"linecolor\": \"white\", \"ticks\": \"\"}, \"bgcolor\": \"#E5ECF6\", \"caxis\": {\"gridcolor\": \"white\", \"linecolor\": \"white\", \"ticks\": \"\"}}, \"title\": {\"x\": 0.05}, \"xaxis\": {\"automargin\": true, \"gridcolor\": \"white\", \"linecolor\": \"white\", \"ticks\": \"\", \"title\": {\"standoff\": 15}, \"zerolinecolor\": \"white\", \"zerolinewidth\": 2}, \"yaxis\": {\"automargin\": true, \"gridcolor\": \"white\", \"linecolor\": \"white\", \"ticks\": \"\", \"title\": {\"standoff\": 15}, \"zerolinecolor\": \"white\", \"zerolinewidth\": 2}}}},                        {\"responsive\": true}                    ).then(function(){\n",
       "                            \n",
       "var gd = document.getElementById('1bc3fdfe-b073-4311-a530-ddbe1ac6f1b0');\n",
       "var x = new MutationObserver(function (mutations, observer) {{\n",
       "        var display = window.getComputedStyle(gd).display;\n",
       "        if (!display || display === 'none') {{\n",
       "            console.log([gd, 'removed!']);\n",
       "            Plotly.purge(gd);\n",
       "            observer.disconnect();\n",
       "        }}\n",
       "}});\n",
       "\n",
       "// Listen for the removal of the full notebook cells\n",
       "var notebookContainer = gd.closest('#notebook-container');\n",
       "if (notebookContainer) {{\n",
       "    x.observe(notebookContainer, {childList: true});\n",
       "}}\n",
       "\n",
       "// Listen for the clearing of the current output cell\n",
       "var outputEl = gd.closest('.output');\n",
       "if (outputEl) {{\n",
       "    x.observe(outputEl, {childList: true});\n",
       "}}\n",
       "\n",
       "                        })                };                });            </script>        </div>"
      ]
     },
     "metadata": {},
     "output_type": "display_data"
    }
   ],
   "source": [
    "fig = px.treemap(items, path=['family', 'class'])\n",
    "fig.show()"
   ]
  },
  {
   "cell_type": "markdown",
   "id": "quantitative-relief",
   "metadata": {},
   "source": [
    "The above treemap shows the different classes of items in each family. This indicates that classes are a subdivision of family, thus it provides more specific categorization of items. Further each class has items from only one family."
   ]
  },
  {
   "cell_type": "markdown",
   "id": "fiscal-judges",
   "metadata": {},
   "source": [
    "### Proportion of perishables"
   ]
  },
  {
   "cell_type": "markdown",
   "id": "known-panama",
   "metadata": {},
   "source": [
    "#### Visualization showing the counts for whether item is perishable or not"
   ]
  },
  {
   "cell_type": "code",
   "execution_count": 648,
   "id": "reverse-sector",
   "metadata": {
    "scrolled": false
   },
   "outputs": [
    {
     "data": {
      "text/plain": [
       "Text(0, 0.5, 'Count')"
      ]
     },
     "execution_count": 648,
     "metadata": {},
     "output_type": "execute_result"
    },
    {
     "data": {
      "image/png": "[encoded data removed]",
      "text/plain": [
       "<Figure size 1440x720 with 1 Axes>"
      ]
     },
     "metadata": {
      "needs_background": "light"
     },
     "output_type": "display_data"
    }
   ],
   "source": [
    "fig, ax = plt.subplots(figsize=(20,10))\n",
    "sns.countplot(x='perishable', data=items,ax=ax)\n",
    "ax.xaxis.set_ticklabels(['False','True'], fontsize=20)\n",
    "plt.yticks(fontsize=20)\n",
    "plt.xlabel('Perishable', fontsize=30)\n",
    "plt.ylabel('Count', fontsize=30)"
   ]
  },
  {
   "cell_type": "code",
   "execution_count": 444,
   "id": "sunset-cooking",
   "metadata": {
    "scrolled": true
   },
   "outputs": [
    {
     "data": {
      "text/plain": [
       "family\n",
       "BREAD/BAKERY      134\n",
       "DAIRY             242\n",
       "DELI               91\n",
       "EGGS               41\n",
       "MEATS              84\n",
       "POULTRY            54\n",
       "PREPARED FOODS     26\n",
       "PRODUCE           306\n",
       "SEAFOOD             8\n",
       "Name: perishable, dtype: int64"
      ]
     },
     "execution_count": 444,
     "metadata": {},
     "output_type": "execute_result"
    }
   ],
   "source": [
    "perishable_family = items.groupby('family')['perishable'].sum() \n",
    "perishable_family[perishable_family>0]"
   ]
  },
  {
   "cell_type": "markdown",
   "id": "patient-coast",
   "metadata": {},
   "source": [
    "About a quarter of the total items are perishable goods. As expected, most of these items are food related with PRODUCE having the largest number of perishable goods. This is closely followed by DAIRY and BAKERY products."
   ]
  },
  {
   "cell_type": "markdown",
   "id": "found-vision",
   "metadata": {},
   "source": [
    "#### Treemap showing the categorization of perishables"
   ]
  },
  {
   "cell_type": "code",
   "execution_count": 647,
   "id": "descending-shareware",
   "metadata": {
    "scrolled": true
   },
   "outputs": [
    {
     "data": {
      "application/vnd.plotly.v1+json": {
       "config": {
        "plotlyServerURL": "https://plot.ly"
       },
       "data": [
        {
         "branchvalues": "total",
         "domain": {
          "x": [
           0,
           1
          ],
          "y": [
           0,
           1
          ]
         },
         "hovertemplate": "labels=%{label}<br>count=%{value}<br>parent=%{parent}<br>id=%{id}<extra></extra>",
         "ids": [
          "0/AUTOMOTIVE",
          "0/BABY CARE",
          "0/BEAUTY",
          "0/BEVERAGES",
          "0/BOOKS",
          "1/BREAD/BAKERY",
          "0/CELEBRATION",
          "0/CLEANING",
          "1/DAIRY",
          "1/DELI",
          "1/EGGS",
          "0/FROZEN FOODS",
          "0/GROCERY I",
          "0/GROCERY II",
          "0/HARDWARE",
          "0/HOME AND KITCHEN I",
          "0/HOME AND KITCHEN II",
          "0/HOME APPLIANCES",
          "0/HOME CARE",
          "0/LADIESWEAR",
          "0/LAWN AND GARDEN",
          "0/LINGERIE",
          "0/LIQUOR,WINE,BEER",
          "0/MAGAZINES",
          "1/MEATS",
          "0/PERSONAL CARE",
          "0/PET SUPPLIES",
          "0/PLAYERS AND ELECTRONICS",
          "1/POULTRY",
          "1/PREPARED FOODS",
          "1/PRODUCE",
          "0/SCHOOL AND OFFICE SUPPLIES",
          "1/SEAFOOD",
          "0",
          "1"
         ],
         "labels": [
          "AUTOMOTIVE",
          "BABY CARE",
          "BEAUTY",
          "BEVERAGES",
          "BOOKS",
          "BREAD/BAKERY",
          "CELEBRATION",
          "CLEANING",
          "DAIRY",
          "DELI",
          "EGGS",
          "FROZEN FOODS",
          "GROCERY I",
          "GROCERY II",
          "HARDWARE",
          "HOME AND KITCHEN I",
          "HOME AND KITCHEN II",
          "HOME APPLIANCES",
          "HOME CARE",
          "LADIESWEAR",
          "LAWN AND GARDEN",
          "LINGERIE",
          "LIQUOR,WINE,BEER",
          "MAGAZINES",
          "MEATS",
          "PERSONAL CARE",
          "PET SUPPLIES",
          "PLAYERS AND ELECTRONICS",
          "POULTRY",
          "PREPARED FOODS",
          "PRODUCE",
          "SCHOOL AND OFFICE SUPPLIES",
          "SEAFOOD",
          "0",
          "1"
         ],
         "name": "",
         "parents": [
          "0",
          "0",
          "0",
          "0",
          "0",
          "1",
          "0",
          "0",
          "1",
          "1",
          "1",
          "0",
          "0",
          "0",
          "0",
          "0",
          "0",
          "0",
          "0",
          "0",
          "0",
          "0",
          "0",
          "0",
          "1",
          "0",
          "0",
          "0",
          "1",
          "1",
          "1",
          "0",
          "1",
          "",
          ""
         ],
         "type": "treemap",
         "values": [
          20,
          1,
          19,
          613,
          1,
          134,
          31,
          446,
          242,
          91,
          41,
          55,
          1334,
          14,
          4,
          77,
          45,
          1,
          108,
          21,
          26,
          20,
          73,
          6,
          84,
          153,
          14,
          17,
          54,
          26,
          306,
          15,
          8,
          3114,
          986
         ]
        }
       ],
       "layout": {
        "legend": {
         "tracegroupgap": 0
        },
        "margin": {
         "t": 60
        },
        "template": {
         "data": {
          "bar": [
           {
            "error_x": {
             "color": "#2a3f5f"
            },
            "error_y": {
             "color": "#2a3f5f"
            },
            "marker": {
             "line": {
              "color": "#E5ECF6",
              "width": 0.5
             }
            },
            "type": "bar"
           }
          ],
          "barpolar": [
           {
            "marker": {
             "line": {
              "color": "#E5ECF6",
              "width": 0.5
             }
            },
            "type": "barpolar"
           }
          ],
          "carpet": [
           {
            "aaxis": {
             "endlinecolor": "#2a3f5f",
             "gridcolor": "white",
             "linecolor": "white",
             "minorgridcolor": "white",
             "startlinecolor": "#2a3f5f"
            },
            "baxis": {
             "endlinecolor": "#2a3f5f",
             "gridcolor": "white",
             "linecolor": "white",
             "minorgridcolor": "white",
             "startlinecolor": "#2a3f5f"
            },
            "type": "carpet"
           }
          ],
          "choropleth": [
           {
            "colorbar": {
             "outlinewidth": 0,
             "ticks": ""
            },
            "type": "choropleth"
           }
          ],
          "contour": [
           {
            "colorbar": {
             "outlinewidth": 0,
             "ticks": ""
            },
            "colorscale": [
             [
              0,
              "#0d0887"
             ],
             [
              0.1111111111111111,
              "#46039f"
             ],
             [
              0.2222222222222222,
              "#7201a8"
             ],
             [
              0.3333333333333333,
              "#9c179e"
             ],
             [
              0.4444444444444444,
              "#bd3786"
             ],
             [
              0.5555555555555556,
              "#d8576b"
             ],
             [
              0.6666666666666666,
              "#ed7953"
             ],
             [
              0.7777777777777778,
              "#fb9f3a"
             ],
             [
              0.8888888888888888,
              "#fdca26"
             ],
             [
              1,
              "#f0f921"
             ]
            ],
            "type": "contour"
           }
          ],
          "contourcarpet": [
           {
            "colorbar": {
             "outlinewidth": 0,
             "ticks": ""
            },
            "type": "contourcarpet"
           }
          ],
          "heatmap": [
           {
            "colorbar": {
             "outlinewidth": 0,
             "ticks": ""
            },
            "colorscale": [
             [
              0,
              "#0d0887"
             ],
             [
              0.1111111111111111,
              "#46039f"
             ],
             [
              0.2222222222222222,
              "#7201a8"
             ],
             [
              0.3333333333333333,
              "#9c179e"
             ],
             [
              0.4444444444444444,
              "#bd3786"
             ],
             [
              0.5555555555555556,
              "#d8576b"
             ],
             [
              0.6666666666666666,
              "#ed7953"
             ],
             [
              0.7777777777777778,
              "#fb9f3a"
             ],
             [
              0.8888888888888888,
              "#fdca26"
             ],
             [
              1,
              "#f0f921"
             ]
            ],
            "type": "heatmap"
           }
          ],
          "heatmapgl": [
           {
            "colorbar": {
             "outlinewidth": 0,
             "ticks": ""
            },
            "colorscale": [
             [
              0,
              "#0d0887"
             ],
             [
              0.1111111111111111,
              "#46039f"
             ],
             [
              0.2222222222222222,
              "#7201a8"
             ],
             [
              0.3333333333333333,
              "#9c179e"
             ],
             [
              0.4444444444444444,
              "#bd3786"
             ],
             [
              0.5555555555555556,
              "#d8576b"
             ],
             [
              0.6666666666666666,
              "#ed7953"
             ],
             [
              0.7777777777777778,
              "#fb9f3a"
             ],
             [
              0.8888888888888888,
              "#fdca26"
             ],
             [
              1,
              "#f0f921"
             ]
            ],
            "type": "heatmapgl"
           }
          ],
          "histogram": [
           {
            "marker": {
             "colorbar": {
              "outlinewidth": 0,
              "ticks": ""
             }
            },
            "type": "histogram"
           }
          ],
          "histogram2d": [
           {
            "colorbar": {
             "outlinewidth": 0,
             "ticks": ""
            },
            "colorscale": [
             [
              0,
              "#0d0887"
             ],
             [
              0.1111111111111111,
              "#46039f"
             ],
             [
              0.2222222222222222,
              "#7201a8"
             ],
             [
              0.3333333333333333,
              "#9c179e"
             ],
             [
              0.4444444444444444,
              "#bd3786"
             ],
             [
              0.5555555555555556,
              "#d8576b"
             ],
             [
              0.6666666666666666,
              "#ed7953"
             ],
             [
              0.7777777777777778,
              "#fb9f3a"
             ],
             [
              0.8888888888888888,
              "#fdca26"
             ],
             [
              1,
              "#f0f921"
             ]
            ],
            "type": "histogram2d"
           }
          ],
          "histogram2dcontour": [
           {
            "colorbar": {
             "outlinewidth": 0,
             "ticks": ""
            },
            "colorscale": [
             [
              0,
              "#0d0887"
             ],
             [
              0.1111111111111111,
              "#46039f"
             ],
             [
              0.2222222222222222,
              "#7201a8"
             ],
             [
              0.3333333333333333,
              "#9c179e"
             ],
             [
              0.4444444444444444,
              "#bd3786"
             ],
             [
              0.5555555555555556,
              "#d8576b"
             ],
             [
              0.6666666666666666,
              "#ed7953"
             ],
             [
              0.7777777777777778,
              "#fb9f3a"
             ],
             [
              0.8888888888888888,
              "#fdca26"
             ],
             [
              1,
              "#f0f921"
             ]
            ],
            "type": "histogram2dcontour"
           }
          ],
          "mesh3d": [
           {
            "colorbar": {
             "outlinewidth": 0,
             "ticks": ""
            },
            "type": "mesh3d"
           }
          ],
          "parcoords": [
           {
            "line": {
             "colorbar": {
              "outlinewidth": 0,
              "ticks": ""
             }
            },
            "type": "parcoords"
           }
          ],
          "pie": [
           {
            "automargin": true,
            "type": "pie"
           }
          ],
          "scatter": [
           {
            "marker": {
             "colorbar": {
              "outlinewidth": 0,
              "ticks": ""
             }
            },
            "type": "scatter"
           }
          ],
          "scatter3d": [
           {
            "line": {
             "colorbar": {
              "outlinewidth": 0,
              "ticks": ""
             }
            },
            "marker": {
             "colorbar": {
              "outlinewidth": 0,
              "ticks": ""
             }
            },
            "type": "scatter3d"
           }
          ],
          "scattercarpet": [
           {
            "marker": {
             "colorbar": {
              "outlinewidth": 0,
              "ticks": ""
             }
            },
            "type": "scattercarpet"
           }
          ],
          "scattergeo": [
           {
            "marker": {
             "colorbar": {
              "outlinewidth": 0,
              "ticks": ""
             }
            },
            "type": "scattergeo"
           }
          ],
          "scattergl": [
           {
            "marker": {
             "colorbar": {
              "outlinewidth": 0,
              "ticks": ""
             }
            },
            "type": "scattergl"
           }
          ],
          "scattermapbox": [
           {
            "marker": {
             "colorbar": {
              "outlinewidth": 0,
              "ticks": ""
             }
            },
            "type": "scattermapbox"
           }
          ],
          "scatterpolar": [
           {
            "marker": {
             "colorbar": {
              "outlinewidth": 0,
              "ticks": ""
             }
            },
            "type": "scatterpolar"
           }
          ],
          "scatterpolargl": [
           {
            "marker": {
             "colorbar": {
              "outlinewidth": 0,
              "ticks": ""
             }
            },
            "type": "scatterpolargl"
           }
          ],
          "scatterternary": [
           {
            "marker": {
             "colorbar": {
              "outlinewidth": 0,
              "ticks": ""
             }
            },
            "type": "scatterternary"
           }
          ],
          "surface": [
           {
            "colorbar": {
             "outlinewidth": 0,
             "ticks": ""
            },
            "colorscale": [
             [
              0,
              "#0d0887"
             ],
             [
              0.1111111111111111,
              "#46039f"
             ],
             [
              0.2222222222222222,
              "#7201a8"
             ],
             [
              0.3333333333333333,
              "#9c179e"
             ],
             [
              0.4444444444444444,
              "#bd3786"
             ],
             [
              0.5555555555555556,
              "#d8576b"
             ],
             [
              0.6666666666666666,
              "#ed7953"
             ],
             [
              0.7777777777777778,
              "#fb9f3a"
             ],
             [
              0.8888888888888888,
              "#fdca26"
             ],
             [
              1,
              "#f0f921"
             ]
            ],
            "type": "surface"
           }
          ],
          "table": [
           {
            "cells": {
             "fill": {
              "color": "#EBF0F8"
             },
             "line": {
              "color": "white"
             }
            },
            "header": {
             "fill": {
              "color": "#C8D4E3"
             },
             "line": {
              "color": "white"
             }
            },
            "type": "table"
           }
          ]
         },
         "layout": {
          "annotationdefaults": {
           "arrowcolor": "#2a3f5f",
           "arrowhead": 0,
           "arrowwidth": 1
          },
          "autotypenumbers": "strict",
          "coloraxis": {
           "colorbar": {
            "outlinewidth": 0,
            "ticks": ""
           }
          },
          "colorscale": {
           "diverging": [
            [
             0,
             "#8e0152"
            ],
            [
             0.1,
             "#c51b7d"
            ],
            [
             0.2,
             "#de77ae"
            ],
            [
             0.3,
             "#f1b6da"
            ],
            [
             0.4,
             "#fde0ef"
            ],
            [
             0.5,
             "#f7f7f7"
            ],
            [
             0.6,
             "#e6f5d0"
            ],
            [
             0.7,
             "#b8e186"
            ],
            [
             0.8,
             "#7fbc41"
            ],
            [
             0.9,
             "#4d9221"
            ],
            [
             1,
             "#276419"
            ]
           ],
           "sequential": [
            [
             0,
             "#0d0887"
            ],
            [
             0.1111111111111111,
             "#46039f"
            ],
            [
             0.2222222222222222,
             "#7201a8"
            ],
            [
             0.3333333333333333,
             "#9c179e"
            ],
            [
             0.4444444444444444,
             "#bd3786"
            ],
            [
             0.5555555555555556,
             "#d8576b"
            ],
            [
             0.6666666666666666,
             "#ed7953"
            ],
            [
             0.7777777777777778,
             "#fb9f3a"
            ],
            [
             0.8888888888888888,
             "#fdca26"
            ],
            [
             1,
             "#f0f921"
            ]
           ],
           "sequentialminus": [
            [
             0,
             "#0d0887"
            ],
            [
             0.1111111111111111,
             "#46039f"
            ],
            [
             0.2222222222222222,
             "#7201a8"
            ],
            [
             0.3333333333333333,
             "#9c179e"
            ],
            [
             0.4444444444444444,
             "#bd3786"
            ],
            [
             0.5555555555555556,
             "#d8576b"
            ],
            [
             0.6666666666666666,
             "#ed7953"
            ],
            [
             0.7777777777777778,
             "#fb9f3a"
            ],
            [
             0.8888888888888888,
             "#fdca26"
            ],
            [
             1,
             "#f0f921"
            ]
           ]
          },
          "colorway": [
           "#636efa",
           "#EF553B",
           "#00cc96",
           "#ab63fa",
           "#FFA15A",
           "#19d3f3",
           "#FF6692",
           "#B6E880",
           "#FF97FF",
           "#FECB52"
          ],
          "font": {
           "color": "#2a3f5f"
          },
          "geo": {
           "bgcolor": "white",
           "lakecolor": "white",
           "landcolor": "#E5ECF6",
           "showlakes": true,
           "showland": true,
           "subunitcolor": "white"
          },
          "hoverlabel": {
           "align": "left"
          },
          "hovermode": "closest",
          "mapbox": {
           "style": "light"
          },
          "paper_bgcolor": "white",
          "plot_bgcolor": "#E5ECF6",
          "polar": {
           "angularaxis": {
            "gridcolor": "white",
            "linecolor": "white",
            "ticks": ""
           },
           "bgcolor": "#E5ECF6",
           "radialaxis": {
            "gridcolor": "white",
            "linecolor": "white",
            "ticks": ""
           }
          },
          "scene": {
           "xaxis": {
            "backgroundcolor": "#E5ECF6",
            "gridcolor": "white",
            "gridwidth": 2,
            "linecolor": "white",
            "showbackground": true,
            "ticks": "",
            "zerolinecolor": "white"
           },
           "yaxis": {
            "backgroundcolor": "#E5ECF6",
            "gridcolor": "white",
            "gridwidth": 2,
            "linecolor": "white",
            "showbackground": true,
            "ticks": "",
            "zerolinecolor": "white"
           },
           "zaxis": {
            "backgroundcolor": "#E5ECF6",
            "gridcolor": "white",
            "gridwidth": 2,
            "linecolor": "white",
            "showbackground": true,
            "ticks": "",
            "zerolinecolor": "white"
           }
          },
          "shapedefaults": {
           "line": {
            "color": "#2a3f5f"
           }
          },
          "ternary": {
           "aaxis": {
            "gridcolor": "white",
            "linecolor": "white",
            "ticks": ""
           },
           "baxis": {
            "gridcolor": "white",
            "linecolor": "white",
            "ticks": ""
           },
           "bgcolor": "#E5ECF6",
           "caxis": {
            "gridcolor": "white",
            "linecolor": "white",
            "ticks": ""
           }
          },
          "title": {
           "x": 0.05
          },
          "xaxis": {
           "automargin": true,
           "gridcolor": "white",
           "linecolor": "white",
           "ticks": "",
           "title": {
            "standoff": 15
           },
           "zerolinecolor": "white",
           "zerolinewidth": 2
          },
          "yaxis": {
           "automargin": true,
           "gridcolor": "white",
           "linecolor": "white",
           "ticks": "",
           "title": {
            "standoff": 15
           },
           "zerolinecolor": "white",
           "zerolinewidth": 2
          }
         }
        }
       }
      },
      "text/html": [
       "<div>                            <div id=\"ee9de71c-790c-4e6c-801e-5b114e82efc9\" class=\"plotly-graph-div\" style=\"height:525px; width:100%;\"></div>            <script type=\"text/javascript\">                require([\"plotly\"], function(Plotly) {                    window.PLOTLYENV=window.PLOTLYENV || {};                                    if (document.getElementById(\"ee9de71c-790c-4e6c-801e-5b114e82efc9\")) {                    Plotly.newPlot(                        \"ee9de71c-790c-4e6c-801e-5b114e82efc9\",                        [{\"branchvalues\": \"total\", \"domain\": {\"x\": [0.0, 1.0], \"y\": [0.0, 1.0]}, \"hovertemplate\": \"labels=%{label}<br>count=%{value}<br>parent=%{parent}<br>id=%{id}<extra></extra>\", \"ids\": [\"0/AUTOMOTIVE\", \"0/BABY CARE\", \"0/BEAUTY\", \"0/BEVERAGES\", \"0/BOOKS\", \"1/BREAD/BAKERY\", \"0/CELEBRATION\", \"0/CLEANING\", \"1/DAIRY\", \"1/DELI\", \"1/EGGS\", \"0/FROZEN FOODS\", \"0/GROCERY I\", \"0/GROCERY II\", \"0/HARDWARE\", \"0/HOME AND KITCHEN I\", \"0/HOME AND KITCHEN II\", \"0/HOME APPLIANCES\", \"0/HOME CARE\", \"0/LADIESWEAR\", \"0/LAWN AND GARDEN\", \"0/LINGERIE\", \"0/LIQUOR,WINE,BEER\", \"0/MAGAZINES\", \"1/MEATS\", \"0/PERSONAL CARE\", \"0/PET SUPPLIES\", \"0/PLAYERS AND ELECTRONICS\", \"1/POULTRY\", \"1/PREPARED FOODS\", \"1/PRODUCE\", \"0/SCHOOL AND OFFICE SUPPLIES\", \"1/SEAFOOD\", \"0\", \"1\"], \"labels\": [\"AUTOMOTIVE\", \"BABY CARE\", \"BEAUTY\", \"BEVERAGES\", \"BOOKS\", \"BREAD/BAKERY\", \"CELEBRATION\", \"CLEANING\", \"DAIRY\", \"DELI\", \"EGGS\", \"FROZEN FOODS\", \"GROCERY I\", \"GROCERY II\", \"HARDWARE\", \"HOME AND KITCHEN I\", \"HOME AND KITCHEN II\", \"HOME APPLIANCES\", \"HOME CARE\", \"LADIESWEAR\", \"LAWN AND GARDEN\", \"LINGERIE\", \"LIQUOR,WINE,BEER\", \"MAGAZINES\", \"MEATS\", \"PERSONAL CARE\", \"PET SUPPLIES\", \"PLAYERS AND ELECTRONICS\", \"POULTRY\", \"PREPARED FOODS\", \"PRODUCE\", \"SCHOOL AND OFFICE SUPPLIES\", \"SEAFOOD\", \"0\", \"1\"], \"name\": \"\", \"parents\": [\"0\", \"0\", \"0\", \"0\", \"0\", \"1\", \"0\", \"0\", \"1\", \"1\", \"1\", \"0\", \"0\", \"0\", \"0\", \"0\", \"0\", \"0\", \"0\", \"0\", \"0\", \"0\", \"0\", \"0\", \"1\", \"0\", \"0\", \"0\", \"1\", \"1\", \"1\", \"0\", \"1\", \"\", \"\"], \"type\": \"treemap\", \"values\": [20, 1, 19, 613, 1, 134, 31, 446, 242, 91, 41, 55, 1334, 14, 4, 77, 45, 1, 108, 21, 26, 20, 73, 6, 84, 153, 14, 17, 54, 26, 306, 15, 8, 3114, 986]}],                        {\"legend\": {\"tracegroupgap\": 0}, \"margin\": {\"t\": 60}, \"template\": {\"data\": {\"bar\": [{\"error_x\": {\"color\": \"#2a3f5f\"}, \"error_y\": {\"color\": \"#2a3f5f\"}, \"marker\": {\"line\": {\"color\": \"#E5ECF6\", \"width\": 0.5}}, \"type\": \"bar\"}], \"barpolar\": [{\"marker\": {\"line\": {\"color\": \"#E5ECF6\", \"width\": 0.5}}, \"type\": \"barpolar\"}], \"carpet\": [{\"aaxis\": {\"endlinecolor\": \"#2a3f5f\", \"gridcolor\": \"white\", \"linecolor\": \"white\", \"minorgridcolor\": \"white\", \"startlinecolor\": \"#2a3f5f\"}, \"baxis\": {\"endlinecolor\": \"#2a3f5f\", \"gridcolor\": \"white\", \"linecolor\": \"white\", \"minorgridcolor\": \"white\", \"startlinecolor\": \"#2a3f5f\"}, \"type\": \"carpet\"}], \"choropleth\": [{\"colorbar\": {\"outlinewidth\": 0, \"ticks\": \"\"}, \"type\": \"choropleth\"}], \"contour\": [{\"colorbar\": {\"outlinewidth\": 0, \"ticks\": \"\"}, \"colorscale\": [[0.0, \"#0d0887\"], [0.1111111111111111, \"#46039f\"], [0.2222222222222222, \"#7201a8\"], [0.3333333333333333, \"#9c179e\"], [0.4444444444444444, \"#bd3786\"], [0.5555555555555556, \"#d8576b\"], [0.6666666666666666, \"#ed7953\"], [0.7777777777777778, \"#fb9f3a\"], [0.8888888888888888, \"#fdca26\"], [1.0, \"#f0f921\"]], \"type\": \"contour\"}], \"contourcarpet\": [{\"colorbar\": {\"outlinewidth\": 0, \"ticks\": \"\"}, \"type\": \"contourcarpet\"}], \"heatmap\": [{\"colorbar\": {\"outlinewidth\": 0, \"ticks\": \"\"}, \"colorscale\": [[0.0, \"#0d0887\"], [0.1111111111111111, \"#46039f\"], [0.2222222222222222, \"#7201a8\"], [0.3333333333333333, \"#9c179e\"], [0.4444444444444444, \"#bd3786\"], [0.5555555555555556, \"#d8576b\"], [0.6666666666666666, \"#ed7953\"], [0.7777777777777778, \"#fb9f3a\"], [0.8888888888888888, \"#fdca26\"], [1.0, \"#f0f921\"]], \"type\": \"heatmap\"}], \"heatmapgl\": [{\"colorbar\": {\"outlinewidth\": 0, \"ticks\": \"\"}, \"colorscale\": [[0.0, \"#0d0887\"], [0.1111111111111111, \"#46039f\"], [0.2222222222222222, \"#7201a8\"], [0.3333333333333333, \"#9c179e\"], [0.4444444444444444, \"#bd3786\"], [0.5555555555555556, \"#d8576b\"], [0.6666666666666666, \"#ed7953\"], [0.7777777777777778, \"#fb9f3a\"], [0.8888888888888888, \"#fdca26\"], [1.0, \"#f0f921\"]], \"type\": \"heatmapgl\"}], \"histogram\": [{\"marker\": {\"colorbar\": {\"outlinewidth\": 0, \"ticks\": \"\"}}, \"type\": \"histogram\"}], \"histogram2d\": [{\"colorbar\": {\"outlinewidth\": 0, \"ticks\": \"\"}, \"colorscale\": [[0.0, \"#0d0887\"], [0.1111111111111111, \"#46039f\"], [0.2222222222222222, \"#7201a8\"], [0.3333333333333333, \"#9c179e\"], [0.4444444444444444, \"#bd3786\"], [0.5555555555555556, \"#d8576b\"], [0.6666666666666666, \"#ed7953\"], [0.7777777777777778, \"#fb9f3a\"], [0.8888888888888888, \"#fdca26\"], [1.0, \"#f0f921\"]], \"type\": \"histogram2d\"}], \"histogram2dcontour\": [{\"colorbar\": {\"outlinewidth\": 0, \"ticks\": \"\"}, \"colorscale\": [[0.0, \"#0d0887\"], [0.1111111111111111, \"#46039f\"], [0.2222222222222222, \"#7201a8\"], [0.3333333333333333, \"#9c179e\"], [0.4444444444444444, \"#bd3786\"], [0.5555555555555556, \"#d8576b\"], [0.6666666666666666, \"#ed7953\"], [0.7777777777777778, \"#fb9f3a\"], [0.8888888888888888, \"#fdca26\"], [1.0, \"#f0f921\"]], \"type\": \"histogram2dcontour\"}], \"mesh3d\": [{\"colorbar\": {\"outlinewidth\": 0, \"ticks\": \"\"}, \"type\": \"mesh3d\"}], \"parcoords\": [{\"line\": {\"colorbar\": {\"outlinewidth\": 0, \"ticks\": \"\"}}, \"type\": \"parcoords\"}], \"pie\": [{\"automargin\": true, \"type\": \"pie\"}], \"scatter\": [{\"marker\": {\"colorbar\": {\"outlinewidth\": 0, \"ticks\": \"\"}}, \"type\": \"scatter\"}], \"scatter3d\": [{\"line\": {\"colorbar\": {\"outlinewidth\": 0, \"ticks\": \"\"}}, \"marker\": {\"colorbar\": {\"outlinewidth\": 0, \"ticks\": \"\"}}, \"type\": \"scatter3d\"}], \"scattercarpet\": [{\"marker\": {\"colorbar\": {\"outlinewidth\": 0, \"ticks\": \"\"}}, \"type\": \"scattercarpet\"}], \"scattergeo\": [{\"marker\": {\"colorbar\": {\"outlinewidth\": 0, \"ticks\": \"\"}}, \"type\": \"scattergeo\"}], \"scattergl\": [{\"marker\": {\"colorbar\": {\"outlinewidth\": 0, \"ticks\": \"\"}}, \"type\": \"scattergl\"}], \"scattermapbox\": [{\"marker\": {\"colorbar\": {\"outlinewidth\": 0, \"ticks\": \"\"}}, \"type\": \"scattermapbox\"}], \"scatterpolar\": [{\"marker\": {\"colorbar\": {\"outlinewidth\": 0, \"ticks\": \"\"}}, \"type\": \"scatterpolar\"}], \"scatterpolargl\": [{\"marker\": {\"colorbar\": {\"outlinewidth\": 0, \"ticks\": \"\"}}, \"type\": \"scatterpolargl\"}], \"scatterternary\": [{\"marker\": {\"colorbar\": {\"outlinewidth\": 0, \"ticks\": \"\"}}, \"type\": \"scatterternary\"}], \"surface\": [{\"colorbar\": {\"outlinewidth\": 0, \"ticks\": \"\"}, \"colorscale\": [[0.0, \"#0d0887\"], [0.1111111111111111, \"#46039f\"], [0.2222222222222222, \"#7201a8\"], [0.3333333333333333, \"#9c179e\"], [0.4444444444444444, \"#bd3786\"], [0.5555555555555556, \"#d8576b\"], [0.6666666666666666, \"#ed7953\"], [0.7777777777777778, \"#fb9f3a\"], [0.8888888888888888, \"#fdca26\"], [1.0, \"#f0f921\"]], \"type\": \"surface\"}], \"table\": [{\"cells\": {\"fill\": {\"color\": \"#EBF0F8\"}, \"line\": {\"color\": \"white\"}}, \"header\": {\"fill\": {\"color\": \"#C8D4E3\"}, \"line\": {\"color\": \"white\"}}, \"type\": \"table\"}]}, \"layout\": {\"annotationdefaults\": {\"arrowcolor\": \"#2a3f5f\", \"arrowhead\": 0, \"arrowwidth\": 1}, \"autotypenumbers\": \"strict\", \"coloraxis\": {\"colorbar\": {\"outlinewidth\": 0, \"ticks\": \"\"}}, \"colorscale\": {\"diverging\": [[0, \"#8e0152\"], [0.1, \"#c51b7d\"], [0.2, \"#de77ae\"], [0.3, \"#f1b6da\"], [0.4, \"#fde0ef\"], [0.5, \"#f7f7f7\"], [0.6, \"#e6f5d0\"], [0.7, \"#b8e186\"], [0.8, \"#7fbc41\"], [0.9, \"#4d9221\"], [1, \"#276419\"]], \"sequential\": [[0.0, \"#0d0887\"], [0.1111111111111111, \"#46039f\"], [0.2222222222222222, \"#7201a8\"], [0.3333333333333333, \"#9c179e\"], [0.4444444444444444, \"#bd3786\"], [0.5555555555555556, \"#d8576b\"], [0.6666666666666666, \"#ed7953\"], [0.7777777777777778, \"#fb9f3a\"], [0.8888888888888888, \"#fdca26\"], [1.0, \"#f0f921\"]], \"sequentialminus\": [[0.0, \"#0d0887\"], [0.1111111111111111, \"#46039f\"], [0.2222222222222222, \"#7201a8\"], [0.3333333333333333, \"#9c179e\"], [0.4444444444444444, \"#bd3786\"], [0.5555555555555556, \"#d8576b\"], [0.6666666666666666, \"#ed7953\"], [0.7777777777777778, \"#fb9f3a\"], [0.8888888888888888, \"#fdca26\"], [1.0, \"#f0f921\"]]}, \"colorway\": [\"#636efa\", \"#EF553B\", \"#00cc96\", \"#ab63fa\", \"#FFA15A\", \"#19d3f3\", \"#FF6692\", \"#B6E880\", \"#FF97FF\", \"#FECB52\"], \"font\": {\"color\": \"#2a3f5f\"}, \"geo\": {\"bgcolor\": \"white\", \"lakecolor\": \"white\", \"landcolor\": \"#E5ECF6\", \"showlakes\": true, \"showland\": true, \"subunitcolor\": \"white\"}, \"hoverlabel\": {\"align\": \"left\"}, \"hovermode\": \"closest\", \"mapbox\": {\"style\": \"light\"}, \"paper_bgcolor\": \"white\", \"plot_bgcolor\": \"#E5ECF6\", \"polar\": {\"angularaxis\": {\"gridcolor\": \"white\", \"linecolor\": \"white\", \"ticks\": \"\"}, \"bgcolor\": \"#E5ECF6\", \"radialaxis\": {\"gridcolor\": \"white\", \"linecolor\": \"white\", \"ticks\": \"\"}}, \"scene\": {\"xaxis\": {\"backgroundcolor\": \"#E5ECF6\", \"gridcolor\": \"white\", \"gridwidth\": 2, \"linecolor\": \"white\", \"showbackground\": true, \"ticks\": \"\", \"zerolinecolor\": \"white\"}, \"yaxis\": {\"backgroundcolor\": \"#E5ECF6\", \"gridcolor\": \"white\", \"gridwidth\": 2, \"linecolor\": \"white\", \"showbackground\": true, \"ticks\": \"\", \"zerolinecolor\": \"white\"}, \"zaxis\": {\"backgroundcolor\": \"#E5ECF6\", \"gridcolor\": \"white\", \"gridwidth\": 2, \"linecolor\": \"white\", \"showbackground\": true, \"ticks\": \"\", \"zerolinecolor\": \"white\"}}, \"shapedefaults\": {\"line\": {\"color\": \"#2a3f5f\"}}, \"ternary\": {\"aaxis\": {\"gridcolor\": \"white\", \"linecolor\": \"white\", \"ticks\": \"\"}, \"baxis\": {\"gridcolor\": \"white\", \"linecolor\": \"white\", \"ticks\": \"\"}, \"bgcolor\": \"#E5ECF6\", \"caxis\": {\"gridcolor\": \"white\", \"linecolor\": \"white\", \"ticks\": \"\"}}, \"title\": {\"x\": 0.05}, \"xaxis\": {\"automargin\": true, \"gridcolor\": \"white\", \"linecolor\": \"white\", \"ticks\": \"\", \"title\": {\"standoff\": 15}, \"zerolinecolor\": \"white\", \"zerolinewidth\": 2}, \"yaxis\": {\"automargin\": true, \"gridcolor\": \"white\", \"linecolor\": \"white\", \"ticks\": \"\", \"title\": {\"standoff\": 15}, \"zerolinecolor\": \"white\", \"zerolinewidth\": 2}}}},                        {\"responsive\": true}                    ).then(function(){\n",
       "                            \n",
       "var gd = document.getElementById('ee9de71c-790c-4e6c-801e-5b114e82efc9');\n",
       "var x = new MutationObserver(function (mutations, observer) {{\n",
       "        var display = window.getComputedStyle(gd).display;\n",
       "        if (!display || display === 'none') {{\n",
       "            console.log([gd, 'removed!']);\n",
       "            Plotly.purge(gd);\n",
       "            observer.disconnect();\n",
       "        }}\n",
       "}});\n",
       "\n",
       "// Listen for the removal of the full notebook cells\n",
       "var notebookContainer = gd.closest('#notebook-container');\n",
       "if (notebookContainer) {{\n",
       "    x.observe(notebookContainer, {childList: true});\n",
       "}}\n",
       "\n",
       "// Listen for the clearing of the current output cell\n",
       "var outputEl = gd.closest('.output');\n",
       "if (outputEl) {{\n",
       "    x.observe(outputEl, {childList: true});\n",
       "}}\n",
       "\n",
       "                        })                };                });            </script>        </div>"
      ]
     },
     "metadata": {},
     "output_type": "display_data"
    }
   ],
   "source": [
    "fig = px.treemap(items, path=['perishable', 'family'])\n",
    "fig.show()"
   ]
  },
  {
   "cell_type": "markdown",
   "id": "detected-funds",
   "metadata": {},
   "source": [
    "The above treemap shows the families that are classified as perishable(1) and the families that are classified as non-perishable(0). As expected, most fresh food like produce, dairy and meats are classified as perishable due to their low shelf life. "
   ]
  },
  {
   "cell_type": "markdown",
   "id": "regional-discovery",
   "metadata": {},
   "source": [
    "## Holidays Dataset"
   ]
  },
  {
   "cell_type": "code",
   "execution_count": 48,
   "id": "delayed-metadata",
   "metadata": {
    "scrolled": true
   },
   "outputs": [
    {
     "data": {
      "text/plain": [
       "350"
      ]
     },
     "execution_count": 48,
     "metadata": {},
     "output_type": "execute_result"
    }
   ],
   "source": [
    "len(holidays)"
   ]
  },
  {
   "cell_type": "code",
   "execution_count": 545,
   "id": "authentic-income",
   "metadata": {},
   "outputs": [
    {
     "data": {
      "text/plain": [
       "(350, 6)"
      ]
     },
     "execution_count": 545,
     "metadata": {},
     "output_type": "execute_result"
    }
   ],
   "source": [
    "holidays.shape"
   ]
  },
  {
   "cell_type": "code",
   "execution_count": 429,
   "id": "double-south",
   "metadata": {
    "scrolled": true
   },
   "outputs": [
    {
     "data": {
      "text/plain": [
       "date           object\n",
       "type           object\n",
       "locale         object\n",
       "locale_name    object\n",
       "description    object\n",
       "transferred      bool\n",
       "dtype: object"
      ]
     },
     "execution_count": 429,
     "metadata": {},
     "output_type": "execute_result"
    }
   ],
   "source": [
    "holidays.dtypes"
   ]
  },
  {
   "cell_type": "code",
   "execution_count": 508,
   "id": "selected-belfast",
   "metadata": {
    "scrolled": true
   },
   "outputs": [
    {
     "name": "stdout",
     "output_type": "stream",
     "text": [
      "<class 'pandas.core.frame.DataFrame'>\n",
      "RangeIndex: 350 entries, 0 to 349\n",
      "Data columns (total 6 columns):\n",
      " #   Column       Non-Null Count  Dtype \n",
      "---  ------       --------------  ----- \n",
      " 0   date         350 non-null    object\n",
      " 1   type         350 non-null    object\n",
      " 2   locale       350 non-null    object\n",
      " 3   locale_name  350 non-null    object\n",
      " 4   description  350 non-null    object\n",
      " 5   transferred  350 non-null    bool  \n",
      "dtypes: bool(1), object(5)\n",
      "memory usage: 14.1+ KB\n"
     ]
    }
   ],
   "source": [
    "holidays.info()"
   ]
  },
  {
   "cell_type": "markdown",
   "id": "departmental-lesson",
   "metadata": {},
   "source": [
    "The dataset has no null values in any of the columns."
   ]
  },
  {
   "cell_type": "code",
   "execution_count": 432,
   "id": "resident-fifth",
   "metadata": {
    "scrolled": false
   },
   "outputs": [
    {
     "data": {
      "text/plain": [
       "Holiday       221\n",
       "Event          56\n",
       "Additional     51\n",
       "Transfer       12\n",
       "Work Day        5\n",
       "Bridge          5\n",
       "Name: type, dtype: int64"
      ]
     },
     "execution_count": 432,
     "metadata": {},
     "output_type": "execute_result"
    }
   ],
   "source": [
    "holidays.type.value_counts()"
   ]
  },
  {
   "cell_type": "code",
   "execution_count": 549,
   "id": "rapid-origin",
   "metadata": {
    "scrolled": true
   },
   "outputs": [
    {
     "data": {
      "text/plain": [
       "National    174\n",
       "Local       152\n",
       "Regional     24\n",
       "Name: locale, dtype: int64"
      ]
     },
     "execution_count": 549,
     "metadata": {},
     "output_type": "execute_result"
    }
   ],
   "source": [
    "holidays.locale.value_counts()"
   ]
  },
  {
   "cell_type": "code",
   "execution_count": 551,
   "id": "accomplished-workstation",
   "metadata": {},
   "outputs": [
    {
     "data": {
      "text/plain": [
       "Ecuador                           174\n",
       "Quito                              13\n",
       "Ambato                             12\n",
       "Riobamba                           12\n",
       "Latacunga                          12\n",
       "Guaranda                           12\n",
       "Guayaquil                          11\n",
       "Ibarra                              7\n",
       "Cuenca                              7\n",
       "Esmeraldas                          6\n",
       "Puyo                                6\n",
       "Manta                               6\n",
       "Cayambe                             6\n",
       "Santa Elena                         6\n",
       "Cotopaxi                            6\n",
       "Santo Domingo                       6\n",
       "Imbabura                            6\n",
       "Santo Domingo de los Tsachilas      6\n",
       "Quevedo                             6\n",
       "El Carmen                           6\n",
       "Libertad                            6\n",
       "Salinas                             6\n",
       "Loja                                6\n",
       "Machala                             6\n",
       "Name: locale_name, dtype: int64"
      ]
     },
     "execution_count": 551,
     "metadata": {},
     "output_type": "execute_result"
    }
   ],
   "source": [
    "holidays.locale_name.value_counts()"
   ]
  },
  {
   "cell_type": "markdown",
   "id": "blind-approval",
   "metadata": {},
   "source": [
    "The dataset has 6 variables:<br>\n",
    "`date` : specifies when the holiday is celebrated.<br>\n",
    "`type` : contains 6 different categories of the type of holidays.     <b>Holiday</b> refers to the date when the holiday avtually falls on. It is unclear what <b>Event</b> refers to (possibly local events sepcific to a particluar region, example a carnival or a parade. See section on total number of holidays for more details). <b>Transfers</b> refer to dates to which holidays were transferred from the weekend or another day.  <b>Additional</b> type represents the dates that fall close to holidays. So they are treated similar to holidays but they are not official holidays (like Christmas Eve or the day Christmas). <b>Bridge</b> days are the extra days added to a holiday to extend the break as a long weekend. <b>Work day</b> are days that are not normally scheduled for work (For example, Saturday and Sunday) but are used to make up for the Bridge days.<br>\n",
    "`locale` refers to whether the holiday or events was on a national, regional or local scale. <br>\n",
    "`locale_name` refers to city or region name where the holiday is celebrated or the event occurs.<br>\n",
    "`description` gives the name of the holiday or event.<br>\n",
    "`transferred` refers to whether a holiday or event was transferred to another day or not. \n"
   ]
  },
  {
   "cell_type": "markdown",
   "id": "favorite-vietnam",
   "metadata": {},
   "source": [
    "### Frequency of holidays/ events based on type"
   ]
  },
  {
   "cell_type": "code",
   "execution_count": 649,
   "id": "comic-weekend",
   "metadata": {
    "scrolled": true
   },
   "outputs": [
    {
     "data": {
      "text/plain": [
       "Text(0, 0.5, 'Count')"
      ]
     },
     "execution_count": 649,
     "metadata": {},
     "output_type": "execute_result"
    },
    {
     "data": {
      "image/png": "[encoded data removed]",
      "text/plain": [
       "<Figure size 1440x720 with 1 Axes>"
      ]
     },
     "metadata": {
      "needs_background": "light"
     },
     "output_type": "display_data"
    }
   ],
   "source": [
    "fig, ax = plt.subplots(figsize=(20,10))\n",
    "sns.countplot(x='type',data=holidays,ax=ax, order=holidays.type.value_counts().index)\n",
    "plt.setp(ax.xaxis.get_majorticklabels(), fontsize=20)\n",
    "plt.yticks(fontsize=20)\n",
    "plt.xlabel('Type',fontsize=30)\n",
    "plt.ylabel('Count',fontsize=30)"
   ]
  },
  {
   "cell_type": "markdown",
   "id": "ambient-breach",
   "metadata": {},
   "source": [
    "Holiday is the most commonly occuring type while Bridge and Work days are the least commonly occuring types. "
   ]
  },
  {
   "cell_type": "markdown",
   "id": "fifth-office",
   "metadata": {},
   "source": [
    "### Frequency of holidays/events based on locale categorization"
   ]
  },
  {
   "cell_type": "code",
   "execution_count": 650,
   "id": "celtic-clearing",
   "metadata": {
    "scrolled": true
   },
   "outputs": [
    {
     "data": {
      "text/plain": [
       "Text(0, 0.5, 'Count')"
      ]
     },
     "execution_count": 650,
     "metadata": {},
     "output_type": "execute_result"
    },
    {
     "data": {
      "image/png": "[encoded data removed]",
      "text/plain": [
       "<Figure size 1440x720 with 1 Axes>"
      ]
     },
     "metadata": {
      "needs_background": "light"
     },
     "output_type": "display_data"
    }
   ],
   "source": [
    "fig, ax = plt.subplots(figsize=(20,10))\n",
    "sns.countplot(x='locale',data=holidays,ax=ax, order=holidays.locale.value_counts().index)\n",
    "plt.setp(ax.xaxis.get_majorticklabels(), fontsize=20)\n",
    "plt.yticks(fontsize=20)\n",
    "plt.xlabel('Locale',fontsize=30)\n",
    "plt.ylabel('Count',fontsize=30)"
   ]
  },
  {
   "cell_type": "markdown",
   "id": "handmade-principle",
   "metadata": {},
   "source": [
    "Most of the events or holidays happen all over the country. There are very few regional holidays or events. "
   ]
  },
  {
   "cell_type": "markdown",
   "id": "christian-conducting",
   "metadata": {},
   "source": [
    "### Frequency of holidays/events based on cities or regions"
   ]
  },
  {
   "cell_type": "code",
   "execution_count": 651,
   "id": "stable-constraint",
   "metadata": {
    "scrolled": true
   },
   "outputs": [
    {
     "data": {
      "text/plain": [
       "Text(0, 0.5, 'Count')"
      ]
     },
     "execution_count": 651,
     "metadata": {},
     "output_type": "execute_result"
    },
    {
     "data": {
      "image/png": "[encoded data removed]",
      "text/plain": [
       "<Figure size 1440x720 with 1 Axes>"
      ]
     },
     "metadata": {
      "needs_background": "light"
     },
     "output_type": "display_data"
    }
   ],
   "source": [
    "fig, ax = plt.subplots(figsize=(20,10))\n",
    "sns.countplot(x='locale_name',data=holidays,ax=ax, order=holidays.locale_name.value_counts().index)\n",
    "plt.setp(ax.xaxis.get_majorticklabels(), fontsize=20, rotation=90)\n",
    "plt.yticks(fontsize=20)\n",
    "plt.xlabel('Locale Name',fontsize=30)\n",
    "plt.ylabel('Count',fontsize=30)"
   ]
  },
  {
   "cell_type": "markdown",
   "id": "stupid-cedar",
   "metadata": {},
   "source": [
    "Since most holidays/ events are celebrated by the whole country, most holidays have the location as Ecuador. The rest of the holidays are celebrated in the major cities like Quito."
   ]
  },
  {
   "cell_type": "markdown",
   "id": "necessary-stockholm",
   "metadata": {},
   "source": [
    "### Treemap showing the categorization of different cities/ regions based on  locale of holiday"
   ]
  },
  {
   "cell_type": "code",
   "execution_count": 560,
   "id": "economic-binary",
   "metadata": {
    "scrolled": true
   },
   "outputs": [
    {
     "data": {
      "application/vnd.plotly.v1+json": {
       "config": {
        "plotlyServerURL": "https://plot.ly"
       },
       "data": [
        {
         "branchvalues": "total",
         "domain": {
          "x": [
           0,
           1
          ],
          "y": [
           0,
           1
          ]
         },
         "hovertemplate": "labels=%{label}<br>count=%{value}<br>parent=%{parent}<br>id=%{id}<extra></extra>",
         "ids": [
          "Local/Ambato",
          "Local/Cayambe",
          "Regional/Cotopaxi",
          "Local/Cuenca",
          "National/Ecuador",
          "Local/El Carmen",
          "Local/Esmeraldas",
          "Local/Guaranda",
          "Local/Guayaquil",
          "Local/Ibarra",
          "Regional/Imbabura",
          "Local/Latacunga",
          "Local/Libertad",
          "Local/Loja",
          "Local/Machala",
          "Local/Manta",
          "Local/Puyo",
          "Local/Quevedo",
          "Local/Quito",
          "Local/Riobamba",
          "Local/Salinas",
          "Regional/Santa Elena",
          "Local/Santo Domingo",
          "Regional/Santo Domingo de los Tsachilas",
          "Local",
          "National",
          "Regional"
         ],
         "labels": [
          "Ambato",
          "Cayambe",
          "Cotopaxi",
          "Cuenca",
          "Ecuador",
          "El Carmen",
          "Esmeraldas",
          "Guaranda",
          "Guayaquil",
          "Ibarra",
          "Imbabura",
          "Latacunga",
          "Libertad",
          "Loja",
          "Machala",
          "Manta",
          "Puyo",
          "Quevedo",
          "Quito",
          "Riobamba",
          "Salinas",
          "Santa Elena",
          "Santo Domingo",
          "Santo Domingo de los Tsachilas",
          "Local",
          "National",
          "Regional"
         ],
         "name": "",
         "parents": [
          "Local",
          "Local",
          "Regional",
          "Local",
          "National",
          "Local",
          "Local",
          "Local",
          "Local",
          "Local",
          "Regional",
          "Local",
          "Local",
          "Local",
          "Local",
          "Local",
          "Local",
          "Local",
          "Local",
          "Local",
          "Local",
          "Regional",
          "Local",
          "Regional",
          "",
          "",
          ""
         ],
         "type": "treemap",
         "values": [
          12,
          6,
          6,
          7,
          174,
          6,
          6,
          12,
          11,
          7,
          6,
          12,
          6,
          6,
          6,
          6,
          6,
          6,
          13,
          12,
          6,
          6,
          6,
          6,
          152,
          174,
          24
         ]
        }
       ],
       "layout": {
        "legend": {
         "tracegroupgap": 0
        },
        "margin": {
         "t": 60
        },
        "template": {
         "data": {
          "bar": [
           {
            "error_x": {
             "color": "#2a3f5f"
            },
            "error_y": {
             "color": "#2a3f5f"
            },
            "marker": {
             "line": {
              "color": "#E5ECF6",
              "width": 0.5
             }
            },
            "type": "bar"
           }
          ],
          "barpolar": [
           {
            "marker": {
             "line": {
              "color": "#E5ECF6",
              "width": 0.5
             }
            },
            "type": "barpolar"
           }
          ],
          "carpet": [
           {
            "aaxis": {
             "endlinecolor": "#2a3f5f",
             "gridcolor": "white",
             "linecolor": "white",
             "minorgridcolor": "white",
             "startlinecolor": "#2a3f5f"
            },
            "baxis": {
             "endlinecolor": "#2a3f5f",
             "gridcolor": "white",
             "linecolor": "white",
             "minorgridcolor": "white",
             "startlinecolor": "#2a3f5f"
            },
            "type": "carpet"
           }
          ],
          "choropleth": [
           {
            "colorbar": {
             "outlinewidth": 0,
             "ticks": ""
            },
            "type": "choropleth"
           }
          ],
          "contour": [
           {
            "colorbar": {
             "outlinewidth": 0,
             "ticks": ""
            },
            "colorscale": [
             [
              0,
              "#0d0887"
             ],
             [
              0.1111111111111111,
              "#46039f"
             ],
             [
              0.2222222222222222,
              "#7201a8"
             ],
             [
              0.3333333333333333,
              "#9c179e"
             ],
             [
              0.4444444444444444,
              "#bd3786"
             ],
             [
              0.5555555555555556,
              "#d8576b"
             ],
             [
              0.6666666666666666,
              "#ed7953"
             ],
             [
              0.7777777777777778,
              "#fb9f3a"
             ],
             [
              0.8888888888888888,
              "#fdca26"
             ],
             [
              1,
              "#f0f921"
             ]
            ],
            "type": "contour"
           }
          ],
          "contourcarpet": [
           {
            "colorbar": {
             "outlinewidth": 0,
             "ticks": ""
            },
            "type": "contourcarpet"
           }
          ],
          "heatmap": [
           {
            "colorbar": {
             "outlinewidth": 0,
             "ticks": ""
            },
            "colorscale": [
             [
              0,
              "#0d0887"
             ],
             [
              0.1111111111111111,
              "#46039f"
             ],
             [
              0.2222222222222222,
              "#7201a8"
             ],
             [
              0.3333333333333333,
              "#9c179e"
             ],
             [
              0.4444444444444444,
              "#bd3786"
             ],
             [
              0.5555555555555556,
              "#d8576b"
             ],
             [
              0.6666666666666666,
              "#ed7953"
             ],
             [
              0.7777777777777778,
              "#fb9f3a"
             ],
             [
              0.8888888888888888,
              "#fdca26"
             ],
             [
              1,
              "#f0f921"
             ]
            ],
            "type": "heatmap"
           }
          ],
          "heatmapgl": [
           {
            "colorbar": {
             "outlinewidth": 0,
             "ticks": ""
            },
            "colorscale": [
             [
              0,
              "#0d0887"
             ],
             [
              0.1111111111111111,
              "#46039f"
             ],
             [
              0.2222222222222222,
              "#7201a8"
             ],
             [
              0.3333333333333333,
              "#9c179e"
             ],
             [
              0.4444444444444444,
              "#bd3786"
             ],
             [
              0.5555555555555556,
              "#d8576b"
             ],
             [
              0.6666666666666666,
              "#ed7953"
             ],
             [
              0.7777777777777778,
              "#fb9f3a"
             ],
             [
              0.8888888888888888,
              "#fdca26"
             ],
             [
              1,
              "#f0f921"
             ]
            ],
            "type": "heatmapgl"
           }
          ],
          "histogram": [
           {
            "marker": {
             "colorbar": {
              "outlinewidth": 0,
              "ticks": ""
             }
            },
            "type": "histogram"
           }
          ],
          "histogram2d": [
           {
            "colorbar": {
             "outlinewidth": 0,
             "ticks": ""
            },
            "colorscale": [
             [
              0,
              "#0d0887"
             ],
             [
              0.1111111111111111,
              "#46039f"
             ],
             [
              0.2222222222222222,
              "#7201a8"
             ],
             [
              0.3333333333333333,
              "#9c179e"
             ],
             [
              0.4444444444444444,
              "#bd3786"
             ],
             [
              0.5555555555555556,
              "#d8576b"
             ],
             [
              0.6666666666666666,
              "#ed7953"
             ],
             [
              0.7777777777777778,
              "#fb9f3a"
             ],
             [
              0.8888888888888888,
              "#fdca26"
             ],
             [
              1,
              "#f0f921"
             ]
            ],
            "type": "histogram2d"
           }
          ],
          "histogram2dcontour": [
           {
            "colorbar": {
             "outlinewidth": 0,
             "ticks": ""
            },
            "colorscale": [
             [
              0,
              "#0d0887"
             ],
             [
              0.1111111111111111,
              "#46039f"
             ],
             [
              0.2222222222222222,
              "#7201a8"
             ],
             [
              0.3333333333333333,
              "#9c179e"
             ],
             [
              0.4444444444444444,
              "#bd3786"
             ],
             [
              0.5555555555555556,
              "#d8576b"
             ],
             [
              0.6666666666666666,
              "#ed7953"
             ],
             [
              0.7777777777777778,
              "#fb9f3a"
             ],
             [
              0.8888888888888888,
              "#fdca26"
             ],
             [
              1,
              "#f0f921"
             ]
            ],
            "type": "histogram2dcontour"
           }
          ],
          "mesh3d": [
           {
            "colorbar": {
             "outlinewidth": 0,
             "ticks": ""
            },
            "type": "mesh3d"
           }
          ],
          "parcoords": [
           {
            "line": {
             "colorbar": {
              "outlinewidth": 0,
              "ticks": ""
             }
            },
            "type": "parcoords"
           }
          ],
          "pie": [
           {
            "automargin": true,
            "type": "pie"
           }
          ],
          "scatter": [
           {
            "marker": {
             "colorbar": {
              "outlinewidth": 0,
              "ticks": ""
             }
            },
            "type": "scatter"
           }
          ],
          "scatter3d": [
           {
            "line": {
             "colorbar": {
              "outlinewidth": 0,
              "ticks": ""
             }
            },
            "marker": {
             "colorbar": {
              "outlinewidth": 0,
              "ticks": ""
             }
            },
            "type": "scatter3d"
           }
          ],
          "scattercarpet": [
           {
            "marker": {
             "colorbar": {
              "outlinewidth": 0,
              "ticks": ""
             }
            },
            "type": "scattercarpet"
           }
          ],
          "scattergeo": [
           {
            "marker": {
             "colorbar": {
              "outlinewidth": 0,
              "ticks": ""
             }
            },
            "type": "scattergeo"
           }
          ],
          "scattergl": [
           {
            "marker": {
             "colorbar": {
              "outlinewidth": 0,
              "ticks": ""
             }
            },
            "type": "scattergl"
           }
          ],
          "scattermapbox": [
           {
            "marker": {
             "colorbar": {
              "outlinewidth": 0,
              "ticks": ""
             }
            },
            "type": "scattermapbox"
           }
          ],
          "scatterpolar": [
           {
            "marker": {
             "colorbar": {
              "outlinewidth": 0,
              "ticks": ""
             }
            },
            "type": "scatterpolar"
           }
          ],
          "scatterpolargl": [
           {
            "marker": {
             "colorbar": {
              "outlinewidth": 0,
              "ticks": ""
             }
            },
            "type": "scatterpolargl"
           }
          ],
          "scatterternary": [
           {
            "marker": {
             "colorbar": {
              "outlinewidth": 0,
              "ticks": ""
             }
            },
            "type": "scatterternary"
           }
          ],
          "surface": [
           {
            "colorbar": {
             "outlinewidth": 0,
             "ticks": ""
            },
            "colorscale": [
             [
              0,
              "#0d0887"
             ],
             [
              0.1111111111111111,
              "#46039f"
             ],
             [
              0.2222222222222222,
              "#7201a8"
             ],
             [
              0.3333333333333333,
              "#9c179e"
             ],
             [
              0.4444444444444444,
              "#bd3786"
             ],
             [
              0.5555555555555556,
              "#d8576b"
             ],
             [
              0.6666666666666666,
              "#ed7953"
             ],
             [
              0.7777777777777778,
              "#fb9f3a"
             ],
             [
              0.8888888888888888,
              "#fdca26"
             ],
             [
              1,
              "#f0f921"
             ]
            ],
            "type": "surface"
           }
          ],
          "table": [
           {
            "cells": {
             "fill": {
              "color": "#EBF0F8"
             },
             "line": {
              "color": "white"
             }
            },
            "header": {
             "fill": {
              "color": "#C8D4E3"
             },
             "line": {
              "color": "white"
             }
            },
            "type": "table"
           }
          ]
         },
         "layout": {
          "annotationdefaults": {
           "arrowcolor": "#2a3f5f",
           "arrowhead": 0,
           "arrowwidth": 1
          },
          "autotypenumbers": "strict",
          "coloraxis": {
           "colorbar": {
            "outlinewidth": 0,
            "ticks": ""
           }
          },
          "colorscale": {
           "diverging": [
            [
             0,
             "#8e0152"
            ],
            [
             0.1,
             "#c51b7d"
            ],
            [
             0.2,
             "#de77ae"
            ],
            [
             0.3,
             "#f1b6da"
            ],
            [
             0.4,
             "#fde0ef"
            ],
            [
             0.5,
             "#f7f7f7"
            ],
            [
             0.6,
             "#e6f5d0"
            ],
            [
             0.7,
             "#b8e186"
            ],
            [
             0.8,
             "#7fbc41"
            ],
            [
             0.9,
             "#4d9221"
            ],
            [
             1,
             "#276419"
            ]
           ],
           "sequential": [
            [
             0,
             "#0d0887"
            ],
            [
             0.1111111111111111,
             "#46039f"
            ],
            [
             0.2222222222222222,
             "#7201a8"
            ],
            [
             0.3333333333333333,
             "#9c179e"
            ],
            [
             0.4444444444444444,
             "#bd3786"
            ],
            [
             0.5555555555555556,
             "#d8576b"
            ],
            [
             0.6666666666666666,
             "#ed7953"
            ],
            [
             0.7777777777777778,
             "#fb9f3a"
            ],
            [
             0.8888888888888888,
             "#fdca26"
            ],
            [
             1,
             "#f0f921"
            ]
           ],
           "sequentialminus": [
            [
             0,
             "#0d0887"
            ],
            [
             0.1111111111111111,
             "#46039f"
            ],
            [
             0.2222222222222222,
             "#7201a8"
            ],
            [
             0.3333333333333333,
             "#9c179e"
            ],
            [
             0.4444444444444444,
             "#bd3786"
            ],
            [
             0.5555555555555556,
             "#d8576b"
            ],
            [
             0.6666666666666666,
             "#ed7953"
            ],
            [
             0.7777777777777778,
             "#fb9f3a"
            ],
            [
             0.8888888888888888,
             "#fdca26"
            ],
            [
             1,
             "#f0f921"
            ]
           ]
          },
          "colorway": [
           "#636efa",
           "#EF553B",
           "#00cc96",
           "#ab63fa",
           "#FFA15A",
           "#19d3f3",
           "#FF6692",
           "#B6E880",
           "#FF97FF",
           "#FECB52"
          ],
          "font": {
           "color": "#2a3f5f"
          },
          "geo": {
           "bgcolor": "white",
           "lakecolor": "white",
           "landcolor": "#E5ECF6",
           "showlakes": true,
           "showland": true,
           "subunitcolor": "white"
          },
          "hoverlabel": {
           "align": "left"
          },
          "hovermode": "closest",
          "mapbox": {
           "style": "light"
          },
          "paper_bgcolor": "white",
          "plot_bgcolor": "#E5ECF6",
          "polar": {
           "angularaxis": {
            "gridcolor": "white",
            "linecolor": "white",
            "ticks": ""
           },
           "bgcolor": "#E5ECF6",
           "radialaxis": {
            "gridcolor": "white",
            "linecolor": "white",
            "ticks": ""
           }
          },
          "scene": {
           "xaxis": {
            "backgroundcolor": "#E5ECF6",
            "gridcolor": "white",
            "gridwidth": 2,
            "linecolor": "white",
            "showbackground": true,
            "ticks": "",
            "zerolinecolor": "white"
           },
           "yaxis": {
            "backgroundcolor": "#E5ECF6",
            "gridcolor": "white",
            "gridwidth": 2,
            "linecolor": "white",
            "showbackground": true,
            "ticks": "",
            "zerolinecolor": "white"
           },
           "zaxis": {
            "backgroundcolor": "#E5ECF6",
            "gridcolor": "white",
            "gridwidth": 2,
            "linecolor": "white",
            "showbackground": true,
            "ticks": "",
            "zerolinecolor": "white"
           }
          },
          "shapedefaults": {
           "line": {
            "color": "#2a3f5f"
           }
          },
          "ternary": {
           "aaxis": {
            "gridcolor": "white",
            "linecolor": "white",
            "ticks": ""
           },
           "baxis": {
            "gridcolor": "white",
            "linecolor": "white",
            "ticks": ""
           },
           "bgcolor": "#E5ECF6",
           "caxis": {
            "gridcolor": "white",
            "linecolor": "white",
            "ticks": ""
           }
          },
          "title": {
           "x": 0.05
          },
          "xaxis": {
           "automargin": true,
           "gridcolor": "white",
           "linecolor": "white",
           "ticks": "",
           "title": {
            "standoff": 15
           },
           "zerolinecolor": "white",
           "zerolinewidth": 2
          },
          "yaxis": {
           "automargin": true,
           "gridcolor": "white",
           "linecolor": "white",
           "ticks": "",
           "title": {
            "standoff": 15
           },
           "zerolinecolor": "white",
           "zerolinewidth": 2
          }
         }
        }
       }
      },
      "text/html": [
       "<div>                            <div id=\"68ffe67d-3cb2-42ac-a491-c44146716d16\" class=\"plotly-graph-div\" style=\"height:525px; width:100%;\"></div>            <script type=\"text/javascript\">                require([\"plotly\"], function(Plotly) {                    window.PLOTLYENV=window.PLOTLYENV || {};                                    if (document.getElementById(\"68ffe67d-3cb2-42ac-a491-c44146716d16\")) {                    Plotly.newPlot(                        \"68ffe67d-3cb2-42ac-a491-c44146716d16\",                        [{\"branchvalues\": \"total\", \"domain\": {\"x\": [0.0, 1.0], \"y\": [0.0, 1.0]}, \"hovertemplate\": \"labels=%{label}<br>count=%{value}<br>parent=%{parent}<br>id=%{id}<extra></extra>\", \"ids\": [\"Local/Ambato\", \"Local/Cayambe\", \"Regional/Cotopaxi\", \"Local/Cuenca\", \"National/Ecuador\", \"Local/El Carmen\", \"Local/Esmeraldas\", \"Local/Guaranda\", \"Local/Guayaquil\", \"Local/Ibarra\", \"Regional/Imbabura\", \"Local/Latacunga\", \"Local/Libertad\", \"Local/Loja\", \"Local/Machala\", \"Local/Manta\", \"Local/Puyo\", \"Local/Quevedo\", \"Local/Quito\", \"Local/Riobamba\", \"Local/Salinas\", \"Regional/Santa Elena\", \"Local/Santo Domingo\", \"Regional/Santo Domingo de los Tsachilas\", \"Local\", \"National\", \"Regional\"], \"labels\": [\"Ambato\", \"Cayambe\", \"Cotopaxi\", \"Cuenca\", \"Ecuador\", \"El Carmen\", \"Esmeraldas\", \"Guaranda\", \"Guayaquil\", \"Ibarra\", \"Imbabura\", \"Latacunga\", \"Libertad\", \"Loja\", \"Machala\", \"Manta\", \"Puyo\", \"Quevedo\", \"Quito\", \"Riobamba\", \"Salinas\", \"Santa Elena\", \"Santo Domingo\", \"Santo Domingo de los Tsachilas\", \"Local\", \"National\", \"Regional\"], \"name\": \"\", \"parents\": [\"Local\", \"Local\", \"Regional\", \"Local\", \"National\", \"Local\", \"Local\", \"Local\", \"Local\", \"Local\", \"Regional\", \"Local\", \"Local\", \"Local\", \"Local\", \"Local\", \"Local\", \"Local\", \"Local\", \"Local\", \"Local\", \"Regional\", \"Local\", \"Regional\", \"\", \"\", \"\"], \"type\": \"treemap\", \"values\": [12, 6, 6, 7, 174, 6, 6, 12, 11, 7, 6, 12, 6, 6, 6, 6, 6, 6, 13, 12, 6, 6, 6, 6, 152, 174, 24]}],                        {\"legend\": {\"tracegroupgap\": 0}, \"margin\": {\"t\": 60}, \"template\": {\"data\": {\"bar\": [{\"error_x\": {\"color\": \"#2a3f5f\"}, \"error_y\": {\"color\": \"#2a3f5f\"}, \"marker\": {\"line\": {\"color\": \"#E5ECF6\", \"width\": 0.5}}, \"type\": \"bar\"}], \"barpolar\": [{\"marker\": {\"line\": {\"color\": \"#E5ECF6\", \"width\": 0.5}}, \"type\": \"barpolar\"}], \"carpet\": [{\"aaxis\": {\"endlinecolor\": \"#2a3f5f\", \"gridcolor\": \"white\", \"linecolor\": \"white\", \"minorgridcolor\": \"white\", \"startlinecolor\": \"#2a3f5f\"}, \"baxis\": {\"endlinecolor\": \"#2a3f5f\", \"gridcolor\": \"white\", \"linecolor\": \"white\", \"minorgridcolor\": \"white\", \"startlinecolor\": \"#2a3f5f\"}, \"type\": \"carpet\"}], \"choropleth\": [{\"colorbar\": {\"outlinewidth\": 0, \"ticks\": \"\"}, \"type\": \"choropleth\"}], \"contour\": [{\"colorbar\": {\"outlinewidth\": 0, \"ticks\": \"\"}, \"colorscale\": [[0.0, \"#0d0887\"], [0.1111111111111111, \"#46039f\"], [0.2222222222222222, \"#7201a8\"], [0.3333333333333333, \"#9c179e\"], [0.4444444444444444, \"#bd3786\"], [0.5555555555555556, \"#d8576b\"], [0.6666666666666666, \"#ed7953\"], [0.7777777777777778, \"#fb9f3a\"], [0.8888888888888888, \"#fdca26\"], [1.0, \"#f0f921\"]], \"type\": \"contour\"}], \"contourcarpet\": [{\"colorbar\": {\"outlinewidth\": 0, \"ticks\": \"\"}, \"type\": \"contourcarpet\"}], \"heatmap\": [{\"colorbar\": {\"outlinewidth\": 0, \"ticks\": \"\"}, \"colorscale\": [[0.0, \"#0d0887\"], [0.1111111111111111, \"#46039f\"], [0.2222222222222222, \"#7201a8\"], [0.3333333333333333, \"#9c179e\"], [0.4444444444444444, \"#bd3786\"], [0.5555555555555556, \"#d8576b\"], [0.6666666666666666, \"#ed7953\"], [0.7777777777777778, \"#fb9f3a\"], [0.8888888888888888, \"#fdca26\"], [1.0, \"#f0f921\"]], \"type\": \"heatmap\"}], \"heatmapgl\": [{\"colorbar\": {\"outlinewidth\": 0, \"ticks\": \"\"}, \"colorscale\": [[0.0, \"#0d0887\"], [0.1111111111111111, \"#46039f\"], [0.2222222222222222, \"#7201a8\"], [0.3333333333333333, \"#9c179e\"], [0.4444444444444444, \"#bd3786\"], [0.5555555555555556, \"#d8576b\"], [0.6666666666666666, \"#ed7953\"], [0.7777777777777778, \"#fb9f3a\"], [0.8888888888888888, \"#fdca26\"], [1.0, \"#f0f921\"]], \"type\": \"heatmapgl\"}], \"histogram\": [{\"marker\": {\"colorbar\": {\"outlinewidth\": 0, \"ticks\": \"\"}}, \"type\": \"histogram\"}], \"histogram2d\": [{\"colorbar\": {\"outlinewidth\": 0, \"ticks\": \"\"}, \"colorscale\": [[0.0, \"#0d0887\"], [0.1111111111111111, \"#46039f\"], [0.2222222222222222, \"#7201a8\"], [0.3333333333333333, \"#9c179e\"], [0.4444444444444444, \"#bd3786\"], [0.5555555555555556, \"#d8576b\"], [0.6666666666666666, \"#ed7953\"], [0.7777777777777778, \"#fb9f3a\"], [0.8888888888888888, \"#fdca26\"], [1.0, \"#f0f921\"]], \"type\": \"histogram2d\"}], \"histogram2dcontour\": [{\"colorbar\": {\"outlinewidth\": 0, \"ticks\": \"\"}, \"colorscale\": [[0.0, \"#0d0887\"], [0.1111111111111111, \"#46039f\"], [0.2222222222222222, \"#7201a8\"], [0.3333333333333333, \"#9c179e\"], [0.4444444444444444, \"#bd3786\"], [0.5555555555555556, \"#d8576b\"], [0.6666666666666666, \"#ed7953\"], [0.7777777777777778, \"#fb9f3a\"], [0.8888888888888888, \"#fdca26\"], [1.0, \"#f0f921\"]], \"type\": \"histogram2dcontour\"}], \"mesh3d\": [{\"colorbar\": {\"outlinewidth\": 0, \"ticks\": \"\"}, \"type\": \"mesh3d\"}], \"parcoords\": [{\"line\": {\"colorbar\": {\"outlinewidth\": 0, \"ticks\": \"\"}}, \"type\": \"parcoords\"}], \"pie\": [{\"automargin\": true, \"type\": \"pie\"}], \"scatter\": [{\"marker\": {\"colorbar\": {\"outlinewidth\": 0, \"ticks\": \"\"}}, \"type\": \"scatter\"}], \"scatter3d\": [{\"line\": {\"colorbar\": {\"outlinewidth\": 0, \"ticks\": \"\"}}, \"marker\": {\"colorbar\": {\"outlinewidth\": 0, \"ticks\": \"\"}}, \"type\": \"scatter3d\"}], \"scattercarpet\": [{\"marker\": {\"colorbar\": {\"outlinewidth\": 0, \"ticks\": \"\"}}, \"type\": \"scattercarpet\"}], \"scattergeo\": [{\"marker\": {\"colorbar\": {\"outlinewidth\": 0, \"ticks\": \"\"}}, \"type\": \"scattergeo\"}], \"scattergl\": [{\"marker\": {\"colorbar\": {\"outlinewidth\": 0, \"ticks\": \"\"}}, \"type\": \"scattergl\"}], \"scattermapbox\": [{\"marker\": {\"colorbar\": {\"outlinewidth\": 0, \"ticks\": \"\"}}, \"type\": \"scattermapbox\"}], \"scatterpolar\": [{\"marker\": {\"colorbar\": {\"outlinewidth\": 0, \"ticks\": \"\"}}, \"type\": \"scatterpolar\"}], \"scatterpolargl\": [{\"marker\": {\"colorbar\": {\"outlinewidth\": 0, \"ticks\": \"\"}}, \"type\": \"scatterpolargl\"}], \"scatterternary\": [{\"marker\": {\"colorbar\": {\"outlinewidth\": 0, \"ticks\": \"\"}}, \"type\": \"scatterternary\"}], \"surface\": [{\"colorbar\": {\"outlinewidth\": 0, \"ticks\": \"\"}, \"colorscale\": [[0.0, \"#0d0887\"], [0.1111111111111111, \"#46039f\"], [0.2222222222222222, \"#7201a8\"], [0.3333333333333333, \"#9c179e\"], [0.4444444444444444, \"#bd3786\"], [0.5555555555555556, \"#d8576b\"], [0.6666666666666666, \"#ed7953\"], [0.7777777777777778, \"#fb9f3a\"], [0.8888888888888888, \"#fdca26\"], [1.0, \"#f0f921\"]], \"type\": \"surface\"}], \"table\": [{\"cells\": {\"fill\": {\"color\": \"#EBF0F8\"}, \"line\": {\"color\": \"white\"}}, \"header\": {\"fill\": {\"color\": \"#C8D4E3\"}, \"line\": {\"color\": \"white\"}}, \"type\": \"table\"}]}, \"layout\": {\"annotationdefaults\": {\"arrowcolor\": \"#2a3f5f\", \"arrowhead\": 0, \"arrowwidth\": 1}, \"autotypenumbers\": \"strict\", \"coloraxis\": {\"colorbar\": {\"outlinewidth\": 0, \"ticks\": \"\"}}, \"colorscale\": {\"diverging\": [[0, \"#8e0152\"], [0.1, \"#c51b7d\"], [0.2, \"#de77ae\"], [0.3, \"#f1b6da\"], [0.4, \"#fde0ef\"], [0.5, \"#f7f7f7\"], [0.6, \"#e6f5d0\"], [0.7, \"#b8e186\"], [0.8, \"#7fbc41\"], [0.9, \"#4d9221\"], [1, \"#276419\"]], \"sequential\": [[0.0, \"#0d0887\"], [0.1111111111111111, \"#46039f\"], [0.2222222222222222, \"#7201a8\"], [0.3333333333333333, \"#9c179e\"], [0.4444444444444444, \"#bd3786\"], [0.5555555555555556, \"#d8576b\"], [0.6666666666666666, \"#ed7953\"], [0.7777777777777778, \"#fb9f3a\"], [0.8888888888888888, \"#fdca26\"], [1.0, \"#f0f921\"]], \"sequentialminus\": [[0.0, \"#0d0887\"], [0.1111111111111111, \"#46039f\"], [0.2222222222222222, \"#7201a8\"], [0.3333333333333333, \"#9c179e\"], [0.4444444444444444, \"#bd3786\"], [0.5555555555555556, \"#d8576b\"], [0.6666666666666666, \"#ed7953\"], [0.7777777777777778, \"#fb9f3a\"], [0.8888888888888888, \"#fdca26\"], [1.0, \"#f0f921\"]]}, \"colorway\": [\"#636efa\", \"#EF553B\", \"#00cc96\", \"#ab63fa\", \"#FFA15A\", \"#19d3f3\", \"#FF6692\", \"#B6E880\", \"#FF97FF\", \"#FECB52\"], \"font\": {\"color\": \"#2a3f5f\"}, \"geo\": {\"bgcolor\": \"white\", \"lakecolor\": \"white\", \"landcolor\": \"#E5ECF6\", \"showlakes\": true, \"showland\": true, \"subunitcolor\": \"white\"}, \"hoverlabel\": {\"align\": \"left\"}, \"hovermode\": \"closest\", \"mapbox\": {\"style\": \"light\"}, \"paper_bgcolor\": \"white\", \"plot_bgcolor\": \"#E5ECF6\", \"polar\": {\"angularaxis\": {\"gridcolor\": \"white\", \"linecolor\": \"white\", \"ticks\": \"\"}, \"bgcolor\": \"#E5ECF6\", \"radialaxis\": {\"gridcolor\": \"white\", \"linecolor\": \"white\", \"ticks\": \"\"}}, \"scene\": {\"xaxis\": {\"backgroundcolor\": \"#E5ECF6\", \"gridcolor\": \"white\", \"gridwidth\": 2, \"linecolor\": \"white\", \"showbackground\": true, \"ticks\": \"\", \"zerolinecolor\": \"white\"}, \"yaxis\": {\"backgroundcolor\": \"#E5ECF6\", \"gridcolor\": \"white\", \"gridwidth\": 2, \"linecolor\": \"white\", \"showbackground\": true, \"ticks\": \"\", \"zerolinecolor\": \"white\"}, \"zaxis\": {\"backgroundcolor\": \"#E5ECF6\", \"gridcolor\": \"white\", \"gridwidth\": 2, \"linecolor\": \"white\", \"showbackground\": true, \"ticks\": \"\", \"zerolinecolor\": \"white\"}}, \"shapedefaults\": {\"line\": {\"color\": \"#2a3f5f\"}}, \"ternary\": {\"aaxis\": {\"gridcolor\": \"white\", \"linecolor\": \"white\", \"ticks\": \"\"}, \"baxis\": {\"gridcolor\": \"white\", \"linecolor\": \"white\", \"ticks\": \"\"}, \"bgcolor\": \"#E5ECF6\", \"caxis\": {\"gridcolor\": \"white\", \"linecolor\": \"white\", \"ticks\": \"\"}}, \"title\": {\"x\": 0.05}, \"xaxis\": {\"automargin\": true, \"gridcolor\": \"white\", \"linecolor\": \"white\", \"ticks\": \"\", \"title\": {\"standoff\": 15}, \"zerolinecolor\": \"white\", \"zerolinewidth\": 2}, \"yaxis\": {\"automargin\": true, \"gridcolor\": \"white\", \"linecolor\": \"white\", \"ticks\": \"\", \"title\": {\"standoff\": 15}, \"zerolinecolor\": \"white\", \"zerolinewidth\": 2}}}},                        {\"responsive\": true}                    ).then(function(){\n",
       "                            \n",
       "var gd = document.getElementById('68ffe67d-3cb2-42ac-a491-c44146716d16');\n",
       "var x = new MutationObserver(function (mutations, observer) {{\n",
       "        var display = window.getComputedStyle(gd).display;\n",
       "        if (!display || display === 'none') {{\n",
       "            console.log([gd, 'removed!']);\n",
       "            Plotly.purge(gd);\n",
       "            observer.disconnect();\n",
       "        }}\n",
       "}});\n",
       "\n",
       "// Listen for the removal of the full notebook cells\n",
       "var notebookContainer = gd.closest('#notebook-container');\n",
       "if (notebookContainer) {{\n",
       "    x.observe(notebookContainer, {childList: true});\n",
       "}}\n",
       "\n",
       "// Listen for the clearing of the current output cell\n",
       "var outputEl = gd.closest('.output');\n",
       "if (outputEl) {{\n",
       "    x.observe(outputEl, {childList: true});\n",
       "}}\n",
       "\n",
       "                        })                };                });            </script>        </div>"
      ]
     },
     "metadata": {},
     "output_type": "display_data"
    }
   ],
   "source": [
    "fig = px.treemap(holidays, path=['locale', 'locale_name'])\n",
    "fig.show()"
   ]
  },
  {
   "cell_type": "markdown",
   "id": "premier-clothing",
   "metadata": {},
   "source": [
    "### Visualization showing whether holiday is tranferred or not."
   ]
  },
  {
   "cell_type": "code",
   "execution_count": 585,
   "id": "failing-circle",
   "metadata": {
    "scrolled": true
   },
   "outputs": [
    {
     "data": {
      "text/plain": [
       "Text(0, 0.5, 'Count')"
      ]
     },
     "execution_count": 585,
     "metadata": {},
     "output_type": "execute_result"
    },
    {
     "data": {
      "image/png": "[encoded data removed]",
      "text/plain": [
       "<Figure size 1440x720 with 1 Axes>"
      ]
     },
     "metadata": {
      "needs_background": "light"
     },
     "output_type": "display_data"
    }
   ],
   "source": [
    "fig, ax = plt.subplots(figsize=(20,10))\n",
    "sns.countplot(x='transferred',data=holidays,ax=ax)\n",
    "plt.setp(ax.xaxis.get_majorticklabels(), fontsize=25)\n",
    "plt.yticks(fontsize=20)\n",
    "plt.xlabel('Transferred holidays',fontsize=30)\n",
    "plt.ylabel('Count',fontsize=30)"
   ]
  },
  {
   "cell_type": "markdown",
   "id": "sharing-north",
   "metadata": {},
   "source": [
    "As expected, majority of the holidays are not transferred and are celebrated on the same date the holiday actually falls on."
   ]
  },
  {
   "cell_type": "code",
   "execution_count": 589,
   "id": "opposite-india",
   "metadata": {},
   "outputs": [
    {
     "data": {
      "text/html": [
       "<div>\n",
       "<style scoped>\n",
       "    .dataframe tbody tr th:only-of-type {\n",
       "        vertical-align: middle;\n",
       "    }\n",
       "\n",
       "    .dataframe tbody tr th {\n",
       "        vertical-align: top;\n",
       "    }\n",
       "\n",
       "    .dataframe thead th {\n",
       "        text-align: right;\n",
       "    }\n",
       "</style>\n",
       "<table border=\"1\" class=\"dataframe\">\n",
       "  <thead>\n",
       "    <tr style=\"text-align: right;\">\n",
       "      <th></th>\n",
       "      <th>date</th>\n",
       "      <th>type</th>\n",
       "      <th>locale</th>\n",
       "      <th>locale_name</th>\n",
       "      <th>description</th>\n",
       "      <th>transferred</th>\n",
       "    </tr>\n",
       "  </thead>\n",
       "  <tbody>\n",
       "    <tr>\n",
       "      <th>19</th>\n",
       "      <td>2012-10-09</td>\n",
       "      <td>Holiday</td>\n",
       "      <td>National</td>\n",
       "      <td>Ecuador</td>\n",
       "      <td>Independencia de Guayaquil</td>\n",
       "      <td>True</td>\n",
       "    </tr>\n",
       "    <tr>\n",
       "      <th>72</th>\n",
       "      <td>2013-10-09</td>\n",
       "      <td>Holiday</td>\n",
       "      <td>National</td>\n",
       "      <td>Ecuador</td>\n",
       "      <td>Independencia de Guayaquil</td>\n",
       "      <td>True</td>\n",
       "    </tr>\n",
       "    <tr>\n",
       "      <th>135</th>\n",
       "      <td>2014-10-09</td>\n",
       "      <td>Holiday</td>\n",
       "      <td>National</td>\n",
       "      <td>Ecuador</td>\n",
       "      <td>Independencia de Guayaquil</td>\n",
       "      <td>True</td>\n",
       "    </tr>\n",
       "    <tr>\n",
       "      <th>255</th>\n",
       "      <td>2016-05-24</td>\n",
       "      <td>Holiday</td>\n",
       "      <td>National</td>\n",
       "      <td>Ecuador</td>\n",
       "      <td>Batalla de Pichincha</td>\n",
       "      <td>True</td>\n",
       "    </tr>\n",
       "    <tr>\n",
       "      <th>266</th>\n",
       "      <td>2016-07-25</td>\n",
       "      <td>Holiday</td>\n",
       "      <td>Local</td>\n",
       "      <td>Guayaquil</td>\n",
       "      <td>Fundacion de Guayaquil</td>\n",
       "      <td>True</td>\n",
       "    </tr>\n",
       "    <tr>\n",
       "      <th>268</th>\n",
       "      <td>2016-08-10</td>\n",
       "      <td>Holiday</td>\n",
       "      <td>National</td>\n",
       "      <td>Ecuador</td>\n",
       "      <td>Primer Grito de Independencia</td>\n",
       "      <td>True</td>\n",
       "    </tr>\n",
       "    <tr>\n",
       "      <th>297</th>\n",
       "      <td>2017-01-01</td>\n",
       "      <td>Holiday</td>\n",
       "      <td>National</td>\n",
       "      <td>Ecuador</td>\n",
       "      <td>Primer dia del ano</td>\n",
       "      <td>True</td>\n",
       "    </tr>\n",
       "    <tr>\n",
       "      <th>303</th>\n",
       "      <td>2017-04-12</td>\n",
       "      <td>Holiday</td>\n",
       "      <td>Local</td>\n",
       "      <td>Cuenca</td>\n",
       "      <td>Fundacion de Cuenca</td>\n",
       "      <td>True</td>\n",
       "    </tr>\n",
       "    <tr>\n",
       "      <th>312</th>\n",
       "      <td>2017-05-24</td>\n",
       "      <td>Holiday</td>\n",
       "      <td>National</td>\n",
       "      <td>Ecuador</td>\n",
       "      <td>Batalla de Pichincha</td>\n",
       "      <td>True</td>\n",
       "    </tr>\n",
       "    <tr>\n",
       "      <th>324</th>\n",
       "      <td>2017-08-10</td>\n",
       "      <td>Holiday</td>\n",
       "      <td>National</td>\n",
       "      <td>Ecuador</td>\n",
       "      <td>Primer Grito de Independencia</td>\n",
       "      <td>True</td>\n",
       "    </tr>\n",
       "    <tr>\n",
       "      <th>328</th>\n",
       "      <td>2017-09-28</td>\n",
       "      <td>Holiday</td>\n",
       "      <td>Local</td>\n",
       "      <td>Ibarra</td>\n",
       "      <td>Fundacion de Ibarra</td>\n",
       "      <td>True</td>\n",
       "    </tr>\n",
       "    <tr>\n",
       "      <th>340</th>\n",
       "      <td>2017-12-06</td>\n",
       "      <td>Holiday</td>\n",
       "      <td>Local</td>\n",
       "      <td>Quito</td>\n",
       "      <td>Fundacion de Quito</td>\n",
       "      <td>True</td>\n",
       "    </tr>\n",
       "  </tbody>\n",
       "</table>\n",
       "</div>"
      ],
      "text/plain": [
       "           date     type    locale locale_name                    description  \\\n",
       "19   2012-10-09  Holiday  National     Ecuador     Independencia de Guayaquil   \n",
       "72   2013-10-09  Holiday  National     Ecuador     Independencia de Guayaquil   \n",
       "135  2014-10-09  Holiday  National     Ecuador     Independencia de Guayaquil   \n",
       "255  2016-05-24  Holiday  National     Ecuador           Batalla de Pichincha   \n",
       "266  2016-07-25  Holiday     Local   Guayaquil         Fundacion de Guayaquil   \n",
       "268  2016-08-10  Holiday  National     Ecuador  Primer Grito de Independencia   \n",
       "297  2017-01-01  Holiday  National     Ecuador             Primer dia del ano   \n",
       "303  2017-04-12  Holiday     Local      Cuenca            Fundacion de Cuenca   \n",
       "312  2017-05-24  Holiday  National     Ecuador           Batalla de Pichincha   \n",
       "324  2017-08-10  Holiday  National     Ecuador  Primer Grito de Independencia   \n",
       "328  2017-09-28  Holiday     Local      Ibarra            Fundacion de Ibarra   \n",
       "340  2017-12-06  Holiday     Local       Quito             Fundacion de Quito   \n",
       "\n",
       "     transferred  \n",
       "19          True  \n",
       "72          True  \n",
       "135         True  \n",
       "255         True  \n",
       "266         True  \n",
       "268         True  \n",
       "297         True  \n",
       "303         True  \n",
       "312         True  \n",
       "324         True  \n",
       "328         True  \n",
       "340         True  "
      ]
     },
     "execution_count": 589,
     "metadata": {},
     "output_type": "execute_result"
    }
   ],
   "source": [
    "holidays[holidays['transferred']==True]"
   ]
  },
  {
   "cell_type": "code",
   "execution_count": 597,
   "id": "noted-trainer",
   "metadata": {},
   "outputs": [
    {
     "data": {
      "text/plain": [
       "type        transferred\n",
       "Additional  False           51\n",
       "Bridge      False            5\n",
       "Event       False           56\n",
       "Holiday     False          209\n",
       "            True            12\n",
       "Transfer    False           12\n",
       "Work Day    False            5\n",
       "Name: date, dtype: int64"
      ]
     },
     "execution_count": 597,
     "metadata": {},
     "output_type": "execute_result"
    }
   ],
   "source": [
    "holidays.groupby(['type','transferred']).count()['date']"
   ]
  },
  {
   "cell_type": "markdown",
   "id": "ancient-integrity",
   "metadata": {},
   "source": [
    "`transferred` = True indicates that the holiday was transferred to another day. So the dates where `transferred` = TRUE are actually working days. `type`= Transfer and `transferred` = False indicates that the date is a non-working day to which the holiday was transferred."
   ]
  },
  {
   "cell_type": "markdown",
   "id": "metallic-characteristic",
   "metadata": {},
   "source": [
    "### Convert `date` from string type to datetime"
   ]
  },
  {
   "cell_type": "code",
   "execution_count": 598,
   "id": "organic-cookbook",
   "metadata": {},
   "outputs": [],
   "source": [
    "holidays_cleaned = holidays"
   ]
  },
  {
   "cell_type": "code",
   "execution_count": 599,
   "id": "mental-obligation",
   "metadata": {},
   "outputs": [],
   "source": [
    "holidays_cleaned['date'] = pd.to_datetime(holidays_cleaned['date'], format='%Y-%m-%d')"
   ]
  },
  {
   "cell_type": "markdown",
   "id": "fleet-african",
   "metadata": {},
   "source": [
    "#### Number of holidays in each year"
   ]
  },
  {
   "cell_type": "code",
   "execution_count": 617,
   "id": "speaking-rover",
   "metadata": {
    "scrolled": true
   },
   "outputs": [
    {
     "data": {
      "text/plain": [
       "2016    86\n",
       "2014    67\n",
       "2017    53\n",
       "2015    52\n",
       "2013    51\n",
       "2012    41\n",
       "Name: date, dtype: int64"
      ]
     },
     "execution_count": 617,
     "metadata": {},
     "output_type": "execute_result"
    }
   ],
   "source": [
    "year = pd.DatetimeIndex(holidays_cleaned['date']).year\n",
    "year.value_counts()"
   ]
  },
  {
   "cell_type": "markdown",
   "id": "unnecessary-tradition",
   "metadata": {},
   "source": [
    "#### Visualization of number of holidays in each year"
   ]
  },
  {
   "cell_type": "code",
   "execution_count": 618,
   "id": "north-forge",
   "metadata": {},
   "outputs": [
    {
     "data": {
      "text/plain": [
       "Text(0, 0.5, 'Number of holidays')"
      ]
     },
     "execution_count": 618,
     "metadata": {},
     "output_type": "execute_result"
    },
    {
     "data": {
      "image/png": "[encoded data removed]",
      "text/plain": [
       "<Figure size 1440x720 with 1 Axes>"
      ]
     },
     "metadata": {
      "needs_background": "light"
     },
     "output_type": "display_data"
    }
   ],
   "source": [
    "fig, ax = plt.subplots(figsize=(20,10))\n",
    "sns.countplot(x=year,order=year.value_counts().index,ax=ax)\n",
    "plt.setp(ax.xaxis.get_majorticklabels(), fontsize=25)\n",
    "plt.yticks(fontsize=20)\n",
    "plt.xlabel('Year',fontsize=30)\n",
    "plt.ylabel('Number of holidays',fontsize=30)"
   ]
  },
  {
   "cell_type": "markdown",
   "id": "loaded-cheat",
   "metadata": {},
   "source": [
    "We see that the years 2016 and 2014 have the largest number of holidays and events. So let's take a closer look at these years:"
   ]
  },
  {
   "cell_type": "code",
   "execution_count": 634,
   "id": "nuclear-chile",
   "metadata": {
    "scrolled": true
   },
   "outputs": [
    {
     "data": {
      "text/plain": [
       "array(['Primer dia del ano', 'Fundacion de Manta', 'Carnaval',\n",
       "       'Provincializacion de Cotopaxi', 'Fundacion de Cuenca',\n",
       "       'Cantonizacion de Libertad', 'Viernes Santo',\n",
       "       'Cantonizacion de Riobamba', 'Dia del Trabajo',\n",
       "       'Dia de la Madre-1', 'Dia de la Madre', 'Cantonizacion del Puyo',\n",
       "       'Batalla de Pichincha', 'Inauguracion Mundial de futbol Brasil',\n",
       "       'Mundial de futbol Brasil: Ecuador-Suiza',\n",
       "       'Mundial de futbol Brasil: Ecuador-Honduras',\n",
       "       'Cantonizacion de Guaranda', 'Cantonizacion de Latacunga',\n",
       "       'Fundacion de Machala', 'Provincializacion de Imbabura',\n",
       "       'Mundial de futbol Brasil: Ecuador-Francia',\n",
       "       'Mundial de futbol Brasil: Octavos de Final',\n",
       "       'Cantonizacion de El Carmen', 'Fundacion de Santo Domingo',\n",
       "       'Mundial de futbol Brasil: Cuartos de Final',\n",
       "       'Mundial de futbol Brasil: Semifinales',\n",
       "       'Mundial de futbol Brasil: Tercer y cuarto lugar',\n",
       "       'Mundial de futbol Brasil: Final', 'Cantonizacion de Cayambe',\n",
       "       'Fundacion de Guayaquil-1', 'Fundacion de Guayaquil',\n",
       "       'Fundacion de Esmeraldas', 'Primer Grito de Independencia',\n",
       "       'Fundacion de Riobamba', 'Fundacion de Ambato',\n",
       "       'Fundacion de Ibarra', 'Cantonizacion de Quevedo',\n",
       "       'Independencia de Guayaquil',\n",
       "       'Traslado Independencia de Guayaquil', 'Dia de Difuntos',\n",
       "       'Independencia de Cuenca', 'Provincializacion de Santo Domingo',\n",
       "       'Provincializacion Santa Elena', 'Independencia de Guaranda',\n",
       "       'Independencia de Latacunga', 'Independencia de Ambato',\n",
       "       'Black Friday', 'Cyber Monday', 'Fundacion de Quito-1',\n",
       "       'Fundacion de Quito', 'Fundacion de Loja',\n",
       "       'Recupero Puente Navidad', 'Navidad-4', 'Cantonizacion de Salinas',\n",
       "       'Navidad-3', 'Navidad-2', 'Navidad-1', 'Navidad', 'Puente Navidad',\n",
       "       'Navidad+1', 'Primer dia del ano-1'], dtype=object)"
      ]
     },
     "execution_count": 634,
     "metadata": {},
     "output_type": "execute_result"
    }
   ],
   "source": [
    "holiday_2014_2016 =holidays_cleaned[year==2014]\n",
    "holiday_2014_2016['description'].unique()"
   ]
  },
  {
   "cell_type": "code",
   "execution_count": 637,
   "id": "likely-yukon",
   "metadata": {},
   "outputs": [
    {
     "data": {
      "text/html": [
       "<div>\n",
       "<style scoped>\n",
       "    .dataframe tbody tr th:only-of-type {\n",
       "        vertical-align: middle;\n",
       "    }\n",
       "\n",
       "    .dataframe tbody tr th {\n",
       "        vertical-align: top;\n",
       "    }\n",
       "\n",
       "    .dataframe thead th {\n",
       "        text-align: right;\n",
       "    }\n",
       "</style>\n",
       "<table border=\"1\" class=\"dataframe\">\n",
       "  <thead>\n",
       "    <tr style=\"text-align: right;\">\n",
       "      <th></th>\n",
       "      <th>date</th>\n",
       "      <th>type</th>\n",
       "      <th>locale</th>\n",
       "      <th>locale_name</th>\n",
       "      <th>description</th>\n",
       "      <th>transferred</th>\n",
       "    </tr>\n",
       "  </thead>\n",
       "  <tbody>\n",
       "    <tr>\n",
       "      <th>106</th>\n",
       "      <td>2014-06-12</td>\n",
       "      <td>Event</td>\n",
       "      <td>National</td>\n",
       "      <td>Ecuador</td>\n",
       "      <td>Inauguracion Mundial de futbol Brasil</td>\n",
       "      <td>False</td>\n",
       "    </tr>\n",
       "    <tr>\n",
       "      <th>107</th>\n",
       "      <td>2014-06-15</td>\n",
       "      <td>Event</td>\n",
       "      <td>National</td>\n",
       "      <td>Ecuador</td>\n",
       "      <td>Mundial de futbol Brasil: Ecuador-Suiza</td>\n",
       "      <td>False</td>\n",
       "    </tr>\n",
       "    <tr>\n",
       "      <th>108</th>\n",
       "      <td>2014-06-20</td>\n",
       "      <td>Event</td>\n",
       "      <td>National</td>\n",
       "      <td>Ecuador</td>\n",
       "      <td>Mundial de futbol Brasil: Ecuador-Honduras</td>\n",
       "      <td>False</td>\n",
       "    </tr>\n",
       "    <tr>\n",
       "      <th>113</th>\n",
       "      <td>2014-06-25</td>\n",
       "      <td>Event</td>\n",
       "      <td>National</td>\n",
       "      <td>Ecuador</td>\n",
       "      <td>Mundial de futbol Brasil: Ecuador-Francia</td>\n",
       "      <td>False</td>\n",
       "    </tr>\n",
       "    <tr>\n",
       "      <th>114</th>\n",
       "      <td>2014-06-28</td>\n",
       "      <td>Event</td>\n",
       "      <td>National</td>\n",
       "      <td>Ecuador</td>\n",
       "      <td>Mundial de futbol Brasil: Octavos de Final</td>\n",
       "      <td>False</td>\n",
       "    </tr>\n",
       "    <tr>\n",
       "      <th>115</th>\n",
       "      <td>2014-06-29</td>\n",
       "      <td>Event</td>\n",
       "      <td>National</td>\n",
       "      <td>Ecuador</td>\n",
       "      <td>Mundial de futbol Brasil: Octavos de Final</td>\n",
       "      <td>False</td>\n",
       "    </tr>\n",
       "    <tr>\n",
       "      <th>116</th>\n",
       "      <td>2014-06-30</td>\n",
       "      <td>Event</td>\n",
       "      <td>National</td>\n",
       "      <td>Ecuador</td>\n",
       "      <td>Mundial de futbol Brasil: Octavos de Final</td>\n",
       "      <td>False</td>\n",
       "    </tr>\n",
       "    <tr>\n",
       "      <th>117</th>\n",
       "      <td>2014-07-01</td>\n",
       "      <td>Event</td>\n",
       "      <td>National</td>\n",
       "      <td>Ecuador</td>\n",
       "      <td>Mundial de futbol Brasil: Octavos de Final</td>\n",
       "      <td>False</td>\n",
       "    </tr>\n",
       "    <tr>\n",
       "      <th>120</th>\n",
       "      <td>2014-07-04</td>\n",
       "      <td>Event</td>\n",
       "      <td>National</td>\n",
       "      <td>Ecuador</td>\n",
       "      <td>Mundial de futbol Brasil: Cuartos de Final</td>\n",
       "      <td>False</td>\n",
       "    </tr>\n",
       "    <tr>\n",
       "      <th>121</th>\n",
       "      <td>2014-07-05</td>\n",
       "      <td>Event</td>\n",
       "      <td>National</td>\n",
       "      <td>Ecuador</td>\n",
       "      <td>Mundial de futbol Brasil: Cuartos de Final</td>\n",
       "      <td>False</td>\n",
       "    </tr>\n",
       "    <tr>\n",
       "      <th>122</th>\n",
       "      <td>2014-07-08</td>\n",
       "      <td>Event</td>\n",
       "      <td>National</td>\n",
       "      <td>Ecuador</td>\n",
       "      <td>Mundial de futbol Brasil: Semifinales</td>\n",
       "      <td>False</td>\n",
       "    </tr>\n",
       "    <tr>\n",
       "      <th>123</th>\n",
       "      <td>2014-07-09</td>\n",
       "      <td>Event</td>\n",
       "      <td>National</td>\n",
       "      <td>Ecuador</td>\n",
       "      <td>Mundial de futbol Brasil: Semifinales</td>\n",
       "      <td>False</td>\n",
       "    </tr>\n",
       "    <tr>\n",
       "      <th>124</th>\n",
       "      <td>2014-07-12</td>\n",
       "      <td>Event</td>\n",
       "      <td>National</td>\n",
       "      <td>Ecuador</td>\n",
       "      <td>Mundial de futbol Brasil: Tercer y cuarto lugar</td>\n",
       "      <td>False</td>\n",
       "    </tr>\n",
       "    <tr>\n",
       "      <th>125</th>\n",
       "      <td>2014-07-13</td>\n",
       "      <td>Event</td>\n",
       "      <td>National</td>\n",
       "      <td>Ecuador</td>\n",
       "      <td>Mundial de futbol Brasil: Final</td>\n",
       "      <td>False</td>\n",
       "    </tr>\n",
       "  </tbody>\n",
       "</table>\n",
       "</div>"
      ],
      "text/plain": [
       "          date   type    locale locale_name  \\\n",
       "106 2014-06-12  Event  National     Ecuador   \n",
       "107 2014-06-15  Event  National     Ecuador   \n",
       "108 2014-06-20  Event  National     Ecuador   \n",
       "113 2014-06-25  Event  National     Ecuador   \n",
       "114 2014-06-28  Event  National     Ecuador   \n",
       "115 2014-06-29  Event  National     Ecuador   \n",
       "116 2014-06-30  Event  National     Ecuador   \n",
       "117 2014-07-01  Event  National     Ecuador   \n",
       "120 2014-07-04  Event  National     Ecuador   \n",
       "121 2014-07-05  Event  National     Ecuador   \n",
       "122 2014-07-08  Event  National     Ecuador   \n",
       "123 2014-07-09  Event  National     Ecuador   \n",
       "124 2014-07-12  Event  National     Ecuador   \n",
       "125 2014-07-13  Event  National     Ecuador   \n",
       "\n",
       "                                         description  transferred  \n",
       "106            Inauguracion Mundial de futbol Brasil        False  \n",
       "107          Mundial de futbol Brasil: Ecuador-Suiza        False  \n",
       "108       Mundial de futbol Brasil: Ecuador-Honduras        False  \n",
       "113        Mundial de futbol Brasil: Ecuador-Francia        False  \n",
       "114       Mundial de futbol Brasil: Octavos de Final        False  \n",
       "115       Mundial de futbol Brasil: Octavos de Final        False  \n",
       "116       Mundial de futbol Brasil: Octavos de Final        False  \n",
       "117       Mundial de futbol Brasil: Octavos de Final        False  \n",
       "120       Mundial de futbol Brasil: Cuartos de Final        False  \n",
       "121       Mundial de futbol Brasil: Cuartos de Final        False  \n",
       "122            Mundial de futbol Brasil: Semifinales        False  \n",
       "123            Mundial de futbol Brasil: Semifinales        False  \n",
       "124  Mundial de futbol Brasil: Tercer y cuarto lugar        False  \n",
       "125                  Mundial de futbol Brasil: Final        False  "
      ]
     },
     "execution_count": 637,
     "metadata": {},
     "output_type": "execute_result"
    }
   ],
   "source": [
    "holiday_2014_2016[holiday_2014_2016['description'].str.contains('futbol')]"
   ]
  },
  {
   "cell_type": "markdown",
   "id": "restricted-animal",
   "metadata": {},
   "source": [
    "We see that in 2014, the football worldcup event happened which contributed to the increased spike in the number of events and holidays. "
   ]
  },
  {
   "cell_type": "code",
   "execution_count": 639,
   "id": "retained-leave",
   "metadata": {},
   "outputs": [
    {
     "data": {
      "text/plain": [
       "array(['Primer dia del ano', 'Carnaval', 'Fundacion de Manta',\n",
       "       'Viernes Santo', 'Provincializacion de Cotopaxi',\n",
       "       'Fundacion de Cuenca', 'Cantonizacion de Libertad',\n",
       "       'Terremoto Manabi', 'Terremoto Manabi+1', 'Terremoto Manabi+2',\n",
       "       'Terremoto Manabi+3', 'Terremoto Manabi+4',\n",
       "       'Cantonizacion de Riobamba', 'Terremoto Manabi+5',\n",
       "       'Terremoto Manabi+6', 'Terremoto Manabi+7', 'Terremoto Manabi+8',\n",
       "       'Terremoto Manabi+9', 'Terremoto Manabi+10', 'Terremoto Manabi+11',\n",
       "       'Terremoto Manabi+12', 'Terremoto Manabi+13',\n",
       "       'Terremoto Manabi+14', 'Dia del Trabajo', 'Terremoto Manabi+15',\n",
       "       'Terremoto Manabi+16', 'Terremoto Manabi+17',\n",
       "       'Terremoto Manabi+18', 'Terremoto Manabi+19',\n",
       "       'Terremoto Manabi+20', 'Dia de la Madre-1', 'Terremoto Manabi+21',\n",
       "       'Terremoto Manabi+22', 'Dia de la Madre', 'Terremoto Manabi+23',\n",
       "       'Terremoto Manabi+24', 'Terremoto Manabi+25',\n",
       "       'Cantonizacion del Puyo', 'Terremoto Manabi+26',\n",
       "       'Terremoto Manabi+27', 'Terremoto Manabi+28',\n",
       "       'Terremoto Manabi+29', 'Terremoto Manabi+30',\n",
       "       'Batalla de Pichincha', 'Traslado Batalla de Pichincha',\n",
       "       'Cantonizacion de Guaranda', 'Fundacion de Machala',\n",
       "       'Provincializacion de Imbabura', 'Cantonizacion de Latacunga',\n",
       "       'Cantonizacion de El Carmen', 'Fundacion de Santo Domingo',\n",
       "       'Cantonizacion de Cayambe', 'Fundacion de Guayaquil-1',\n",
       "       'Traslado Fundacion de Guayaquil', 'Fundacion de Guayaquil',\n",
       "       'Fundacion de Esmeraldas', 'Primer Grito de Independencia',\n",
       "       'Traslado Primer Grito de Independencia', 'Fundacion de Riobamba',\n",
       "       'Fundacion de Ambato', 'Fundacion de Ibarra',\n",
       "       'Cantonizacion de Quevedo', 'Independencia de Guayaquil',\n",
       "       'Dia de Difuntos', 'Independencia de Cuenca',\n",
       "       'Puente Dia de Difuntos', 'Provincializacion de Santo Domingo',\n",
       "       'Provincializacion Santa Elena', 'Independencia de Guaranda',\n",
       "       'Independencia de Latacunga', 'Independencia de Ambato',\n",
       "       'Recupero Puente Dia de Difuntos', 'Black Friday', 'Cyber Monday',\n",
       "       'Fundacion de Quito-1', 'Fundacion de Quito', 'Fundacion de Loja',\n",
       "       'Navidad-4', 'Navidad-3', 'Cantonizacion de Salinas', 'Navidad-2',\n",
       "       'Navidad-1', 'Navidad', 'Navidad+1', 'Primer dia del ano-1'],\n",
       "      dtype=object)"
      ]
     },
     "execution_count": 639,
     "metadata": {},
     "output_type": "execute_result"
    }
   ],
   "source": [
    "holiday_2014_2016 =holidays_cleaned[year==2016]\n",
    "holiday_2014_2016['description'].unique()"
   ]
  },
  {
   "cell_type": "code",
   "execution_count": 640,
   "id": "certified-details",
   "metadata": {},
   "outputs": [
    {
     "data": {
      "text/html": [
       "<div>\n",
       "<style scoped>\n",
       "    .dataframe tbody tr th:only-of-type {\n",
       "        vertical-align: middle;\n",
       "    }\n",
       "\n",
       "    .dataframe tbody tr th {\n",
       "        vertical-align: top;\n",
       "    }\n",
       "\n",
       "    .dataframe thead th {\n",
       "        text-align: right;\n",
       "    }\n",
       "</style>\n",
       "<table border=\"1\" class=\"dataframe\">\n",
       "  <thead>\n",
       "    <tr style=\"text-align: right;\">\n",
       "      <th></th>\n",
       "      <th>date</th>\n",
       "      <th>type</th>\n",
       "      <th>locale</th>\n",
       "      <th>locale_name</th>\n",
       "      <th>description</th>\n",
       "      <th>transferred</th>\n",
       "    </tr>\n",
       "  </thead>\n",
       "  <tbody>\n",
       "    <tr>\n",
       "      <th>219</th>\n",
       "      <td>2016-04-16</td>\n",
       "      <td>Event</td>\n",
       "      <td>National</td>\n",
       "      <td>Ecuador</td>\n",
       "      <td>Terremoto Manabi</td>\n",
       "      <td>False</td>\n",
       "    </tr>\n",
       "    <tr>\n",
       "      <th>220</th>\n",
       "      <td>2016-04-17</td>\n",
       "      <td>Event</td>\n",
       "      <td>National</td>\n",
       "      <td>Ecuador</td>\n",
       "      <td>Terremoto Manabi+1</td>\n",
       "      <td>False</td>\n",
       "    </tr>\n",
       "    <tr>\n",
       "      <th>221</th>\n",
       "      <td>2016-04-18</td>\n",
       "      <td>Event</td>\n",
       "      <td>National</td>\n",
       "      <td>Ecuador</td>\n",
       "      <td>Terremoto Manabi+2</td>\n",
       "      <td>False</td>\n",
       "    </tr>\n",
       "    <tr>\n",
       "      <th>222</th>\n",
       "      <td>2016-04-19</td>\n",
       "      <td>Event</td>\n",
       "      <td>National</td>\n",
       "      <td>Ecuador</td>\n",
       "      <td>Terremoto Manabi+3</td>\n",
       "      <td>False</td>\n",
       "    </tr>\n",
       "    <tr>\n",
       "      <th>223</th>\n",
       "      <td>2016-04-20</td>\n",
       "      <td>Event</td>\n",
       "      <td>National</td>\n",
       "      <td>Ecuador</td>\n",
       "      <td>Terremoto Manabi+4</td>\n",
       "      <td>False</td>\n",
       "    </tr>\n",
       "    <tr>\n",
       "      <th>225</th>\n",
       "      <td>2016-04-21</td>\n",
       "      <td>Event</td>\n",
       "      <td>National</td>\n",
       "      <td>Ecuador</td>\n",
       "      <td>Terremoto Manabi+5</td>\n",
       "      <td>False</td>\n",
       "    </tr>\n",
       "    <tr>\n",
       "      <th>226</th>\n",
       "      <td>2016-04-22</td>\n",
       "      <td>Event</td>\n",
       "      <td>National</td>\n",
       "      <td>Ecuador</td>\n",
       "      <td>Terremoto Manabi+6</td>\n",
       "      <td>False</td>\n",
       "    </tr>\n",
       "    <tr>\n",
       "      <th>227</th>\n",
       "      <td>2016-04-23</td>\n",
       "      <td>Event</td>\n",
       "      <td>National</td>\n",
       "      <td>Ecuador</td>\n",
       "      <td>Terremoto Manabi+7</td>\n",
       "      <td>False</td>\n",
       "    </tr>\n",
       "    <tr>\n",
       "      <th>228</th>\n",
       "      <td>2016-04-24</td>\n",
       "      <td>Event</td>\n",
       "      <td>National</td>\n",
       "      <td>Ecuador</td>\n",
       "      <td>Terremoto Manabi+8</td>\n",
       "      <td>False</td>\n",
       "    </tr>\n",
       "    <tr>\n",
       "      <th>229</th>\n",
       "      <td>2016-04-25</td>\n",
       "      <td>Event</td>\n",
       "      <td>National</td>\n",
       "      <td>Ecuador</td>\n",
       "      <td>Terremoto Manabi+9</td>\n",
       "      <td>False</td>\n",
       "    </tr>\n",
       "    <tr>\n",
       "      <th>230</th>\n",
       "      <td>2016-04-26</td>\n",
       "      <td>Event</td>\n",
       "      <td>National</td>\n",
       "      <td>Ecuador</td>\n",
       "      <td>Terremoto Manabi+10</td>\n",
       "      <td>False</td>\n",
       "    </tr>\n",
       "    <tr>\n",
       "      <th>231</th>\n",
       "      <td>2016-04-27</td>\n",
       "      <td>Event</td>\n",
       "      <td>National</td>\n",
       "      <td>Ecuador</td>\n",
       "      <td>Terremoto Manabi+11</td>\n",
       "      <td>False</td>\n",
       "    </tr>\n",
       "    <tr>\n",
       "      <th>232</th>\n",
       "      <td>2016-04-28</td>\n",
       "      <td>Event</td>\n",
       "      <td>National</td>\n",
       "      <td>Ecuador</td>\n",
       "      <td>Terremoto Manabi+12</td>\n",
       "      <td>False</td>\n",
       "    </tr>\n",
       "    <tr>\n",
       "      <th>233</th>\n",
       "      <td>2016-04-29</td>\n",
       "      <td>Event</td>\n",
       "      <td>National</td>\n",
       "      <td>Ecuador</td>\n",
       "      <td>Terremoto Manabi+13</td>\n",
       "      <td>False</td>\n",
       "    </tr>\n",
       "    <tr>\n",
       "      <th>234</th>\n",
       "      <td>2016-04-30</td>\n",
       "      <td>Event</td>\n",
       "      <td>National</td>\n",
       "      <td>Ecuador</td>\n",
       "      <td>Terremoto Manabi+14</td>\n",
       "      <td>False</td>\n",
       "    </tr>\n",
       "    <tr>\n",
       "      <th>236</th>\n",
       "      <td>2016-05-01</td>\n",
       "      <td>Event</td>\n",
       "      <td>National</td>\n",
       "      <td>Ecuador</td>\n",
       "      <td>Terremoto Manabi+15</td>\n",
       "      <td>False</td>\n",
       "    </tr>\n",
       "    <tr>\n",
       "      <th>237</th>\n",
       "      <td>2016-05-02</td>\n",
       "      <td>Event</td>\n",
       "      <td>National</td>\n",
       "      <td>Ecuador</td>\n",
       "      <td>Terremoto Manabi+16</td>\n",
       "      <td>False</td>\n",
       "    </tr>\n",
       "    <tr>\n",
       "      <th>238</th>\n",
       "      <td>2016-05-03</td>\n",
       "      <td>Event</td>\n",
       "      <td>National</td>\n",
       "      <td>Ecuador</td>\n",
       "      <td>Terremoto Manabi+17</td>\n",
       "      <td>False</td>\n",
       "    </tr>\n",
       "    <tr>\n",
       "      <th>239</th>\n",
       "      <td>2016-05-04</td>\n",
       "      <td>Event</td>\n",
       "      <td>National</td>\n",
       "      <td>Ecuador</td>\n",
       "      <td>Terremoto Manabi+18</td>\n",
       "      <td>False</td>\n",
       "    </tr>\n",
       "    <tr>\n",
       "      <th>240</th>\n",
       "      <td>2016-05-05</td>\n",
       "      <td>Event</td>\n",
       "      <td>National</td>\n",
       "      <td>Ecuador</td>\n",
       "      <td>Terremoto Manabi+19</td>\n",
       "      <td>False</td>\n",
       "    </tr>\n",
       "    <tr>\n",
       "      <th>241</th>\n",
       "      <td>2016-05-06</td>\n",
       "      <td>Event</td>\n",
       "      <td>National</td>\n",
       "      <td>Ecuador</td>\n",
       "      <td>Terremoto Manabi+20</td>\n",
       "      <td>False</td>\n",
       "    </tr>\n",
       "    <tr>\n",
       "      <th>243</th>\n",
       "      <td>2016-05-07</td>\n",
       "      <td>Event</td>\n",
       "      <td>National</td>\n",
       "      <td>Ecuador</td>\n",
       "      <td>Terremoto Manabi+21</td>\n",
       "      <td>False</td>\n",
       "    </tr>\n",
       "    <tr>\n",
       "      <th>244</th>\n",
       "      <td>2016-05-08</td>\n",
       "      <td>Event</td>\n",
       "      <td>National</td>\n",
       "      <td>Ecuador</td>\n",
       "      <td>Terremoto Manabi+22</td>\n",
       "      <td>False</td>\n",
       "    </tr>\n",
       "    <tr>\n",
       "      <th>246</th>\n",
       "      <td>2016-05-09</td>\n",
       "      <td>Event</td>\n",
       "      <td>National</td>\n",
       "      <td>Ecuador</td>\n",
       "      <td>Terremoto Manabi+23</td>\n",
       "      <td>False</td>\n",
       "    </tr>\n",
       "    <tr>\n",
       "      <th>247</th>\n",
       "      <td>2016-05-10</td>\n",
       "      <td>Event</td>\n",
       "      <td>National</td>\n",
       "      <td>Ecuador</td>\n",
       "      <td>Terremoto Manabi+24</td>\n",
       "      <td>False</td>\n",
       "    </tr>\n",
       "    <tr>\n",
       "      <th>248</th>\n",
       "      <td>2016-05-11</td>\n",
       "      <td>Event</td>\n",
       "      <td>National</td>\n",
       "      <td>Ecuador</td>\n",
       "      <td>Terremoto Manabi+25</td>\n",
       "      <td>False</td>\n",
       "    </tr>\n",
       "    <tr>\n",
       "      <th>250</th>\n",
       "      <td>2016-05-12</td>\n",
       "      <td>Event</td>\n",
       "      <td>National</td>\n",
       "      <td>Ecuador</td>\n",
       "      <td>Terremoto Manabi+26</td>\n",
       "      <td>False</td>\n",
       "    </tr>\n",
       "    <tr>\n",
       "      <th>251</th>\n",
       "      <td>2016-05-13</td>\n",
       "      <td>Event</td>\n",
       "      <td>National</td>\n",
       "      <td>Ecuador</td>\n",
       "      <td>Terremoto Manabi+27</td>\n",
       "      <td>False</td>\n",
       "    </tr>\n",
       "    <tr>\n",
       "      <th>252</th>\n",
       "      <td>2016-05-14</td>\n",
       "      <td>Event</td>\n",
       "      <td>National</td>\n",
       "      <td>Ecuador</td>\n",
       "      <td>Terremoto Manabi+28</td>\n",
       "      <td>False</td>\n",
       "    </tr>\n",
       "    <tr>\n",
       "      <th>253</th>\n",
       "      <td>2016-05-15</td>\n",
       "      <td>Event</td>\n",
       "      <td>National</td>\n",
       "      <td>Ecuador</td>\n",
       "      <td>Terremoto Manabi+29</td>\n",
       "      <td>False</td>\n",
       "    </tr>\n",
       "    <tr>\n",
       "      <th>254</th>\n",
       "      <td>2016-05-16</td>\n",
       "      <td>Event</td>\n",
       "      <td>National</td>\n",
       "      <td>Ecuador</td>\n",
       "      <td>Terremoto Manabi+30</td>\n",
       "      <td>False</td>\n",
       "    </tr>\n",
       "  </tbody>\n",
       "</table>\n",
       "</div>"
      ],
      "text/plain": [
       "          date   type    locale locale_name          description  transferred\n",
       "219 2016-04-16  Event  National     Ecuador     Terremoto Manabi        False\n",
       "220 2016-04-17  Event  National     Ecuador   Terremoto Manabi+1        False\n",
       "221 2016-04-18  Event  National     Ecuador   Terremoto Manabi+2        False\n",
       "222 2016-04-19  Event  National     Ecuador   Terremoto Manabi+3        False\n",
       "223 2016-04-20  Event  National     Ecuador   Terremoto Manabi+4        False\n",
       "225 2016-04-21  Event  National     Ecuador   Terremoto Manabi+5        False\n",
       "226 2016-04-22  Event  National     Ecuador   Terremoto Manabi+6        False\n",
       "227 2016-04-23  Event  National     Ecuador   Terremoto Manabi+7        False\n",
       "228 2016-04-24  Event  National     Ecuador   Terremoto Manabi+8        False\n",
       "229 2016-04-25  Event  National     Ecuador   Terremoto Manabi+9        False\n",
       "230 2016-04-26  Event  National     Ecuador  Terremoto Manabi+10        False\n",
       "231 2016-04-27  Event  National     Ecuador  Terremoto Manabi+11        False\n",
       "232 2016-04-28  Event  National     Ecuador  Terremoto Manabi+12        False\n",
       "233 2016-04-29  Event  National     Ecuador  Terremoto Manabi+13        False\n",
       "234 2016-04-30  Event  National     Ecuador  Terremoto Manabi+14        False\n",
       "236 2016-05-01  Event  National     Ecuador  Terremoto Manabi+15        False\n",
       "237 2016-05-02  Event  National     Ecuador  Terremoto Manabi+16        False\n",
       "238 2016-05-03  Event  National     Ecuador  Terremoto Manabi+17        False\n",
       "239 2016-05-04  Event  National     Ecuador  Terremoto Manabi+18        False\n",
       "240 2016-05-05  Event  National     Ecuador  Terremoto Manabi+19        False\n",
       "241 2016-05-06  Event  National     Ecuador  Terremoto Manabi+20        False\n",
       "243 2016-05-07  Event  National     Ecuador  Terremoto Manabi+21        False\n",
       "244 2016-05-08  Event  National     Ecuador  Terremoto Manabi+22        False\n",
       "246 2016-05-09  Event  National     Ecuador  Terremoto Manabi+23        False\n",
       "247 2016-05-10  Event  National     Ecuador  Terremoto Manabi+24        False\n",
       "248 2016-05-11  Event  National     Ecuador  Terremoto Manabi+25        False\n",
       "250 2016-05-12  Event  National     Ecuador  Terremoto Manabi+26        False\n",
       "251 2016-05-13  Event  National     Ecuador  Terremoto Manabi+27        False\n",
       "252 2016-05-14  Event  National     Ecuador  Terremoto Manabi+28        False\n",
       "253 2016-05-15  Event  National     Ecuador  Terremoto Manabi+29        False\n",
       "254 2016-05-16  Event  National     Ecuador  Terremoto Manabi+30        False"
      ]
     },
     "execution_count": 640,
     "metadata": {},
     "output_type": "execute_result"
    }
   ],
   "source": [
    "holiday_2014_2016[holiday_2014_2016['description'].str.contains('Terremoto')]"
   ]
  },
  {
   "cell_type": "markdown",
   "id": "chronic-desert",
   "metadata": {},
   "source": [
    "The increase in 2016 events and holidays was due to the eathquake that occured on April 16th 2016. So the next 30 days after the earthquake are included as events in this data set."
   ]
  },
  {
   "cell_type": "markdown",
   "id": "handed-brain",
   "metadata": {},
   "source": [
    "## Stores Dataset"
   ]
  },
  {
   "cell_type": "code",
   "execution_count": 47,
   "id": "indonesian-venture",
   "metadata": {
    "scrolled": true
   },
   "outputs": [
    {
     "data": {
      "text/plain": [
       "54"
      ]
     },
     "execution_count": 47,
     "metadata": {},
     "output_type": "execute_result"
    }
   ],
   "source": [
    "len(stores)"
   ]
  },
  {
   "cell_type": "code",
   "execution_count": 453,
   "id": "greenhouse-hungary",
   "metadata": {},
   "outputs": [
    {
     "data": {
      "text/plain": [
       "(54, 5)"
      ]
     },
     "execution_count": 453,
     "metadata": {},
     "output_type": "execute_result"
    }
   ],
   "source": [
    "stores.shape"
   ]
  },
  {
   "cell_type": "code",
   "execution_count": 454,
   "id": "colonial-avatar",
   "metadata": {
    "scrolled": true
   },
   "outputs": [
    {
     "data": {
      "text/plain": [
       "store_nbr     int64\n",
       "city         object\n",
       "state        object\n",
       "type         object\n",
       "cluster       int64\n",
       "dtype: object"
      ]
     },
     "execution_count": 454,
     "metadata": {},
     "output_type": "execute_result"
    }
   ],
   "source": [
    "stores.dtypes"
   ]
  },
  {
   "cell_type": "markdown",
   "id": "facial-diesel",
   "metadata": {},
   "source": [
    "`store_nbr` is a unique value to identify each store.<br>\n",
    "`city` and `state` variables give the location for each store.<br>\n",
    "It is unclear what `type` refers to.<br>\n",
    "`cluster` represent clustering of similar stores based on certain characteristics. However, it in unclear on what basis these clusters have been made. "
   ]
  },
  {
   "cell_type": "code",
   "execution_count": 459,
   "id": "induced-blackjack",
   "metadata": {
    "scrolled": true
   },
   "outputs": [
    {
     "name": "stdout",
     "output_type": "stream",
     "text": [
      "<class 'pandas.core.frame.DataFrame'>\n",
      "RangeIndex: 54 entries, 0 to 53\n",
      "Data columns (total 5 columns):\n",
      " #   Column     Non-Null Count  Dtype \n",
      "---  ------     --------------  ----- \n",
      " 0   store_nbr  54 non-null     int64 \n",
      " 1   city       54 non-null     object\n",
      " 2   state      54 non-null     object\n",
      " 3   type       54 non-null     object\n",
      " 4   cluster    54 non-null     int64 \n",
      "dtypes: int64(2), object(3)\n",
      "memory usage: 2.2+ KB\n"
     ]
    }
   ],
   "source": [
    "stores.info()"
   ]
  },
  {
   "cell_type": "markdown",
   "id": "harmful-milwaukee",
   "metadata": {},
   "source": [
    "There are no null values in this dataset."
   ]
  },
  {
   "cell_type": "code",
   "execution_count": 455,
   "id": "international-shade",
   "metadata": {
    "scrolled": false
   },
   "outputs": [
    {
     "data": {
      "text/html": [
       "<div>\n",
       "<style scoped>\n",
       "    .dataframe tbody tr th:only-of-type {\n",
       "        vertical-align: middle;\n",
       "    }\n",
       "\n",
       "    .dataframe tbody tr th {\n",
       "        vertical-align: top;\n",
       "    }\n",
       "\n",
       "    .dataframe thead th {\n",
       "        text-align: right;\n",
       "    }\n",
       "</style>\n",
       "<table border=\"1\" class=\"dataframe\">\n",
       "  <thead>\n",
       "    <tr style=\"text-align: right;\">\n",
       "      <th></th>\n",
       "      <th>store_nbr</th>\n",
       "      <th>city</th>\n",
       "      <th>state</th>\n",
       "      <th>type</th>\n",
       "      <th>cluster</th>\n",
       "    </tr>\n",
       "  </thead>\n",
       "  <tbody>\n",
       "    <tr>\n",
       "      <th>0</th>\n",
       "      <td>1</td>\n",
       "      <td>Quito</td>\n",
       "      <td>Pichincha</td>\n",
       "      <td>D</td>\n",
       "      <td>13</td>\n",
       "    </tr>\n",
       "    <tr>\n",
       "      <th>1</th>\n",
       "      <td>2</td>\n",
       "      <td>Quito</td>\n",
       "      <td>Pichincha</td>\n",
       "      <td>D</td>\n",
       "      <td>13</td>\n",
       "    </tr>\n",
       "    <tr>\n",
       "      <th>2</th>\n",
       "      <td>3</td>\n",
       "      <td>Quito</td>\n",
       "      <td>Pichincha</td>\n",
       "      <td>D</td>\n",
       "      <td>8</td>\n",
       "    </tr>\n",
       "    <tr>\n",
       "      <th>3</th>\n",
       "      <td>4</td>\n",
       "      <td>Quito</td>\n",
       "      <td>Pichincha</td>\n",
       "      <td>D</td>\n",
       "      <td>9</td>\n",
       "    </tr>\n",
       "    <tr>\n",
       "      <th>4</th>\n",
       "      <td>5</td>\n",
       "      <td>Santo Domingo</td>\n",
       "      <td>Santo Domingo de los Tsachilas</td>\n",
       "      <td>D</td>\n",
       "      <td>4</td>\n",
       "    </tr>\n",
       "  </tbody>\n",
       "</table>\n",
       "</div>"
      ],
      "text/plain": [
       "   store_nbr           city                           state type  cluster\n",
       "0          1          Quito                       Pichincha    D       13\n",
       "1          2          Quito                       Pichincha    D       13\n",
       "2          3          Quito                       Pichincha    D        8\n",
       "3          4          Quito                       Pichincha    D        9\n",
       "4          5  Santo Domingo  Santo Domingo de los Tsachilas    D        4"
      ]
     },
     "execution_count": 455,
     "metadata": {},
     "output_type": "execute_result"
    }
   ],
   "source": [
    "stores.head()"
   ]
  },
  {
   "cell_type": "code",
   "execution_count": 477,
   "id": "worst-bronze",
   "metadata": {
    "scrolled": false
   },
   "outputs": [
    {
     "data": {
      "text/plain": [
       "Quito            18\n",
       "Guayaquil         8\n",
       "Santo Domingo     3\n",
       "Cuenca            3\n",
       "Ambato            2\n",
       "Latacunga         2\n",
       "Machala           2\n",
       "Manta             2\n",
       "Libertad          1\n",
       "Guaranda          1\n",
       "Ibarra            1\n",
       "Cayambe           1\n",
       "Riobamba          1\n",
       "Quevedo           1\n",
       "Puyo              1\n",
       "Loja              1\n",
       "Salinas           1\n",
       "Daule             1\n",
       "Playas            1\n",
       "Babahoyo          1\n",
       "El Carmen         1\n",
       "Esmeraldas        1\n",
       "Name: city, dtype: int64"
      ]
     },
     "execution_count": 477,
     "metadata": {},
     "output_type": "execute_result"
    }
   ],
   "source": [
    "stores.city.value_counts()"
   ]
  },
  {
   "cell_type": "code",
   "execution_count": 473,
   "id": "bound-liability",
   "metadata": {},
   "outputs": [
    {
     "data": {
      "text/plain": [
       "Pichincha                         19\n",
       "Guayas                            11\n",
       "Manabi                             3\n",
       "Azuay                              3\n",
       "Santo Domingo de los Tsachilas     3\n",
       "Tungurahua                         2\n",
       "El Oro                             2\n",
       "Los Rios                           2\n",
       "Cotopaxi                           2\n",
       "Imbabura                           1\n",
       "Chimborazo                         1\n",
       "Esmeraldas                         1\n",
       "Santa Elena                        1\n",
       "Loja                               1\n",
       "Pastaza                            1\n",
       "Bolivar                            1\n",
       "Name: state, dtype: int64"
      ]
     },
     "execution_count": 473,
     "metadata": {},
     "output_type": "execute_result"
    }
   ],
   "source": [
    "stores.state.value_counts()"
   ]
  },
  {
   "cell_type": "code",
   "execution_count": 471,
   "id": "surface-railway",
   "metadata": {
    "scrolled": false
   },
   "outputs": [
    {
     "data": {
      "text/plain": [
       "22"
      ]
     },
     "execution_count": 471,
     "metadata": {},
     "output_type": "execute_result"
    }
   ],
   "source": [
    "len(stores.city.unique())"
   ]
  },
  {
   "cell_type": "code",
   "execution_count": 472,
   "id": "handled-neighborhood",
   "metadata": {},
   "outputs": [
    {
     "data": {
      "text/plain": [
       "16"
      ]
     },
     "execution_count": 472,
     "metadata": {},
     "output_type": "execute_result"
    }
   ],
   "source": [
    "len(stores.state.unique())"
   ]
  },
  {
   "cell_type": "code",
   "execution_count": 476,
   "id": "administrative-hearing",
   "metadata": {
    "scrolled": false
   },
   "outputs": [
    {
     "data": {
      "text/plain": [
       "D    18\n",
       "C    15\n",
       "A     9\n",
       "B     8\n",
       "E     4\n",
       "Name: type, dtype: int64"
      ]
     },
     "execution_count": 476,
     "metadata": {},
     "output_type": "execute_result"
    }
   ],
   "source": [
    "stores.type.value_counts()"
   ]
  },
  {
   "cell_type": "markdown",
   "id": "public-headline",
   "metadata": {},
   "source": [
    "### Number of stores in each city"
   ]
  },
  {
   "cell_type": "code",
   "execution_count": 499,
   "id": "happy-hunter",
   "metadata": {},
   "outputs": [
    {
     "data": {
      "text/plain": [
       "Text(0, 0.5, 'Count')"
      ]
     },
     "execution_count": 499,
     "metadata": {},
     "output_type": "execute_result"
    },
    {
     "data": {
      "image/png": "[encoded data removed]",
      "text/plain": [
       "<Figure size 1440x720 with 1 Axes>"
      ]
     },
     "metadata": {
      "needs_background": "light"
     },
     "output_type": "display_data"
    }
   ],
   "source": [
    "fig, ax = plt.subplots(figsize=(20,10))\n",
    "sns.countplot(x='city',data=stores,ax=ax, order=stores['city'].value_counts().index)\n",
    "plt.setp(ax.xaxis.get_majorticklabels(), rotation=90, fontsize=20)\n",
    "plt.yticks(fontsize=20)\n",
    "plt.xlabel('City',fontsize=30)\n",
    "plt.ylabel('Count',fontsize=30)"
   ]
  },
  {
   "cell_type": "markdown",
   "id": "controlled-headline",
   "metadata": {},
   "source": [
    "### Distribution of stores across different states"
   ]
  },
  {
   "cell_type": "code",
   "execution_count": 652,
   "id": "local-extra",
   "metadata": {},
   "outputs": [
    {
     "data": {
      "text/plain": [
       "Text(0, 0.5, 'Count')"
      ]
     },
     "execution_count": 652,
     "metadata": {},
     "output_type": "execute_result"
    },
    {
     "data": {
      "image/png": "[encoded data removed]",
      "text/plain": [
       "<Figure size 1440x720 with 1 Axes>"
      ]
     },
     "metadata": {
      "needs_background": "light"
     },
     "output_type": "display_data"
    }
   ],
   "source": [
    "fig, ax = plt.subplots(figsize=(20,10))\n",
    "sns.countplot(x='state',data=stores,ax=ax, order=stores['state'].value_counts().index)\n",
    "plt.setp(ax.xaxis.get_majorticklabels(), rotation=90, fontsize=20)\n",
    "plt.yticks(fontsize=20)\n",
    "plt.xlabel('State',fontsize=30)\n",
    "plt.ylabel('Count',fontsize=30)"
   ]
  },
  {
   "cell_type": "markdown",
   "id": "authorized-appraisal",
   "metadata": {},
   "source": [
    "### Categorization of stores based on their type"
   ]
  },
  {
   "cell_type": "code",
   "execution_count": 502,
   "id": "european-lender",
   "metadata": {
    "scrolled": true
   },
   "outputs": [
    {
     "data": {
      "text/plain": [
       "Text(0, 0.5, 'Count')"
      ]
     },
     "execution_count": 502,
     "metadata": {},
     "output_type": "execute_result"
    },
    {
     "data": {
      "image/png": "[encoded data removed]",
      "text/plain": [
       "<Figure size 1440x720 with 1 Axes>"
      ]
     },
     "metadata": {
      "needs_background": "light"
     },
     "output_type": "display_data"
    }
   ],
   "source": [
    "fig, ax = plt.subplots(figsize=(20,10))\n",
    "sns.countplot(x='type',data=stores,ax=ax, order=stores['type'].value_counts().index)\n",
    "plt.setp(ax.xaxis.get_majorticklabels(), fontsize=20)\n",
    "plt.yticks(fontsize=20)\n",
    "plt.xlabel('Type',fontsize=30)\n",
    "plt.ylabel('Count',fontsize=30)"
   ]
  },
  {
   "cell_type": "markdown",
   "id": "noble-width",
   "metadata": {},
   "source": [
    "### Number of stores in each cluster"
   ]
  },
  {
   "cell_type": "code",
   "execution_count": 655,
   "id": "assumed-client",
   "metadata": {
    "scrolled": true
   },
   "outputs": [
    {
     "data": {
      "text/plain": [
       "Text(0, 0.5, 'Count')"
      ]
     },
     "execution_count": 655,
     "metadata": {},
     "output_type": "execute_result"
    },
    {
     "data": {
      "image/png": "[encoded data removed]",
      "text/plain": [
       "<Figure size 1440x720 with 1 Axes>"
      ]
     },
     "metadata": {
      "needs_background": "light"
     },
     "output_type": "display_data"
    }
   ],
   "source": [
    "fig, ax = plt.subplots(figsize=(20,10))\n",
    "sns.countplot(x='cluster',data=stores,ax=ax)\n",
    "plt.setp(ax.xaxis.get_majorticklabels(), fontsize=20)\n",
    "plt.yticks(fontsize=20)\n",
    "plt.xlabel('Cluster',fontsize=30)\n",
    "plt.ylabel('Count',fontsize=30)"
   ]
  },
  {
   "cell_type": "markdown",
   "id": "unlimited-sense",
   "metadata": {},
   "source": [
    "### Treemap showing the cities in each state that have stores"
   ]
  },
  {
   "cell_type": "code",
   "execution_count": 507,
   "id": "constant-boost",
   "metadata": {
    "scrolled": true
   },
   "outputs": [
    {
     "data": {
      "application/vnd.plotly.v1+json": {
       "config": {
        "plotlyServerURL": "https://plot.ly"
       },
       "data": [
        {
         "branchvalues": "total",
         "domain": {
          "x": [
           0,
           1
          ],
          "y": [
           0,
           1
          ]
         },
         "hovertemplate": "labels=%{label}<br>count=%{value}<br>parent=%{parent}<br>id=%{id}<extra></extra>",
         "ids": [
          "Tungurahua/Ambato",
          "Los Rios/Babahoyo",
          "Pichincha/Cayambe",
          "Azuay/Cuenca",
          "Guayas/Daule",
          "Manabi/El Carmen",
          "Esmeraldas/Esmeraldas",
          "Bolivar/Guaranda",
          "Guayas/Guayaquil",
          "Imbabura/Ibarra",
          "Cotopaxi/Latacunga",
          "Guayas/Libertad",
          "Loja/Loja",
          "El Oro/Machala",
          "Manabi/Manta",
          "Guayas/Playas",
          "Pastaza/Puyo",
          "Los Rios/Quevedo",
          "Pichincha/Quito",
          "Chimborazo/Riobamba",
          "Santa Elena/Salinas",
          "Santo Domingo de los Tsachilas/Santo Domingo",
          "Azuay",
          "Bolivar",
          "Chimborazo",
          "Cotopaxi",
          "El Oro",
          "Esmeraldas",
          "Guayas",
          "Imbabura",
          "Loja",
          "Los Rios",
          "Manabi",
          "Pastaza",
          "Pichincha",
          "Santa Elena",
          "Santo Domingo de los Tsachilas",
          "Tungurahua"
         ],
         "labels": [
          "Ambato",
          "Babahoyo",
          "Cayambe",
          "Cuenca",
          "Daule",
          "El Carmen",
          "Esmeraldas",
          "Guaranda",
          "Guayaquil",
          "Ibarra",
          "Latacunga",
          "Libertad",
          "Loja",
          "Machala",
          "Manta",
          "Playas",
          "Puyo",
          "Quevedo",
          "Quito",
          "Riobamba",
          "Salinas",
          "Santo Domingo",
          "Azuay",
          "Bolivar",
          "Chimborazo",
          "Cotopaxi",
          "El Oro",
          "Esmeraldas",
          "Guayas",
          "Imbabura",
          "Loja",
          "Los Rios",
          "Manabi",
          "Pastaza",
          "Pichincha",
          "Santa Elena",
          "Santo Domingo de los Tsachilas",
          "Tungurahua"
         ],
         "name": "",
         "parents": [
          "Tungurahua",
          "Los Rios",
          "Pichincha",
          "Azuay",
          "Guayas",
          "Manabi",
          "Esmeraldas",
          "Bolivar",
          "Guayas",
          "Imbabura",
          "Cotopaxi",
          "Guayas",
          "Loja",
          "El Oro",
          "Manabi",
          "Guayas",
          "Pastaza",
          "Los Rios",
          "Pichincha",
          "Chimborazo",
          "Santa Elena",
          "Santo Domingo de los Tsachilas",
          "",
          "",
          "",
          "",
          "",
          "",
          "",
          "",
          "",
          "",
          "",
          "",
          "",
          "",
          "",
          ""
         ],
         "type": "treemap",
         "values": [
          2,
          1,
          1,
          3,
          1,
          1,
          1,
          1,
          8,
          1,
          2,
          1,
          1,
          2,
          2,
          1,
          1,
          1,
          18,
          1,
          1,
          3,
          3,
          1,
          1,
          2,
          2,
          1,
          11,
          1,
          1,
          2,
          3,
          1,
          19,
          1,
          3,
          2
         ]
        }
       ],
       "layout": {
        "legend": {
         "tracegroupgap": 0
        },
        "margin": {
         "t": 60
        },
        "template": {
         "data": {
          "bar": [
           {
            "error_x": {
             "color": "#2a3f5f"
            },
            "error_y": {
             "color": "#2a3f5f"
            },
            "marker": {
             "line": {
              "color": "#E5ECF6",
              "width": 0.5
             }
            },
            "type": "bar"
           }
          ],
          "barpolar": [
           {
            "marker": {
             "line": {
              "color": "#E5ECF6",
              "width": 0.5
             }
            },
            "type": "barpolar"
           }
          ],
          "carpet": [
           {
            "aaxis": {
             "endlinecolor": "#2a3f5f",
             "gridcolor": "white",
             "linecolor": "white",
             "minorgridcolor": "white",
             "startlinecolor": "#2a3f5f"
            },
            "baxis": {
             "endlinecolor": "#2a3f5f",
             "gridcolor": "white",
             "linecolor": "white",
             "minorgridcolor": "white",
             "startlinecolor": "#2a3f5f"
            },
            "type": "carpet"
           }
          ],
          "choropleth": [
           {
            "colorbar": {
             "outlinewidth": 0,
             "ticks": ""
            },
            "type": "choropleth"
           }
          ],
          "contour": [
           {
            "colorbar": {
             "outlinewidth": 0,
             "ticks": ""
            },
            "colorscale": [
             [
              0,
              "#0d0887"
             ],
             [
              0.1111111111111111,
              "#46039f"
             ],
             [
              0.2222222222222222,
              "#7201a8"
             ],
             [
              0.3333333333333333,
              "#9c179e"
             ],
             [
              0.4444444444444444,
              "#bd3786"
             ],
             [
              0.5555555555555556,
              "#d8576b"
             ],
             [
              0.6666666666666666,
              "#ed7953"
             ],
             [
              0.7777777777777778,
              "#fb9f3a"
             ],
             [
              0.8888888888888888,
              "#fdca26"
             ],
             [
              1,
              "#f0f921"
             ]
            ],
            "type": "contour"
           }
          ],
          "contourcarpet": [
           {
            "colorbar": {
             "outlinewidth": 0,
             "ticks": ""
            },
            "type": "contourcarpet"
           }
          ],
          "heatmap": [
           {
            "colorbar": {
             "outlinewidth": 0,
             "ticks": ""
            },
            "colorscale": [
             [
              0,
              "#0d0887"
             ],
             [
              0.1111111111111111,
              "#46039f"
             ],
             [
              0.2222222222222222,
              "#7201a8"
             ],
             [
              0.3333333333333333,
              "#9c179e"
             ],
             [
              0.4444444444444444,
              "#bd3786"
             ],
             [
              0.5555555555555556,
              "#d8576b"
             ],
             [
              0.6666666666666666,
              "#ed7953"
             ],
             [
              0.7777777777777778,
              "#fb9f3a"
             ],
             [
              0.8888888888888888,
              "#fdca26"
             ],
             [
              1,
              "#f0f921"
             ]
            ],
            "type": "heatmap"
           }
          ],
          "heatmapgl": [
           {
            "colorbar": {
             "outlinewidth": 0,
             "ticks": ""
            },
            "colorscale": [
             [
              0,
              "#0d0887"
             ],
             [
              0.1111111111111111,
              "#46039f"
             ],
             [
              0.2222222222222222,
              "#7201a8"
             ],
             [
              0.3333333333333333,
              "#9c179e"
             ],
             [
              0.4444444444444444,
              "#bd3786"
             ],
             [
              0.5555555555555556,
              "#d8576b"
             ],
             [
              0.6666666666666666,
              "#ed7953"
             ],
             [
              0.7777777777777778,
              "#fb9f3a"
             ],
             [
              0.8888888888888888,
              "#fdca26"
             ],
             [
              1,
              "#f0f921"
             ]
            ],
            "type": "heatmapgl"
           }
          ],
          "histogram": [
           {
            "marker": {
             "colorbar": {
              "outlinewidth": 0,
              "ticks": ""
             }
            },
            "type": "histogram"
           }
          ],
          "histogram2d": [
           {
            "colorbar": {
             "outlinewidth": 0,
             "ticks": ""
            },
            "colorscale": [
             [
              0,
              "#0d0887"
             ],
             [
              0.1111111111111111,
              "#46039f"
             ],
             [
              0.2222222222222222,
              "#7201a8"
             ],
             [
              0.3333333333333333,
              "#9c179e"
             ],
             [
              0.4444444444444444,
              "#bd3786"
             ],
             [
              0.5555555555555556,
              "#d8576b"
             ],
             [
              0.6666666666666666,
              "#ed7953"
             ],
             [
              0.7777777777777778,
              "#fb9f3a"
             ],
             [
              0.8888888888888888,
              "#fdca26"
             ],
             [
              1,
              "#f0f921"
             ]
            ],
            "type": "histogram2d"
           }
          ],
          "histogram2dcontour": [
           {
            "colorbar": {
             "outlinewidth": 0,
             "ticks": ""
            },
            "colorscale": [
             [
              0,
              "#0d0887"
             ],
             [
              0.1111111111111111,
              "#46039f"
             ],
             [
              0.2222222222222222,
              "#7201a8"
             ],
             [
              0.3333333333333333,
              "#9c179e"
             ],
             [
              0.4444444444444444,
              "#bd3786"
             ],
             [
              0.5555555555555556,
              "#d8576b"
             ],
             [
              0.6666666666666666,
              "#ed7953"
             ],
             [
              0.7777777777777778,
              "#fb9f3a"
             ],
             [
              0.8888888888888888,
              "#fdca26"
             ],
             [
              1,
              "#f0f921"
             ]
            ],
            "type": "histogram2dcontour"
           }
          ],
          "mesh3d": [
           {
            "colorbar": {
             "outlinewidth": 0,
             "ticks": ""
            },
            "type": "mesh3d"
           }
          ],
          "parcoords": [
           {
            "line": {
             "colorbar": {
              "outlinewidth": 0,
              "ticks": ""
             }
            },
            "type": "parcoords"
           }
          ],
          "pie": [
           {
            "automargin": true,
            "type": "pie"
           }
          ],
          "scatter": [
           {
            "marker": {
             "colorbar": {
              "outlinewidth": 0,
              "ticks": ""
             }
            },
            "type": "scatter"
           }
          ],
          "scatter3d": [
           {
            "line": {
             "colorbar": {
              "outlinewidth": 0,
              "ticks": ""
             }
            },
            "marker": {
             "colorbar": {
              "outlinewidth": 0,
              "ticks": ""
             }
            },
            "type": "scatter3d"
           }
          ],
          "scattercarpet": [
           {
            "marker": {
             "colorbar": {
              "outlinewidth": 0,
              "ticks": ""
             }
            },
            "type": "scattercarpet"
           }
          ],
          "scattergeo": [
           {
            "marker": {
             "colorbar": {
              "outlinewidth": 0,
              "ticks": ""
             }
            },
            "type": "scattergeo"
           }
          ],
          "scattergl": [
           {
            "marker": {
             "colorbar": {
              "outlinewidth": 0,
              "ticks": ""
             }
            },
            "type": "scattergl"
           }
          ],
          "scattermapbox": [
           {
            "marker": {
             "colorbar": {
              "outlinewidth": 0,
              "ticks": ""
             }
            },
            "type": "scattermapbox"
           }
          ],
          "scatterpolar": [
           {
            "marker": {
             "colorbar": {
              "outlinewidth": 0,
              "ticks": ""
             }
            },
            "type": "scatterpolar"
           }
          ],
          "scatterpolargl": [
           {
            "marker": {
             "colorbar": {
              "outlinewidth": 0,
              "ticks": ""
             }
            },
            "type": "scatterpolargl"
           }
          ],
          "scatterternary": [
           {
            "marker": {
             "colorbar": {
              "outlinewidth": 0,
              "ticks": ""
             }
            },
            "type": "scatterternary"
           }
          ],
          "surface": [
           {
            "colorbar": {
             "outlinewidth": 0,
             "ticks": ""
            },
            "colorscale": [
             [
              0,
              "#0d0887"
             ],
             [
              0.1111111111111111,
              "#46039f"
             ],
             [
              0.2222222222222222,
              "#7201a8"
             ],
             [
              0.3333333333333333,
              "#9c179e"
             ],
             [
              0.4444444444444444,
              "#bd3786"
             ],
             [
              0.5555555555555556,
              "#d8576b"
             ],
             [
              0.6666666666666666,
              "#ed7953"
             ],
             [
              0.7777777777777778,
              "#fb9f3a"
             ],
             [
              0.8888888888888888,
              "#fdca26"
             ],
             [
              1,
              "#f0f921"
             ]
            ],
            "type": "surface"
           }
          ],
          "table": [
           {
            "cells": {
             "fill": {
              "color": "#EBF0F8"
             },
             "line": {
              "color": "white"
             }
            },
            "header": {
             "fill": {
              "color": "#C8D4E3"
             },
             "line": {
              "color": "white"
             }
            },
            "type": "table"
           }
          ]
         },
         "layout": {
          "annotationdefaults": {
           "arrowcolor": "#2a3f5f",
           "arrowhead": 0,
           "arrowwidth": 1
          },
          "autotypenumbers": "strict",
          "coloraxis": {
           "colorbar": {
            "outlinewidth": 0,
            "ticks": ""
           }
          },
          "colorscale": {
           "diverging": [
            [
             0,
             "#8e0152"
            ],
            [
             0.1,
             "#c51b7d"
            ],
            [
             0.2,
             "#de77ae"
            ],
            [
             0.3,
             "#f1b6da"
            ],
            [
             0.4,
             "#fde0ef"
            ],
            [
             0.5,
             "#f7f7f7"
            ],
            [
             0.6,
             "#e6f5d0"
            ],
            [
             0.7,
             "#b8e186"
            ],
            [
             0.8,
             "#7fbc41"
            ],
            [
             0.9,
             "#4d9221"
            ],
            [
             1,
             "#276419"
            ]
           ],
           "sequential": [
            [
             0,
             "#0d0887"
            ],
            [
             0.1111111111111111,
             "#46039f"
            ],
            [
             0.2222222222222222,
             "#7201a8"
            ],
            [
             0.3333333333333333,
             "#9c179e"
            ],
            [
             0.4444444444444444,
             "#bd3786"
            ],
            [
             0.5555555555555556,
             "#d8576b"
            ],
            [
             0.6666666666666666,
             "#ed7953"
            ],
            [
             0.7777777777777778,
             "#fb9f3a"
            ],
            [
             0.8888888888888888,
             "#fdca26"
            ],
            [
             1,
             "#f0f921"
            ]
           ],
           "sequentialminus": [
            [
             0,
             "#0d0887"
            ],
            [
             0.1111111111111111,
             "#46039f"
            ],
            [
             0.2222222222222222,
             "#7201a8"
            ],
            [
             0.3333333333333333,
             "#9c179e"
            ],
            [
             0.4444444444444444,
             "#bd3786"
            ],
            [
             0.5555555555555556,
             "#d8576b"
            ],
            [
             0.6666666666666666,
             "#ed7953"
            ],
            [
             0.7777777777777778,
             "#fb9f3a"
            ],
            [
             0.8888888888888888,
             "#fdca26"
            ],
            [
             1,
             "#f0f921"
            ]
           ]
          },
          "colorway": [
           "#636efa",
           "#EF553B",
           "#00cc96",
           "#ab63fa",
           "#FFA15A",
           "#19d3f3",
           "#FF6692",
           "#B6E880",
           "#FF97FF",
           "#FECB52"
          ],
          "font": {
           "color": "#2a3f5f"
          },
          "geo": {
           "bgcolor": "white",
           "lakecolor": "white",
           "landcolor": "#E5ECF6",
           "showlakes": true,
           "showland": true,
           "subunitcolor": "white"
          },
          "hoverlabel": {
           "align": "left"
          },
          "hovermode": "closest",
          "mapbox": {
           "style": "light"
          },
          "paper_bgcolor": "white",
          "plot_bgcolor": "#E5ECF6",
          "polar": {
           "angularaxis": {
            "gridcolor": "white",
            "linecolor": "white",
            "ticks": ""
           },
           "bgcolor": "#E5ECF6",
           "radialaxis": {
            "gridcolor": "white",
            "linecolor": "white",
            "ticks": ""
           }
          },
          "scene": {
           "xaxis": {
            "backgroundcolor": "#E5ECF6",
            "gridcolor": "white",
            "gridwidth": 2,
            "linecolor": "white",
            "showbackground": true,
            "ticks": "",
            "zerolinecolor": "white"
           },
           "yaxis": {
            "backgroundcolor": "#E5ECF6",
            "gridcolor": "white",
            "gridwidth": 2,
            "linecolor": "white",
            "showbackground": true,
            "ticks": "",
            "zerolinecolor": "white"
           },
           "zaxis": {
            "backgroundcolor": "#E5ECF6",
            "gridcolor": "white",
            "gridwidth": 2,
            "linecolor": "white",
            "showbackground": true,
            "ticks": "",
            "zerolinecolor": "white"
           }
          },
          "shapedefaults": {
           "line": {
            "color": "#2a3f5f"
           }
          },
          "ternary": {
           "aaxis": {
            "gridcolor": "white",
            "linecolor": "white",
            "ticks": ""
           },
           "baxis": {
            "gridcolor": "white",
            "linecolor": "white",
            "ticks": ""
           },
           "bgcolor": "#E5ECF6",
           "caxis": {
            "gridcolor": "white",
            "linecolor": "white",
            "ticks": ""
           }
          },
          "title": {
           "x": 0.05
          },
          "xaxis": {
           "automargin": true,
           "gridcolor": "white",
           "linecolor": "white",
           "ticks": "",
           "title": {
            "standoff": 15
           },
           "zerolinecolor": "white",
           "zerolinewidth": 2
          },
          "yaxis": {
           "automargin": true,
           "gridcolor": "white",
           "linecolor": "white",
           "ticks": "",
           "title": {
            "standoff": 15
           },
           "zerolinecolor": "white",
           "zerolinewidth": 2
          }
         }
        }
       }
      },
      "text/html": [
       "<div>                            <div id=\"33e4def1-4e01-4b1b-9b30-8309d1a0fd01\" class=\"plotly-graph-div\" style=\"height:525px; width:100%;\"></div>            <script type=\"text/javascript\">                require([\"plotly\"], function(Plotly) {                    window.PLOTLYENV=window.PLOTLYENV || {};                                    if (document.getElementById(\"33e4def1-4e01-4b1b-9b30-8309d1a0fd01\")) {                    Plotly.newPlot(                        \"33e4def1-4e01-4b1b-9b30-8309d1a0fd01\",                        [{\"branchvalues\": \"total\", \"domain\": {\"x\": [0.0, 1.0], \"y\": [0.0, 1.0]}, \"hovertemplate\": \"labels=%{label}<br>count=%{value}<br>parent=%{parent}<br>id=%{id}<extra></extra>\", \"ids\": [\"Tungurahua/Ambato\", \"Los Rios/Babahoyo\", \"Pichincha/Cayambe\", \"Azuay/Cuenca\", \"Guayas/Daule\", \"Manabi/El Carmen\", \"Esmeraldas/Esmeraldas\", \"Bolivar/Guaranda\", \"Guayas/Guayaquil\", \"Imbabura/Ibarra\", \"Cotopaxi/Latacunga\", \"Guayas/Libertad\", \"Loja/Loja\", \"El Oro/Machala\", \"Manabi/Manta\", \"Guayas/Playas\", \"Pastaza/Puyo\", \"Los Rios/Quevedo\", \"Pichincha/Quito\", \"Chimborazo/Riobamba\", \"Santa Elena/Salinas\", \"Santo Domingo de los Tsachilas/Santo Domingo\", \"Azuay\", \"Bolivar\", \"Chimborazo\", \"Cotopaxi\", \"El Oro\", \"Esmeraldas\", \"Guayas\", \"Imbabura\", \"Loja\", \"Los Rios\", \"Manabi\", \"Pastaza\", \"Pichincha\", \"Santa Elena\", \"Santo Domingo de los Tsachilas\", \"Tungurahua\"], \"labels\": [\"Ambato\", \"Babahoyo\", \"Cayambe\", \"Cuenca\", \"Daule\", \"El Carmen\", \"Esmeraldas\", \"Guaranda\", \"Guayaquil\", \"Ibarra\", \"Latacunga\", \"Libertad\", \"Loja\", \"Machala\", \"Manta\", \"Playas\", \"Puyo\", \"Quevedo\", \"Quito\", \"Riobamba\", \"Salinas\", \"Santo Domingo\", \"Azuay\", \"Bolivar\", \"Chimborazo\", \"Cotopaxi\", \"El Oro\", \"Esmeraldas\", \"Guayas\", \"Imbabura\", \"Loja\", \"Los Rios\", \"Manabi\", \"Pastaza\", \"Pichincha\", \"Santa Elena\", \"Santo Domingo de los Tsachilas\", \"Tungurahua\"], \"name\": \"\", \"parents\": [\"Tungurahua\", \"Los Rios\", \"Pichincha\", \"Azuay\", \"Guayas\", \"Manabi\", \"Esmeraldas\", \"Bolivar\", \"Guayas\", \"Imbabura\", \"Cotopaxi\", \"Guayas\", \"Loja\", \"El Oro\", \"Manabi\", \"Guayas\", \"Pastaza\", \"Los Rios\", \"Pichincha\", \"Chimborazo\", \"Santa Elena\", \"Santo Domingo de los Tsachilas\", \"\", \"\", \"\", \"\", \"\", \"\", \"\", \"\", \"\", \"\", \"\", \"\", \"\", \"\", \"\", \"\"], \"type\": \"treemap\", \"values\": [2, 1, 1, 3, 1, 1, 1, 1, 8, 1, 2, 1, 1, 2, 2, 1, 1, 1, 18, 1, 1, 3, 3, 1, 1, 2, 2, 1, 11, 1, 1, 2, 3, 1, 19, 1, 3, 2]}],                        {\"legend\": {\"tracegroupgap\": 0}, \"margin\": {\"t\": 60}, \"template\": {\"data\": {\"bar\": [{\"error_x\": {\"color\": \"#2a3f5f\"}, \"error_y\": {\"color\": \"#2a3f5f\"}, \"marker\": {\"line\": {\"color\": \"#E5ECF6\", \"width\": 0.5}}, \"type\": \"bar\"}], \"barpolar\": [{\"marker\": {\"line\": {\"color\": \"#E5ECF6\", \"width\": 0.5}}, \"type\": \"barpolar\"}], \"carpet\": [{\"aaxis\": {\"endlinecolor\": \"#2a3f5f\", \"gridcolor\": \"white\", \"linecolor\": \"white\", \"minorgridcolor\": \"white\", \"startlinecolor\": \"#2a3f5f\"}, \"baxis\": {\"endlinecolor\": \"#2a3f5f\", \"gridcolor\": \"white\", \"linecolor\": \"white\", \"minorgridcolor\": \"white\", \"startlinecolor\": \"#2a3f5f\"}, \"type\": \"carpet\"}], \"choropleth\": [{\"colorbar\": {\"outlinewidth\": 0, \"ticks\": \"\"}, \"type\": \"choropleth\"}], \"contour\": [{\"colorbar\": {\"outlinewidth\": 0, \"ticks\": \"\"}, \"colorscale\": [[0.0, \"#0d0887\"], [0.1111111111111111, \"#46039f\"], [0.2222222222222222, \"#7201a8\"], [0.3333333333333333, \"#9c179e\"], [0.4444444444444444, \"#bd3786\"], [0.5555555555555556, \"#d8576b\"], [0.6666666666666666, \"#ed7953\"], [0.7777777777777778, \"#fb9f3a\"], [0.8888888888888888, \"#fdca26\"], [1.0, \"#f0f921\"]], \"type\": \"contour\"}], \"contourcarpet\": [{\"colorbar\": {\"outlinewidth\": 0, \"ticks\": \"\"}, \"type\": \"contourcarpet\"}], \"heatmap\": [{\"colorbar\": {\"outlinewidth\": 0, \"ticks\": \"\"}, \"colorscale\": [[0.0, \"#0d0887\"], [0.1111111111111111, \"#46039f\"], [0.2222222222222222, \"#7201a8\"], [0.3333333333333333, \"#9c179e\"], [0.4444444444444444, \"#bd3786\"], [0.5555555555555556, \"#d8576b\"], [0.6666666666666666, \"#ed7953\"], [0.7777777777777778, \"#fb9f3a\"], [0.8888888888888888, \"#fdca26\"], [1.0, \"#f0f921\"]], \"type\": \"heatmap\"}], \"heatmapgl\": [{\"colorbar\": {\"outlinewidth\": 0, \"ticks\": \"\"}, \"colorscale\": [[0.0, \"#0d0887\"], [0.1111111111111111, \"#46039f\"], [0.2222222222222222, \"#7201a8\"], [0.3333333333333333, \"#9c179e\"], [0.4444444444444444, \"#bd3786\"], [0.5555555555555556, \"#d8576b\"], [0.6666666666666666, \"#ed7953\"], [0.7777777777777778, \"#fb9f3a\"], [0.8888888888888888, \"#fdca26\"], [1.0, \"#f0f921\"]], \"type\": \"heatmapgl\"}], \"histogram\": [{\"marker\": {\"colorbar\": {\"outlinewidth\": 0, \"ticks\": \"\"}}, \"type\": \"histogram\"}], \"histogram2d\": [{\"colorbar\": {\"outlinewidth\": 0, \"ticks\": \"\"}, \"colorscale\": [[0.0, \"#0d0887\"], [0.1111111111111111, \"#46039f\"], [0.2222222222222222, \"#7201a8\"], [0.3333333333333333, \"#9c179e\"], [0.4444444444444444, \"#bd3786\"], [0.5555555555555556, \"#d8576b\"], [0.6666666666666666, \"#ed7953\"], [0.7777777777777778, \"#fb9f3a\"], [0.8888888888888888, \"#fdca26\"], [1.0, \"#f0f921\"]], \"type\": \"histogram2d\"}], \"histogram2dcontour\": [{\"colorbar\": {\"outlinewidth\": 0, \"ticks\": \"\"}, \"colorscale\": [[0.0, \"#0d0887\"], [0.1111111111111111, \"#46039f\"], [0.2222222222222222, \"#7201a8\"], [0.3333333333333333, \"#9c179e\"], [0.4444444444444444, \"#bd3786\"], [0.5555555555555556, \"#d8576b\"], [0.6666666666666666, \"#ed7953\"], [0.7777777777777778, \"#fb9f3a\"], [0.8888888888888888, \"#fdca26\"], [1.0, \"#f0f921\"]], \"type\": \"histogram2dcontour\"}], \"mesh3d\": [{\"colorbar\": {\"outlinewidth\": 0, \"ticks\": \"\"}, \"type\": \"mesh3d\"}], \"parcoords\": [{\"line\": {\"colorbar\": {\"outlinewidth\": 0, \"ticks\": \"\"}}, \"type\": \"parcoords\"}], \"pie\": [{\"automargin\": true, \"type\": \"pie\"}], \"scatter\": [{\"marker\": {\"colorbar\": {\"outlinewidth\": 0, \"ticks\": \"\"}}, \"type\": \"scatter\"}], \"scatter3d\": [{\"line\": {\"colorbar\": {\"outlinewidth\": 0, \"ticks\": \"\"}}, \"marker\": {\"colorbar\": {\"outlinewidth\": 0, \"ticks\": \"\"}}, \"type\": \"scatter3d\"}], \"scattercarpet\": [{\"marker\": {\"colorbar\": {\"outlinewidth\": 0, \"ticks\": \"\"}}, \"type\": \"scattercarpet\"}], \"scattergeo\": [{\"marker\": {\"colorbar\": {\"outlinewidth\": 0, \"ticks\": \"\"}}, \"type\": \"scattergeo\"}], \"scattergl\": [{\"marker\": {\"colorbar\": {\"outlinewidth\": 0, \"ticks\": \"\"}}, \"type\": \"scattergl\"}], \"scattermapbox\": [{\"marker\": {\"colorbar\": {\"outlinewidth\": 0, \"ticks\": \"\"}}, \"type\": \"scattermapbox\"}], \"scatterpolar\": [{\"marker\": {\"colorbar\": {\"outlinewidth\": 0, \"ticks\": \"\"}}, \"type\": \"scatterpolar\"}], \"scatterpolargl\": [{\"marker\": {\"colorbar\": {\"outlinewidth\": 0, \"ticks\": \"\"}}, \"type\": \"scatterpolargl\"}], \"scatterternary\": [{\"marker\": {\"colorbar\": {\"outlinewidth\": 0, \"ticks\": \"\"}}, \"type\": \"scatterternary\"}], \"surface\": [{\"colorbar\": {\"outlinewidth\": 0, \"ticks\": \"\"}, \"colorscale\": [[0.0, \"#0d0887\"], [0.1111111111111111, \"#46039f\"], [0.2222222222222222, \"#7201a8\"], [0.3333333333333333, \"#9c179e\"], [0.4444444444444444, \"#bd3786\"], [0.5555555555555556, \"#d8576b\"], [0.6666666666666666, \"#ed7953\"], [0.7777777777777778, \"#fb9f3a\"], [0.8888888888888888, \"#fdca26\"], [1.0, \"#f0f921\"]], \"type\": \"surface\"}], \"table\": [{\"cells\": {\"fill\": {\"color\": \"#EBF0F8\"}, \"line\": {\"color\": \"white\"}}, \"header\": {\"fill\": {\"color\": \"#C8D4E3\"}, \"line\": {\"color\": \"white\"}}, \"type\": \"table\"}]}, \"layout\": {\"annotationdefaults\": {\"arrowcolor\": \"#2a3f5f\", \"arrowhead\": 0, \"arrowwidth\": 1}, \"autotypenumbers\": \"strict\", \"coloraxis\": {\"colorbar\": {\"outlinewidth\": 0, \"ticks\": \"\"}}, \"colorscale\": {\"diverging\": [[0, \"#8e0152\"], [0.1, \"#c51b7d\"], [0.2, \"#de77ae\"], [0.3, \"#f1b6da\"], [0.4, \"#fde0ef\"], [0.5, \"#f7f7f7\"], [0.6, \"#e6f5d0\"], [0.7, \"#b8e186\"], [0.8, \"#7fbc41\"], [0.9, \"#4d9221\"], [1, \"#276419\"]], \"sequential\": [[0.0, \"#0d0887\"], [0.1111111111111111, \"#46039f\"], [0.2222222222222222, \"#7201a8\"], [0.3333333333333333, \"#9c179e\"], [0.4444444444444444, \"#bd3786\"], [0.5555555555555556, \"#d8576b\"], [0.6666666666666666, \"#ed7953\"], [0.7777777777777778, \"#fb9f3a\"], [0.8888888888888888, \"#fdca26\"], [1.0, \"#f0f921\"]], \"sequentialminus\": [[0.0, \"#0d0887\"], [0.1111111111111111, \"#46039f\"], [0.2222222222222222, \"#7201a8\"], [0.3333333333333333, \"#9c179e\"], [0.4444444444444444, \"#bd3786\"], [0.5555555555555556, \"#d8576b\"], [0.6666666666666666, \"#ed7953\"], [0.7777777777777778, \"#fb9f3a\"], [0.8888888888888888, \"#fdca26\"], [1.0, \"#f0f921\"]]}, \"colorway\": [\"#636efa\", \"#EF553B\", \"#00cc96\", \"#ab63fa\", \"#FFA15A\", \"#19d3f3\", \"#FF6692\", \"#B6E880\", \"#FF97FF\", \"#FECB52\"], \"font\": {\"color\": \"#2a3f5f\"}, \"geo\": {\"bgcolor\": \"white\", \"lakecolor\": \"white\", \"landcolor\": \"#E5ECF6\", \"showlakes\": true, \"showland\": true, \"subunitcolor\": \"white\"}, \"hoverlabel\": {\"align\": \"left\"}, \"hovermode\": \"closest\", \"mapbox\": {\"style\": \"light\"}, \"paper_bgcolor\": \"white\", \"plot_bgcolor\": \"#E5ECF6\", \"polar\": {\"angularaxis\": {\"gridcolor\": \"white\", \"linecolor\": \"white\", \"ticks\": \"\"}, \"bgcolor\": \"#E5ECF6\", \"radialaxis\": {\"gridcolor\": \"white\", \"linecolor\": \"white\", \"ticks\": \"\"}}, \"scene\": {\"xaxis\": {\"backgroundcolor\": \"#E5ECF6\", \"gridcolor\": \"white\", \"gridwidth\": 2, \"linecolor\": \"white\", \"showbackground\": true, \"ticks\": \"\", \"zerolinecolor\": \"white\"}, \"yaxis\": {\"backgroundcolor\": \"#E5ECF6\", \"gridcolor\": \"white\", \"gridwidth\": 2, \"linecolor\": \"white\", \"showbackground\": true, \"ticks\": \"\", \"zerolinecolor\": \"white\"}, \"zaxis\": {\"backgroundcolor\": \"#E5ECF6\", \"gridcolor\": \"white\", \"gridwidth\": 2, \"linecolor\": \"white\", \"showbackground\": true, \"ticks\": \"\", \"zerolinecolor\": \"white\"}}, \"shapedefaults\": {\"line\": {\"color\": \"#2a3f5f\"}}, \"ternary\": {\"aaxis\": {\"gridcolor\": \"white\", \"linecolor\": \"white\", \"ticks\": \"\"}, \"baxis\": {\"gridcolor\": \"white\", \"linecolor\": \"white\", \"ticks\": \"\"}, \"bgcolor\": \"#E5ECF6\", \"caxis\": {\"gridcolor\": \"white\", \"linecolor\": \"white\", \"ticks\": \"\"}}, \"title\": {\"x\": 0.05}, \"xaxis\": {\"automargin\": true, \"gridcolor\": \"white\", \"linecolor\": \"white\", \"ticks\": \"\", \"title\": {\"standoff\": 15}, \"zerolinecolor\": \"white\", \"zerolinewidth\": 2}, \"yaxis\": {\"automargin\": true, \"gridcolor\": \"white\", \"linecolor\": \"white\", \"ticks\": \"\", \"title\": {\"standoff\": 15}, \"zerolinecolor\": \"white\", \"zerolinewidth\": 2}}}},                        {\"responsive\": true}                    ).then(function(){\n",
       "                            \n",
       "var gd = document.getElementById('33e4def1-4e01-4b1b-9b30-8309d1a0fd01');\n",
       "var x = new MutationObserver(function (mutations, observer) {{\n",
       "        var display = window.getComputedStyle(gd).display;\n",
       "        if (!display || display === 'none') {{\n",
       "            console.log([gd, 'removed!']);\n",
       "            Plotly.purge(gd);\n",
       "            observer.disconnect();\n",
       "        }}\n",
       "}});\n",
       "\n",
       "// Listen for the removal of the full notebook cells\n",
       "var notebookContainer = gd.closest('#notebook-container');\n",
       "if (notebookContainer) {{\n",
       "    x.observe(notebookContainer, {childList: true});\n",
       "}}\n",
       "\n",
       "// Listen for the clearing of the current output cell\n",
       "var outputEl = gd.closest('.output');\n",
       "if (outputEl) {{\n",
       "    x.observe(outputEl, {childList: true});\n",
       "}}\n",
       "\n",
       "                        })                };                });            </script>        </div>"
      ]
     },
     "metadata": {},
     "output_type": "display_data"
    }
   ],
   "source": [
    "fig = px.treemap(stores, path=['state', 'city'])\n",
    "fig.show()"
   ]
  },
  {
   "cell_type": "markdown",
   "id": "fantastic-piano",
   "metadata": {},
   "source": [
    "Overall, there are stores in 22 cities and 16 states.<br>\n",
    "Most of the stores are in Quito (in Pichincha), which has 18 stores, and Guayaquil (in Guayas), which has 8 stores. This is to be expected because these are the largest and most populated cities in Ecuador. Most of the stores are in Pichincha and Guayas states. Further, all states except Guayas and Pichincha have stores in only one city. Guayas has stores in 4 cities while Pichincha has stores in 2 cities.<br>\n",
    "The most commonly seen types of stores are D and C, although it is unclear what these types mean. Similarly, it is difficult to determine what clusters mean whithout having complete information of the basis on which the clustering was done. From the EDA, we know the clusters range from 1 to 17. "
   ]
  }
 ],
 "metadata": {
  "kernelspec": {
   "display_name": "Python 3",
   "language": "python",
   "name": "python3"
  },
  "language_info": {
   "codemirror_mode": {
    "name": "ipython",
    "version": 3
   },
   "file_extension": ".py",
   "mimetype": "text/x-python",
   "name": "python",
   "nbconvert_exporter": "python",
   "pygments_lexer": "ipython3",
   "version": "3.8.8"
  }
 },
 "nbformat": 4,
 "nbformat_minor": 5
}
