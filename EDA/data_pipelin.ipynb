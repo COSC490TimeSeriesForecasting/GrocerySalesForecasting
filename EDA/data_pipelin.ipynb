{
 "cells": [
  {
   "cell_type": "markdown",
   "metadata": {},
   "source": [
    "## Data Pipline \n",
    "\n",
    "Preparing individual dataset for merging  \n",
    "\n",
    "Train and transactions obtained from eda.ipynb \n",
    "Holidays, Oil , Items , and stores obtained from Data_Overview"
   ]
  },
  {
   "cell_type": "code",
   "execution_count": 1,
   "metadata": {},
   "outputs": [],
   "source": [
    "import pandas as pd\n",
    "import seaborn as sns \n",
    "import numpy as np \n",
    "import datetime\n",
    "import os \n",
    "from matplotlib import pyplot as plt\n",
    "import random\n",
    "import dask.dataframe as dd\n",
    "from sklearn import preprocessing"
   ]
  },
  {
   "cell_type": "markdown",
   "metadata": {},
   "source": [
    "Train"
   ]
  },
  {
   "cell_type": "code",
   "execution_count": 38,
   "metadata": {},
   "outputs": [
    {
     "name": "stderr",
     "output_type": "stream",
     "text": [
      "/Users/davidpinosproano/opt/miniconda3/lib/python3.8/site-packages/IPython/core/interactiveshell.py:3417: DtypeWarning: Columns (5) have mixed types.Specify dtype option on import or set low_memory=False.\n",
      "  exec(code_obj, self.user_global_ns, self.user_ns)\n"
     ]
    }
   ],
   "source": [
    "# optimizing size of data types \n",
    "dtype_dict={\"id\":'int32',\n",
    "            \"store_nbr\":'int8',\n",
    "            \"item_nbr\":'int32',\n",
    "            \"unit_sales\":'float32',\n",
    "            \n",
    "           }\n",
    "df1 = pd.read_csv(\"/Volumes/HD David/COSC490/favorita-grocery-sales-forecasting/train.csv\",dtype=dtype_dict,parse_dates=['date'])"
   ]
  },
  {
   "cell_type": "code",
   "execution_count": 74,
   "metadata": {},
   "outputs": [],
   "source": [
    "\n",
    "top10 = df1.item_nbr.value_counts().head(10).index\n"
   ]
  },
  {
   "cell_type": "code",
   "execution_count": 78,
   "metadata": {},
   "outputs": [],
   "source": [
    "df1 = df1[df1.item_nbr.isin(top10)].reset_index(drop = True)"
   ]
  },
  {
   "cell_type": "code",
   "execution_count": 79,
   "metadata": {},
   "outputs": [
    {
     "data": {
      "text/plain": [
       "id                      int32\n",
       "date           datetime64[ns]\n",
       "store_nbr                int8\n",
       "item_nbr                int32\n",
       "unit_sales            float32\n",
       "onpromotion              int8\n",
       "dtype: object"
      ]
     },
     "execution_count": 79,
     "metadata": {},
     "output_type": "execute_result"
    }
   ],
   "source": [
    "df1['onpromotion'] = df1['onpromotion'].fillna(0)\n",
    "df1['onpromotion'] = df1['onpromotion'].astype('int8')\n",
    "df1.dtypes\n",
    "\n"
   ]
  },
  {
   "cell_type": "markdown",
   "metadata": {},
   "source": [
    "Transactions "
   ]
  },
  {
   "cell_type": "code",
   "execution_count": 80,
   "metadata": {},
   "outputs": [],
   "source": [
    "dtype_dict={\"id\":'int32',\n",
    "            \"store_nbr\":'int8',\n",
    "            \"transactions\":'int32',\n",
    "\n",
    "           }\n",
    "transactions= pd.read_csv(\"/Volumes/HD David/COSC490/favorita-grocery-sales-forecasting/transactions.csv\",dtype=dtype_dict,parse_dates=['date'])\n"
   ]
  },
  {
   "cell_type": "code",
   "execution_count": 81,
   "metadata": {},
   "outputs": [
    {
     "data": {
      "text/plain": [
       "date            datetime64[ns]\n",
       "store_nbr                 int8\n",
       "transactions             int32\n",
       "dtype: object"
      ]
     },
     "execution_count": 81,
     "metadata": {},
     "output_type": "execute_result"
    }
   ],
   "source": [
    "transactions.dtypes\n"
   ]
  },
  {
   "cell_type": "markdown",
   "metadata": {},
   "source": [
    "Holidays"
   ]
  },
  {
   "cell_type": "code",
   "execution_count": 82,
   "metadata": {},
   "outputs": [],
   "source": [
    "\n",
    "holidays = pd.read_csv(\"/Volumes/HD David/COSC490/Clean_Data/holidays_clean.csv\", parse_dates = ['date'])\n",
    "holidays = holidays.drop(columns = ['Unnamed: 0'])"
   ]
  },
  {
   "cell_type": "code",
   "execution_count": 83,
   "metadata": {},
   "outputs": [],
   "source": [
    "# Cleaning holidays table to generate a df with columns date and holiday(bool)\n",
    "\n",
    "holidays = holidays.drop(holidays[holidays.transferred== True ].index)\n",
    "holidays = holidays[(holidays.type == 'Holiday') | (holidays.type == 'Bridge')]\n",
    "holidays = holidays[holidays.locale == 'National']\n",
    "holidays['holiday'] = 1\n"
   ]
  },
  {
   "cell_type": "code",
   "execution_count": 84,
   "metadata": {},
   "outputs": [],
   "source": [
    "#list of national holidays \n",
    "holidays = holidays[['date','holiday']]"
   ]
  },
  {
   "cell_type": "markdown",
   "metadata": {},
   "source": [
    "Oil "
   ]
  },
  {
   "cell_type": "code",
   "execution_count": 85,
   "metadata": {},
   "outputs": [],
   "source": [
    "oil = pd.read_csv(\"/Volumes/HD David/COSC490/Clean_Data/oil_clean.csv\", parse_dates = ['date'])\n",
    "oil = oil.drop(columns = ['Unnamed: 0'])"
   ]
  },
  {
   "cell_type": "markdown",
   "metadata": {},
   "source": [
    "Items "
   ]
  },
  {
   "cell_type": "code",
   "execution_count": 86,
   "metadata": {},
   "outputs": [],
   "source": [
    "items = pd.read_csv(\"/Volumes/HD David/COSC490/Clean_Data/items_clean.csv\")\n",
    "items = items.drop(columns = ['Unnamed: 0'])"
   ]
  },
  {
   "cell_type": "markdown",
   "metadata": {},
   "source": [
    "Stores"
   ]
  },
  {
   "cell_type": "code",
   "execution_count": 87,
   "metadata": {},
   "outputs": [],
   "source": [
    "stores = pd.read_csv(\"/Volumes/HD David/COSC490/Clean_Data/stores_clean.csv\")\n",
    "stores = stores.drop(columns = ['Unnamed: 0'])"
   ]
  },
  {
   "cell_type": "markdown",
   "metadata": {},
   "source": [
    "# City only \n"
   ]
  },
  {
   "cell_type": "code",
   "execution_count": 88,
   "metadata": {},
   "outputs": [],
   "source": [
    "\n",
    "lis = stores[stores['city']==\"Quito\"]['store_nbr'].tolist()\n"
   ]
  },
  {
   "cell_type": "markdown",
   "metadata": {},
   "source": [
    "# Sample from the Data "
   ]
  },
  {
   "cell_type": "code",
   "execution_count": 90,
   "metadata": {},
   "outputs": [],
   "source": [
    "# sampling 10% of the training dataset\n",
    "random.seed(10000)\n",
    "\n",
    "sample1 = df1.sample(n= round(len(df1)*0.5),random_state = 100)\n"
   ]
  },
  {
   "cell_type": "markdown",
   "metadata": {},
   "source": [
    "# Join Tables"
   ]
  },
  {
   "cell_type": "code",
   "execution_count": 91,
   "metadata": {},
   "outputs": [
    {
     "data": {
      "text/html": [
       "<div>\n",
       "<style scoped>\n",
       "    .dataframe tbody tr th:only-of-type {\n",
       "        vertical-align: middle;\n",
       "    }\n",
       "\n",
       "    .dataframe tbody tr th {\n",
       "        vertical-align: top;\n",
       "    }\n",
       "\n",
       "    .dataframe thead th {\n",
       "        text-align: right;\n",
       "    }\n",
       "</style>\n",
       "<table border=\"1\" class=\"dataframe\">\n",
       "  <thead>\n",
       "    <tr style=\"text-align: right;\">\n",
       "      <th></th>\n",
       "      <th>id</th>\n",
       "      <th>date</th>\n",
       "      <th>store_nbr</th>\n",
       "      <th>item_nbr</th>\n",
       "      <th>unit_sales</th>\n",
       "      <th>onpromotion</th>\n",
       "    </tr>\n",
       "  </thead>\n",
       "  <tbody>\n",
       "    <tr>\n",
       "      <th>0</th>\n",
       "      <td>84</td>\n",
       "      <td>2013-01-01</td>\n",
       "      <td>25</td>\n",
       "      <td>261052</td>\n",
       "      <td>1.0</td>\n",
       "      <td>0</td>\n",
       "    </tr>\n",
       "    <tr>\n",
       "      <th>1</th>\n",
       "      <td>92</td>\n",
       "      <td>2013-01-01</td>\n",
       "      <td>25</td>\n",
       "      <td>265559</td>\n",
       "      <td>2.0</td>\n",
       "      <td>0</td>\n",
       "    </tr>\n",
       "    <tr>\n",
       "      <th>2</th>\n",
       "      <td>98</td>\n",
       "      <td>2013-01-01</td>\n",
       "      <td>25</td>\n",
       "      <td>273528</td>\n",
       "      <td>2.0</td>\n",
       "      <td>0</td>\n",
       "    </tr>\n",
       "    <tr>\n",
       "      <th>3</th>\n",
       "      <td>116</td>\n",
       "      <td>2013-01-01</td>\n",
       "      <td>25</td>\n",
       "      <td>314384</td>\n",
       "      <td>8.0</td>\n",
       "      <td>0</td>\n",
       "    </tr>\n",
       "    <tr>\n",
       "      <th>4</th>\n",
       "      <td>151</td>\n",
       "      <td>2013-01-01</td>\n",
       "      <td>25</td>\n",
       "      <td>364606</td>\n",
       "      <td>5.0</td>\n",
       "      <td>0</td>\n",
       "    </tr>\n",
       "    <tr>\n",
       "      <th>...</th>\n",
       "      <td>...</td>\n",
       "      <td>...</td>\n",
       "      <td>...</td>\n",
       "      <td>...</td>\n",
       "      <td>...</td>\n",
       "      <td>...</td>\n",
       "    </tr>\n",
       "    <tr>\n",
       "      <th>825645</th>\n",
       "      <td>125495909</td>\n",
       "      <td>2017-08-15</td>\n",
       "      <td>54</td>\n",
       "      <td>414353</td>\n",
       "      <td>12.0</td>\n",
       "      <td>0</td>\n",
       "    </tr>\n",
       "    <tr>\n",
       "      <th>825646</th>\n",
       "      <td>125495958</td>\n",
       "      <td>2017-08-15</td>\n",
       "      <td>54</td>\n",
       "      <td>502331</td>\n",
       "      <td>59.0</td>\n",
       "      <td>0</td>\n",
       "    </tr>\n",
       "    <tr>\n",
       "      <th>825647</th>\n",
       "      <td>125495995</td>\n",
       "      <td>2017-08-15</td>\n",
       "      <td>54</td>\n",
       "      <td>559870</td>\n",
       "      <td>6.0</td>\n",
       "      <td>0</td>\n",
       "    </tr>\n",
       "    <tr>\n",
       "      <th>825648</th>\n",
       "      <td>125496000</td>\n",
       "      <td>2017-08-15</td>\n",
       "      <td>54</td>\n",
       "      <td>564533</td>\n",
       "      <td>15.0</td>\n",
       "      <td>0</td>\n",
       "    </tr>\n",
       "    <tr>\n",
       "      <th>825649</th>\n",
       "      <td>125496247</td>\n",
       "      <td>2017-08-15</td>\n",
       "      <td>54</td>\n",
       "      <td>1036689</td>\n",
       "      <td>7.0</td>\n",
       "      <td>0</td>\n",
       "    </tr>\n",
       "  </tbody>\n",
       "</table>\n",
       "<p>825650 rows × 6 columns</p>\n",
       "</div>"
      ],
      "text/plain": [
       "               id       date  store_nbr  item_nbr  unit_sales  onpromotion\n",
       "0              84 2013-01-01         25    261052         1.0            0\n",
       "1              92 2013-01-01         25    265559         2.0            0\n",
       "2              98 2013-01-01         25    273528         2.0            0\n",
       "3             116 2013-01-01         25    314384         8.0            0\n",
       "4             151 2013-01-01         25    364606         5.0            0\n",
       "...           ...        ...        ...       ...         ...          ...\n",
       "825645  125495909 2017-08-15         54    414353        12.0            0\n",
       "825646  125495958 2017-08-15         54    502331        59.0            0\n",
       "825647  125495995 2017-08-15         54    559870         6.0            0\n",
       "825648  125496000 2017-08-15         54    564533        15.0            0\n",
       "825649  125496247 2017-08-15         54   1036689         7.0            0\n",
       "\n",
       "[825650 rows x 6 columns]"
      ]
     },
     "execution_count": 91,
     "metadata": {},
     "output_type": "execute_result"
    }
   ],
   "source": [
    "sample1"
   ]
  },
  {
   "cell_type": "code",
   "execution_count": 92,
   "metadata": {},
   "outputs": [],
   "source": [
    "# worked well on merging trasnactions with 10 percent of the data \n",
    "train_tran = sample1.merge(transactions,on = ['date','store_nbr'],how = 'inner')"
   ]
  },
  {
   "cell_type": "code",
   "execution_count": 93,
   "metadata": {},
   "outputs": [],
   "source": [
    "train_tran_stores = train_tran.merge(stores,on = \"store_nbr\",how = \"inner\")"
   ]
  },
  {
   "cell_type": "code",
   "execution_count": 94,
   "metadata": {},
   "outputs": [],
   "source": [
    "train_tran_stores_oil = train_tran_stores.merge(oil, on = \"date\",how = \"inner\")"
   ]
  },
  {
   "cell_type": "code",
   "execution_count": 95,
   "metadata": {},
   "outputs": [],
   "source": [
    "train_tran_stores_oil_items = train_tran_stores_oil.merge(items,on = \"item_nbr\", how = \"inner\")"
   ]
  },
  {
   "cell_type": "code",
   "execution_count": 96,
   "metadata": {},
   "outputs": [],
   "source": [
    "#holiday yes no has to be binary \n",
    "\n",
    "# holidays[['date','locale']].sort_values(by = 'date')\n",
    "train_tran_stores_oil_items_hol = train_tran_stores_oil_items.merge(holidays, on = 'date',how = 'left')\n"
   ]
  },
  {
   "cell_type": "markdown",
   "metadata": {},
   "source": [
    "# Exploration\n",
    "-----------------------"
   ]
  },
  {
   "cell_type": "code",
   "execution_count": 97,
   "metadata": {},
   "outputs": [
    {
     "name": "stdout",
     "output_type": "stream",
     "text": [
      "sample\n",
      "825650\n",
      "transactions\n",
      "824494\n",
      "sotores\n",
      "824494\n",
      "oil\n",
      "824494\n",
      "items\n",
      "824494\n",
      "hol\n",
      "824494\n"
     ]
    }
   ],
   "source": [
    "# verify joins working as needed\n",
    "print(\"sample\")\n",
    "print(len(sample1))\n",
    "print(\"transactions\")\n",
    "print(len(train_tran))\n",
    "print(\"sotores\")\n",
    "print( len(train_tran_stores))\n",
    "print(\"oil\")\n",
    "print( len(train_tran_stores_oil))\n",
    "print(\"items\")\n",
    "print(len(train_tran_stores_oil_items))\n",
    "print(\"hol\")\n",
    "print( len(train_tran_stores_oil_items_hol))\n"
   ]
  },
  {
   "cell_type": "code",
   "execution_count": 98,
   "metadata": {},
   "outputs": [
    {
     "data": {
      "text/plain": [
       "0.9982895214102261"
      ]
     },
     "execution_count": 98,
     "metadata": {},
     "output_type": "execute_result"
    }
   ],
   "source": [
    "# doing a left join produces 1 percent more data due to more than one holiday landing on the same day. \n",
    "12528238/12549704"
   ]
  },
  {
   "cell_type": "markdown",
   "metadata": {},
   "source": [
    "Final feature engineering "
   ]
  },
  {
   "cell_type": "code",
   "execution_count": 99,
   "metadata": {},
   "outputs": [],
   "source": [
    "train_tran_stores_oil_items_hol['holiday'] = train_tran_stores_oil_items_hol['holiday'].fillna(0)"
   ]
  },
  {
   "cell_type": "code",
   "execution_count": 100,
   "metadata": {},
   "outputs": [],
   "source": [
    "# this is the output after removing cluster,type,city,state,and class using a sample of 10 percent of the data. \n",
    "\n",
    "final_sample = train_tran_stores_oil_items_hol.drop(columns = ['cluster','type','city','state','class'])\n"
   ]
  },
  {
   "cell_type": "code",
   "execution_count": 101,
   "metadata": {},
   "outputs": [
    {
     "data": {
      "text/plain": [
       "502331     83359\n",
       "314384     83332\n",
       "364606     83192\n",
       "265559     82931\n",
       "559870     82397\n",
       "1036689    82020\n",
       "273528     81999\n",
       "564533     81968\n",
       "261052     81656\n",
       "414353     81640\n",
       "Name: item_nbr, dtype: int64"
      ]
     },
     "execution_count": 101,
     "metadata": {},
     "output_type": "execute_result"
    }
   ],
   "source": [
    "# make categorical variables into numerical\n",
    "# using sklearn encoding\n",
    "# we need to categorize  store number , item _nbr \n",
    "final_sample['item_nbr'].value_counts()"
   ]
  },
  {
   "cell_type": "code",
   "execution_count": 102,
   "metadata": {},
   "outputs": [
    {
     "data": {
      "text/html": [
       "<div>\n",
       "<style scoped>\n",
       "    .dataframe tbody tr th:only-of-type {\n",
       "        vertical-align: middle;\n",
       "    }\n",
       "\n",
       "    .dataframe tbody tr th {\n",
       "        vertical-align: top;\n",
       "    }\n",
       "\n",
       "    .dataframe thead th {\n",
       "        text-align: right;\n",
       "    }\n",
       "</style>\n",
       "<table border=\"1\" class=\"dataframe\">\n",
       "  <thead>\n",
       "    <tr style=\"text-align: right;\">\n",
       "      <th></th>\n",
       "      <th>id</th>\n",
       "      <th>date</th>\n",
       "      <th>store_nbr</th>\n",
       "      <th>item_nbr</th>\n",
       "      <th>unit_sales</th>\n",
       "      <th>onpromotion</th>\n",
       "      <th>transactions</th>\n",
       "      <th>oil_price</th>\n",
       "      <th>family</th>\n",
       "      <th>perishable</th>\n",
       "      <th>holiday</th>\n",
       "    </tr>\n",
       "  </thead>\n",
       "  <tbody>\n",
       "    <tr>\n",
       "      <th>0</th>\n",
       "      <td>84</td>\n",
       "      <td>2013-01-01</td>\n",
       "      <td>25</td>\n",
       "      <td>261052</td>\n",
       "      <td>1.0</td>\n",
       "      <td>0</td>\n",
       "      <td>770</td>\n",
       "      <td>93.14</td>\n",
       "      <td>GROCERY I</td>\n",
       "      <td>0</td>\n",
       "      <td>1.0</td>\n",
       "    </tr>\n",
       "    <tr>\n",
       "      <th>1</th>\n",
       "      <td>19934</td>\n",
       "      <td>2013-01-02</td>\n",
       "      <td>25</td>\n",
       "      <td>261052</td>\n",
       "      <td>3.0</td>\n",
       "      <td>0</td>\n",
       "      <td>1038</td>\n",
       "      <td>93.14</td>\n",
       "      <td>GROCERY I</td>\n",
       "      <td>0</td>\n",
       "      <td>0.0</td>\n",
       "    </tr>\n",
       "    <tr>\n",
       "      <th>2</th>\n",
       "      <td>737</td>\n",
       "      <td>2013-01-02</td>\n",
       "      <td>1</td>\n",
       "      <td>261052</td>\n",
       "      <td>23.0</td>\n",
       "      <td>0</td>\n",
       "      <td>2111</td>\n",
       "      <td>93.14</td>\n",
       "      <td>GROCERY I</td>\n",
       "      <td>0</td>\n",
       "      <td>0.0</td>\n",
       "    </tr>\n",
       "    <tr>\n",
       "      <th>3</th>\n",
       "      <td>1762</td>\n",
       "      <td>2013-01-02</td>\n",
       "      <td>2</td>\n",
       "      <td>261052</td>\n",
       "      <td>38.0</td>\n",
       "      <td>0</td>\n",
       "      <td>2358</td>\n",
       "      <td>93.14</td>\n",
       "      <td>GROCERY I</td>\n",
       "      <td>0</td>\n",
       "      <td>0.0</td>\n",
       "    </tr>\n",
       "    <tr>\n",
       "      <th>4</th>\n",
       "      <td>2875</td>\n",
       "      <td>2013-01-02</td>\n",
       "      <td>3</td>\n",
       "      <td>261052</td>\n",
       "      <td>92.0</td>\n",
       "      <td>0</td>\n",
       "      <td>3487</td>\n",
       "      <td>93.14</td>\n",
       "      <td>GROCERY I</td>\n",
       "      <td>0</td>\n",
       "      <td>0.0</td>\n",
       "    </tr>\n",
       "    <tr>\n",
       "      <th>...</th>\n",
       "      <td>...</td>\n",
       "      <td>...</td>\n",
       "      <td>...</td>\n",
       "      <td>...</td>\n",
       "      <td>...</td>\n",
       "      <td>...</td>\n",
       "      <td>...</td>\n",
       "      <td>...</td>\n",
       "      <td>...</td>\n",
       "      <td>...</td>\n",
       "      <td>...</td>\n",
       "    </tr>\n",
       "    <tr>\n",
       "      <th>824489</th>\n",
       "      <td>94998903</td>\n",
       "      <td>2016-10-26</td>\n",
       "      <td>20</td>\n",
       "      <td>1036689</td>\n",
       "      <td>8.0</td>\n",
       "      <td>0</td>\n",
       "      <td>1220</td>\n",
       "      <td>48.75</td>\n",
       "      <td>GROCERY I</td>\n",
       "      <td>0</td>\n",
       "      <td>0.0</td>\n",
       "    </tr>\n",
       "    <tr>\n",
       "      <th>824490</th>\n",
       "      <td>95011970</td>\n",
       "      <td>2016-10-26</td>\n",
       "      <td>29</td>\n",
       "      <td>1036689</td>\n",
       "      <td>9.0</td>\n",
       "      <td>0</td>\n",
       "      <td>945</td>\n",
       "      <td>48.75</td>\n",
       "      <td>GROCERY I</td>\n",
       "      <td>0</td>\n",
       "      <td>0.0</td>\n",
       "    </tr>\n",
       "    <tr>\n",
       "      <th>824491</th>\n",
       "      <td>95000630</td>\n",
       "      <td>2016-10-26</td>\n",
       "      <td>21</td>\n",
       "      <td>1036689</td>\n",
       "      <td>14.0</td>\n",
       "      <td>0</td>\n",
       "      <td>872</td>\n",
       "      <td>48.75</td>\n",
       "      <td>GROCERY I</td>\n",
       "      <td>0</td>\n",
       "      <td>0.0</td>\n",
       "    </tr>\n",
       "    <tr>\n",
       "      <th>824492</th>\n",
       "      <td>95032110</td>\n",
       "      <td>2016-10-26</td>\n",
       "      <td>42</td>\n",
       "      <td>1036689</td>\n",
       "      <td>29.0</td>\n",
       "      <td>0</td>\n",
       "      <td>1017</td>\n",
       "      <td>48.75</td>\n",
       "      <td>GROCERY I</td>\n",
       "      <td>0</td>\n",
       "      <td>0.0</td>\n",
       "    </tr>\n",
       "    <tr>\n",
       "      <th>824493</th>\n",
       "      <td>95002073</td>\n",
       "      <td>2016-10-26</td>\n",
       "      <td>22</td>\n",
       "      <td>1036689</td>\n",
       "      <td>8.0</td>\n",
       "      <td>0</td>\n",
       "      <td>633</td>\n",
       "      <td>48.75</td>\n",
       "      <td>GROCERY I</td>\n",
       "      <td>0</td>\n",
       "      <td>0.0</td>\n",
       "    </tr>\n",
       "  </tbody>\n",
       "</table>\n",
       "<p>824494 rows × 11 columns</p>\n",
       "</div>"
      ],
      "text/plain": [
       "              id       date  store_nbr  item_nbr  unit_sales  onpromotion  \\\n",
       "0             84 2013-01-01         25    261052         1.0            0   \n",
       "1          19934 2013-01-02         25    261052         3.0            0   \n",
       "2            737 2013-01-02          1    261052        23.0            0   \n",
       "3           1762 2013-01-02          2    261052        38.0            0   \n",
       "4           2875 2013-01-02          3    261052        92.0            0   \n",
       "...          ...        ...        ...       ...         ...          ...   \n",
       "824489  94998903 2016-10-26         20   1036689         8.0            0   \n",
       "824490  95011970 2016-10-26         29   1036689         9.0            0   \n",
       "824491  95000630 2016-10-26         21   1036689        14.0            0   \n",
       "824492  95032110 2016-10-26         42   1036689        29.0            0   \n",
       "824493  95002073 2016-10-26         22   1036689         8.0            0   \n",
       "\n",
       "        transactions  oil_price     family  perishable  holiday  \n",
       "0                770      93.14  GROCERY I           0      1.0  \n",
       "1               1038      93.14  GROCERY I           0      0.0  \n",
       "2               2111      93.14  GROCERY I           0      0.0  \n",
       "3               2358      93.14  GROCERY I           0      0.0  \n",
       "4               3487      93.14  GROCERY I           0      0.0  \n",
       "...              ...        ...        ...         ...      ...  \n",
       "824489          1220      48.75  GROCERY I           0      0.0  \n",
       "824490           945      48.75  GROCERY I           0      0.0  \n",
       "824491           872      48.75  GROCERY I           0      0.0  \n",
       "824492          1017      48.75  GROCERY I           0      0.0  \n",
       "824493           633      48.75  GROCERY I           0      0.0  \n",
       "\n",
       "[824494 rows x 11 columns]"
      ]
     },
     "execution_count": 102,
     "metadata": {},
     "output_type": "execute_result"
    }
   ],
   "source": [
    "final_sample"
   ]
  },
  {
   "cell_type": "code",
   "execution_count": 103,
   "metadata": {},
   "outputs": [],
   "source": [
    "# scikit learn exploration \n",
    "from sklearn.preprocessing import LabelEncoder\n"
   ]
  },
  {
   "cell_type": "code",
   "execution_count": 104,
   "metadata": {},
   "outputs": [],
   "source": [
    "# encoding categorical variable \n",
    "final_sample['family_cat'] = LabelEncoder().fit_transform(final_sample['family'])"
   ]
  },
  {
   "cell_type": "code",
   "execution_count": 105,
   "metadata": {},
   "outputs": [
    {
     "data": {
      "text/html": [
       "<div>\n",
       "<style scoped>\n",
       "    .dataframe tbody tr th:only-of-type {\n",
       "        vertical-align: middle;\n",
       "    }\n",
       "\n",
       "    .dataframe tbody tr th {\n",
       "        vertical-align: top;\n",
       "    }\n",
       "\n",
       "    .dataframe thead th {\n",
       "        text-align: right;\n",
       "    }\n",
       "</style>\n",
       "<table border=\"1\" class=\"dataframe\">\n",
       "  <thead>\n",
       "    <tr style=\"text-align: right;\">\n",
       "      <th></th>\n",
       "      <th>id</th>\n",
       "      <th>date</th>\n",
       "      <th>store_nbr</th>\n",
       "      <th>item_nbr</th>\n",
       "      <th>unit_sales</th>\n",
       "      <th>onpromotion</th>\n",
       "      <th>transactions</th>\n",
       "      <th>oil_price</th>\n",
       "      <th>family</th>\n",
       "      <th>perishable</th>\n",
       "      <th>holiday</th>\n",
       "      <th>family_cat</th>\n",
       "    </tr>\n",
       "  </thead>\n",
       "  <tbody>\n",
       "    <tr>\n",
       "      <th>0</th>\n",
       "      <td>84</td>\n",
       "      <td>2013-01-01</td>\n",
       "      <td>25</td>\n",
       "      <td>261052</td>\n",
       "      <td>1.0</td>\n",
       "      <td>0</td>\n",
       "      <td>770</td>\n",
       "      <td>93.14</td>\n",
       "      <td>GROCERY I</td>\n",
       "      <td>0</td>\n",
       "      <td>1.0</td>\n",
       "      <td>1</td>\n",
       "    </tr>\n",
       "    <tr>\n",
       "      <th>1</th>\n",
       "      <td>19934</td>\n",
       "      <td>2013-01-02</td>\n",
       "      <td>25</td>\n",
       "      <td>261052</td>\n",
       "      <td>3.0</td>\n",
       "      <td>0</td>\n",
       "      <td>1038</td>\n",
       "      <td>93.14</td>\n",
       "      <td>GROCERY I</td>\n",
       "      <td>0</td>\n",
       "      <td>0.0</td>\n",
       "      <td>1</td>\n",
       "    </tr>\n",
       "    <tr>\n",
       "      <th>2</th>\n",
       "      <td>737</td>\n",
       "      <td>2013-01-02</td>\n",
       "      <td>1</td>\n",
       "      <td>261052</td>\n",
       "      <td>23.0</td>\n",
       "      <td>0</td>\n",
       "      <td>2111</td>\n",
       "      <td>93.14</td>\n",
       "      <td>GROCERY I</td>\n",
       "      <td>0</td>\n",
       "      <td>0.0</td>\n",
       "      <td>1</td>\n",
       "    </tr>\n",
       "    <tr>\n",
       "      <th>3</th>\n",
       "      <td>1762</td>\n",
       "      <td>2013-01-02</td>\n",
       "      <td>2</td>\n",
       "      <td>261052</td>\n",
       "      <td>38.0</td>\n",
       "      <td>0</td>\n",
       "      <td>2358</td>\n",
       "      <td>93.14</td>\n",
       "      <td>GROCERY I</td>\n",
       "      <td>0</td>\n",
       "      <td>0.0</td>\n",
       "      <td>1</td>\n",
       "    </tr>\n",
       "    <tr>\n",
       "      <th>4</th>\n",
       "      <td>2875</td>\n",
       "      <td>2013-01-02</td>\n",
       "      <td>3</td>\n",
       "      <td>261052</td>\n",
       "      <td>92.0</td>\n",
       "      <td>0</td>\n",
       "      <td>3487</td>\n",
       "      <td>93.14</td>\n",
       "      <td>GROCERY I</td>\n",
       "      <td>0</td>\n",
       "      <td>0.0</td>\n",
       "      <td>1</td>\n",
       "    </tr>\n",
       "    <tr>\n",
       "      <th>...</th>\n",
       "      <td>...</td>\n",
       "      <td>...</td>\n",
       "      <td>...</td>\n",
       "      <td>...</td>\n",
       "      <td>...</td>\n",
       "      <td>...</td>\n",
       "      <td>...</td>\n",
       "      <td>...</td>\n",
       "      <td>...</td>\n",
       "      <td>...</td>\n",
       "      <td>...</td>\n",
       "      <td>...</td>\n",
       "    </tr>\n",
       "    <tr>\n",
       "      <th>824489</th>\n",
       "      <td>94998903</td>\n",
       "      <td>2016-10-26</td>\n",
       "      <td>20</td>\n",
       "      <td>1036689</td>\n",
       "      <td>8.0</td>\n",
       "      <td>0</td>\n",
       "      <td>1220</td>\n",
       "      <td>48.75</td>\n",
       "      <td>GROCERY I</td>\n",
       "      <td>0</td>\n",
       "      <td>0.0</td>\n",
       "      <td>1</td>\n",
       "    </tr>\n",
       "    <tr>\n",
       "      <th>824490</th>\n",
       "      <td>95011970</td>\n",
       "      <td>2016-10-26</td>\n",
       "      <td>29</td>\n",
       "      <td>1036689</td>\n",
       "      <td>9.0</td>\n",
       "      <td>0</td>\n",
       "      <td>945</td>\n",
       "      <td>48.75</td>\n",
       "      <td>GROCERY I</td>\n",
       "      <td>0</td>\n",
       "      <td>0.0</td>\n",
       "      <td>1</td>\n",
       "    </tr>\n",
       "    <tr>\n",
       "      <th>824491</th>\n",
       "      <td>95000630</td>\n",
       "      <td>2016-10-26</td>\n",
       "      <td>21</td>\n",
       "      <td>1036689</td>\n",
       "      <td>14.0</td>\n",
       "      <td>0</td>\n",
       "      <td>872</td>\n",
       "      <td>48.75</td>\n",
       "      <td>GROCERY I</td>\n",
       "      <td>0</td>\n",
       "      <td>0.0</td>\n",
       "      <td>1</td>\n",
       "    </tr>\n",
       "    <tr>\n",
       "      <th>824492</th>\n",
       "      <td>95032110</td>\n",
       "      <td>2016-10-26</td>\n",
       "      <td>42</td>\n",
       "      <td>1036689</td>\n",
       "      <td>29.0</td>\n",
       "      <td>0</td>\n",
       "      <td>1017</td>\n",
       "      <td>48.75</td>\n",
       "      <td>GROCERY I</td>\n",
       "      <td>0</td>\n",
       "      <td>0.0</td>\n",
       "      <td>1</td>\n",
       "    </tr>\n",
       "    <tr>\n",
       "      <th>824493</th>\n",
       "      <td>95002073</td>\n",
       "      <td>2016-10-26</td>\n",
       "      <td>22</td>\n",
       "      <td>1036689</td>\n",
       "      <td>8.0</td>\n",
       "      <td>0</td>\n",
       "      <td>633</td>\n",
       "      <td>48.75</td>\n",
       "      <td>GROCERY I</td>\n",
       "      <td>0</td>\n",
       "      <td>0.0</td>\n",
       "      <td>1</td>\n",
       "    </tr>\n",
       "  </tbody>\n",
       "</table>\n",
       "<p>824494 rows × 12 columns</p>\n",
       "</div>"
      ],
      "text/plain": [
       "              id       date  store_nbr  item_nbr  unit_sales  onpromotion  \\\n",
       "0             84 2013-01-01         25    261052         1.0            0   \n",
       "1          19934 2013-01-02         25    261052         3.0            0   \n",
       "2            737 2013-01-02          1    261052        23.0            0   \n",
       "3           1762 2013-01-02          2    261052        38.0            0   \n",
       "4           2875 2013-01-02          3    261052        92.0            0   \n",
       "...          ...        ...        ...       ...         ...          ...   \n",
       "824489  94998903 2016-10-26         20   1036689         8.0            0   \n",
       "824490  95011970 2016-10-26         29   1036689         9.0            0   \n",
       "824491  95000630 2016-10-26         21   1036689        14.0            0   \n",
       "824492  95032110 2016-10-26         42   1036689        29.0            0   \n",
       "824493  95002073 2016-10-26         22   1036689         8.0            0   \n",
       "\n",
       "        transactions  oil_price     family  perishable  holiday  family_cat  \n",
       "0                770      93.14  GROCERY I           0      1.0           1  \n",
       "1               1038      93.14  GROCERY I           0      0.0           1  \n",
       "2               2111      93.14  GROCERY I           0      0.0           1  \n",
       "3               2358      93.14  GROCERY I           0      0.0           1  \n",
       "4               3487      93.14  GROCERY I           0      0.0           1  \n",
       "...              ...        ...        ...         ...      ...         ...  \n",
       "824489          1220      48.75  GROCERY I           0      0.0           1  \n",
       "824490           945      48.75  GROCERY I           0      0.0           1  \n",
       "824491           872      48.75  GROCERY I           0      0.0           1  \n",
       "824492          1017      48.75  GROCERY I           0      0.0           1  \n",
       "824493           633      48.75  GROCERY I           0      0.0           1  \n",
       "\n",
       "[824494 rows x 12 columns]"
      ]
     },
     "execution_count": 105,
     "metadata": {},
     "output_type": "execute_result"
    }
   ],
   "source": [
    "final_sample"
   ]
  },
  {
   "cell_type": "code",
   "execution_count": 106,
   "metadata": {},
   "outputs": [],
   "source": [
    "# final_sample.to_csv(\"/Volumes/HD David/COSC490/Clean_Data/final_sample_top10.csv\")\n"
   ]
  }
 ],
 "metadata": {
  "interpreter": {
   "hash": "aee8b7b246df8f9039afb4144a1f6fd8d2ca17a180786b69acc140d282b71a49"
  },
  "kernelspec": {
   "display_name": "Python 3.9.2 64-bit",
   "language": "python",
   "name": "python3"
  },
  "language_info": {
   "codemirror_mode": {
    "name": "ipython",
    "version": 3
   },
   "file_extension": ".py",
   "mimetype": "text/x-python",
   "name": "python",
   "nbconvert_exporter": "python",
   "pygments_lexer": "ipython3",
   "version": "3.8.3"
  },
  "orig_nbformat": 4
 },
 "nbformat": 4,
 "nbformat_minor": 2
}
