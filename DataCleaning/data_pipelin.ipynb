{
 "cells": [
  {
   "cell_type": "markdown",
   "metadata": {},
   "source": [
    "## Data Pipline \n",
    "\n",
    "Preparing individual dataset for merging  \n",
    "\n",
    "Train and transactions obtained from eda.ipynb \n",
    "Holidays, Oil , Items , and stores obtained from  ... "
   ]
  },
  {
   "cell_type": "code",
   "execution_count": 11,
   "metadata": {},
   "outputs": [],
   "source": [
    "import pandas as pd\n",
    "import seaborn as sns \n",
    "import numpy as np \n",
    "import datetime\n",
    "import os \n",
    "from matplotlib import pyplot as plt\n",
    "import random\n",
    "import dask.dataframe as dd\n",
    "from sklearn import preprocessing"
   ]
  },
  {
   "cell_type": "markdown",
   "metadata": {},
   "source": [
    "Train"
   ]
  },
  {
   "cell_type": "code",
   "execution_count": 12,
   "metadata": {},
   "outputs": [],
   "source": [
    "# optimizing size of data types \n",
    "dtype_dict={\"id\":'int32',\n",
    "            \"store_nbr\":'int8',\n",
    "            \"item_nbr\":'int32',\n",
    "            \"unit_sales\":'float32',\n",
    "            \n",
    "           }\n",
    "df1 = pd.read_csv(\"../../train.csv\",dtype=dtype_dict,parse_dates=['date'])"
   ]
  },
  {
   "cell_type": "code",
   "execution_count": 13,
   "metadata": {
    "scrolled": true
   },
   "outputs": [
    {
     "data": {
      "text/plain": [
       "id                      int32\n",
       "date           datetime64[ns]\n",
       "store_nbr                int8\n",
       "item_nbr                int32\n",
       "unit_sales            float32\n",
       "onpromotion              int8\n",
       "dtype: object"
      ]
     },
     "execution_count": 13,
     "metadata": {},
     "output_type": "execute_result"
    }
   ],
   "source": [
    "df1['onpromotion'] = df1['onpromotion'].fillna(0)\n",
    "df1['onpromotion'] = df1['onpromotion'].astype('int8')\n",
    "df1.dtypes"
   ]
  },
  {
   "cell_type": "code",
   "execution_count": 144,
   "metadata": {},
   "outputs": [
    {
     "data": {
      "text/plain": [
       "125497040"
      ]
     },
     "execution_count": 144,
     "metadata": {},
     "output_type": "execute_result"
    }
   ],
   "source": [
    "len(df1)"
   ]
  },
  {
   "cell_type": "markdown",
   "metadata": {},
   "source": [
    "Transactions "
   ]
  },
  {
   "cell_type": "code",
   "execution_count": 14,
   "metadata": {},
   "outputs": [],
   "source": [
    "dtype_dict={\"id\":'int32',\n",
    "            \"store_nbr\":'int8',\n",
    "            \"transactions\":'int32',\n",
    "\n",
    "           }\n",
    "transactions= pd.read_csv(\"../../transactions.csv\",dtype=dtype_dict,parse_dates=['date'])\n"
   ]
  },
  {
   "cell_type": "code",
   "execution_count": 143,
   "metadata": {},
   "outputs": [
    {
     "data": {
      "text/plain": [
       "83488"
      ]
     },
     "execution_count": 143,
     "metadata": {},
     "output_type": "execute_result"
    }
   ],
   "source": [
    "transactions.dtypes\n",
    "len(transactions)"
   ]
  },
  {
   "cell_type": "markdown",
   "metadata": {},
   "source": [
    "Holidays"
   ]
  },
  {
   "cell_type": "code",
   "execution_count": 16,
   "metadata": {},
   "outputs": [],
   "source": [
    "\n",
    "holidays = pd.read_csv(\"../DATA/holidays_clean.csv\", parse_dates = ['date'])\n",
    "holidays = holidays.drop(columns = ['Unnamed: 0'])"
   ]
  },
  {
   "cell_type": "code",
   "execution_count": 17,
   "metadata": {},
   "outputs": [],
   "source": [
    "# Cleaning holidays table to generate a df with columns date and holiday(bool)\n",
    "\n",
    "holidays = holidays.drop(holidays[holidays.transferred== True ].index)\n",
    "holidays = holidays[(holidays.type == 'Holiday') | (holidays.type == 'Bridge')]\n",
    "holidays = holidays[holidays.locale == 'National']\n",
    "holidays['holiday'] = 1\n"
   ]
  },
  {
   "cell_type": "code",
   "execution_count": 154,
   "metadata": {},
   "outputs": [],
   "source": [
    "#list of national holidays \n",
    "holidays = holidays[['date','holiday']]\n"
   ]
  },
  {
   "cell_type": "markdown",
   "metadata": {},
   "source": [
    "Oil "
   ]
  },
  {
   "cell_type": "code",
   "execution_count": 145,
   "metadata": {},
   "outputs": [
    {
     "data": {
      "text/plain": [
       "1688"
      ]
     },
     "execution_count": 145,
     "metadata": {},
     "output_type": "execute_result"
    }
   ],
   "source": [
    "oil = pd.read_csv(\"../DATA/oil_clean.csv\", parse_dates = ['date'])\n",
    "oil = oil.drop(columns = ['Unnamed: 0'])\n",
    "len(oil)"
   ]
  },
  {
   "cell_type": "markdown",
   "metadata": {},
   "source": [
    "Items "
   ]
  },
  {
   "cell_type": "code",
   "execution_count": 146,
   "metadata": {},
   "outputs": [
    {
     "data": {
      "text/plain": [
       "4100"
      ]
     },
     "execution_count": 146,
     "metadata": {},
     "output_type": "execute_result"
    }
   ],
   "source": [
    "items = pd.read_csv(\"../../items.csv\")\n",
    "#items = items.drop(columns = ['Unnamed: 0'])\n",
    "len(items)"
   ]
  },
  {
   "cell_type": "markdown",
   "metadata": {},
   "source": [
    "Stores"
   ]
  },
  {
   "cell_type": "code",
   "execution_count": 147,
   "metadata": {},
   "outputs": [
    {
     "data": {
      "text/plain": [
       "54"
      ]
     },
     "execution_count": 147,
     "metadata": {},
     "output_type": "execute_result"
    }
   ],
   "source": [
    "stores = pd.read_csv(\"../../stores.csv\")\n",
    "#stores = stores.drop(columns = ['Unnamed: 0'])\n",
    "len(stores)"
   ]
  },
  {
   "cell_type": "markdown",
   "metadata": {},
   "source": [
    "# Sample from the Data "
   ]
  },
  {
   "cell_type": "code",
   "execution_count": 129,
   "metadata": {},
   "outputs": [],
   "source": [
    "# sampling 10% of the training dataset\n",
    "#random.seed(10000)\n",
    "sample1 = df1.sample(n= round(len(df1)*0.1), random_state=100)\n",
    "sample1 = sample1.reset_index(drop =True)"
   ]
  },
  {
   "cell_type": "code",
   "execution_count": 148,
   "metadata": {},
   "outputs": [
    {
     "data": {
      "text/plain": [
       "12549704"
      ]
     },
     "execution_count": 148,
     "metadata": {},
     "output_type": "execute_result"
    }
   ],
   "source": [
    "len(sample1)"
   ]
  },
  {
   "cell_type": "markdown",
   "metadata": {},
   "source": [
    "# Join Tables"
   ]
  },
  {
   "cell_type": "code",
   "execution_count": 130,
   "metadata": {},
   "outputs": [],
   "source": [
    "# worked well on merging trasnactions with 10 percent of the data \n",
    "train_tran = sample1.merge(transactions,on = ['date','store_nbr'],how = 'inner')"
   ]
  },
  {
   "cell_type": "code",
   "execution_count": null,
   "metadata": {},
   "outputs": [],
   "source": []
  },
  {
   "cell_type": "code",
   "execution_count": 131,
   "metadata": {},
   "outputs": [],
   "source": [
    "train_tran_stores = train_tran.merge(stores,on = \"store_nbr\",how = \"inner\")"
   ]
  },
  {
   "cell_type": "code",
   "execution_count": 132,
   "metadata": {},
   "outputs": [],
   "source": [
    "train_tran_stores_oil = train_tran_stores.merge(oil, on = \"date\",how = \"inner\")"
   ]
  },
  {
   "cell_type": "code",
   "execution_count": 133,
   "metadata": {},
   "outputs": [],
   "source": [
    "train_tran_stores_oil_items = train_tran_stores_oil.merge(items,on = \"item_nbr\", how = \"inner\")"
   ]
  },
  {
   "cell_type": "code",
   "execution_count": 134,
   "metadata": {},
   "outputs": [],
   "source": [
    "#holiday yes no has to be binary \n",
    "\n",
    "# holidays[['date','locale']].sort_values(by = 'date')\n",
    "train_tran_stores_oil_items_hol = train_tran_stores_oil_items.merge(holidays, on = 'date',how = 'left')\n"
   ]
  },
  {
   "cell_type": "markdown",
   "metadata": {},
   "source": [
    "# Exploration\n",
    "-----------------------"
   ]
  },
  {
   "cell_type": "code",
   "execution_count": 135,
   "metadata": {},
   "outputs": [
    {
     "name": "stdout",
     "output_type": "stream",
     "text": [
      "sample\n",
      "12549704\n",
      "transactions\n",
      "12528269\n",
      "sotores\n",
      "12528269\n",
      "oil\n",
      "12528269\n",
      "items\n",
      "12528269\n",
      "hol\n",
      "12528269\n"
     ]
    }
   ],
   "source": [
    "print(\"sample\")\n",
    "print(len(sample1))\n",
    "print(\"transactions\")\n",
    "print(len(train_tran))\n",
    "print(\"sotores\")\n",
    "print( len(train_tran_stores))\n",
    "print(\"oil\")\n",
    "print( len(train_tran_stores_oil))\n",
    "print(\"items\")\n",
    "print(len(train_tran_stores_oil_items))\n",
    "print(\"hol\")\n",
    "print( len(train_tran_stores_oil_items_hol))\n"
   ]
  },
  {
   "cell_type": "code",
   "execution_count": 136,
   "metadata": {},
   "outputs": [
    {
     "data": {
      "text/plain": [
       "0.9982895214102261"
      ]
     },
     "execution_count": 136,
     "metadata": {},
     "output_type": "execute_result"
    }
   ],
   "source": [
    "# doing a left join produces 1 percent more data due to more than one holiday landing on the same day. \n",
    "12528238/12549704"
   ]
  },
  {
   "cell_type": "markdown",
   "metadata": {},
   "source": [
    "Final feature engineering "
   ]
  },
  {
   "cell_type": "code",
   "execution_count": 137,
   "metadata": {},
   "outputs": [],
   "source": [
    "train_tran_stores_oil_items_hol['holiday'] = train_tran_stores_oil_items_hol['holiday'].fillna(0)"
   ]
  },
  {
   "cell_type": "code",
   "execution_count": 138,
   "metadata": {},
   "outputs": [],
   "source": [
    "# this is the output after removing cluster,type,city,state,and class using a sample of 10 percent of the data. \n",
    "\n",
    "final_sample = train_tran_stores_oil_items_hol.drop(columns = ['cluster','type','city','state','class'])\n"
   ]
  },
  {
   "cell_type": "code",
   "execution_count": 139,
   "metadata": {},
   "outputs": [
    {
     "data": {
      "text/plain": [
       "314384     8420\n",
       "364606     8349\n",
       "502331     8331\n",
       "564533     8265\n",
       "273528     8242\n",
       "           ... \n",
       "1976284       1\n",
       "2122676       1\n",
       "2011470       1\n",
       "2011448       1\n",
       "2011437       1\n",
       "Name: item_nbr, Length: 4026, dtype: int64"
      ]
     },
     "execution_count": 139,
     "metadata": {},
     "output_type": "execute_result"
    }
   ],
   "source": [
    "# make categorical variables into numerical\n",
    "# using sklearn encoding\n",
    "# we need to categorize  store number , item _nbr \n",
    "final_sample['item_nbr'].value_counts()"
   ]
  },
  {
   "cell_type": "code",
   "execution_count": 140,
   "metadata": {},
   "outputs": [
    {
     "data": {
      "text/html": [
       "<div>\n",
       "<style scoped>\n",
       "    .dataframe tbody tr th:only-of-type {\n",
       "        vertical-align: middle;\n",
       "    }\n",
       "\n",
       "    .dataframe tbody tr th {\n",
       "        vertical-align: top;\n",
       "    }\n",
       "\n",
       "    .dataframe thead th {\n",
       "        text-align: right;\n",
       "    }\n",
       "</style>\n",
       "<table border=\"1\" class=\"dataframe\">\n",
       "  <thead>\n",
       "    <tr style=\"text-align: right;\">\n",
       "      <th></th>\n",
       "      <th>id</th>\n",
       "      <th>date</th>\n",
       "      <th>store_nbr</th>\n",
       "      <th>item_nbr</th>\n",
       "      <th>unit_sales</th>\n",
       "      <th>onpromotion</th>\n",
       "      <th>transactions</th>\n",
       "      <th>oil_price</th>\n",
       "      <th>family</th>\n",
       "      <th>perishable</th>\n",
       "      <th>holiday</th>\n",
       "    </tr>\n",
       "  </thead>\n",
       "  <tbody>\n",
       "    <tr>\n",
       "      <th>0</th>\n",
       "      <td>90594681</td>\n",
       "      <td>2016-09-10</td>\n",
       "      <td>36</td>\n",
       "      <td>1165988</td>\n",
       "      <td>1.0</td>\n",
       "      <td>0</td>\n",
       "      <td>1320</td>\n",
       "      <td>45.315</td>\n",
       "      <td>GROCERY I</td>\n",
       "      <td>0</td>\n",
       "      <td>0.0</td>\n",
       "    </tr>\n",
       "    <tr>\n",
       "      <th>1</th>\n",
       "      <td>90536016</td>\n",
       "      <td>2016-09-10</td>\n",
       "      <td>2</td>\n",
       "      <td>1165988</td>\n",
       "      <td>4.0</td>\n",
       "      <td>0</td>\n",
       "      <td>2184</td>\n",
       "      <td>45.315</td>\n",
       "      <td>GROCERY I</td>\n",
       "      <td>0</td>\n",
       "      <td>0.0</td>\n",
       "    </tr>\n",
       "    <tr>\n",
       "      <th>2</th>\n",
       "      <td>90558004</td>\n",
       "      <td>2016-09-10</td>\n",
       "      <td>12</td>\n",
       "      <td>1165988</td>\n",
       "      <td>4.0</td>\n",
       "      <td>0</td>\n",
       "      <td>1308</td>\n",
       "      <td>45.315</td>\n",
       "      <td>GROCERY I</td>\n",
       "      <td>0</td>\n",
       "      <td>0.0</td>\n",
       "    </tr>\n",
       "    <tr>\n",
       "      <th>3</th>\n",
       "      <td>90593142</td>\n",
       "      <td>2016-09-10</td>\n",
       "      <td>35</td>\n",
       "      <td>1165988</td>\n",
       "      <td>5.0</td>\n",
       "      <td>0</td>\n",
       "      <td>760</td>\n",
       "      <td>45.315</td>\n",
       "      <td>GROCERY I</td>\n",
       "      <td>0</td>\n",
       "      <td>0.0</td>\n",
       "    </tr>\n",
       "    <tr>\n",
       "      <th>4</th>\n",
       "      <td>90598928</td>\n",
       "      <td>2016-09-10</td>\n",
       "      <td>38</td>\n",
       "      <td>1165988</td>\n",
       "      <td>7.0</td>\n",
       "      <td>0</td>\n",
       "      <td>1770</td>\n",
       "      <td>45.315</td>\n",
       "      <td>GROCERY I</td>\n",
       "      <td>0</td>\n",
       "      <td>0.0</td>\n",
       "    </tr>\n",
       "    <tr>\n",
       "      <th>...</th>\n",
       "      <td>...</td>\n",
       "      <td>...</td>\n",
       "      <td>...</td>\n",
       "      <td>...</td>\n",
       "      <td>...</td>\n",
       "      <td>...</td>\n",
       "      <td>...</td>\n",
       "      <td>...</td>\n",
       "      <td>...</td>\n",
       "      <td>...</td>\n",
       "      <td>...</td>\n",
       "    </tr>\n",
       "    <tr>\n",
       "      <th>12528264</th>\n",
       "      <td>124856524</td>\n",
       "      <td>2017-08-09</td>\n",
       "      <td>45</td>\n",
       "      <td>2123036</td>\n",
       "      <td>1.0</td>\n",
       "      <td>0</td>\n",
       "      <td>3631</td>\n",
       "      <td>49.590</td>\n",
       "      <td>BEVERAGES</td>\n",
       "      <td>0</td>\n",
       "      <td>0.0</td>\n",
       "    </tr>\n",
       "    <tr>\n",
       "      <th>12528265</th>\n",
       "      <td>124327997</td>\n",
       "      <td>2017-08-04</td>\n",
       "      <td>45</td>\n",
       "      <td>2123036</td>\n",
       "      <td>1.0</td>\n",
       "      <td>0</td>\n",
       "      <td>4132</td>\n",
       "      <td>49.570</td>\n",
       "      <td>BEVERAGES</td>\n",
       "      <td>0</td>\n",
       "      <td>0.0</td>\n",
       "    </tr>\n",
       "    <tr>\n",
       "      <th>12528266</th>\n",
       "      <td>125055751</td>\n",
       "      <td>2017-08-11</td>\n",
       "      <td>44</td>\n",
       "      <td>2123747</td>\n",
       "      <td>1.0</td>\n",
       "      <td>0</td>\n",
       "      <td>4418</td>\n",
       "      <td>48.810</td>\n",
       "      <td>GROCERY I</td>\n",
       "      <td>0</td>\n",
       "      <td>0.0</td>\n",
       "    </tr>\n",
       "    <tr>\n",
       "      <th>12528267</th>\n",
       "      <td>125061343</td>\n",
       "      <td>2017-08-11</td>\n",
       "      <td>46</td>\n",
       "      <td>2123463</td>\n",
       "      <td>2.0</td>\n",
       "      <td>0</td>\n",
       "      <td>3814</td>\n",
       "      <td>48.810</td>\n",
       "      <td>GROCERY I</td>\n",
       "      <td>0</td>\n",
       "      <td>0.0</td>\n",
       "    </tr>\n",
       "    <tr>\n",
       "      <th>12528268</th>\n",
       "      <td>124478433</td>\n",
       "      <td>2017-08-06</td>\n",
       "      <td>8</td>\n",
       "      <td>2122947</td>\n",
       "      <td>1.0</td>\n",
       "      <td>0</td>\n",
       "      <td>2650</td>\n",
       "      <td>45.955</td>\n",
       "      <td>LIQUOR,WINE,BEER</td>\n",
       "      <td>0</td>\n",
       "      <td>0.0</td>\n",
       "    </tr>\n",
       "  </tbody>\n",
       "</table>\n",
       "<p>12528269 rows × 11 columns</p>\n",
       "</div>"
      ],
      "text/plain": [
       "                 id       date  store_nbr  item_nbr  unit_sales  onpromotion  \\\n",
       "0          90594681 2016-09-10         36   1165988         1.0            0   \n",
       "1          90536016 2016-09-10          2   1165988         4.0            0   \n",
       "2          90558004 2016-09-10         12   1165988         4.0            0   \n",
       "3          90593142 2016-09-10         35   1165988         5.0            0   \n",
       "4          90598928 2016-09-10         38   1165988         7.0            0   \n",
       "...             ...        ...        ...       ...         ...          ...   \n",
       "12528264  124856524 2017-08-09         45   2123036         1.0            0   \n",
       "12528265  124327997 2017-08-04         45   2123036         1.0            0   \n",
       "12528266  125055751 2017-08-11         44   2123747         1.0            0   \n",
       "12528267  125061343 2017-08-11         46   2123463         2.0            0   \n",
       "12528268  124478433 2017-08-06          8   2122947         1.0            0   \n",
       "\n",
       "          transactions  oil_price            family  perishable  holiday  \n",
       "0                 1320     45.315         GROCERY I           0      0.0  \n",
       "1                 2184     45.315         GROCERY I           0      0.0  \n",
       "2                 1308     45.315         GROCERY I           0      0.0  \n",
       "3                  760     45.315         GROCERY I           0      0.0  \n",
       "4                 1770     45.315         GROCERY I           0      0.0  \n",
       "...                ...        ...               ...         ...      ...  \n",
       "12528264          3631     49.590         BEVERAGES           0      0.0  \n",
       "12528265          4132     49.570         BEVERAGES           0      0.0  \n",
       "12528266          4418     48.810         GROCERY I           0      0.0  \n",
       "12528267          3814     48.810         GROCERY I           0      0.0  \n",
       "12528268          2650     45.955  LIQUOR,WINE,BEER           0      0.0  \n",
       "\n",
       "[12528269 rows x 11 columns]"
      ]
     },
     "execution_count": 140,
     "metadata": {},
     "output_type": "execute_result"
    }
   ],
   "source": [
    "final_sample"
   ]
  },
  {
   "cell_type": "code",
   "execution_count": 149,
   "metadata": {},
   "outputs": [],
   "source": [
    "# scikit learn exploration \n",
    "from sklearn.preprocessing import LabelEncoder"
   ]
  },
  {
   "cell_type": "code",
   "execution_count": 150,
   "metadata": {},
   "outputs": [],
   "source": [
    "final_sample['family_cat'] = LabelEncoder().fit_transform(final_sample['family'])"
   ]
  },
  {
   "cell_type": "code",
   "execution_count": 158,
   "metadata": {
    "scrolled": true
   },
   "outputs": [
    {
     "data": {
      "text/html": [
       "<div>\n",
       "<style scoped>\n",
       "    .dataframe tbody tr th:only-of-type {\n",
       "        vertical-align: middle;\n",
       "    }\n",
       "\n",
       "    .dataframe tbody tr th {\n",
       "        vertical-align: top;\n",
       "    }\n",
       "\n",
       "    .dataframe thead th {\n",
       "        text-align: right;\n",
       "    }\n",
       "</style>\n",
       "<table border=\"1\" class=\"dataframe\">\n",
       "  <thead>\n",
       "    <tr style=\"text-align: right;\">\n",
       "      <th></th>\n",
       "      <th>id</th>\n",
       "      <th>date</th>\n",
       "      <th>store_nbr</th>\n",
       "      <th>item_nbr</th>\n",
       "      <th>unit_sales</th>\n",
       "      <th>onpromotion</th>\n",
       "      <th>transactions</th>\n",
       "      <th>oil_price</th>\n",
       "      <th>family</th>\n",
       "      <th>perishable</th>\n",
       "      <th>holiday</th>\n",
       "      <th>family_cat</th>\n",
       "    </tr>\n",
       "  </thead>\n",
       "  <tbody>\n",
       "    <tr>\n",
       "      <th>0</th>\n",
       "      <td>90594681</td>\n",
       "      <td>2016-09-10</td>\n",
       "      <td>36</td>\n",
       "      <td>1165988</td>\n",
       "      <td>1.0</td>\n",
       "      <td>0</td>\n",
       "      <td>1320</td>\n",
       "      <td>45.315</td>\n",
       "      <td>GROCERY I</td>\n",
       "      <td>0</td>\n",
       "      <td>0.0</td>\n",
       "      <td>12</td>\n",
       "    </tr>\n",
       "    <tr>\n",
       "      <th>1</th>\n",
       "      <td>90536016</td>\n",
       "      <td>2016-09-10</td>\n",
       "      <td>2</td>\n",
       "      <td>1165988</td>\n",
       "      <td>4.0</td>\n",
       "      <td>0</td>\n",
       "      <td>2184</td>\n",
       "      <td>45.315</td>\n",
       "      <td>GROCERY I</td>\n",
       "      <td>0</td>\n",
       "      <td>0.0</td>\n",
       "      <td>12</td>\n",
       "    </tr>\n",
       "    <tr>\n",
       "      <th>2</th>\n",
       "      <td>90558004</td>\n",
       "      <td>2016-09-10</td>\n",
       "      <td>12</td>\n",
       "      <td>1165988</td>\n",
       "      <td>4.0</td>\n",
       "      <td>0</td>\n",
       "      <td>1308</td>\n",
       "      <td>45.315</td>\n",
       "      <td>GROCERY I</td>\n",
       "      <td>0</td>\n",
       "      <td>0.0</td>\n",
       "      <td>12</td>\n",
       "    </tr>\n",
       "    <tr>\n",
       "      <th>3</th>\n",
       "      <td>90593142</td>\n",
       "      <td>2016-09-10</td>\n",
       "      <td>35</td>\n",
       "      <td>1165988</td>\n",
       "      <td>5.0</td>\n",
       "      <td>0</td>\n",
       "      <td>760</td>\n",
       "      <td>45.315</td>\n",
       "      <td>GROCERY I</td>\n",
       "      <td>0</td>\n",
       "      <td>0.0</td>\n",
       "      <td>12</td>\n",
       "    </tr>\n",
       "    <tr>\n",
       "      <th>4</th>\n",
       "      <td>90598928</td>\n",
       "      <td>2016-09-10</td>\n",
       "      <td>38</td>\n",
       "      <td>1165988</td>\n",
       "      <td>7.0</td>\n",
       "      <td>0</td>\n",
       "      <td>1770</td>\n",
       "      <td>45.315</td>\n",
       "      <td>GROCERY I</td>\n",
       "      <td>0</td>\n",
       "      <td>0.0</td>\n",
       "      <td>12</td>\n",
       "    </tr>\n",
       "    <tr>\n",
       "      <th>...</th>\n",
       "      <td>...</td>\n",
       "      <td>...</td>\n",
       "      <td>...</td>\n",
       "      <td>...</td>\n",
       "      <td>...</td>\n",
       "      <td>...</td>\n",
       "      <td>...</td>\n",
       "      <td>...</td>\n",
       "      <td>...</td>\n",
       "      <td>...</td>\n",
       "      <td>...</td>\n",
       "      <td>...</td>\n",
       "    </tr>\n",
       "    <tr>\n",
       "      <th>12528264</th>\n",
       "      <td>124856524</td>\n",
       "      <td>2017-08-09</td>\n",
       "      <td>45</td>\n",
       "      <td>2123036</td>\n",
       "      <td>1.0</td>\n",
       "      <td>0</td>\n",
       "      <td>3631</td>\n",
       "      <td>49.590</td>\n",
       "      <td>BEVERAGES</td>\n",
       "      <td>0</td>\n",
       "      <td>0.0</td>\n",
       "      <td>3</td>\n",
       "    </tr>\n",
       "    <tr>\n",
       "      <th>12528265</th>\n",
       "      <td>124327997</td>\n",
       "      <td>2017-08-04</td>\n",
       "      <td>45</td>\n",
       "      <td>2123036</td>\n",
       "      <td>1.0</td>\n",
       "      <td>0</td>\n",
       "      <td>4132</td>\n",
       "      <td>49.570</td>\n",
       "      <td>BEVERAGES</td>\n",
       "      <td>0</td>\n",
       "      <td>0.0</td>\n",
       "      <td>3</td>\n",
       "    </tr>\n",
       "    <tr>\n",
       "      <th>12528266</th>\n",
       "      <td>125055751</td>\n",
       "      <td>2017-08-11</td>\n",
       "      <td>44</td>\n",
       "      <td>2123747</td>\n",
       "      <td>1.0</td>\n",
       "      <td>0</td>\n",
       "      <td>4418</td>\n",
       "      <td>48.810</td>\n",
       "      <td>GROCERY I</td>\n",
       "      <td>0</td>\n",
       "      <td>0.0</td>\n",
       "      <td>12</td>\n",
       "    </tr>\n",
       "    <tr>\n",
       "      <th>12528267</th>\n",
       "      <td>125061343</td>\n",
       "      <td>2017-08-11</td>\n",
       "      <td>46</td>\n",
       "      <td>2123463</td>\n",
       "      <td>2.0</td>\n",
       "      <td>0</td>\n",
       "      <td>3814</td>\n",
       "      <td>48.810</td>\n",
       "      <td>GROCERY I</td>\n",
       "      <td>0</td>\n",
       "      <td>0.0</td>\n",
       "      <td>12</td>\n",
       "    </tr>\n",
       "    <tr>\n",
       "      <th>12528268</th>\n",
       "      <td>124478433</td>\n",
       "      <td>2017-08-06</td>\n",
       "      <td>8</td>\n",
       "      <td>2122947</td>\n",
       "      <td>1.0</td>\n",
       "      <td>0</td>\n",
       "      <td>2650</td>\n",
       "      <td>45.955</td>\n",
       "      <td>LIQUOR,WINE,BEER</td>\n",
       "      <td>0</td>\n",
       "      <td>0.0</td>\n",
       "      <td>22</td>\n",
       "    </tr>\n",
       "  </tbody>\n",
       "</table>\n",
       "<p>12528269 rows × 12 columns</p>\n",
       "</div>"
      ],
      "text/plain": [
       "                 id       date  store_nbr  item_nbr  unit_sales  onpromotion  \\\n",
       "0          90594681 2016-09-10         36   1165988         1.0            0   \n",
       "1          90536016 2016-09-10          2   1165988         4.0            0   \n",
       "2          90558004 2016-09-10         12   1165988         4.0            0   \n",
       "3          90593142 2016-09-10         35   1165988         5.0            0   \n",
       "4          90598928 2016-09-10         38   1165988         7.0            0   \n",
       "...             ...        ...        ...       ...         ...          ...   \n",
       "12528264  124856524 2017-08-09         45   2123036         1.0            0   \n",
       "12528265  124327997 2017-08-04         45   2123036         1.0            0   \n",
       "12528266  125055751 2017-08-11         44   2123747         1.0            0   \n",
       "12528267  125061343 2017-08-11         46   2123463         2.0            0   \n",
       "12528268  124478433 2017-08-06          8   2122947         1.0            0   \n",
       "\n",
       "          transactions  oil_price            family  perishable  holiday  \\\n",
       "0                 1320     45.315         GROCERY I           0      0.0   \n",
       "1                 2184     45.315         GROCERY I           0      0.0   \n",
       "2                 1308     45.315         GROCERY I           0      0.0   \n",
       "3                  760     45.315         GROCERY I           0      0.0   \n",
       "4                 1770     45.315         GROCERY I           0      0.0   \n",
       "...                ...        ...               ...         ...      ...   \n",
       "12528264          3631     49.590         BEVERAGES           0      0.0   \n",
       "12528265          4132     49.570         BEVERAGES           0      0.0   \n",
       "12528266          4418     48.810         GROCERY I           0      0.0   \n",
       "12528267          3814     48.810         GROCERY I           0      0.0   \n",
       "12528268          2650     45.955  LIQUOR,WINE,BEER           0      0.0   \n",
       "\n",
       "          family_cat  \n",
       "0                 12  \n",
       "1                 12  \n",
       "2                 12  \n",
       "3                 12  \n",
       "4                 12  \n",
       "...              ...  \n",
       "12528264           3  \n",
       "12528265           3  \n",
       "12528266          12  \n",
       "12528267          12  \n",
       "12528268          22  \n",
       "\n",
       "[12528269 rows x 12 columns]"
      ]
     },
     "execution_count": 158,
     "metadata": {},
     "output_type": "execute_result"
    }
   ],
   "source": [
    "final_sample"
   ]
  },
  {
   "cell_type": "code",
   "execution_count": 159,
   "metadata": {},
   "outputs": [],
   "source": [
    "final_sample.to_csv(\"../DATA/final_sample.csv\")"
   ]
  }
 ],
 "metadata": {
  "interpreter": {
   "hash": "aee8b7b246df8f9039afb4144a1f6fd8d2ca17a180786b69acc140d282b71a49"
  },
  "kernelspec": {
   "display_name": "Python 3",
   "language": "python",
   "name": "python3"
  },
  "language_info": {
   "codemirror_mode": {
    "name": "ipython",
    "version": 3
   },
   "file_extension": ".py",
   "mimetype": "text/x-python",
   "name": "python",
   "nbconvert_exporter": "python",
   "pygments_lexer": "ipython3",
   "version": "3.8.8"
  }
 },
 "nbformat": 4,
 "nbformat_minor": 2
}
