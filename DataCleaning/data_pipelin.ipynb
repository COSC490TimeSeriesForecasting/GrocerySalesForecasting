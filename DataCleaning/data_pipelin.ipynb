{
 "cells": [
  {
   "cell_type": "markdown",
   "metadata": {},
   "source": [
    "## Data Pipline \n",
    "\n",
    "Preparing individual dataset for merging  \n",
    "\n",
    "Train and transactions obtained from eda.ipynb \n",
    "Holidays, Oil , Items , and stores obtained from  ... "
   ]
  },
  {
   "cell_type": "code",
   "execution_count": 5,
   "metadata": {},
   "outputs": [],
   "source": [
    "import pandas as pd\n",
    "import seaborn as sns \n",
    "import numpy as np \n",
    "import datetime\n",
    "import os \n",
    "from matplotlib import pyplot as plt\n",
    "import random\n",
    "import dask.dataframe as dd\n",
    "from sklearn import preprocessing"
   ]
  },
  {
   "cell_type": "markdown",
   "metadata": {},
   "source": [
    "Train"
   ]
  },
  {
   "cell_type": "code",
   "execution_count": 6,
   "metadata": {},
   "outputs": [
    {
     "name": "stderr",
     "output_type": "stream",
     "text": [
      "/Users/davidpinosproano/opt/miniconda3/lib/python3.8/site-packages/IPython/core/interactiveshell.py:3417: DtypeWarning: Columns (5) have mixed types.Specify dtype option on import or set low_memory=False.\n",
      "  exec(code_obj, self.user_global_ns, self.user_ns)\n"
     ]
    }
   ],
   "source": [
    "# optimizing size of data types \n",
    "dtype_dict={\"id\":'int32',\n",
    "            \"store_nbr\":'int8',\n",
    "            \"item_nbr\":'int32',\n",
    "            \"unit_sales\":'float32',\n",
    "            \n",
    "           }\n",
    "df1 = pd.read_csv(\"/Volumes/HD David/COSC490/favorita-grocery-sales-forecasting/train.csv\",dtype=dtype_dict,parse_dates=['date'])"
   ]
  },
  {
   "cell_type": "code",
   "execution_count": 7,
   "metadata": {},
   "outputs": [
    {
     "data": {
      "text/plain": [
       "id                      int32\n",
       "date           datetime64[ns]\n",
       "store_nbr                int8\n",
       "item_nbr                int32\n",
       "unit_sales            float32\n",
       "onpromotion              int8\n",
       "dtype: object"
      ]
     },
     "execution_count": 7,
     "metadata": {},
     "output_type": "execute_result"
    }
   ],
   "source": [
    "df1['onpromotion'] = df1['onpromotion'].fillna(0)\n",
    "df1['onpromotion'] = df1['onpromotion'].astype('int8')\n",
    "df1.dtypes"
   ]
  },
  {
   "cell_type": "markdown",
   "metadata": {},
   "source": [
    "Transactions "
   ]
  },
  {
   "cell_type": "code",
   "execution_count": 8,
   "metadata": {},
   "outputs": [],
   "source": [
    "dtype_dict={\"id\":'int32',\n",
    "            \"store_nbr\":'int8',\n",
    "            \"transactions\":'int32',\n",
    "\n",
    "           }\n",
    "transactions= pd.read_csv(\"/Volumes/HD David/COSC490/favorita-grocery-sales-forecasting/transactions.csv\",dtype=dtype_dict,parse_dates=['date'])\n"
   ]
  },
  {
   "cell_type": "code",
   "execution_count": 9,
   "metadata": {},
   "outputs": [
    {
     "data": {
      "text/plain": [
       "date            datetime64[ns]\n",
       "store_nbr                 int8\n",
       "transactions             int32\n",
       "dtype: object"
      ]
     },
     "execution_count": 9,
     "metadata": {},
     "output_type": "execute_result"
    }
   ],
   "source": [
    "transactions.dtypes\n"
   ]
  },
  {
   "cell_type": "markdown",
   "metadata": {},
   "source": [
    "Holidays"
   ]
  },
  {
   "cell_type": "code",
   "execution_count": 10,
   "metadata": {},
   "outputs": [],
   "source": [
    "\n",
    "holidays = pd.read_csv(\"/Volumes/HD David/COSC490/Clean_Data/holidays_clean.csv\", parse_dates = ['date'])\n",
    "holidays = holidays.drop(columns = ['Unnamed: 0'])"
   ]
  },
  {
   "cell_type": "code",
   "execution_count": 76,
   "metadata": {},
   "outputs": [
    {
     "ename": "AttributeError",
     "evalue": "'DataFrame' object has no attribute 'transferred'",
     "output_type": "error",
     "traceback": [
      "\u001b[0;31m---------------------------------------------------------------------------\u001b[0m",
      "\u001b[0;31mAttributeError\u001b[0m                            Traceback (most recent call last)",
      "\u001b[0;32m<ipython-input-76-52f9774e464c>\u001b[0m in \u001b[0;36m<module>\u001b[0;34m\u001b[0m\n\u001b[1;32m      1\u001b[0m \u001b[0;31m# Cleaning holidays table to generate a df with columns date and holiday(bool)\u001b[0m\u001b[0;34m\u001b[0m\u001b[0;34m\u001b[0m\u001b[0;34m\u001b[0m\u001b[0m\n\u001b[1;32m      2\u001b[0m \u001b[0;34m\u001b[0m\u001b[0m\n\u001b[0;32m----> 3\u001b[0;31m \u001b[0mholidays\u001b[0m \u001b[0;34m=\u001b[0m \u001b[0mholidays\u001b[0m\u001b[0;34m.\u001b[0m\u001b[0mdrop\u001b[0m\u001b[0;34m(\u001b[0m\u001b[0mholidays\u001b[0m\u001b[0;34m[\u001b[0m\u001b[0mholidays\u001b[0m\u001b[0;34m.\u001b[0m\u001b[0mtransferred\u001b[0m\u001b[0;34m==\u001b[0m \u001b[0;32mTrue\u001b[0m \u001b[0;34m]\u001b[0m\u001b[0;34m.\u001b[0m\u001b[0mindex\u001b[0m\u001b[0;34m)\u001b[0m\u001b[0;34m\u001b[0m\u001b[0;34m\u001b[0m\u001b[0m\n\u001b[0m\u001b[1;32m      4\u001b[0m \u001b[0mholidays\u001b[0m \u001b[0;34m=\u001b[0m \u001b[0mholidays\u001b[0m\u001b[0;34m[\u001b[0m\u001b[0;34m(\u001b[0m\u001b[0mholidays\u001b[0m\u001b[0;34m.\u001b[0m\u001b[0mtype\u001b[0m \u001b[0;34m==\u001b[0m \u001b[0;34m'Holiday'\u001b[0m\u001b[0;34m)\u001b[0m \u001b[0;34m|\u001b[0m \u001b[0;34m(\u001b[0m\u001b[0mholidays\u001b[0m\u001b[0;34m.\u001b[0m\u001b[0mtype\u001b[0m \u001b[0;34m==\u001b[0m \u001b[0;34m'Bridge'\u001b[0m\u001b[0;34m)\u001b[0m\u001b[0;34m]\u001b[0m\u001b[0;34m\u001b[0m\u001b[0;34m\u001b[0m\u001b[0m\n\u001b[1;32m      5\u001b[0m \u001b[0mholidays\u001b[0m \u001b[0;34m=\u001b[0m \u001b[0mholidays\u001b[0m\u001b[0;34m[\u001b[0m\u001b[0mholidays\u001b[0m\u001b[0;34m.\u001b[0m\u001b[0mlocale\u001b[0m \u001b[0;34m==\u001b[0m \u001b[0;34m'National'\u001b[0m\u001b[0;34m]\u001b[0m\u001b[0;34m\u001b[0m\u001b[0;34m\u001b[0m\u001b[0m\n",
      "\u001b[0;32m~/opt/miniconda3/lib/python3.8/site-packages/pandas/core/generic.py\u001b[0m in \u001b[0;36m__getattr__\u001b[0;34m(self, name)\u001b[0m\n\u001b[1;32m   5476\u001b[0m         ):\n\u001b[1;32m   5477\u001b[0m             \u001b[0;32mreturn\u001b[0m \u001b[0mself\u001b[0m\u001b[0;34m[\u001b[0m\u001b[0mname\u001b[0m\u001b[0;34m]\u001b[0m\u001b[0;34m\u001b[0m\u001b[0;34m\u001b[0m\u001b[0m\n\u001b[0;32m-> 5478\u001b[0;31m         \u001b[0;32mreturn\u001b[0m \u001b[0mobject\u001b[0m\u001b[0;34m.\u001b[0m\u001b[0m__getattribute__\u001b[0m\u001b[0;34m(\u001b[0m\u001b[0mself\u001b[0m\u001b[0;34m,\u001b[0m \u001b[0mname\u001b[0m\u001b[0;34m)\u001b[0m\u001b[0;34m\u001b[0m\u001b[0;34m\u001b[0m\u001b[0m\n\u001b[0m\u001b[1;32m   5479\u001b[0m \u001b[0;34m\u001b[0m\u001b[0m\n\u001b[1;32m   5480\u001b[0m     \u001b[0;32mdef\u001b[0m \u001b[0m__setattr__\u001b[0m\u001b[0;34m(\u001b[0m\u001b[0mself\u001b[0m\u001b[0;34m,\u001b[0m \u001b[0mname\u001b[0m\u001b[0;34m:\u001b[0m \u001b[0mstr\u001b[0m\u001b[0;34m,\u001b[0m \u001b[0mvalue\u001b[0m\u001b[0;34m)\u001b[0m \u001b[0;34m->\u001b[0m \u001b[0;32mNone\u001b[0m\u001b[0;34m:\u001b[0m\u001b[0;34m\u001b[0m\u001b[0;34m\u001b[0m\u001b[0m\n",
      "\u001b[0;31mAttributeError\u001b[0m: 'DataFrame' object has no attribute 'transferred'"
     ]
    }
   ],
   "source": [
    "# Cleaning holidays table to generate a df with columns date and holiday(bool)\n",
    "\n",
    "holidays = holidays.drop(holidays[holidays.transferred== True ].index)\n",
    "holidays = holidays[(holidays.type == 'Holiday') | (holidays.type == 'Bridge')]\n",
    "holidays = holidays[holidays.locale == 'National']\n",
    "holidays['holiday'] = 1\n"
   ]
  },
  {
   "cell_type": "code",
   "execution_count": 74,
   "metadata": {},
   "outputs": [],
   "source": [
    "#list of national holidays \n",
    "holidays = holidays[['date','holiday']]"
   ]
  },
  {
   "cell_type": "markdown",
   "metadata": {},
   "source": [
    "Oil "
   ]
  },
  {
   "cell_type": "code",
   "execution_count": 11,
   "metadata": {},
   "outputs": [],
   "source": [
    "oil = pd.read_csv(\"/Volumes/HD David/COSC490/Clean_Data/oil_clean.csv\", parse_dates = ['date'])\n",
    "oil = oil.drop(columns = ['Unnamed: 0'])"
   ]
  },
  {
   "cell_type": "markdown",
   "metadata": {},
   "source": [
    "Items "
   ]
  },
  {
   "cell_type": "code",
   "execution_count": 12,
   "metadata": {},
   "outputs": [],
   "source": [
    "items = pd.read_csv(\"/Volumes/HD David/COSC490/Clean_Data/items_clean.csv\")\n",
    "items = items.drop(columns = ['Unnamed: 0'])"
   ]
  },
  {
   "cell_type": "markdown",
   "metadata": {},
   "source": [
    "Stores"
   ]
  },
  {
   "cell_type": "code",
   "execution_count": 13,
   "metadata": {},
   "outputs": [],
   "source": [
    "stores = pd.read_csv(\"/Volumes/HD David/COSC490/Clean_Data/stores_clean.csv\")\n",
    "stores = stores.drop(columns = ['Unnamed: 0'])"
   ]
  },
  {
   "cell_type": "markdown",
   "metadata": {},
   "source": [
    "# Sample from the Data "
   ]
  },
  {
   "cell_type": "code",
   "execution_count": 14,
   "metadata": {},
   "outputs": [],
   "source": [
    "# sampling 10% of the training dataset\n",
    "random.seed(100)\n",
    "sample1 = df1.sample(n= round(len(df1)*0.1))\n",
    "sample1 = sample1.reset_index(drop =True)"
   ]
  },
  {
   "cell_type": "markdown",
   "metadata": {},
   "source": [
    "# Join Tables"
   ]
  },
  {
   "cell_type": "code",
   "execution_count": 15,
   "metadata": {},
   "outputs": [],
   "source": [
    "# worked well on merging trasnactions with 10 percent of the data \n",
    "train_tran = sample1.merge(transactions,on = ['date','store_nbr'],how = 'inner')"
   ]
  },
  {
   "cell_type": "code",
   "execution_count": null,
   "metadata": {},
   "outputs": [],
   "source": []
  },
  {
   "cell_type": "code",
   "execution_count": 16,
   "metadata": {},
   "outputs": [],
   "source": [
    "train_tran_stores = train_tran.merge(stores,on = \"store_nbr\",how = \"inner\")"
   ]
  },
  {
   "cell_type": "code",
   "execution_count": 17,
   "metadata": {},
   "outputs": [],
   "source": [
    "train_tran_stores_oil = train_tran_stores.merge(oil, on = \"date\",how = \"inner\")"
   ]
  },
  {
   "cell_type": "code",
   "execution_count": 18,
   "metadata": {},
   "outputs": [],
   "source": [
    "train_tran_stores_oil_items = train_tran_stores_oil.merge(items,on = \"item_nbr\", how = \"inner\")"
   ]
  },
  {
   "cell_type": "code",
   "execution_count": 77,
   "metadata": {},
   "outputs": [],
   "source": [
    "#holiday yes no has to be binary \n",
    "\n",
    "# holidays[['date','locale']].sort_values(by = 'date')\n",
    "train_tran_stores_oil_items_hol = train_tran_stores_oil_items.merge(holidays, on = 'date',how = 'left')\n"
   ]
  },
  {
   "cell_type": "markdown",
   "metadata": {},
   "source": [
    "# Exploration\n",
    "-----------------------"
   ]
  },
  {
   "cell_type": "code",
   "execution_count": 79,
   "metadata": {},
   "outputs": [
    {
     "name": "stdout",
     "output_type": "stream",
     "text": [
      "sample\n",
      "12549704\n",
      "transactions\n",
      "12528227\n",
      "sotores\n",
      "12528227\n",
      "oil\n",
      "12528227\n",
      "items\n",
      "12528227\n",
      "hol\n",
      "12528227\n"
     ]
    }
   ],
   "source": [
    "print(\"sample\")\n",
    "print(len(sample1))\n",
    "print(\"transactions\")\n",
    "print(len(train_tran))\n",
    "print(\"sotores\")\n",
    "print( len(train_tran_stores))\n",
    "print(\"oil\")\n",
    "print( len(train_tran_stores_oil))\n",
    "print(\"items\")\n",
    "print(len(train_tran_stores_oil_items))\n",
    "print(\"hol\")\n",
    "print( len(train_tran_stores_oil_items_hol))\n"
   ]
  },
  {
   "cell_type": "code",
   "execution_count": 21,
   "metadata": {},
   "outputs": [
    {
     "data": {
      "text/plain": [
       "0.9982895214102261"
      ]
     },
     "execution_count": 21,
     "metadata": {},
     "output_type": "execute_result"
    }
   ],
   "source": [
    "# doing a left join produces 1 percent more data due to more than one holiday landing on the same day. \n",
    "12528238/12549704"
   ]
  },
  {
   "cell_type": "markdown",
   "metadata": {},
   "source": [
    "Final feature engineering "
   ]
  },
  {
   "cell_type": "code",
   "execution_count": 89,
   "metadata": {},
   "outputs": [],
   "source": [
    "train_tran_stores_oil_items_hol['holiday'] = train_tran_stores_oil_items_hol['holiday'].fillna(0)"
   ]
  },
  {
   "cell_type": "code",
   "execution_count": 96,
   "metadata": {},
   "outputs": [],
   "source": [
    "# this is the output after removing cluster,type,city,state,and class using a sample of 10 percent of the data. \n",
    "\n",
    "final_sample = train_tran_stores_oil_items_hol.drop(columns = ['cluster','type','city','state','class'])\n"
   ]
  },
  {
   "cell_type": "code",
   "execution_count": 97,
   "metadata": {},
   "outputs": [
    {
     "data": {
      "text/plain": [
       "314384     8407\n",
       "364606     8268\n",
       "261052     8238\n",
       "265559     8237\n",
       "559870     8233\n",
       "           ... \n",
       "1976284       1\n",
       "2121690       1\n",
       "2011459       1\n",
       "2123711       1\n",
       "2011451       1\n",
       "Name: item_nbr, Length: 4028, dtype: int64"
      ]
     },
     "execution_count": 97,
     "metadata": {},
     "output_type": "execute_result"
    }
   ],
   "source": [
    "# make categorical variables into numerical\n",
    "# using sklearn encoding\n",
    "# we need to categorize  store number , item _nbr \n",
    "final_sample['item_nbr'].value_counts()"
   ]
  },
  {
   "cell_type": "code",
   "execution_count": 99,
   "metadata": {},
   "outputs": [
    {
     "data": {
      "text/html": [
       "<div>\n",
       "<style scoped>\n",
       "    .dataframe tbody tr th:only-of-type {\n",
       "        vertical-align: middle;\n",
       "    }\n",
       "\n",
       "    .dataframe tbody tr th {\n",
       "        vertical-align: top;\n",
       "    }\n",
       "\n",
       "    .dataframe thead th {\n",
       "        text-align: right;\n",
       "    }\n",
       "</style>\n",
       "<table border=\"1\" class=\"dataframe\">\n",
       "  <thead>\n",
       "    <tr style=\"text-align: right;\">\n",
       "      <th></th>\n",
       "      <th>id</th>\n",
       "      <th>date</th>\n",
       "      <th>store_nbr</th>\n",
       "      <th>item_nbr</th>\n",
       "      <th>unit_sales</th>\n",
       "      <th>onpromotion</th>\n",
       "      <th>transactions</th>\n",
       "      <th>oil_price</th>\n",
       "      <th>family</th>\n",
       "      <th>perishable</th>\n",
       "      <th>holiday</th>\n",
       "    </tr>\n",
       "  </thead>\n",
       "  <tbody>\n",
       "    <tr>\n",
       "      <th>0</th>\n",
       "      <td>56187408</td>\n",
       "      <td>2015-09-10</td>\n",
       "      <td>5</td>\n",
       "      <td>1324591</td>\n",
       "      <td>2.0</td>\n",
       "      <td>0</td>\n",
       "      <td>1259</td>\n",
       "      <td>45.850</td>\n",
       "      <td>GROCERY I</td>\n",
       "      <td>0</td>\n",
       "      <td>0.0</td>\n",
       "    </tr>\n",
       "    <tr>\n",
       "      <th>1</th>\n",
       "      <td>56193188</td>\n",
       "      <td>2015-09-10</td>\n",
       "      <td>8</td>\n",
       "      <td>1324591</td>\n",
       "      <td>4.0</td>\n",
       "      <td>0</td>\n",
       "      <td>2520</td>\n",
       "      <td>45.850</td>\n",
       "      <td>GROCERY I</td>\n",
       "      <td>0</td>\n",
       "      <td>0.0</td>\n",
       "    </tr>\n",
       "    <tr>\n",
       "      <th>2</th>\n",
       "      <td>56227011</td>\n",
       "      <td>2015-09-10</td>\n",
       "      <td>34</td>\n",
       "      <td>1324591</td>\n",
       "      <td>3.0</td>\n",
       "      <td>0</td>\n",
       "      <td>1982</td>\n",
       "      <td>45.850</td>\n",
       "      <td>GROCERY I</td>\n",
       "      <td>0</td>\n",
       "      <td>0.0</td>\n",
       "    </tr>\n",
       "    <tr>\n",
       "      <th>3</th>\n",
       "      <td>56237409</td>\n",
       "      <td>2015-09-10</td>\n",
       "      <td>41</td>\n",
       "      <td>1324591</td>\n",
       "      <td>4.0</td>\n",
       "      <td>0</td>\n",
       "      <td>957</td>\n",
       "      <td>45.850</td>\n",
       "      <td>GROCERY I</td>\n",
       "      <td>0</td>\n",
       "      <td>0.0</td>\n",
       "    </tr>\n",
       "    <tr>\n",
       "      <th>4</th>\n",
       "      <td>56255141</td>\n",
       "      <td>2015-09-10</td>\n",
       "      <td>50</td>\n",
       "      <td>1324591</td>\n",
       "      <td>1.0</td>\n",
       "      <td>0</td>\n",
       "      <td>1976</td>\n",
       "      <td>45.850</td>\n",
       "      <td>GROCERY I</td>\n",
       "      <td>0</td>\n",
       "      <td>0.0</td>\n",
       "    </tr>\n",
       "    <tr>\n",
       "      <th>...</th>\n",
       "      <td>...</td>\n",
       "      <td>...</td>\n",
       "      <td>...</td>\n",
       "      <td>...</td>\n",
       "      <td>...</td>\n",
       "      <td>...</td>\n",
       "      <td>...</td>\n",
       "      <td>...</td>\n",
       "      <td>...</td>\n",
       "      <td>...</td>\n",
       "      <td>...</td>\n",
       "    </tr>\n",
       "    <tr>\n",
       "      <th>12528222</th>\n",
       "      <td>125269345</td>\n",
       "      <td>2017-08-13</td>\n",
       "      <td>45</td>\n",
       "      <td>2011468</td>\n",
       "      <td>2.0</td>\n",
       "      <td>0</td>\n",
       "      <td>4054</td>\n",
       "      <td>45.765</td>\n",
       "      <td>GROCERY I</td>\n",
       "      <td>0</td>\n",
       "      <td>0.0</td>\n",
       "    </tr>\n",
       "    <tr>\n",
       "      <th>12528223</th>\n",
       "      <td>125230200</td>\n",
       "      <td>2017-08-13</td>\n",
       "      <td>24</td>\n",
       "      <td>2123791</td>\n",
       "      <td>2.0</td>\n",
       "      <td>0</td>\n",
       "      <td>1520</td>\n",
       "      <td>45.765</td>\n",
       "      <td>GROCERY I</td>\n",
       "      <td>0</td>\n",
       "      <td>0.0</td>\n",
       "    </tr>\n",
       "    <tr>\n",
       "      <th>12528224</th>\n",
       "      <td>125383877</td>\n",
       "      <td>2017-08-14</td>\n",
       "      <td>49</td>\n",
       "      <td>2011448</td>\n",
       "      <td>2.0</td>\n",
       "      <td>0</td>\n",
       "      <td>2916</td>\n",
       "      <td>47.590</td>\n",
       "      <td>GROCERY I</td>\n",
       "      <td>0</td>\n",
       "      <td>0.0</td>\n",
       "    </tr>\n",
       "    <tr>\n",
       "      <th>12528225</th>\n",
       "      <td>125384120</td>\n",
       "      <td>2017-08-14</td>\n",
       "      <td>49</td>\n",
       "      <td>2123790</td>\n",
       "      <td>1.0</td>\n",
       "      <td>0</td>\n",
       "      <td>2916</td>\n",
       "      <td>47.590</td>\n",
       "      <td>LIQUOR,WINE,BEER</td>\n",
       "      <td>0</td>\n",
       "      <td>0.0</td>\n",
       "    </tr>\n",
       "    <tr>\n",
       "      <th>12528226</th>\n",
       "      <td>125309124</td>\n",
       "      <td>2017-08-14</td>\n",
       "      <td>8</td>\n",
       "      <td>2011451</td>\n",
       "      <td>1.0</td>\n",
       "      <td>0</td>\n",
       "      <td>2723</td>\n",
       "      <td>47.590</td>\n",
       "      <td>GROCERY I</td>\n",
       "      <td>0</td>\n",
       "      <td>0.0</td>\n",
       "    </tr>\n",
       "  </tbody>\n",
       "</table>\n",
       "<p>12528227 rows × 11 columns</p>\n",
       "</div>"
      ],
      "text/plain": [
       "                 id       date  store_nbr  item_nbr  unit_sales  onpromotion  \\\n",
       "0          56187408 2015-09-10          5   1324591         2.0            0   \n",
       "1          56193188 2015-09-10          8   1324591         4.0            0   \n",
       "2          56227011 2015-09-10         34   1324591         3.0            0   \n",
       "3          56237409 2015-09-10         41   1324591         4.0            0   \n",
       "4          56255141 2015-09-10         50   1324591         1.0            0   \n",
       "...             ...        ...        ...       ...         ...          ...   \n",
       "12528222  125269345 2017-08-13         45   2011468         2.0            0   \n",
       "12528223  125230200 2017-08-13         24   2123791         2.0            0   \n",
       "12528224  125383877 2017-08-14         49   2011448         2.0            0   \n",
       "12528225  125384120 2017-08-14         49   2123790         1.0            0   \n",
       "12528226  125309124 2017-08-14          8   2011451         1.0            0   \n",
       "\n",
       "          transactions  oil_price            family  perishable  holiday  \n",
       "0                 1259     45.850         GROCERY I           0      0.0  \n",
       "1                 2520     45.850         GROCERY I           0      0.0  \n",
       "2                 1982     45.850         GROCERY I           0      0.0  \n",
       "3                  957     45.850         GROCERY I           0      0.0  \n",
       "4                 1976     45.850         GROCERY I           0      0.0  \n",
       "...                ...        ...               ...         ...      ...  \n",
       "12528222          4054     45.765         GROCERY I           0      0.0  \n",
       "12528223          1520     45.765         GROCERY I           0      0.0  \n",
       "12528224          2916     47.590         GROCERY I           0      0.0  \n",
       "12528225          2916     47.590  LIQUOR,WINE,BEER           0      0.0  \n",
       "12528226          2723     47.590         GROCERY I           0      0.0  \n",
       "\n",
       "[12528227 rows x 11 columns]"
      ]
     },
     "execution_count": 99,
     "metadata": {},
     "output_type": "execute_result"
    }
   ],
   "source": [
    "final_sample"
   ]
  },
  {
   "cell_type": "code",
   "execution_count": 100,
   "metadata": {},
   "outputs": [],
   "source": [
    "# scikit learn exploration \n",
    "from sklearn.preprocessing import LabelEncoder"
   ]
  },
  {
   "cell_type": "code",
   "execution_count": 103,
   "metadata": {},
   "outputs": [],
   "source": [
    "final_sample['family_cat'] = LabelEncoder().fit_transform(final_sample['family'])"
   ]
  },
  {
   "cell_type": "code",
   "execution_count": 104,
   "metadata": {},
   "outputs": [
    {
     "data": {
      "text/html": [
       "<div>\n",
       "<style scoped>\n",
       "    .dataframe tbody tr th:only-of-type {\n",
       "        vertical-align: middle;\n",
       "    }\n",
       "\n",
       "    .dataframe tbody tr th {\n",
       "        vertical-align: top;\n",
       "    }\n",
       "\n",
       "    .dataframe thead th {\n",
       "        text-align: right;\n",
       "    }\n",
       "</style>\n",
       "<table border=\"1\" class=\"dataframe\">\n",
       "  <thead>\n",
       "    <tr style=\"text-align: right;\">\n",
       "      <th></th>\n",
       "      <th>id</th>\n",
       "      <th>date</th>\n",
       "      <th>store_nbr</th>\n",
       "      <th>item_nbr</th>\n",
       "      <th>unit_sales</th>\n",
       "      <th>onpromotion</th>\n",
       "      <th>transactions</th>\n",
       "      <th>oil_price</th>\n",
       "      <th>family</th>\n",
       "      <th>perishable</th>\n",
       "      <th>holiday</th>\n",
       "      <th>family_cat</th>\n",
       "    </tr>\n",
       "  </thead>\n",
       "  <tbody>\n",
       "    <tr>\n",
       "      <th>0</th>\n",
       "      <td>56187408</td>\n",
       "      <td>2015-09-10</td>\n",
       "      <td>5</td>\n",
       "      <td>1324591</td>\n",
       "      <td>2.0</td>\n",
       "      <td>0</td>\n",
       "      <td>1259</td>\n",
       "      <td>45.850</td>\n",
       "      <td>GROCERY I</td>\n",
       "      <td>0</td>\n",
       "      <td>0.0</td>\n",
       "      <td>12</td>\n",
       "    </tr>\n",
       "    <tr>\n",
       "      <th>1</th>\n",
       "      <td>56193188</td>\n",
       "      <td>2015-09-10</td>\n",
       "      <td>8</td>\n",
       "      <td>1324591</td>\n",
       "      <td>4.0</td>\n",
       "      <td>0</td>\n",
       "      <td>2520</td>\n",
       "      <td>45.850</td>\n",
       "      <td>GROCERY I</td>\n",
       "      <td>0</td>\n",
       "      <td>0.0</td>\n",
       "      <td>12</td>\n",
       "    </tr>\n",
       "    <tr>\n",
       "      <th>2</th>\n",
       "      <td>56227011</td>\n",
       "      <td>2015-09-10</td>\n",
       "      <td>34</td>\n",
       "      <td>1324591</td>\n",
       "      <td>3.0</td>\n",
       "      <td>0</td>\n",
       "      <td>1982</td>\n",
       "      <td>45.850</td>\n",
       "      <td>GROCERY I</td>\n",
       "      <td>0</td>\n",
       "      <td>0.0</td>\n",
       "      <td>12</td>\n",
       "    </tr>\n",
       "    <tr>\n",
       "      <th>3</th>\n",
       "      <td>56237409</td>\n",
       "      <td>2015-09-10</td>\n",
       "      <td>41</td>\n",
       "      <td>1324591</td>\n",
       "      <td>4.0</td>\n",
       "      <td>0</td>\n",
       "      <td>957</td>\n",
       "      <td>45.850</td>\n",
       "      <td>GROCERY I</td>\n",
       "      <td>0</td>\n",
       "      <td>0.0</td>\n",
       "      <td>12</td>\n",
       "    </tr>\n",
       "    <tr>\n",
       "      <th>4</th>\n",
       "      <td>56255141</td>\n",
       "      <td>2015-09-10</td>\n",
       "      <td>50</td>\n",
       "      <td>1324591</td>\n",
       "      <td>1.0</td>\n",
       "      <td>0</td>\n",
       "      <td>1976</td>\n",
       "      <td>45.850</td>\n",
       "      <td>GROCERY I</td>\n",
       "      <td>0</td>\n",
       "      <td>0.0</td>\n",
       "      <td>12</td>\n",
       "    </tr>\n",
       "    <tr>\n",
       "      <th>...</th>\n",
       "      <td>...</td>\n",
       "      <td>...</td>\n",
       "      <td>...</td>\n",
       "      <td>...</td>\n",
       "      <td>...</td>\n",
       "      <td>...</td>\n",
       "      <td>...</td>\n",
       "      <td>...</td>\n",
       "      <td>...</td>\n",
       "      <td>...</td>\n",
       "      <td>...</td>\n",
       "      <td>...</td>\n",
       "    </tr>\n",
       "    <tr>\n",
       "      <th>12528222</th>\n",
       "      <td>125269345</td>\n",
       "      <td>2017-08-13</td>\n",
       "      <td>45</td>\n",
       "      <td>2011468</td>\n",
       "      <td>2.0</td>\n",
       "      <td>0</td>\n",
       "      <td>4054</td>\n",
       "      <td>45.765</td>\n",
       "      <td>GROCERY I</td>\n",
       "      <td>0</td>\n",
       "      <td>0.0</td>\n",
       "      <td>12</td>\n",
       "    </tr>\n",
       "    <tr>\n",
       "      <th>12528223</th>\n",
       "      <td>125230200</td>\n",
       "      <td>2017-08-13</td>\n",
       "      <td>24</td>\n",
       "      <td>2123791</td>\n",
       "      <td>2.0</td>\n",
       "      <td>0</td>\n",
       "      <td>1520</td>\n",
       "      <td>45.765</td>\n",
       "      <td>GROCERY I</td>\n",
       "      <td>0</td>\n",
       "      <td>0.0</td>\n",
       "      <td>12</td>\n",
       "    </tr>\n",
       "    <tr>\n",
       "      <th>12528224</th>\n",
       "      <td>125383877</td>\n",
       "      <td>2017-08-14</td>\n",
       "      <td>49</td>\n",
       "      <td>2011448</td>\n",
       "      <td>2.0</td>\n",
       "      <td>0</td>\n",
       "      <td>2916</td>\n",
       "      <td>47.590</td>\n",
       "      <td>GROCERY I</td>\n",
       "      <td>0</td>\n",
       "      <td>0.0</td>\n",
       "      <td>12</td>\n",
       "    </tr>\n",
       "    <tr>\n",
       "      <th>12528225</th>\n",
       "      <td>125384120</td>\n",
       "      <td>2017-08-14</td>\n",
       "      <td>49</td>\n",
       "      <td>2123790</td>\n",
       "      <td>1.0</td>\n",
       "      <td>0</td>\n",
       "      <td>2916</td>\n",
       "      <td>47.590</td>\n",
       "      <td>LIQUOR,WINE,BEER</td>\n",
       "      <td>0</td>\n",
       "      <td>0.0</td>\n",
       "      <td>22</td>\n",
       "    </tr>\n",
       "    <tr>\n",
       "      <th>12528226</th>\n",
       "      <td>125309124</td>\n",
       "      <td>2017-08-14</td>\n",
       "      <td>8</td>\n",
       "      <td>2011451</td>\n",
       "      <td>1.0</td>\n",
       "      <td>0</td>\n",
       "      <td>2723</td>\n",
       "      <td>47.590</td>\n",
       "      <td>GROCERY I</td>\n",
       "      <td>0</td>\n",
       "      <td>0.0</td>\n",
       "      <td>12</td>\n",
       "    </tr>\n",
       "  </tbody>\n",
       "</table>\n",
       "<p>12528227 rows × 12 columns</p>\n",
       "</div>"
      ],
      "text/plain": [
       "                 id       date  store_nbr  item_nbr  unit_sales  onpromotion  \\\n",
       "0          56187408 2015-09-10          5   1324591         2.0            0   \n",
       "1          56193188 2015-09-10          8   1324591         4.0            0   \n",
       "2          56227011 2015-09-10         34   1324591         3.0            0   \n",
       "3          56237409 2015-09-10         41   1324591         4.0            0   \n",
       "4          56255141 2015-09-10         50   1324591         1.0            0   \n",
       "...             ...        ...        ...       ...         ...          ...   \n",
       "12528222  125269345 2017-08-13         45   2011468         2.0            0   \n",
       "12528223  125230200 2017-08-13         24   2123791         2.0            0   \n",
       "12528224  125383877 2017-08-14         49   2011448         2.0            0   \n",
       "12528225  125384120 2017-08-14         49   2123790         1.0            0   \n",
       "12528226  125309124 2017-08-14          8   2011451         1.0            0   \n",
       "\n",
       "          transactions  oil_price            family  perishable  holiday  \\\n",
       "0                 1259     45.850         GROCERY I           0      0.0   \n",
       "1                 2520     45.850         GROCERY I           0      0.0   \n",
       "2                 1982     45.850         GROCERY I           0      0.0   \n",
       "3                  957     45.850         GROCERY I           0      0.0   \n",
       "4                 1976     45.850         GROCERY I           0      0.0   \n",
       "...                ...        ...               ...         ...      ...   \n",
       "12528222          4054     45.765         GROCERY I           0      0.0   \n",
       "12528223          1520     45.765         GROCERY I           0      0.0   \n",
       "12528224          2916     47.590         GROCERY I           0      0.0   \n",
       "12528225          2916     47.590  LIQUOR,WINE,BEER           0      0.0   \n",
       "12528226          2723     47.590         GROCERY I           0      0.0   \n",
       "\n",
       "          family_cat  \n",
       "0                 12  \n",
       "1                 12  \n",
       "2                 12  \n",
       "3                 12  \n",
       "4                 12  \n",
       "...              ...  \n",
       "12528222          12  \n",
       "12528223          12  \n",
       "12528224          12  \n",
       "12528225          22  \n",
       "12528226          12  \n",
       "\n",
       "[12528227 rows x 12 columns]"
      ]
     },
     "execution_count": 104,
     "metadata": {},
     "output_type": "execute_result"
    }
   ],
   "source": [
    "final_sample"
   ]
  },
  {
   "cell_type": "code",
   "execution_count": null,
   "metadata": {},
   "outputs": [],
   "source": []
  }
 ],
 "metadata": {
  "interpreter": {
   "hash": "aee8b7b246df8f9039afb4144a1f6fd8d2ca17a180786b69acc140d282b71a49"
  },
  "kernelspec": {
   "display_name": "Python 3.9.2 64-bit",
   "language": "python",
   "name": "python3"
  },
  "language_info": {
   "codemirror_mode": {
    "name": "ipython",
    "version": 3
   },
   "file_extension": ".py",
   "mimetype": "text/x-python",
   "name": "python",
   "nbconvert_exporter": "python",
   "pygments_lexer": "ipython3",
   "version": "3.8.3"
  },
  "orig_nbformat": 4
 },
 "nbformat": 4,
 "nbformat_minor": 2
}
